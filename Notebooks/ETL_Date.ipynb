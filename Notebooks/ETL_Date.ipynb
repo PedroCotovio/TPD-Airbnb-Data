{
 "cells": [
  {
   "cell_type": "code",
   "execution_count": 194,
   "metadata": {},
   "outputs": [],
   "source": [
    "# import libraries\n",
    "import numpy as np\n",
    "import matplotlib.pyplot as plt\n",
    "import pandas as pd\n",
    "from datetime import datetime\n",
    "from math import ceil\n",
    "import psycopg2 as pg\n",
    "import psycopg2.extras\n",
    "import pandas.io.sql as sqlio"
   ]
  },
  {
   "cell_type": "markdown",
   "metadata": {},
   "source": [
    "# 1. Dimension _'Date'_\n",
    "## 1.1. Reading data into Python"
   ]
  },
  {
   "cell_type": "markdown",
   "metadata": {},
   "source": [
    "**Read listings_al.csv**, which has the dates needed for the listings fact table."
   ]
  },
  {
   "cell_type": "code",
   "execution_count": 195,
   "metadata": {},
   "outputs": [
    {
     "name": "stderr",
     "output_type": "stream",
     "text": [
      "C:\\Users\\joao_\\Anaconda3\\lib\\site-packages\\IPython\\core\\interactiveshell.py:3063: DtypeWarning: Columns (61,62) have mixed types. Specify dtype option on import or set low_memory=False.\n",
      "  interactivity=interactivity, compiler=compiler, result=result)\n"
     ]
    }
   ],
   "source": [
    "# read listings_al.csv data file\n",
    "listings_al_file_path = '../data/listings_al.csv'\n",
    "df_listings = pd.read_csv(listings_al_file_path,sep=',')"
   ]
  },
  {
   "cell_type": "markdown",
   "metadata": {},
   "source": [
    "**Read calendar.csv file**, which has the dates needed for the availability fact table."
   ]
  },
  {
   "cell_type": "code",
   "execution_count": 196,
   "metadata": {},
   "outputs": [],
   "source": [
    "# read calendar.csv data file\n",
    "calendar_file_path = '../data/airbnb/calendar.csv'\n",
    "df_calendar = pd.read_csv(calendar_file_path,sep=',')"
   ]
  },
  {
   "cell_type": "markdown",
   "metadata": {},
   "source": [
    "Convert string to date"
   ]
  },
  {
   "cell_type": "code",
   "execution_count": 197,
   "metadata": {},
   "outputs": [
    {
     "data": {
      "text/plain": [
       "(17168, 147)"
      ]
     },
     "execution_count": 197,
     "metadata": {},
     "output_type": "execute_result"
    }
   ],
   "source": [
    "# convert string to date\n",
    "df_listings['DataRegisto'] = [datetime.strptime(d.split('.')[0], \"%Y-%m-%dT%H:%M:%S\") for d in df_listings['DataRegisto']] # split into YYYY-MM-DD HH:MM:SS\n",
    "df_listings.shape"
   ]
  },
  {
   "cell_type": "code",
   "execution_count": 198,
   "metadata": {},
   "outputs": [
    {
     "data": {
      "text/plain": [
       "(7190661, 7)"
      ]
     },
     "execution_count": 198,
     "metadata": {},
     "output_type": "execute_result"
    }
   ],
   "source": [
    "df_calendar['date'] = [datetime.strptime(d, \"%Y-%m-%d\") for d in df_calendar['date']] # split into YYYY-MM-DD\n",
    "df_calendar.shape"
   ]
  },
  {
   "cell_type": "code",
   "execution_count": 199,
   "metadata": {},
   "outputs": [
    {
     "data": {
      "text/html": [
       "<div>\n",
       "<style scoped>\n",
       "    .dataframe tbody tr th:only-of-type {\n",
       "        vertical-align: middle;\n",
       "    }\n",
       "\n",
       "    .dataframe tbody tr th {\n",
       "        vertical-align: top;\n",
       "    }\n",
       "\n",
       "    .dataframe thead th {\n",
       "        text-align: right;\n",
       "    }\n",
       "</style>\n",
       "<table border=\"1\" class=\"dataframe\">\n",
       "  <thead>\n",
       "    <tr style=\"text-align: right;\">\n",
       "      <th></th>\n",
       "      <th>listing_id</th>\n",
       "      <th>date</th>\n",
       "      <th>available</th>\n",
       "      <th>price</th>\n",
       "      <th>adjusted_price</th>\n",
       "      <th>minimum_nights</th>\n",
       "      <th>maximum_nights</th>\n",
       "    </tr>\n",
       "  </thead>\n",
       "  <tbody>\n",
       "    <tr>\n",
       "      <th>0</th>\n",
       "      <td>286500</td>\n",
       "      <td>2020-02-14</td>\n",
       "      <td>f</td>\n",
       "      <td>$150.00</td>\n",
       "      <td>$150.00</td>\n",
       "      <td>3.0</td>\n",
       "      <td>365.0</td>\n",
       "    </tr>\n",
       "    <tr>\n",
       "      <th>1</th>\n",
       "      <td>69042</td>\n",
       "      <td>2020-02-14</td>\n",
       "      <td>f</td>\n",
       "      <td>$130.00</td>\n",
       "      <td>$130.00</td>\n",
       "      <td>3.0</td>\n",
       "      <td>365.0</td>\n",
       "    </tr>\n",
       "    <tr>\n",
       "      <th>2</th>\n",
       "      <td>69042</td>\n",
       "      <td>2020-02-15</td>\n",
       "      <td>f</td>\n",
       "      <td>$130.00</td>\n",
       "      <td>$130.00</td>\n",
       "      <td>3.0</td>\n",
       "      <td>365.0</td>\n",
       "    </tr>\n",
       "    <tr>\n",
       "      <th>3</th>\n",
       "      <td>69042</td>\n",
       "      <td>2020-02-16</td>\n",
       "      <td>t</td>\n",
       "      <td>$130.00</td>\n",
       "      <td>$130.00</td>\n",
       "      <td>2.0</td>\n",
       "      <td>365.0</td>\n",
       "    </tr>\n",
       "    <tr>\n",
       "      <th>4</th>\n",
       "      <td>69042</td>\n",
       "      <td>2020-02-17</td>\n",
       "      <td>f</td>\n",
       "      <td>$130.00</td>\n",
       "      <td>$130.00</td>\n",
       "      <td>2.0</td>\n",
       "      <td>365.0</td>\n",
       "    </tr>\n",
       "  </tbody>\n",
       "</table>\n",
       "</div>"
      ],
      "text/plain": [
       "   listing_id       date available    price adjusted_price  minimum_nights  \\\n",
       "0      286500 2020-02-14         f  $150.00        $150.00             3.0   \n",
       "1       69042 2020-02-14         f  $130.00        $130.00             3.0   \n",
       "2       69042 2020-02-15         f  $130.00        $130.00             3.0   \n",
       "3       69042 2020-02-16         t  $130.00        $130.00             2.0   \n",
       "4       69042 2020-02-17         f  $130.00        $130.00             2.0   \n",
       "\n",
       "   maximum_nights  \n",
       "0           365.0  \n",
       "1           365.0  \n",
       "2           365.0  \n",
       "3           365.0  \n",
       "4           365.0  "
      ]
     },
     "execution_count": 199,
     "metadata": {},
     "output_type": "execute_result"
    }
   ],
   "source": [
    "df_calendar.head()"
   ]
  },
  {
   "cell_type": "markdown",
   "metadata": {},
   "source": [
    "In _calendar.csv_, there are approximately 365 records for each listing. Each record indicates if the listing is available in that day."
   ]
  },
  {
   "cell_type": "markdown",
   "metadata": {},
   "source": [
    "Now lets drop the duplicates from df_calendar. "
   ]
  },
  {
   "cell_type": "code",
   "execution_count": 200,
   "metadata": {},
   "outputs": [
    {
     "data": {
      "text/plain": [
       "(366, 7)"
      ]
     },
     "execution_count": 200,
     "metadata": {},
     "output_type": "execute_result"
    }
   ],
   "source": [
    "# remove df_calendar duplicates\n",
    "df_calendar = df_calendar.drop_duplicates(subset=['date'])\n",
    "df_calendar.shape"
   ]
  },
  {
   "cell_type": "markdown",
   "metadata": {},
   "source": [
    "## 1.2. Exploratory data analysis"
   ]
  },
  {
   "cell_type": "markdown",
   "metadata": {},
   "source": [
    "We do a quick exploration of the data available in _listings_al.csv_."
   ]
  },
  {
   "cell_type": "code",
   "execution_count": 201,
   "metadata": {},
   "outputs": [],
   "source": [
    "# count by year\n",
    "years = [d.year for d in df_listings['DataRegisto']] # makes list of year in each listing's date\n",
    "df_years = pd.DataFrame(years,columns=['year']) # convert to dataframe\n",
    "df_years_graph = df_years.year.value_counts().to_frame('count').reset_index().rename(columns={'index': 'year'}).sort_values('year',ascending = True) # count each year, sort by asc.\n",
    "\n",
    "# remove count of 2020 because it is incomplete (data exported from inside airbnb in january)\n",
    "df_years_graph = df_years_graph[df_years_graph['year']!=2020]\n",
    "\n",
    "# create column with the cumulative sum\n",
    "df_years_graph['cum_count'] = df_years_graph['count'].cumsum()"
   ]
  },
  {
   "cell_type": "code",
   "execution_count": 202,
   "metadata": {},
   "outputs": [
    {
     "data": {
      "text/plain": [
       "<matplotlib.legend.Legend at 0x244aacf9d48>"
      ]
     },
     "execution_count": 202,
     "metadata": {},
     "output_type": "execute_result"
    },
    {
     "data": {
      "image/png": "[encoded data removed]",
      "text/plain": [
       "<Figure size 1080x504 with 1 Axes>"
      ]
     },
     "metadata": {
      "needs_background": "light"
     },
     "output_type": "display_data"
    }
   ],
   "source": [
    "plt.figure(figsize=(15,7))\n",
    "plt.plot(df_years_graph['year'],df_years_graph['count'], label = 'New listings')\n",
    "plt.plot(df_years_graph['year'],df_years_graph['cum_count'], label = 'Cumulative new listings')\n",
    "plt.axvline(x = 2008, color = 'red')\n",
    "plt.xlabel('Year')\n",
    "plt.ylabel('Number of new listings')\n",
    "plt.title('Number of Airbnb listings in Lisbon (all)')\n",
    "plt.legend()"
   ]
  },
  {
   "cell_type": "markdown",
   "metadata": {},
   "source": [
    "It seems a negligible part of the properties were registered before 2010 for lodging. This already gives us some insights: there was a clear boom in property registration with the intention to host tourists after Airbnb was created in 2008 (red line). Data from 2020 was neglected as it is incomplete (the dataset was scraped in January).\n",
    "\n",
    "Let's plot the data just from 2010 forward."
   ]
  },
  {
   "cell_type": "code",
   "execution_count": 203,
   "metadata": {},
   "outputs": [
    {
     "data": {
      "text/plain": [
       "<matplotlib.legend.Legend at 0x24499945a88>"
      ]
     },
     "execution_count": 203,
     "metadata": {},
     "output_type": "execute_result"
    },
    {
     "data": {
      "image/png": "[encoded data removed]",
      "text/plain": [
       "<Figure size 1080x504 with 1 Axes>"
      ]
     },
     "metadata": {
      "needs_background": "light"
     },
     "output_type": "display_data"
    }
   ],
   "source": [
    "df_years_graph2010 = df_years_graph[df_years_graph['year']>= 2008]\n",
    "plt.figure(figsize=(15,7))\n",
    "plt.plot(df_years_graph2010['year'],df_years_graph2010['count'], label = 'New listings')\n",
    "plt.plot(df_years_graph2010['year'],df_years_graph2010['cum_count'], label = 'Cumulative new listings')\n",
    "plt.axvline(x = 2008, color = 'red')\n",
    "plt.xlabel('Year')\n",
    "plt.ylabel('Number of new listings')\n",
    "plt.title('Number of Airbnb listings in Lisbon (2010 - 2019)')\n",
    "plt.legend()"
   ]
  },
  {
   "cell_type": "markdown",
   "metadata": {},
   "source": [
    "We can see that since 2013, the number of new listings in airbnb for Lisbon increased until 2018, from less than 500 new listings per year to more than 5000 new listings per year, which is a 10x increase. In 2019 the growth in new listings decreased compared to the previous year."
   ]
  },
  {
   "cell_type": "code",
   "execution_count": 204,
   "metadata": {},
   "outputs": [
    {
     "data": {
      "text/html": [
       "<div>\n",
       "<style scoped>\n",
       "    .dataframe tbody tr th:only-of-type {\n",
       "        vertical-align: middle;\n",
       "    }\n",
       "\n",
       "    .dataframe tbody tr th {\n",
       "        vertical-align: top;\n",
       "    }\n",
       "\n",
       "    .dataframe thead th {\n",
       "        text-align: right;\n",
       "    }\n",
       "</style>\n",
       "<table border=\"1\" class=\"dataframe\">\n",
       "  <thead>\n",
       "    <tr style=\"text-align: right;\">\n",
       "      <th></th>\n",
       "      <th>year</th>\n",
       "      <th>count</th>\n",
       "      <th>cum_count</th>\n",
       "    </tr>\n",
       "  </thead>\n",
       "  <tbody>\n",
       "    <tr>\n",
       "      <th>21</th>\n",
       "      <td>2008</td>\n",
       "      <td>3</td>\n",
       "      <td>62</td>\n",
       "    </tr>\n",
       "    <tr>\n",
       "      <th>10</th>\n",
       "      <td>2009</td>\n",
       "      <td>29</td>\n",
       "      <td>91</td>\n",
       "    </tr>\n",
       "    <tr>\n",
       "      <th>8</th>\n",
       "      <td>2010</td>\n",
       "      <td>60</td>\n",
       "      <td>151</td>\n",
       "    </tr>\n",
       "    <tr>\n",
       "      <th>9</th>\n",
       "      <td>2011</td>\n",
       "      <td>54</td>\n",
       "      <td>205</td>\n",
       "    </tr>\n",
       "    <tr>\n",
       "      <th>7</th>\n",
       "      <td>2012</td>\n",
       "      <td>95</td>\n",
       "      <td>300</td>\n",
       "    </tr>\n",
       "    <tr>\n",
       "      <th>6</th>\n",
       "      <td>2013</td>\n",
       "      <td>166</td>\n",
       "      <td>466</td>\n",
       "    </tr>\n",
       "    <tr>\n",
       "      <th>5</th>\n",
       "      <td>2014</td>\n",
       "      <td>501</td>\n",
       "      <td>967</td>\n",
       "    </tr>\n",
       "    <tr>\n",
       "      <th>4</th>\n",
       "      <td>2015</td>\n",
       "      <td>1759</td>\n",
       "      <td>2726</td>\n",
       "    </tr>\n",
       "    <tr>\n",
       "      <th>2</th>\n",
       "      <td>2016</td>\n",
       "      <td>2364</td>\n",
       "      <td>5090</td>\n",
       "    </tr>\n",
       "    <tr>\n",
       "      <th>1</th>\n",
       "      <td>2017</td>\n",
       "      <td>4309</td>\n",
       "      <td>9399</td>\n",
       "    </tr>\n",
       "    <tr>\n",
       "      <th>0</th>\n",
       "      <td>2018</td>\n",
       "      <td>5746</td>\n",
       "      <td>15145</td>\n",
       "    </tr>\n",
       "    <tr>\n",
       "      <th>3</th>\n",
       "      <td>2019</td>\n",
       "      <td>1999</td>\n",
       "      <td>17144</td>\n",
       "    </tr>\n",
       "  </tbody>\n",
       "</table>\n",
       "</div>"
      ],
      "text/plain": [
       "    year  count  cum_count\n",
       "21  2008      3         62\n",
       "10  2009     29         91\n",
       "8   2010     60        151\n",
       "9   2011     54        205\n",
       "7   2012     95        300\n",
       "6   2013    166        466\n",
       "5   2014    501        967\n",
       "4   2015   1759       2726\n",
       "2   2016   2364       5090\n",
       "1   2017   4309       9399\n",
       "0   2018   5746      15145\n",
       "3   2019   1999      17144"
      ]
     },
     "execution_count": 204,
     "metadata": {},
     "output_type": "execute_result"
    }
   ],
   "source": [
    "df_years_graph2010"
   ]
  },
  {
   "cell_type": "markdown",
   "metadata": {},
   "source": [
    "In 2010 there were 151 listings in Airbnb located in Lisbon, and in 2019 there was a total of 17155 listings, which is an increase of about 113 times."
   ]
  },
  {
   "cell_type": "markdown",
   "metadata": {},
   "source": [
    "## 1.3. Preprocessing"
   ]
  },
  {
   "cell_type": "markdown",
   "metadata": {},
   "source": [
    "Now, let's preprocess the data in order to create our dimension. The dimension _'Date'_ has the following schema:\n",
    "\n",
    "<img src=\"date_schema.png\" width=\"150\" align=\"center\"/>\n",
    "\n",
    "We start by defining functions that process each date and build its respective attributes in the dimension."
   ]
  },
  {
   "cell_type": "code",
   "execution_count": 205,
   "metadata": {},
   "outputs": [],
   "source": [
    "def date_season(month):\n",
    "    \"\"\"Detects the season of the year the date belongs to\"\"\"\n",
    "    if (month < 3) or (month == 12): return 'Winter'\n",
    "    elif (month >= 3) and (month < 6): return 'Spring'\n",
    "    elif (month >= 6) and (month < 9): return 'Summer'\n",
    "    elif (month >= 9) and (month < 12): return 'Autumn'\n",
    "\n",
    "def date_weekend(week_day):\n",
    "    \"\"\"Detects if date is work day or weekend\"\"\"\n",
    "    if (week_day == 5) or (week_day == 6): return 'Weekend'\n",
    "    else: return 'Work Day'\n",
    "\n",
    "def week_day(d):\n",
    "    \"\"\"Detects weekday\"\"\"\n",
    "    days = {0: \"Monday\", 1: \"Tuesday\", 2: \"Wednesday\", 3: \"Thursday\", 4: \"Friday\", 5: \"Saturday\", 6: \"Sunday\"}\n",
    "    return days[d.weekday()]\n",
    "\n",
    "def date_pk(date):\n",
    "    \"\"\"Builds primary key\"\"\"\n",
    "    return int(date.strftime('%d%m%Y'))\n",
    "\n",
    "def week_of_month(dt):\n",
    "    \"\"\"Detects the week of the month for the specified date\"\"\"\n",
    "    first_day = dt.replace(day=1)\n",
    "    dom = dt.day\n",
    "    adjusted_dom = dom + first_day.weekday()\n",
    "    return int(ceil(adjusted_dom/7.0))\n",
    "\n",
    "def getQuarter(d):\n",
    "    \"\"\"Detects which quarter of the year date belongs to\"\"\"\n",
    "    if d.month<=3: return \"Q1\"\n",
    "    if d.month<=6: return \"Q2\"\n",
    "    if d.month<=9: return \"Q3\"\n",
    "    return \"Q4\"\n",
    "\n",
    "def getSemester(d):\n",
    "    \"\"\"Detects which semester of the year date belongs to\"\"\"\n",
    "    if d.month<=6: return \"S1\"\n",
    "    return \"S2\"\n",
    "\n",
    "def is_holiday(d):\n",
    "    if len(df_holidays2[(df_holidays2['Day']==d.day) & (df_holidays2['Month']==d.month)])>0: return 'Holiday'\n",
    "    else: return 'Not Holiday'"
   ]
  },
  {
   "cell_type": "markdown",
   "metadata": {},
   "source": [
    "Example of date dimension primary key in format 'ddMMyyyy'"
   ]
  },
  {
   "cell_type": "code",
   "execution_count": 206,
   "metadata": {},
   "outputs": [
    {
     "data": {
      "text/plain": [
       "(Timestamp('2017-09-13 13:40:58'), 13092017)"
      ]
     },
     "execution_count": 206,
     "metadata": {},
     "output_type": "execute_result"
    }
   ],
   "source": [
    "df_listings['DataRegisto'][0], date_pk(df_listings['DataRegisto'][0])"
   ]
  },
  {
   "cell_type": "markdown",
   "metadata": {},
   "source": [
    "### 1.3.1 Preprocessing *feriados_nacionais.csv* data"
   ]
  },
  {
   "cell_type": "code",
   "execution_count": 207,
   "metadata": {},
   "outputs": [
    {
     "data": {
      "text/html": [
       "<div>\n",
       "<style scoped>\n",
       "    .dataframe tbody tr th:only-of-type {\n",
       "        vertical-align: middle;\n",
       "    }\n",
       "\n",
       "    .dataframe tbody tr th {\n",
       "        vertical-align: top;\n",
       "    }\n",
       "\n",
       "    .dataframe thead th {\n",
       "        text-align: right;\n",
       "    }\n",
       "</style>\n",
       "<table border=\"1\" class=\"dataframe\">\n",
       "  <thead>\n",
       "    <tr style=\"text-align: right;\">\n",
       "      <th></th>\n",
       "      <th>Title</th>\n",
       "      <th>Given planned earliest start</th>\n",
       "      <th>Given planned earliest end</th>\n",
       "      <th>Notes</th>\n",
       "      <th>Assigned Resources</th>\n",
       "      <th>Additional Title</th>\n",
       "    </tr>\n",
       "  </thead>\n",
       "  <tbody>\n",
       "    <tr>\n",
       "      <th>0</th>\n",
       "      <td>Ano Novo</td>\n",
       "      <td>1/1/2020</td>\n",
       "      <td>1/1/2020</td>\n",
       "      <td>feriado nacional em Portugal | feriados.com.pt...</td>\n",
       "      <td>NaN</td>\n",
       "      <td>NaN</td>\n",
       "    </tr>\n",
       "    <tr>\n",
       "      <th>1</th>\n",
       "      <td>Carnaval</td>\n",
       "      <td>2/24/2020</td>\n",
       "      <td>2/24/2020</td>\n",
       "      <td>feriado regional | feriados.com.pt. All data w...</td>\n",
       "      <td>NaN</td>\n",
       "      <td>NaN</td>\n",
       "    </tr>\n",
       "    <tr>\n",
       "      <th>2</th>\n",
       "      <td>Sexta-Feira Santa</td>\n",
       "      <td>4/10/2020</td>\n",
       "      <td>4/10/2020</td>\n",
       "      <td>feriado nacional em Portugal | feriados.com.pt...</td>\n",
       "      <td>NaN</td>\n",
       "      <td>NaN</td>\n",
       "    </tr>\n",
       "    <tr>\n",
       "      <th>3</th>\n",
       "      <td>Páscoa</td>\n",
       "      <td>4/12/2020</td>\n",
       "      <td>4/12/2020</td>\n",
       "      <td>feriado nacional em Portugal | feriados.com.pt...</td>\n",
       "      <td>NaN</td>\n",
       "      <td>NaN</td>\n",
       "    </tr>\n",
       "    <tr>\n",
       "      <th>4</th>\n",
       "      <td>Segunda-feira de Páscoa</td>\n",
       "      <td>4/13/2020</td>\n",
       "      <td>4/13/2020</td>\n",
       "      <td>feriado regional | feriados.com.pt. All data w...</td>\n",
       "      <td>NaN</td>\n",
       "      <td>NaN</td>\n",
       "    </tr>\n",
       "  </tbody>\n",
       "</table>\n",
       "</div>"
      ],
      "text/plain": [
       "                     Title Given planned earliest start  \\\n",
       "0                 Ano Novo                     1/1/2020   \n",
       "1                 Carnaval                    2/24/2020   \n",
       "2        Sexta-Feira Santa                    4/10/2020   \n",
       "3                   Páscoa                    4/12/2020   \n",
       "4  Segunda-feira de Páscoa                    4/13/2020   \n",
       "\n",
       "  Given planned earliest end  \\\n",
       "0                   1/1/2020   \n",
       "1                  2/24/2020   \n",
       "2                  4/10/2020   \n",
       "3                  4/12/2020   \n",
       "4                  4/13/2020   \n",
       "\n",
       "                                               Notes  Assigned Resources  \\\n",
       "0  feriado nacional em Portugal | feriados.com.pt...                 NaN   \n",
       "1  feriado regional | feriados.com.pt. All data w...                 NaN   \n",
       "2  feriado nacional em Portugal | feriados.com.pt...                 NaN   \n",
       "3  feriado nacional em Portugal | feriados.com.pt...                 NaN   \n",
       "4  feriado regional | feriados.com.pt. All data w...                 NaN   \n",
       "\n",
       "   Additional Title  \n",
       "0               NaN  \n",
       "1               NaN  \n",
       "2               NaN  \n",
       "3               NaN  \n",
       "4               NaN  "
      ]
     },
     "execution_count": 207,
     "metadata": {},
     "output_type": "execute_result"
    }
   ],
   "source": [
    "holiday_file_path = '../data/feriados_nacionais.csv'\n",
    "df_holidays = pd.read_csv(holiday_file_path)\n",
    "df_holidays.head()"
   ]
  },
  {
   "cell_type": "markdown",
   "metadata": {},
   "source": [
    "Preprocess the file in order to get a clean dataframe with the holidays"
   ]
  },
  {
   "cell_type": "code",
   "execution_count": 208,
   "metadata": {},
   "outputs": [
    {
     "data": {
      "text/html": [
       "<div>\n",
       "<style scoped>\n",
       "    .dataframe tbody tr th:only-of-type {\n",
       "        vertical-align: middle;\n",
       "    }\n",
       "\n",
       "    .dataframe tbody tr th {\n",
       "        vertical-align: top;\n",
       "    }\n",
       "\n",
       "    .dataframe thead th {\n",
       "        text-align: right;\n",
       "    }\n",
       "</style>\n",
       "<table border=\"1\" class=\"dataframe\">\n",
       "  <thead>\n",
       "    <tr style=\"text-align: right;\">\n",
       "      <th></th>\n",
       "      <th>Day</th>\n",
       "      <th>Month</th>\n",
       "    </tr>\n",
       "  </thead>\n",
       "  <tbody>\n",
       "    <tr>\n",
       "      <th>0</th>\n",
       "      <td>1</td>\n",
       "      <td>1</td>\n",
       "    </tr>\n",
       "    <tr>\n",
       "      <th>1</th>\n",
       "      <td>24</td>\n",
       "      <td>2</td>\n",
       "    </tr>\n",
       "    <tr>\n",
       "      <th>2</th>\n",
       "      <td>10</td>\n",
       "      <td>4</td>\n",
       "    </tr>\n",
       "    <tr>\n",
       "      <th>3</th>\n",
       "      <td>12</td>\n",
       "      <td>4</td>\n",
       "    </tr>\n",
       "    <tr>\n",
       "      <th>4</th>\n",
       "      <td>13</td>\n",
       "      <td>4</td>\n",
       "    </tr>\n",
       "    <tr>\n",
       "      <th>5</th>\n",
       "      <td>25</td>\n",
       "      <td>4</td>\n",
       "    </tr>\n",
       "    <tr>\n",
       "      <th>6</th>\n",
       "      <td>1</td>\n",
       "      <td>5</td>\n",
       "    </tr>\n",
       "    <tr>\n",
       "      <th>7</th>\n",
       "      <td>21</td>\n",
       "      <td>5</td>\n",
       "    </tr>\n",
       "    <tr>\n",
       "      <th>8</th>\n",
       "      <td>10</td>\n",
       "      <td>6</td>\n",
       "    </tr>\n",
       "    <tr>\n",
       "      <th>9</th>\n",
       "      <td>11</td>\n",
       "      <td>6</td>\n",
       "    </tr>\n",
       "    <tr>\n",
       "      <th>10</th>\n",
       "      <td>13</td>\n",
       "      <td>6</td>\n",
       "    </tr>\n",
       "    <tr>\n",
       "      <th>11</th>\n",
       "      <td>15</td>\n",
       "      <td>8</td>\n",
       "    </tr>\n",
       "    <tr>\n",
       "      <th>12</th>\n",
       "      <td>5</td>\n",
       "      <td>10</td>\n",
       "    </tr>\n",
       "    <tr>\n",
       "      <th>13</th>\n",
       "      <td>1</td>\n",
       "      <td>11</td>\n",
       "    </tr>\n",
       "    <tr>\n",
       "      <th>14</th>\n",
       "      <td>1</td>\n",
       "      <td>12</td>\n",
       "    </tr>\n",
       "    <tr>\n",
       "      <th>15</th>\n",
       "      <td>8</td>\n",
       "      <td>12</td>\n",
       "    </tr>\n",
       "    <tr>\n",
       "      <th>16</th>\n",
       "      <td>25</td>\n",
       "      <td>12</td>\n",
       "    </tr>\n",
       "  </tbody>\n",
       "</table>\n",
       "</div>"
      ],
      "text/plain": [
       "    Day  Month\n",
       "0     1      1\n",
       "1    24      2\n",
       "2    10      4\n",
       "3    12      4\n",
       "4    13      4\n",
       "5    25      4\n",
       "6     1      5\n",
       "7    21      5\n",
       "8    10      6\n",
       "9    11      6\n",
       "10   13      6\n",
       "11   15      8\n",
       "12    5     10\n",
       "13    1     11\n",
       "14    1     12\n",
       "15    8     12\n",
       "16   25     12"
      ]
     },
     "execution_count": 208,
     "metadata": {},
     "output_type": "execute_result"
    }
   ],
   "source": [
    "holidays_dates = df_holidays.iloc[:,1].values[:-1]\n",
    "holidays_dates = [datetime.strptime(d, \"%m/%d/%Y\") for d in holidays_dates]\n",
    "\n",
    "holidays_days = [d.day for d in holidays_dates]\n",
    "holidays_months = [d.month for d in holidays_dates]\n",
    "\n",
    "df_holidays2 = pd.DataFrame(np.stack((holidays_days,holidays_months), axis = 1),columns=['Day','Month'])\n",
    "df_holidays2"
   ]
  },
  {
   "cell_type": "markdown",
   "metadata": {},
   "source": [
    "The data in this dataframe will be used in order to fed the 'Holiday' column of the dimension."
   ]
  },
  {
   "cell_type": "markdown",
   "metadata": {},
   "source": [
    "### 1.3.2 Processing the _df_listings_ data"
   ]
  },
  {
   "cell_type": "code",
   "execution_count": 209,
   "metadata": {},
   "outputs": [],
   "source": [
    "pks = [date_pk(d) for d in df_listings['DataRegisto']]\n",
    "days = [d.day for d in df_listings['DataRegisto']]\n",
    "weeks = [week_of_month(d) for d in df_listings['DataRegisto']]\n",
    "week_days = [week_day(d) for d in df_listings['DataRegisto']]\n",
    "week_ends = [date_weekend(d.weekday()) for d in df_listings['DataRegisto']]\n",
    "months = [d.month for d in df_listings['DataRegisto']]\n",
    "seasons = [date_season(d.month) for d in df_listings['DataRegisto']]\n",
    "quarters = [getQuarter(d) for d in df_listings['DataRegisto']]\n",
    "semesters = [getSemester(d) for d in df_listings['DataRegisto']]\n",
    "holidays = [is_holiday(d) for d in df_listings['DataRegisto']]"
   ]
  },
  {
   "cell_type": "markdown",
   "metadata": {},
   "source": [
    "After processing each date in the dataframe and building a list of values for each attribute, we merge them together in a DataFrame."
   ]
  },
  {
   "cell_type": "code",
   "execution_count": 210,
   "metadata": {},
   "outputs": [
    {
     "data": {
      "text/plain": [
       "(17168, 11)"
      ]
     },
     "execution_count": 210,
     "metadata": {},
     "output_type": "execute_result"
    }
   ],
   "source": [
    "columns = ['date_id','day','week', 'month','year','season','weekend','weekday','quarter','semester','holiday']\n",
    "df_date_dimension = pd.DataFrame(np.stack((pks,days,weeks, months,years, seasons,week_ends,week_days,quarters,semesters,holidays),axis=-1), columns = columns)\n",
    "df_date_dimension.shape"
   ]
  },
  {
   "cell_type": "code",
   "execution_count": 211,
   "metadata": {},
   "outputs": [
    {
     "data": {
      "text/html": [
       "<div>\n",
       "<style scoped>\n",
       "    .dataframe tbody tr th:only-of-type {\n",
       "        vertical-align: middle;\n",
       "    }\n",
       "\n",
       "    .dataframe tbody tr th {\n",
       "        vertical-align: top;\n",
       "    }\n",
       "\n",
       "    .dataframe thead th {\n",
       "        text-align: right;\n",
       "    }\n",
       "</style>\n",
       "<table border=\"1\" class=\"dataframe\">\n",
       "  <thead>\n",
       "    <tr style=\"text-align: right;\">\n",
       "      <th></th>\n",
       "      <th>date_id</th>\n",
       "      <th>day</th>\n",
       "      <th>week</th>\n",
       "      <th>month</th>\n",
       "      <th>year</th>\n",
       "      <th>season</th>\n",
       "      <th>weekend</th>\n",
       "      <th>weekday</th>\n",
       "      <th>quarter</th>\n",
       "      <th>semester</th>\n",
       "      <th>holiday</th>\n",
       "    </tr>\n",
       "  </thead>\n",
       "  <tbody>\n",
       "    <tr>\n",
       "      <th>0</th>\n",
       "      <td>13092017</td>\n",
       "      <td>13</td>\n",
       "      <td>3</td>\n",
       "      <td>9</td>\n",
       "      <td>2017</td>\n",
       "      <td>Autumn</td>\n",
       "      <td>Work Day</td>\n",
       "      <td>Wednesday</td>\n",
       "      <td>Q3</td>\n",
       "      <td>S2</td>\n",
       "      <td>Not Holiday</td>\n",
       "    </tr>\n",
       "    <tr>\n",
       "      <th>1</th>\n",
       "      <td>15012016</td>\n",
       "      <td>15</td>\n",
       "      <td>3</td>\n",
       "      <td>1</td>\n",
       "      <td>2016</td>\n",
       "      <td>Winter</td>\n",
       "      <td>Work Day</td>\n",
       "      <td>Friday</td>\n",
       "      <td>Q1</td>\n",
       "      <td>S1</td>\n",
       "      <td>Not Holiday</td>\n",
       "    </tr>\n",
       "    <tr>\n",
       "      <th>2</th>\n",
       "      <td>12052016</td>\n",
       "      <td>12</td>\n",
       "      <td>3</td>\n",
       "      <td>5</td>\n",
       "      <td>2016</td>\n",
       "      <td>Spring</td>\n",
       "      <td>Work Day</td>\n",
       "      <td>Thursday</td>\n",
       "      <td>Q2</td>\n",
       "      <td>S1</td>\n",
       "      <td>Not Holiday</td>\n",
       "    </tr>\n",
       "    <tr>\n",
       "      <th>3</th>\n",
       "      <td>31082017</td>\n",
       "      <td>31</td>\n",
       "      <td>5</td>\n",
       "      <td>8</td>\n",
       "      <td>2017</td>\n",
       "      <td>Summer</td>\n",
       "      <td>Work Day</td>\n",
       "      <td>Thursday</td>\n",
       "      <td>Q3</td>\n",
       "      <td>S2</td>\n",
       "      <td>Not Holiday</td>\n",
       "    </tr>\n",
       "    <tr>\n",
       "      <th>4</th>\n",
       "      <td>31082017</td>\n",
       "      <td>31</td>\n",
       "      <td>5</td>\n",
       "      <td>8</td>\n",
       "      <td>2017</td>\n",
       "      <td>Summer</td>\n",
       "      <td>Work Day</td>\n",
       "      <td>Thursday</td>\n",
       "      <td>Q3</td>\n",
       "      <td>S2</td>\n",
       "      <td>Not Holiday</td>\n",
       "    </tr>\n",
       "  </tbody>\n",
       "</table>\n",
       "</div>"
      ],
      "text/plain": [
       "    date_id day week month  year  season   weekend    weekday quarter  \\\n",
       "0  13092017  13    3     9  2017  Autumn  Work Day  Wednesday      Q3   \n",
       "1  15012016  15    3     1  2016  Winter  Work Day     Friday      Q1   \n",
       "2  12052016  12    3     5  2016  Spring  Work Day   Thursday      Q2   \n",
       "3  31082017  31    5     8  2017  Summer  Work Day   Thursday      Q3   \n",
       "4  31082017  31    5     8  2017  Summer  Work Day   Thursday      Q3   \n",
       "\n",
       "  semester      holiday  \n",
       "0       S2  Not Holiday  \n",
       "1       S1  Not Holiday  \n",
       "2       S1  Not Holiday  \n",
       "3       S2  Not Holiday  \n",
       "4       S2  Not Holiday  "
      ]
     },
     "execution_count": 211,
     "metadata": {},
     "output_type": "execute_result"
    }
   ],
   "source": [
    "df_date_dimension.head()"
   ]
  },
  {
   "cell_type": "markdown",
   "metadata": {},
   "source": [
    "Removal of duplicates"
   ]
  },
  {
   "cell_type": "code",
   "execution_count": 212,
   "metadata": {},
   "outputs": [
    {
     "data": {
      "text/plain": [
       "(1826, 11)"
      ]
     },
     "execution_count": 212,
     "metadata": {},
     "output_type": "execute_result"
    }
   ],
   "source": [
    "df_date_dimension = df_date_dimension.drop_duplicates(subset=['date_id'])\n",
    "df_date_dimension.shape"
   ]
  },
  {
   "cell_type": "markdown",
   "metadata": {},
   "source": [
    "### 1.3.3 Processing the _df_calendar_ data"
   ]
  },
  {
   "cell_type": "code",
   "execution_count": 213,
   "metadata": {},
   "outputs": [
    {
     "data": {
      "text/html": [
       "<div>\n",
       "<style scoped>\n",
       "    .dataframe tbody tr th:only-of-type {\n",
       "        vertical-align: middle;\n",
       "    }\n",
       "\n",
       "    .dataframe tbody tr th {\n",
       "        vertical-align: top;\n",
       "    }\n",
       "\n",
       "    .dataframe thead th {\n",
       "        text-align: right;\n",
       "    }\n",
       "</style>\n",
       "<table border=\"1\" class=\"dataframe\">\n",
       "  <thead>\n",
       "    <tr style=\"text-align: right;\">\n",
       "      <th></th>\n",
       "      <th>listing_id</th>\n",
       "      <th>date</th>\n",
       "      <th>available</th>\n",
       "      <th>price</th>\n",
       "      <th>adjusted_price</th>\n",
       "      <th>minimum_nights</th>\n",
       "      <th>maximum_nights</th>\n",
       "    </tr>\n",
       "  </thead>\n",
       "  <tbody>\n",
       "    <tr>\n",
       "      <th>0</th>\n",
       "      <td>286500</td>\n",
       "      <td>2020-02-14</td>\n",
       "      <td>f</td>\n",
       "      <td>$150.00</td>\n",
       "      <td>$150.00</td>\n",
       "      <td>3.0</td>\n",
       "      <td>365.0</td>\n",
       "    </tr>\n",
       "    <tr>\n",
       "      <th>2</th>\n",
       "      <td>69042</td>\n",
       "      <td>2020-02-15</td>\n",
       "      <td>f</td>\n",
       "      <td>$130.00</td>\n",
       "      <td>$130.00</td>\n",
       "      <td>3.0</td>\n",
       "      <td>365.0</td>\n",
       "    </tr>\n",
       "    <tr>\n",
       "      <th>3</th>\n",
       "      <td>69042</td>\n",
       "      <td>2020-02-16</td>\n",
       "      <td>t</td>\n",
       "      <td>$130.00</td>\n",
       "      <td>$130.00</td>\n",
       "      <td>2.0</td>\n",
       "      <td>365.0</td>\n",
       "    </tr>\n",
       "    <tr>\n",
       "      <th>4</th>\n",
       "      <td>69042</td>\n",
       "      <td>2020-02-17</td>\n",
       "      <td>f</td>\n",
       "      <td>$130.00</td>\n",
       "      <td>$130.00</td>\n",
       "      <td>2.0</td>\n",
       "      <td>365.0</td>\n",
       "    </tr>\n",
       "    <tr>\n",
       "      <th>5</th>\n",
       "      <td>69042</td>\n",
       "      <td>2020-02-18</td>\n",
       "      <td>f</td>\n",
       "      <td>$130.00</td>\n",
       "      <td>$130.00</td>\n",
       "      <td>2.0</td>\n",
       "      <td>365.0</td>\n",
       "    </tr>\n",
       "  </tbody>\n",
       "</table>\n",
       "</div>"
      ],
      "text/plain": [
       "   listing_id       date available    price adjusted_price  minimum_nights  \\\n",
       "0      286500 2020-02-14         f  $150.00        $150.00             3.0   \n",
       "2       69042 2020-02-15         f  $130.00        $130.00             3.0   \n",
       "3       69042 2020-02-16         t  $130.00        $130.00             2.0   \n",
       "4       69042 2020-02-17         f  $130.00        $130.00             2.0   \n",
       "5       69042 2020-02-18         f  $130.00        $130.00             2.0   \n",
       "\n",
       "   maximum_nights  \n",
       "0           365.0  \n",
       "2           365.0  \n",
       "3           365.0  \n",
       "4           365.0  \n",
       "5           365.0  "
      ]
     },
     "execution_count": 213,
     "metadata": {},
     "output_type": "execute_result"
    }
   ],
   "source": [
    "df_calendar.head()"
   ]
  },
  {
   "cell_type": "code",
   "execution_count": 214,
   "metadata": {},
   "outputs": [],
   "source": [
    "pks2 = [date_pk(d) for d in df_calendar['date']]\n",
    "days2 = [d.day for d in df_calendar['date']]\n",
    "weeks2 = [week_of_month(d) for d in df_calendar['date']]\n",
    "week_days2 = [week_day(d) for d in df_calendar['date']]\n",
    "week_ends2 = [date_weekend(d.weekday()) for d in df_calendar['date']]\n",
    "months2 = [d.month for d in df_calendar['date']]\n",
    "seasons2 = [date_season(d.month) for d in df_calendar['date']]\n",
    "quarters2 = [getQuarter(d) for d in df_calendar['date']]\n",
    "semesters2 = [getSemester(d) for d in df_calendar['date']]\n",
    "years2 = [d.year for d in df_calendar['date']]\n",
    "holidays2 = [is_holiday(d) for d in df_calendar['date']]"
   ]
  },
  {
   "cell_type": "markdown",
   "metadata": {},
   "source": [
    "Merge the two dataframes (dates needed both for availability and listing facts)"
   ]
  },
  {
   "cell_type": "code",
   "execution_count": 215,
   "metadata": {},
   "outputs": [
    {
     "data": {
      "text/html": [
       "<div>\n",
       "<style scoped>\n",
       "    .dataframe tbody tr th:only-of-type {\n",
       "        vertical-align: middle;\n",
       "    }\n",
       "\n",
       "    .dataframe tbody tr th {\n",
       "        vertical-align: top;\n",
       "    }\n",
       "\n",
       "    .dataframe thead th {\n",
       "        text-align: right;\n",
       "    }\n",
       "</style>\n",
       "<table border=\"1\" class=\"dataframe\">\n",
       "  <thead>\n",
       "    <tr style=\"text-align: right;\">\n",
       "      <th></th>\n",
       "      <th>date_id</th>\n",
       "      <th>day</th>\n",
       "      <th>week</th>\n",
       "      <th>month</th>\n",
       "      <th>year</th>\n",
       "      <th>season</th>\n",
       "      <th>weekend</th>\n",
       "      <th>weekday</th>\n",
       "      <th>quarter</th>\n",
       "      <th>semester</th>\n",
       "      <th>holiday</th>\n",
       "    </tr>\n",
       "  </thead>\n",
       "  <tbody>\n",
       "    <tr>\n",
       "      <th>0</th>\n",
       "      <td>14022020</td>\n",
       "      <td>14</td>\n",
       "      <td>3</td>\n",
       "      <td>2</td>\n",
       "      <td>2020</td>\n",
       "      <td>Winter</td>\n",
       "      <td>Work Day</td>\n",
       "      <td>Friday</td>\n",
       "      <td>Q1</td>\n",
       "      <td>S1</td>\n",
       "      <td>Not Holiday</td>\n",
       "    </tr>\n",
       "    <tr>\n",
       "      <th>1</th>\n",
       "      <td>15022020</td>\n",
       "      <td>15</td>\n",
       "      <td>3</td>\n",
       "      <td>2</td>\n",
       "      <td>2020</td>\n",
       "      <td>Winter</td>\n",
       "      <td>Weekend</td>\n",
       "      <td>Saturday</td>\n",
       "      <td>Q1</td>\n",
       "      <td>S1</td>\n",
       "      <td>Not Holiday</td>\n",
       "    </tr>\n",
       "    <tr>\n",
       "      <th>2</th>\n",
       "      <td>16022020</td>\n",
       "      <td>16</td>\n",
       "      <td>3</td>\n",
       "      <td>2</td>\n",
       "      <td>2020</td>\n",
       "      <td>Winter</td>\n",
       "      <td>Weekend</td>\n",
       "      <td>Sunday</td>\n",
       "      <td>Q1</td>\n",
       "      <td>S1</td>\n",
       "      <td>Not Holiday</td>\n",
       "    </tr>\n",
       "    <tr>\n",
       "      <th>3</th>\n",
       "      <td>17022020</td>\n",
       "      <td>17</td>\n",
       "      <td>4</td>\n",
       "      <td>2</td>\n",
       "      <td>2020</td>\n",
       "      <td>Winter</td>\n",
       "      <td>Work Day</td>\n",
       "      <td>Monday</td>\n",
       "      <td>Q1</td>\n",
       "      <td>S1</td>\n",
       "      <td>Not Holiday</td>\n",
       "    </tr>\n",
       "    <tr>\n",
       "      <th>4</th>\n",
       "      <td>18022020</td>\n",
       "      <td>18</td>\n",
       "      <td>4</td>\n",
       "      <td>2</td>\n",
       "      <td>2020</td>\n",
       "      <td>Winter</td>\n",
       "      <td>Work Day</td>\n",
       "      <td>Tuesday</td>\n",
       "      <td>Q1</td>\n",
       "      <td>S1</td>\n",
       "      <td>Not Holiday</td>\n",
       "    </tr>\n",
       "    <tr>\n",
       "      <th>...</th>\n",
       "      <td>...</td>\n",
       "      <td>...</td>\n",
       "      <td>...</td>\n",
       "      <td>...</td>\n",
       "      <td>...</td>\n",
       "      <td>...</td>\n",
       "      <td>...</td>\n",
       "      <td>...</td>\n",
       "      <td>...</td>\n",
       "      <td>...</td>\n",
       "      <td>...</td>\n",
       "    </tr>\n",
       "    <tr>\n",
       "      <th>17150</th>\n",
       "      <td>14032013</td>\n",
       "      <td>14</td>\n",
       "      <td>3</td>\n",
       "      <td>3</td>\n",
       "      <td>2013</td>\n",
       "      <td>Spring</td>\n",
       "      <td>Work Day</td>\n",
       "      <td>Thursday</td>\n",
       "      <td>Q1</td>\n",
       "      <td>S1</td>\n",
       "      <td>Not Holiday</td>\n",
       "    </tr>\n",
       "    <tr>\n",
       "      <th>17153</th>\n",
       "      <td>18012020</td>\n",
       "      <td>18</td>\n",
       "      <td>3</td>\n",
       "      <td>1</td>\n",
       "      <td>2020</td>\n",
       "      <td>Winter</td>\n",
       "      <td>Weekend</td>\n",
       "      <td>Saturday</td>\n",
       "      <td>Q1</td>\n",
       "      <td>S1</td>\n",
       "      <td>Not Holiday</td>\n",
       "    </tr>\n",
       "    <tr>\n",
       "      <th>17155</th>\n",
       "      <td>22012020</td>\n",
       "      <td>22</td>\n",
       "      <td>4</td>\n",
       "      <td>1</td>\n",
       "      <td>2020</td>\n",
       "      <td>Winter</td>\n",
       "      <td>Work Day</td>\n",
       "      <td>Wednesday</td>\n",
       "      <td>Q1</td>\n",
       "      <td>S1</td>\n",
       "      <td>Not Holiday</td>\n",
       "    </tr>\n",
       "    <tr>\n",
       "      <th>17157</th>\n",
       "      <td>21012020</td>\n",
       "      <td>21</td>\n",
       "      <td>4</td>\n",
       "      <td>1</td>\n",
       "      <td>2020</td>\n",
       "      <td>Winter</td>\n",
       "      <td>Work Day</td>\n",
       "      <td>Tuesday</td>\n",
       "      <td>Q1</td>\n",
       "      <td>S1</td>\n",
       "      <td>Not Holiday</td>\n",
       "    </tr>\n",
       "    <tr>\n",
       "      <th>17159</th>\n",
       "      <td>22042019</td>\n",
       "      <td>22</td>\n",
       "      <td>4</td>\n",
       "      <td>4</td>\n",
       "      <td>2019</td>\n",
       "      <td>Spring</td>\n",
       "      <td>Work Day</td>\n",
       "      <td>Monday</td>\n",
       "      <td>Q2</td>\n",
       "      <td>S1</td>\n",
       "      <td>Not Holiday</td>\n",
       "    </tr>\n",
       "  </tbody>\n",
       "</table>\n",
       "<p>2192 rows × 11 columns</p>\n",
       "</div>"
      ],
      "text/plain": [
       "        date_id day week month  year  season   weekend    weekday quarter  \\\n",
       "0      14022020  14    3     2  2020  Winter  Work Day     Friday      Q1   \n",
       "1      15022020  15    3     2  2020  Winter   Weekend   Saturday      Q1   \n",
       "2      16022020  16    3     2  2020  Winter   Weekend     Sunday      Q1   \n",
       "3      17022020  17    4     2  2020  Winter  Work Day     Monday      Q1   \n",
       "4      18022020  18    4     2  2020  Winter  Work Day    Tuesday      Q1   \n",
       "...         ...  ..  ...   ...   ...     ...       ...        ...     ...   \n",
       "17150  14032013  14    3     3  2013  Spring  Work Day   Thursday      Q1   \n",
       "17153  18012020  18    3     1  2020  Winter   Weekend   Saturday      Q1   \n",
       "17155  22012020  22    4     1  2020  Winter  Work Day  Wednesday      Q1   \n",
       "17157  21012020  21    4     1  2020  Winter  Work Day    Tuesday      Q1   \n",
       "17159  22042019  22    4     4  2019  Spring  Work Day     Monday      Q2   \n",
       "\n",
       "      semester      holiday  \n",
       "0           S1  Not Holiday  \n",
       "1           S1  Not Holiday  \n",
       "2           S1  Not Holiday  \n",
       "3           S1  Not Holiday  \n",
       "4           S1  Not Holiday  \n",
       "...        ...          ...  \n",
       "17150       S1  Not Holiday  \n",
       "17153       S1  Not Holiday  \n",
       "17155       S1  Not Holiday  \n",
       "17157       S1  Not Holiday  \n",
       "17159       S1  Not Holiday  \n",
       "\n",
       "[2192 rows x 11 columns]"
      ]
     },
     "execution_count": 215,
     "metadata": {},
     "output_type": "execute_result"
    }
   ],
   "source": [
    "df_date_dimension_insert = pd.concat([pd.DataFrame(np.stack((pks2,days2,weeks2,months2,years2,seasons2,week_ends2,week_days2,quarters2,semesters2,holidays2),axis=-1), columns = columns),df_date_dimension])\n",
    "df_date_dimension_insert"
   ]
  },
  {
   "cell_type": "markdown",
   "metadata": {},
   "source": [
    "## 1.4 Insert data into DB"
   ]
  },
  {
   "cell_type": "markdown",
   "metadata": {},
   "source": [
    "Connection settings"
   ]
  },
  {
   "cell_type": "code",
   "execution_count": 223,
   "metadata": {},
   "outputs": [
    {
     "data": {
      "text/html": [
       "<div>\n",
       "<style scoped>\n",
       "    .dataframe tbody tr th:only-of-type {\n",
       "        vertical-align: middle;\n",
       "    }\n",
       "\n",
       "    .dataframe tbody tr th {\n",
       "        vertical-align: top;\n",
       "    }\n",
       "\n",
       "    .dataframe thead th {\n",
       "        text-align: right;\n",
       "    }\n",
       "</style>\n",
       "<table border=\"1\" class=\"dataframe\">\n",
       "  <thead>\n",
       "    <tr style=\"text-align: right;\">\n",
       "      <th></th>\n",
       "      <th>date_id</th>\n",
       "      <th>day</th>\n",
       "      <th>week</th>\n",
       "      <th>month</th>\n",
       "      <th>year</th>\n",
       "      <th>season</th>\n",
       "      <th>weekend</th>\n",
       "      <th>weekday</th>\n",
       "      <th>quarter</th>\n",
       "      <th>semester</th>\n",
       "      <th>holiday</th>\n",
       "    </tr>\n",
       "  </thead>\n",
       "  <tbody>\n",
       "    <tr>\n",
       "      <th>0</th>\n",
       "      <td>14022020</td>\n",
       "      <td>14</td>\n",
       "      <td>3</td>\n",
       "      <td>2</td>\n",
       "      <td>2020</td>\n",
       "      <td>Winter</td>\n",
       "      <td>Work Day</td>\n",
       "      <td>Friday</td>\n",
       "      <td>Q1</td>\n",
       "      <td>S1</td>\n",
       "      <td>Not Holiday</td>\n",
       "    </tr>\n",
       "    <tr>\n",
       "      <th>1</th>\n",
       "      <td>15022020</td>\n",
       "      <td>15</td>\n",
       "      <td>3</td>\n",
       "      <td>2</td>\n",
       "      <td>2020</td>\n",
       "      <td>Winter</td>\n",
       "      <td>Weekend</td>\n",
       "      <td>Saturday</td>\n",
       "      <td>Q1</td>\n",
       "      <td>S1</td>\n",
       "      <td>Not Holiday</td>\n",
       "    </tr>\n",
       "    <tr>\n",
       "      <th>2</th>\n",
       "      <td>16022020</td>\n",
       "      <td>16</td>\n",
       "      <td>3</td>\n",
       "      <td>2</td>\n",
       "      <td>2020</td>\n",
       "      <td>Winter</td>\n",
       "      <td>Weekend</td>\n",
       "      <td>Sunday</td>\n",
       "      <td>Q1</td>\n",
       "      <td>S1</td>\n",
       "      <td>Not Holiday</td>\n",
       "    </tr>\n",
       "    <tr>\n",
       "      <th>3</th>\n",
       "      <td>17022020</td>\n",
       "      <td>17</td>\n",
       "      <td>4</td>\n",
       "      <td>2</td>\n",
       "      <td>2020</td>\n",
       "      <td>Winter</td>\n",
       "      <td>Work Day</td>\n",
       "      <td>Monday</td>\n",
       "      <td>Q1</td>\n",
       "      <td>S1</td>\n",
       "      <td>Not Holiday</td>\n",
       "    </tr>\n",
       "    <tr>\n",
       "      <th>4</th>\n",
       "      <td>18022020</td>\n",
       "      <td>18</td>\n",
       "      <td>4</td>\n",
       "      <td>2</td>\n",
       "      <td>2020</td>\n",
       "      <td>Winter</td>\n",
       "      <td>Work Day</td>\n",
       "      <td>Tuesday</td>\n",
       "      <td>Q1</td>\n",
       "      <td>S1</td>\n",
       "      <td>Not Holiday</td>\n",
       "    </tr>\n",
       "    <tr>\n",
       "      <th>...</th>\n",
       "      <td>...</td>\n",
       "      <td>...</td>\n",
       "      <td>...</td>\n",
       "      <td>...</td>\n",
       "      <td>...</td>\n",
       "      <td>...</td>\n",
       "      <td>...</td>\n",
       "      <td>...</td>\n",
       "      <td>...</td>\n",
       "      <td>...</td>\n",
       "      <td>...</td>\n",
       "    </tr>\n",
       "    <tr>\n",
       "      <th>17150</th>\n",
       "      <td>14032013</td>\n",
       "      <td>14</td>\n",
       "      <td>3</td>\n",
       "      <td>3</td>\n",
       "      <td>2013</td>\n",
       "      <td>Spring</td>\n",
       "      <td>Work Day</td>\n",
       "      <td>Thursday</td>\n",
       "      <td>Q1</td>\n",
       "      <td>S1</td>\n",
       "      <td>Not Holiday</td>\n",
       "    </tr>\n",
       "    <tr>\n",
       "      <th>17153</th>\n",
       "      <td>18012020</td>\n",
       "      <td>18</td>\n",
       "      <td>3</td>\n",
       "      <td>1</td>\n",
       "      <td>2020</td>\n",
       "      <td>Winter</td>\n",
       "      <td>Weekend</td>\n",
       "      <td>Saturday</td>\n",
       "      <td>Q1</td>\n",
       "      <td>S1</td>\n",
       "      <td>Not Holiday</td>\n",
       "    </tr>\n",
       "    <tr>\n",
       "      <th>17155</th>\n",
       "      <td>22012020</td>\n",
       "      <td>22</td>\n",
       "      <td>4</td>\n",
       "      <td>1</td>\n",
       "      <td>2020</td>\n",
       "      <td>Winter</td>\n",
       "      <td>Work Day</td>\n",
       "      <td>Wednesday</td>\n",
       "      <td>Q1</td>\n",
       "      <td>S1</td>\n",
       "      <td>Not Holiday</td>\n",
       "    </tr>\n",
       "    <tr>\n",
       "      <th>17157</th>\n",
       "      <td>21012020</td>\n",
       "      <td>21</td>\n",
       "      <td>4</td>\n",
       "      <td>1</td>\n",
       "      <td>2020</td>\n",
       "      <td>Winter</td>\n",
       "      <td>Work Day</td>\n",
       "      <td>Tuesday</td>\n",
       "      <td>Q1</td>\n",
       "      <td>S1</td>\n",
       "      <td>Not Holiday</td>\n",
       "    </tr>\n",
       "    <tr>\n",
       "      <th>17159</th>\n",
       "      <td>22042019</td>\n",
       "      <td>22</td>\n",
       "      <td>4</td>\n",
       "      <td>4</td>\n",
       "      <td>2019</td>\n",
       "      <td>Spring</td>\n",
       "      <td>Work Day</td>\n",
       "      <td>Monday</td>\n",
       "      <td>Q2</td>\n",
       "      <td>S1</td>\n",
       "      <td>Not Holiday</td>\n",
       "    </tr>\n",
       "  </tbody>\n",
       "</table>\n",
       "<p>2192 rows × 11 columns</p>\n",
       "</div>"
      ],
      "text/plain": [
       "        date_id day week month  year  season   weekend    weekday quarter  \\\n",
       "0      14022020  14    3     2  2020  Winter  Work Day     Friday      Q1   \n",
       "1      15022020  15    3     2  2020  Winter   Weekend   Saturday      Q1   \n",
       "2      16022020  16    3     2  2020  Winter   Weekend     Sunday      Q1   \n",
       "3      17022020  17    4     2  2020  Winter  Work Day     Monday      Q1   \n",
       "4      18022020  18    4     2  2020  Winter  Work Day    Tuesday      Q1   \n",
       "...         ...  ..  ...   ...   ...     ...       ...        ...     ...   \n",
       "17150  14032013  14    3     3  2013  Spring  Work Day   Thursday      Q1   \n",
       "17153  18012020  18    3     1  2020  Winter   Weekend   Saturday      Q1   \n",
       "17155  22012020  22    4     1  2020  Winter  Work Day  Wednesday      Q1   \n",
       "17157  21012020  21    4     1  2020  Winter  Work Day    Tuesday      Q1   \n",
       "17159  22042019  22    4     4  2019  Spring  Work Day     Monday      Q2   \n",
       "\n",
       "      semester      holiday  \n",
       "0           S1  Not Holiday  \n",
       "1           S1  Not Holiday  \n",
       "2           S1  Not Holiday  \n",
       "3           S1  Not Holiday  \n",
       "4           S1  Not Holiday  \n",
       "...        ...          ...  \n",
       "17150       S1  Not Holiday  \n",
       "17153       S1  Not Holiday  \n",
       "17155       S1  Not Holiday  \n",
       "17157       S1  Not Holiday  \n",
       "17159       S1  Not Holiday  \n",
       "\n",
       "[2192 rows x 11 columns]"
      ]
     },
     "execution_count": 223,
     "metadata": {},
     "output_type": "execute_result"
    }
   ],
   "source": [
    "df_date_dimension_insert"
   ]
  },
  {
   "cell_type": "code",
   "execution_count": 224,
   "metadata": {},
   "outputs": [],
   "source": [
    "use_local = True\n",
    "server_host = \"appserver-01.alunos.di.fc.ul.pt\" if use_local == False else \"localhost\"\n",
    "port = 5432\n",
    "sslmode = \"allow\" if use_local == False else \"disable\"\n",
    "dbname = \"tpd012\" if use_local == False else \"postgres\"\n",
    "dbusername = \"tpd012\" if use_local == False else \"postgres\"\n",
    "dbpassword = \"Airbnbosses69420\" if use_local == False else \"h9qoipj2\""
   ]
  },
  {
   "cell_type": "code",
   "execution_count": 225,
   "metadata": {},
   "outputs": [],
   "source": [
    "# function to query table and convert it to pandas dataframe\n",
    "def query_table(conn, table_name):\n",
    "    \"\"\"Returns DataFrame with queried database table\"\"\"\n",
    "    sql = \"select * from {};\".format(table_name)\n",
    "    #return dataframe\n",
    "    return sqlio.read_sql_query(sql, conn)\n",
    "\n",
    "# for this function to run, the dataframes must have the same columns, in the same order\n",
    "def get_data_to_insert(df_etl, df_sql,pk):\n",
    "    \"\"\"Returns data valid for insertion in dimension from a new ETL-processed DataFrame\"\"\"\n",
    "    df_insert = df_etl[-df_etl[pk].astype(int).isin(df_sql[pk].astype(int))].dropna(how = 'all')\n",
    "    df_insert = df_insert.drop_duplicates(subset=[pk], keep=False)\n",
    "    return df_insert\n",
    "# function for bulk insert\n",
    "def insert_data(df, table_name, conn):\n",
    "    \"\"\"Inserts selected data into dimension table in database\"\"\"\n",
    "    df_columns = list(df)\n",
    "    columns = \",\".join(df_columns)\n",
    "    values = \"VALUES({})\".format(\",\".join([\"%s\" for _ in df_columns])) \n",
    "    insert_stmt = \"INSERT INTO {} ({}) {}\".format(table_name,columns,values)\n",
    "    success = True\n",
    "    try:\n",
    "        cursor = conn.cursor()\n",
    "        psycopg2.extras.execute_batch(cursor, insert_stmt, df.values)\n",
    "        conn.commit()\n",
    "        success = True\n",
    "    except pg.DatabaseError as error:\n",
    "        success = False\n",
    "        print(error)\n",
    "    finally:\n",
    "        if conn is not None:\n",
    "            conn.close()\n",
    "    return success"
   ]
  },
  {
   "cell_type": "markdown",
   "metadata": {},
   "source": [
    "Get date dimension data from postgres db server"
   ]
  },
  {
   "cell_type": "code",
   "execution_count": 226,
   "metadata": {},
   "outputs": [
    {
     "data": {
      "text/html": [
       "<div>\n",
       "<style scoped>\n",
       "    .dataframe tbody tr th:only-of-type {\n",
       "        vertical-align: middle;\n",
       "    }\n",
       "\n",
       "    .dataframe tbody tr th {\n",
       "        vertical-align: top;\n",
       "    }\n",
       "\n",
       "    .dataframe thead th {\n",
       "        text-align: right;\n",
       "    }\n",
       "</style>\n",
       "<table border=\"1\" class=\"dataframe\">\n",
       "  <thead>\n",
       "    <tr style=\"text-align: right;\">\n",
       "      <th></th>\n",
       "      <th>date_id</th>\n",
       "      <th>day</th>\n",
       "      <th>week</th>\n",
       "      <th>month</th>\n",
       "      <th>year</th>\n",
       "      <th>season</th>\n",
       "      <th>weekend</th>\n",
       "      <th>weekday</th>\n",
       "      <th>quarter</th>\n",
       "      <th>semester</th>\n",
       "      <th>holiday</th>\n",
       "    </tr>\n",
       "  </thead>\n",
       "  <tbody>\n",
       "    <tr>\n",
       "      <th>0</th>\n",
       "      <td>14022020</td>\n",
       "      <td>14</td>\n",
       "      <td>3</td>\n",
       "      <td>2</td>\n",
       "      <td>2020</td>\n",
       "      <td>Winter</td>\n",
       "      <td>Work Day</td>\n",
       "      <td>Friday</td>\n",
       "      <td>Q1</td>\n",
       "      <td>S1</td>\n",
       "      <td>Not Holiday</td>\n",
       "    </tr>\n",
       "    <tr>\n",
       "      <th>1</th>\n",
       "      <td>15022020</td>\n",
       "      <td>15</td>\n",
       "      <td>3</td>\n",
       "      <td>2</td>\n",
       "      <td>2020</td>\n",
       "      <td>Winter</td>\n",
       "      <td>Weekend</td>\n",
       "      <td>Saturday</td>\n",
       "      <td>Q1</td>\n",
       "      <td>S1</td>\n",
       "      <td>Not Holiday</td>\n",
       "    </tr>\n",
       "    <tr>\n",
       "      <th>2</th>\n",
       "      <td>16022020</td>\n",
       "      <td>16</td>\n",
       "      <td>3</td>\n",
       "      <td>2</td>\n",
       "      <td>2020</td>\n",
       "      <td>Winter</td>\n",
       "      <td>Weekend</td>\n",
       "      <td>Sunday</td>\n",
       "      <td>Q1</td>\n",
       "      <td>S1</td>\n",
       "      <td>Not Holiday</td>\n",
       "    </tr>\n",
       "    <tr>\n",
       "      <th>3</th>\n",
       "      <td>17022020</td>\n",
       "      <td>17</td>\n",
       "      <td>4</td>\n",
       "      <td>2</td>\n",
       "      <td>2020</td>\n",
       "      <td>Winter</td>\n",
       "      <td>Work Day</td>\n",
       "      <td>Monday</td>\n",
       "      <td>Q1</td>\n",
       "      <td>S1</td>\n",
       "      <td>Not Holiday</td>\n",
       "    </tr>\n",
       "    <tr>\n",
       "      <th>4</th>\n",
       "      <td>18022020</td>\n",
       "      <td>18</td>\n",
       "      <td>4</td>\n",
       "      <td>2</td>\n",
       "      <td>2020</td>\n",
       "      <td>Winter</td>\n",
       "      <td>Work Day</td>\n",
       "      <td>Tuesday</td>\n",
       "      <td>Q1</td>\n",
       "      <td>S1</td>\n",
       "      <td>Not Holiday</td>\n",
       "    </tr>\n",
       "  </tbody>\n",
       "</table>\n",
       "</div>"
      ],
      "text/plain": [
       "    date_id  day  week  month  year  season   weekend   weekday quarter  \\\n",
       "0  14022020   14     3      2  2020  Winter  Work Day    Friday      Q1   \n",
       "1  15022020   15     3      2  2020  Winter   Weekend  Saturday      Q1   \n",
       "2  16022020   16     3      2  2020  Winter   Weekend    Sunday      Q1   \n",
       "3  17022020   17     4      2  2020  Winter  Work Day    Monday      Q1   \n",
       "4  18022020   18     4      2  2020  Winter  Work Day   Tuesday      Q1   \n",
       "\n",
       "  semester      holiday  \n",
       "0       S1  Not Holiday  \n",
       "1       S1  Not Holiday  \n",
       "2       S1  Not Holiday  \n",
       "3       S1  Not Holiday  \n",
       "4       S1  Not Holiday  "
      ]
     },
     "execution_count": 226,
     "metadata": {},
     "output_type": "execute_result"
    }
   ],
   "source": [
    "conn = pg.connect(host = server_host,database = dbname, user = dbusername,password = dbpassword, sslmode = sslmode)\n",
    "df_date_dimension_sql = query_table(conn, 'date')\n",
    "conn.close()\n",
    "df_date_dimension_sql.head()"
   ]
  },
  {
   "cell_type": "markdown",
   "metadata": {},
   "source": [
    "Guarantee that duplicates will be not be inserted, by getting just the data in dataframe with the ETL output (df_date_dimension_insert) that is not in df_sql."
   ]
  },
  {
   "cell_type": "code",
   "execution_count": 227,
   "metadata": {},
   "outputs": [
    {
     "data": {
      "text/html": [
       "<div>\n",
       "<style scoped>\n",
       "    .dataframe tbody tr th:only-of-type {\n",
       "        vertical-align: middle;\n",
       "    }\n",
       "\n",
       "    .dataframe tbody tr th {\n",
       "        vertical-align: top;\n",
       "    }\n",
       "\n",
       "    .dataframe thead th {\n",
       "        text-align: right;\n",
       "    }\n",
       "</style>\n",
       "<table border=\"1\" class=\"dataframe\">\n",
       "  <thead>\n",
       "    <tr style=\"text-align: right;\">\n",
       "      <th></th>\n",
       "      <th>date_id</th>\n",
       "      <th>day</th>\n",
       "      <th>week</th>\n",
       "      <th>month</th>\n",
       "      <th>year</th>\n",
       "      <th>season</th>\n",
       "      <th>weekend</th>\n",
       "      <th>weekday</th>\n",
       "      <th>quarter</th>\n",
       "      <th>semester</th>\n",
       "      <th>holiday</th>\n",
       "    </tr>\n",
       "  </thead>\n",
       "  <tbody>\n",
       "  </tbody>\n",
       "</table>\n",
       "</div>"
      ],
      "text/plain": [
       "Empty DataFrame\n",
       "Columns: [date_id, day, week, month, year, season, weekend, weekday, quarter, semester, holiday]\n",
       "Index: []"
      ]
     },
     "execution_count": 227,
     "metadata": {},
     "output_type": "execute_result"
    }
   ],
   "source": [
    "df_insert = get_data_to_insert(df_date_dimension_insert,df_date_dimension_sql,'date_id')\n",
    "df_insert"
   ]
  },
  {
   "cell_type": "markdown",
   "metadata": {},
   "source": [
    "Insert data into database"
   ]
  },
  {
   "cell_type": "code",
   "execution_count": 228,
   "metadata": {},
   "outputs": [
    {
     "name": "stdout",
     "output_type": "stream",
     "text": [
      "No data to insert\n"
     ]
    }
   ],
   "source": [
    "if len(df_insert) > 0:\n",
    "    table_name = 'date'\n",
    "    conn = pg.connect(host = server_host,database = dbname, user = dbusername,password = dbpassword, sslmode = sslmode)\n",
    "    success = insert_data(df_insert,table_name, conn)\n",
    "    conn.close()\n",
    "    if success == True: print('Data inserted succefully')\n",
    "else: print('No data to insert')"
   ]
  }
 ],
 "metadata": {
  "kernelspec": {
   "display_name": "Python 3",
   "language": "python",
   "name": "python3"
  },
  "language_info": {
   "codemirror_mode": {
    "name": "ipython",
    "version": 3
   },
   "file_extension": ".py",
   "mimetype": "text/x-python",
   "name": "python",
   "nbconvert_exporter": "python",
   "pygments_lexer": "ipython3",
   "version": "3.7.6"
  }
 },
 "nbformat": 4,
 "nbformat_minor": 4
}
