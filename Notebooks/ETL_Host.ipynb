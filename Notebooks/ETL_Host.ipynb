{
 "cells": [
  {
   "cell_type": "markdown",
   "metadata": {},
   "source": [
    "# ETL for the Host dimension\n",
    "\n",
    "In this dimension we hold information relative to airbnb hosts.\n",
    "\n",
    "![Host schema](../images/host_schema.png)"
   ]
  },
  {
   "cell_type": "markdown",
   "metadata": {},
   "source": [
    "**Hierarchies and data granularity**\n",
    "\n",
    "The only hierarchical relationship in this dimension is `country` < `continent`. There wasn't a way to make it more fine-grained since the host location data we had was quite heterogenous, more often than not cointaining only the host's \n",
    "country.\n",
    "\n",
    "One way of having more fine-grained information would be to have the host fill in a form at the moment of registration with fixed slots for county, district, city, country, etc. That would also greatly facilitate the pre-processing and make it more reproducible."
   ]
  },
  {
   "cell_type": "markdown",
   "metadata": {},
   "source": [
    "![ETL Host](../images/ETL_host.png)"
   ]
  },
  {
   "cell_type": "code",
   "execution_count": 1,
   "metadata": {},
   "outputs": [],
   "source": [
    "# Libraries\n",
    "import psycopg2 as pg\n",
    "import pandas as pd\n",
    "import os\n",
    "import re\n",
    "import pycountry_convert as pc\n",
    "import matplotlib.pyplot as plt\n",
    "import datetime\n",
    "import math\n",
    "import numpy as np\n",
    "import psycopg2.extras\n",
    "import seaborn as sns\n",
    "import pandas.io.sql as sqlio"
   ]
  },
  {
   "cell_type": "markdown",
   "metadata": {},
   "source": [
    "## Read csv files"
   ]
  },
  {
   "cell_type": "code",
   "execution_count": 2,
   "metadata": {
    "scrolled": true
   },
   "outputs": [
    {
     "name": "stderr",
     "output_type": "stream",
     "text": [
      "C:\\Users\\joao_\\Anaconda3\\lib\\site-packages\\IPython\\core\\interactiveshell.py:3063: DtypeWarning: Columns (61,62) have mixed types. Specify dtype option on import or set low_memory=False.\n",
      "  interactivity=interactivity, compiler=compiler, result=result)\n"
     ]
    }
   ],
   "source": [
    "# Main dataset\n",
    "df = pd.read_csv(\"../data/listings_al.csv\")\n",
    "# Dataset for countries gdp.\n",
    "# Source:  https://data.worldbank.org/indicator/ny.gdp.pcap.cd\n",
    "df_gdp = pd.read_csv('../data/GDP per capita (worldbank).csv')"
   ]
  },
  {
   "cell_type": "markdown",
   "metadata": {},
   "source": [
    "## EDA and missing data\n",
    "\n",
    "Singling out the columns of interest for this dimension, we analyse the distribution of missing values."
   ]
  },
  {
   "cell_type": "code",
   "execution_count": 3,
   "metadata": {},
   "outputs": [],
   "source": [
    "def missing_data(df, columns):\n",
    "    \"\"\"Calculates the amount of missing data in given DataFrame's selected columns\"\"\"\n",
    "    df_graph = df[columns]\n",
    "    # missing data\n",
    "    total = df_graph.isnull().sum().sort_values(ascending=False)\n",
    "    percent = (df_graph.isnull().sum()/df_graph.isnull().count()).sort_values(ascending=False)\n",
    "    missing_data = pd.concat([total, percent], axis=1, keys=['Total', 'Percent'])\n",
    "    print(missing_data)\n",
    "    plt.figure(figsize=(10,5))\n",
    "    ax = sns.barplot(x='index',y = 'Percent', data= missing_data.reset_index())\n",
    "    ax.set_xticklabels(ax.get_xticklabels(), rotation=45)\n",
    "    return ax\n",
    "\n",
    "#IN BAR CHARTS, SET THE VALUE ABOVE EACH BAR\n",
    "def set_bar_amount(ax):\n",
    "    for p in ax.patches:\n",
    "        height = p.get_height()\n",
    "        ax.annotate(\"{0:.2f}%\".format(p.get_height()*100), (p.get_x() + p.get_width() / 2., p.get_height()),\n",
    "            ha='center', va='center', rotation=0, xytext=(0, 10),\n",
    "            textcoords='offset points')"
   ]
  },
  {
   "cell_type": "code",
   "execution_count": 4,
   "metadata": {},
   "outputs": [
    {
     "name": "stdout",
     "output_type": "stream",
     "text": [
      "                    Total   Percent\n",
      "host_response_time   1691  0.098497\n",
      "host_location          21  0.001223\n",
      "host_verifications      0  0.000000\n",
      "host_is_superhost       0  0.000000\n",
      "host_since              0  0.000000\n",
      "host_name               0  0.000000\n"
     ]
    },
    {
     "data": {
      "text/plain": [
       "Text(0.5, 1.0, 'Host dimension missing data')"
      ]
     },
     "execution_count": 4,
     "metadata": {},
     "output_type": "execute_result"
    },
    {
     "data": {
      "image/png": "[encoded data removed]",
      "text/plain": [
       "<Figure size 720x360 with 1 Axes>"
      ]
     },
     "metadata": {
      "needs_background": "light"
     },
     "output_type": "display_data"
    }
   ],
   "source": [
    "columns = [\n",
    "'host_name',\n",
    "'host_since',\n",
    "'host_location',\n",
    "'host_response_time',\n",
    "'host_is_superhost',\n",
    "'host_verifications'\n",
    "]\n",
    "ax = missing_data(df,columns)\n",
    "set_bar_amount(ax)\n",
    "ax.set_xlabel('Columns')\n",
    "ax.set_ylabel('Missing data (%)')\n",
    "plt.ylim(0,1)\n",
    "ax.spines['right'].set_visible(False)\n",
    "ax.spines['top'].set_visible(False)\n",
    "ax.set_title('Host dimension missing data')"
   ]
  },
  {
   "cell_type": "markdown",
   "metadata": {},
   "source": [
    "Looking at the missing data we realize that it's reasonable to ignore the records of hosts lacking `location`, since it only corresponds to 0.12% of the whole dataset and the main focus of this analysis is based on the host location. \n",
    "\n",
    "As for `response time`, we have 1691 missing values. Paradoxically, the fact that there isn't any information about whether the host is accessible is actually informative in some sense. Thus, all records lacking host_response_time values will be considered as if the response time is \"Unknown\".\n",
    "\n"
   ]
  },
  {
   "cell_type": "markdown",
   "metadata": {},
   "source": [
    "## Transformation methods"
   ]
  },
  {
   "cell_type": "code",
   "execution_count": 5,
   "metadata": {},
   "outputs": [],
   "source": [
    "# Check for missing values:\n",
    "def is_nan(x):\n",
    "    return (x != x)"
   ]
  },
  {
   "cell_type": "code",
   "execution_count": 6,
   "metadata": {},
   "outputs": [],
   "source": [
    "def get_host_name(name):\n",
    "    #If there is a name, return it\n",
    "    if is_nan(name): return \"Unknown\"\n",
    "    return name"
   ]
  },
  {
   "cell_type": "code",
   "execution_count": 7,
   "metadata": {},
   "outputs": [],
   "source": [
    "def get_host_membership_duration(date):\n",
    "    #date is a string with the date as YYYY-MM-DD\n",
    "\n",
    "    if is_nan(date): return \"Unknown\"\n",
    "    #get current year\n",
    "    now = datetime.datetime.now()\n",
    "    \n",
    "    #calculate membership duration\n",
    "    membership_time = now.year - int(date[0:4])\n",
    "    if membership_time > 10: return \"Member for more than 10 years\"\n",
    "    if membership_time > 5: return \"Member for more than 5 years\"\n",
    "    if membership_time > 2: return \"Member for more than 2 years\"\n",
    "    if membership_time >= 1: return \"Member for more than 1 year\"\n",
    "    if membership_time < 1: return \"Member for less than 1 year\""
   ]
  },
  {
   "cell_type": "markdown",
   "metadata": {},
   "source": [
    "As we discussed previously, all host records who don't have a known location will be ignored - `None` lines will be later removed in preprocessing."
   ]
  },
  {
   "cell_type": "code",
   "execution_count": 8,
   "metadata": {},
   "outputs": [],
   "source": [
    "def get_host_country(location):\n",
    "    #location is a string with the host location -- may not have country\n",
    "    location = str(location)\n",
    "    if re.search('po.*tugal', location, re.IGNORECASE): return \"Portugal\"\n",
    "    if re.search('lisbo', location, re.IGNORECASE): return \"Portugal\"\n",
    "    if re.search('PT', location): return \"Portugal\"\n",
    "    if re.search('spain', location, re.IGNORECASE): return \"Spain\"\n",
    "    if re.search('ES', location): return \"Spain\"\n",
    "    if re.search('madrid', location, re.IGNORECASE): return \"Spain\"\n",
    "    if re.search('united kingdom', location, re.IGNORECASE): return \"United Kingdom\"\n",
    "    if re.search('UK', location): return \"United Kingdom\"\n",
    "    if re.search('GB', location): return \"United Kingdom\"\n",
    "    if re.search('ireland', location, re.IGNORECASE): return \"United Kingdom\"\n",
    "    if re.search('denmark', location, re.IGNORECASE): return \"Denmark\"\n",
    "    if re.search('netherlands', location, re.IGNORECASE): return \"Netherlands\"\n",
    "    if re.search('NL', location): return \"Netherlands\"\n",
    "    if re.search('germany', location, re.IGNORECASE): return \"Germany\"\n",
    "    if re.search('DE', location): return \"Germany\"\n",
    "    if re.search('belgium', location, re.IGNORECASE): return \"Belgium\"\n",
    "    if re.search('united states', location, re.IGNORECASE): return \"United States\"\n",
    "    if re.search('US', location): return \"United States\"\n",
    "    if re.search('canada', location, re.IGNORECASE): return \"Canada\"\n",
    "    if re.search('france', location, re.IGNORECASE): return \"France\"\n",
    "    if re.search('FR', location): return \"France\"\n",
    "    if re.search('italy', location, re.IGNORECASE): return \"Italy\"\n",
    "    if re.search('IT', location): return \"Italy\"\n",
    "    if re.search('switzerland', location, re.IGNORECASE): return \"Switzerland\"\n",
    "    if re.search('sweden', location, re.IGNORECASE): return \"Sweden\"\n",
    "    if re.search('poland', location, re.IGNORECASE): return \"Poland\"\n",
    "    if re.search('finland', location, re.IGNORECASE): return \"Finland\"\n",
    "    if re.search('serbia', location, re.IGNORECASE): return \"Serbia\"\n",
    "    if re.search('austria', location, re.IGNORECASE): return \"Austria\"\n",
    "    if re.search('iceland', location, re.IGNORECASE): return \"Iceland\"\n",
    "    if re.search('norway', location, re.IGNORECASE): return \"Norway\"\n",
    "    if re.search('china', location, re.IGNORECASE): return \"China\"\n",
    "    if re.search('angola', location, re.IGNORECASE): return \"Angola\"\n",
    "    if re.search('australia', location, re.IGNORECASE): return \"Australia\"\n",
    "    if re.search('brazil', location, re.IGNORECASE): return \"Brazil\"\n",
    "    if re.search('BR', location): return \"Brazil\"\n",
    "    if re.search('peru', location, re.IGNORECASE): return \"Peru\"\n",
    "    if re.search('sri lanka', location, re.IGNORECASE): return \"Sri Lanka\"\n",
    "    if re.search('vietnam', location, re.IGNORECASE): return \"Vietnam\"\n",
    "    if re.search('united arab emirates', location, re.IGNORECASE): return \"United Arab Emirates\"\n",
    "    if re.search('south africa', location, re.IGNORECASE): return \"South Africa\"\n",
    "    if re.search('qatar', location, re.IGNORECASE): return \"Qatar\"\n",
    "    if re.search('japan', location, re.IGNORECASE): return \"Japan\"\n",
    "    if re.search('turkey', location, re.IGNORECASE): return \"Turkey\"\n",
    "    else: return None"
   ]
  },
  {
   "cell_type": "markdown",
   "metadata": {},
   "source": [
    "One thing to keep in mind is that this method for identification of the host's country is not the most adequate, since it is not very generalizable to new data. In order for this method to work safely for all new data, an extended 'database' of countries would be needed. Here we made an effort to cover the most common countries in the dataset, but did not extend it much in order to preserve performance.\n",
    "\n",
    "One alternative that we pursued was using the `pycountry` library, but since it was very inefficient (for each record it would go through all countries in the library!) we decided that for the purpose of this work the method above would be satisfatory."
   ]
  },
  {
   "cell_type": "code",
   "execution_count": 9,
   "metadata": {},
   "outputs": [],
   "source": [
    "def get_host_continent(country):\n",
    "    if country == None: return None\n",
    "    \n",
    "    continents_dic = {\n",
    "    'EU': 'Europe',\n",
    "    'NA': 'North America',\n",
    "    'SA': 'South America', \n",
    "    'AS': 'Asia',\n",
    "    'OC': 'Australia',\n",
    "    'AF': 'Africa',\n",
    "    }\n",
    "    \n",
    "    # Acquire the country code\n",
    "    country_code = pc.country_name_to_country_alpha2(country, cn_name_format=\"default\")\n",
    "    # Convert country code to continent code; use dictionary to return continent name\n",
    "    continent_name = pc.country_alpha2_to_continent_code(country_code)\n",
    "    \n",
    "    return continents_dic[continent_name]"
   ]
  },
  {
   "cell_type": "code",
   "execution_count": 10,
   "metadata": {},
   "outputs": [],
   "source": [
    "def get_host_country_gdp(country):\n",
    "    if country == None: return None\n",
    "    \n",
    "    # Always get latest (most updated) gdp available in the gdp dataset - last column\n",
    "    # The level of detail required here is not very high, since we will use bins\n",
    "    # to characterize the countries' wealth\n",
    "    dict_gdp = pd.Series(df_gdp.iloc[:,-1].values, index=df_gdp['Country Name']).to_dict()\n",
    "    \n",
    "    if country not in dict_gdp.keys(): return \"Unknown\"\n",
    "    \n",
    "    gdp = dict_gdp[country]\n",
    "    if gdp <= 20000  : return \"Below 20k\"\n",
    "    if gdp <= 35000  : return \"20k - 35k\"\n",
    "    if gdp <= 50000  : return \"35k - 50k\"\n",
    "    if gdp > 50000 : return \"Above 50k\"\n",
    "    else: return None"
   ]
  },
  {
   "cell_type": "code",
   "execution_count": 11,
   "metadata": {},
   "outputs": [],
   "source": [
    "def get_host_response_time(response_time):\n",
    "    #if there is a response_time, return it\n",
    "    if is_nan(response_time): return \"Unknown\"\n",
    "    return response_time"
   ]
  },
  {
   "cell_type": "code",
   "execution_count": 12,
   "metadata": {},
   "outputs": [],
   "source": [
    "def get_host_is_superhost(is_superhost):\n",
    "    if is_superhost == 't': return \"Superhost\"\n",
    "    if is_superhost == 'f': return \"Not Superhost\"\n",
    "    else: return None"
   ]
  },
  {
   "cell_type": "code",
   "execution_count": 13,
   "metadata": {},
   "outputs": [],
   "source": [
    "def get_host_identity_verified(identity):\n",
    "    if identity == 't': return \"Verified\"\n",
    "    if identity == 'f': return \"Unverified\"\n",
    "    else: return None"
   ]
  },
  {
   "cell_type": "markdown",
   "metadata": {},
   "source": [
    "### Create clean dataframe\n",
    "\n",
    "We will now use the methods described above to create each column of the dimension, extracting the data from the original dataset `df`."
   ]
  },
  {
   "cell_type": "code",
   "execution_count": 14,
   "metadata": {},
   "outputs": [
    {
     "ename": "ValueError",
     "evalue": "invalid literal for int() with base 10: '4/12'",
     "output_type": "error",
     "traceback": [
      "\u001b[1;31m---------------------------------------------------------------------------\u001b[0m",
      "\u001b[1;31mValueError\u001b[0m                                Traceback (most recent call last)",
      "\u001b[1;32m<ipython-input-14-fb17d992fb2a>\u001b[0m in \u001b[0;36m<module>\u001b[1;34m\u001b[0m\n\u001b[0;32m      2\u001b[0m \u001b[0mhost_id\u001b[0m \u001b[1;33m=\u001b[0m \u001b[1;33m[\u001b[0m\u001b[0mh\u001b[0m \u001b[1;32mfor\u001b[0m \u001b[0mh\u001b[0m \u001b[1;32min\u001b[0m \u001b[0mdf\u001b[0m\u001b[1;33m[\u001b[0m\u001b[1;34m'host_id'\u001b[0m\u001b[1;33m]\u001b[0m\u001b[1;33m]\u001b[0m\u001b[1;33m\u001b[0m\u001b[1;33m\u001b[0m\u001b[0m\n\u001b[0;32m      3\u001b[0m \u001b[0mnames\u001b[0m \u001b[1;33m=\u001b[0m \u001b[1;33m[\u001b[0m\u001b[0mn\u001b[0m \u001b[1;32mfor\u001b[0m \u001b[0mn\u001b[0m \u001b[1;32min\u001b[0m \u001b[0mdf\u001b[0m\u001b[1;33m[\u001b[0m\u001b[1;34m'host_name'\u001b[0m\u001b[1;33m]\u001b[0m\u001b[1;33m]\u001b[0m\u001b[1;33m\u001b[0m\u001b[1;33m\u001b[0m\u001b[0m\n\u001b[1;32m----> 4\u001b[1;33m \u001b[0mmembership_duration\u001b[0m \u001b[1;33m=\u001b[0m \u001b[1;33m[\u001b[0m\u001b[0mget_host_membership_duration\u001b[0m\u001b[1;33m(\u001b[0m\u001b[0md\u001b[0m\u001b[1;33m)\u001b[0m \u001b[1;32mfor\u001b[0m \u001b[0md\u001b[0m \u001b[1;32min\u001b[0m \u001b[0mdf\u001b[0m\u001b[1;33m[\u001b[0m\u001b[1;34m'host_since'\u001b[0m\u001b[1;33m]\u001b[0m\u001b[1;33m]\u001b[0m\u001b[1;33m\u001b[0m\u001b[1;33m\u001b[0m\u001b[0m\n\u001b[0m\u001b[0;32m      5\u001b[0m \u001b[0mcountry\u001b[0m \u001b[1;33m=\u001b[0m \u001b[1;33m[\u001b[0m\u001b[0mget_host_country\u001b[0m\u001b[1;33m(\u001b[0m\u001b[0ml\u001b[0m\u001b[1;33m)\u001b[0m \u001b[1;32mfor\u001b[0m \u001b[0ml\u001b[0m \u001b[1;32min\u001b[0m \u001b[0mdf\u001b[0m\u001b[1;33m[\u001b[0m\u001b[1;34m'host_location'\u001b[0m\u001b[1;33m]\u001b[0m\u001b[1;33m]\u001b[0m\u001b[1;33m\u001b[0m\u001b[1;33m\u001b[0m\u001b[0m\n\u001b[0;32m      6\u001b[0m \u001b[0mcontinent\u001b[0m \u001b[1;33m=\u001b[0m \u001b[1;33m[\u001b[0m\u001b[0mget_host_continent\u001b[0m\u001b[1;33m(\u001b[0m\u001b[0mc\u001b[0m\u001b[1;33m)\u001b[0m \u001b[1;32mfor\u001b[0m \u001b[0mc\u001b[0m \u001b[1;32min\u001b[0m \u001b[0mcountry\u001b[0m\u001b[1;33m]\u001b[0m\u001b[1;33m\u001b[0m\u001b[1;33m\u001b[0m\u001b[0m\n",
      "\u001b[1;32m<ipython-input-14-fb17d992fb2a>\u001b[0m in \u001b[0;36m<listcomp>\u001b[1;34m(.0)\u001b[0m\n\u001b[0;32m      2\u001b[0m \u001b[0mhost_id\u001b[0m \u001b[1;33m=\u001b[0m \u001b[1;33m[\u001b[0m\u001b[0mh\u001b[0m \u001b[1;32mfor\u001b[0m \u001b[0mh\u001b[0m \u001b[1;32min\u001b[0m \u001b[0mdf\u001b[0m\u001b[1;33m[\u001b[0m\u001b[1;34m'host_id'\u001b[0m\u001b[1;33m]\u001b[0m\u001b[1;33m]\u001b[0m\u001b[1;33m\u001b[0m\u001b[1;33m\u001b[0m\u001b[0m\n\u001b[0;32m      3\u001b[0m \u001b[0mnames\u001b[0m \u001b[1;33m=\u001b[0m \u001b[1;33m[\u001b[0m\u001b[0mn\u001b[0m \u001b[1;32mfor\u001b[0m \u001b[0mn\u001b[0m \u001b[1;32min\u001b[0m \u001b[0mdf\u001b[0m\u001b[1;33m[\u001b[0m\u001b[1;34m'host_name'\u001b[0m\u001b[1;33m]\u001b[0m\u001b[1;33m]\u001b[0m\u001b[1;33m\u001b[0m\u001b[1;33m\u001b[0m\u001b[0m\n\u001b[1;32m----> 4\u001b[1;33m \u001b[0mmembership_duration\u001b[0m \u001b[1;33m=\u001b[0m \u001b[1;33m[\u001b[0m\u001b[0mget_host_membership_duration\u001b[0m\u001b[1;33m(\u001b[0m\u001b[0md\u001b[0m\u001b[1;33m)\u001b[0m \u001b[1;32mfor\u001b[0m \u001b[0md\u001b[0m \u001b[1;32min\u001b[0m \u001b[0mdf\u001b[0m\u001b[1;33m[\u001b[0m\u001b[1;34m'host_since'\u001b[0m\u001b[1;33m]\u001b[0m\u001b[1;33m]\u001b[0m\u001b[1;33m\u001b[0m\u001b[1;33m\u001b[0m\u001b[0m\n\u001b[0m\u001b[0;32m      5\u001b[0m \u001b[0mcountry\u001b[0m \u001b[1;33m=\u001b[0m \u001b[1;33m[\u001b[0m\u001b[0mget_host_country\u001b[0m\u001b[1;33m(\u001b[0m\u001b[0ml\u001b[0m\u001b[1;33m)\u001b[0m \u001b[1;32mfor\u001b[0m \u001b[0ml\u001b[0m \u001b[1;32min\u001b[0m \u001b[0mdf\u001b[0m\u001b[1;33m[\u001b[0m\u001b[1;34m'host_location'\u001b[0m\u001b[1;33m]\u001b[0m\u001b[1;33m]\u001b[0m\u001b[1;33m\u001b[0m\u001b[1;33m\u001b[0m\u001b[0m\n\u001b[0;32m      6\u001b[0m \u001b[0mcontinent\u001b[0m \u001b[1;33m=\u001b[0m \u001b[1;33m[\u001b[0m\u001b[0mget_host_continent\u001b[0m\u001b[1;33m(\u001b[0m\u001b[0mc\u001b[0m\u001b[1;33m)\u001b[0m \u001b[1;32mfor\u001b[0m \u001b[0mc\u001b[0m \u001b[1;32min\u001b[0m \u001b[0mcountry\u001b[0m\u001b[1;33m]\u001b[0m\u001b[1;33m\u001b[0m\u001b[1;33m\u001b[0m\u001b[0m\n",
      "\u001b[1;32m<ipython-input-7-13d648c40d78>\u001b[0m in \u001b[0;36mget_host_membership_duration\u001b[1;34m(date)\u001b[0m\n\u001b[0;32m      7\u001b[0m \u001b[1;33m\u001b[0m\u001b[0m\n\u001b[0;32m      8\u001b[0m     \u001b[1;31m#calculate membership duration\u001b[0m\u001b[1;33m\u001b[0m\u001b[1;33m\u001b[0m\u001b[1;33m\u001b[0m\u001b[0m\n\u001b[1;32m----> 9\u001b[1;33m     \u001b[0mmembership_time\u001b[0m \u001b[1;33m=\u001b[0m \u001b[0mnow\u001b[0m\u001b[1;33m.\u001b[0m\u001b[0myear\u001b[0m \u001b[1;33m-\u001b[0m \u001b[0mint\u001b[0m\u001b[1;33m(\u001b[0m\u001b[0mdate\u001b[0m\u001b[1;33m[\u001b[0m\u001b[1;36m0\u001b[0m\u001b[1;33m:\u001b[0m\u001b[1;36m4\u001b[0m\u001b[1;33m]\u001b[0m\u001b[1;33m)\u001b[0m\u001b[1;33m\u001b[0m\u001b[1;33m\u001b[0m\u001b[0m\n\u001b[0m\u001b[0;32m     10\u001b[0m     \u001b[1;32mif\u001b[0m \u001b[0mmembership_time\u001b[0m \u001b[1;33m>\u001b[0m \u001b[1;36m10\u001b[0m\u001b[1;33m:\u001b[0m \u001b[1;32mreturn\u001b[0m \u001b[1;34m\"Member for more than 10 years\"\u001b[0m\u001b[1;33m\u001b[0m\u001b[1;33m\u001b[0m\u001b[0m\n\u001b[0;32m     11\u001b[0m     \u001b[1;32mif\u001b[0m \u001b[0mmembership_time\u001b[0m \u001b[1;33m>\u001b[0m \u001b[1;36m5\u001b[0m\u001b[1;33m:\u001b[0m \u001b[1;32mreturn\u001b[0m \u001b[1;34m\"Member for more than 5 years\"\u001b[0m\u001b[1;33m\u001b[0m\u001b[1;33m\u001b[0m\u001b[0m\n",
      "\u001b[1;31mValueError\u001b[0m: invalid literal for int() with base 10: '4/12'"
     ]
    }
   ],
   "source": [
    "listing_id = [i for i in df['id']]\n",
    "host_id = [h for h in df['host_id']]\n",
    "names = [n for n in df['host_name']]\n",
    "membership_duration = [get_host_membership_duration(d) for d in df['host_since']]\n",
    "country = [get_host_country(l) for l in df['host_location']]\n",
    "continent = [get_host_continent(c) for c in country]\n",
    "gdp = [get_host_country_gdp(c) for c in country]\n",
    "response_time = [get_host_response_time(t) for t in df['host_response_time']]\n",
    "superhost = [get_host_is_superhost(b) for b in df['host_is_superhost']]\n",
    "identity_verified = [get_host_identity_verified(i) for i in df['host_identity_verified']]"
   ]
  },
  {
   "cell_type": "code",
   "execution_count": null,
   "metadata": {},
   "outputs": [],
   "source": [
    "columns = ['listing_id','host_id','host_name', 'membership_duration','host_country', 'host_continent', \n",
    "           'host_country_gdp', 'host_response_time', 'host_is_superhost', 'host_is_verified']\n",
    "\n",
    "# Create dataframe\n",
    "df_host_dimension = pd.DataFrame(np.stack((listing_id, host_id, names, membership_duration, country, \n",
    "                                           continent, gdp, response_time, superhost, \n",
    "                                           identity_verified),axis=-1), columns = columns)\n",
    "# Dataframe shape (rows, columns)\n",
    "df_host_dimension.shape"
   ]
  },
  {
   "cell_type": "markdown",
   "metadata": {},
   "source": [
    "**Remove records with null values:**"
   ]
  },
  {
   "cell_type": "code",
   "execution_count": null,
   "metadata": {},
   "outputs": [],
   "source": [
    "def delete_null_rows(df,columns):\n",
    "    \"\"\"Removes all records with any empty cells from input DataFrame\"\"\"\n",
    "    processed_df = df[columns].copy()\n",
    "    total_rows = processed_df.shape[0]\n",
    "    delete_rows = []\n",
    "    \n",
    "    if processed_df.isnull().values.any(): # if there are any null values in DataFrame, process DataFrame\n",
    "        for index, row in enumerate(processed_df.itertuples(), start = 0):\n",
    "            if (pd.Series(row).isnull().values.any()): # if row has any null value\n",
    "                delete_rows.append(index) # add row index to delete list\n",
    "    \n",
    "    processed_df.drop(df.index[delete_rows], inplace = True) # delete rows fr\n",
    "    processed_df = processed_df.reset_index().drop('index', axis = 1)\n",
    "    print('DataFrame contains {} rows. Deleted {} rows ({}% of total rows)'.format(processed_df.shape[0], len(delete_rows), round(len(delete_rows)*100/total_rows, 2)))\n",
    "    return processed_df"
   ]
  },
  {
   "cell_type": "code",
   "execution_count": null,
   "metadata": {},
   "outputs": [],
   "source": [
    "df_host_dimension = delete_null_rows(df_host_dimension, columns)"
   ]
  },
  {
   "cell_type": "markdown",
   "metadata": {},
   "source": [
    "**Remove duplicates:**"
   ]
  },
  {
   "cell_type": "code",
   "execution_count": null,
   "metadata": {},
   "outputs": [],
   "source": [
    "columns = ['host_id','host_name', 'membership_duration','host_country', 'host_continent', \n",
    "           'host_country_gdp', 'host_response_time', 'host_is_superhost', 'host_is_verified']\n",
    "\n",
    "host_dimension_processed = df_host_dimension[columns]\n",
    "host_dimension_processed = host_dimension_processed.drop_duplicates()\n",
    "host_dimension_processed = host_dimension_processed.reset_index().drop('index', axis = 1)\n",
    "host_dimension_processed.index += 1\n",
    "\n",
    "host_dimension_processed.head()"
   ]
  },
  {
   "cell_type": "markdown",
   "metadata": {},
   "source": [
    "## Attributing dimension keys to facts\n",
    "\n",
    "We have a one-to-many relationship between `host ids` and `listing ids`. We create this table to keep track of the relationship between every fact in the fact table (PK - listing_id) and its respective host (FK - host_id)."
   ]
  },
  {
   "cell_type": "code",
   "execution_count": null,
   "metadata": {},
   "outputs": [],
   "source": [
    "df_mapping = pd.DataFrame(columns=['listing_id', 'host_id'])\n",
    "df_mapping['listing_id'] = df_host_dimension['listing_id']\n",
    "df_mapping['host_id'] = df_host_dimension['host_id']\n",
    "\n",
    "df_mapping.head()"
   ]
  },
  {
   "cell_type": "code",
   "execution_count": null,
   "metadata": {},
   "outputs": [],
   "source": [
    "df_mapping.to_csv('../processed_dt/df_listings_host.csv')"
   ]
  },
  {
   "cell_type": "markdown",
   "metadata": {},
   "source": [
    "### Load Host dimension"
   ]
  },
  {
   "cell_type": "markdown",
   "metadata": {},
   "source": [
    "**Test connection**"
   ]
  },
  {
   "cell_type": "markdown",
   "metadata": {},
   "source": [
    "Load database connection settings"
   ]
  },
  {
   "cell_type": "code",
   "execution_count": null,
   "metadata": {},
   "outputs": [],
   "source": [
    "from db_connection import dbconnection "
   ]
  },
  {
   "cell_type": "markdown",
   "metadata": {},
   "source": [
    "Test connection"
   ]
  },
  {
   "cell_type": "code",
   "execution_count": null,
   "metadata": {},
   "outputs": [],
   "source": [
    "conn = psycopg2.connect(host = dbconnection.server_host,database = dbconnection.dbname, user = dbconnection.dbusername,password = dbconnection.dbpassword,sslmode=dbconnection.sslmode,gssencmode=dbconnection.gssencmode)\n",
    "conn.close()"
   ]
  },
  {
   "cell_type": "markdown",
   "metadata": {},
   "source": [
    "**Create or delete dimension**"
   ]
  },
  {
   "cell_type": "code",
   "execution_count": null,
   "metadata": {},
   "outputs": [],
   "source": [
    "delete_table = \"\"\"\n",
    "DROP TABLE IF EXISTS Host CASCADE;\n",
    "\"\"\"\n",
    "\n",
    "create_table = \"\"\"\n",
    "CREATE TABLE Host (\n",
    "    HOST_ID INT PRIMARY KEY NOT NULL,\n",
    "    HOST_NAME VARCHAR(40) NOT NULL,\n",
    "    MEMBERSHIP_DURATION VARCHAR(40) CHECK (MEMBERSHIP_DURATION in ('Member for more than 10 years','Member for more than 5 years','Member for more than 2 years','Member for more than 1 year','Member for less than 1 year', 'Unknown')) NOT NULL,\n",
    "    HOST_COUNTRY VARCHAR(20) NOT NULL,\n",
    "    HOST_CONTINENT VARCHAR(20) CHECK (HOST_CONTINENT in ('Europe','North America','South America','Asia','Australia','Africa')) NOT NULL,\n",
    "    HOST_COUNTRY_GDP VARCHAR(20) CHECK (HOST_COUNTRY_GDP in ('Below 20k','20k - 35k','35k - 50k','Above 50k')) NOT NULL,\n",
    "    HOST_RESPONSE_TIME VARCHAR(20) CHECK (HOST_RESPONSE_TIME in ('within an hour','within a few hours','within a day','a few days or more','Unknown')) NOT NULL,\n",
    "    HOST_IS_SUPERHOST VARCHAR(20) CHECK (HOST_IS_SUPERHOST in ('Superhost','Not Superhost')) NOT NULL,\n",
    "    HOST_IS_VERIFIED VARCHAR(20) CHECK (HOST_IS_VERIFIED in ('Verified','Unverified')) NOT NULL\n",
    "    )\n",
    "\"\"\""
   ]
  },
  {
   "cell_type": "code",
   "execution_count": null,
   "metadata": {},
   "outputs": [],
   "source": [
    "def excuteSingleSQLstatement(sql, host, database, user, password,gssencmode):\n",
    "    conn = pg.connect(host=host,database=database, user=user, password=password,sslmode = sslmode,gssencmode=gssencmode)\n",
    "    cur = conn.cursor()\n",
    "    cur.execute(sql)\n",
    "    cur.close()\n",
    "    conn.commit()\n",
    "    conn.close()    "
   ]
  },
  {
   "cell_type": "code",
   "execution_count": null,
   "metadata": {},
   "outputs": [],
   "source": [
    "#excuteSingleSQLstatement(delete_table, dbconnection.server_host, dbconnection.dbname, dbconnection.dbusername, dbconnection.dbpassword,gssencmode = dbconnection.gssencmode)\n",
    "#excuteSingleSQLstatement(create_table, dbconnection.server_host, dbconnection.dbname, dbconnection.dbusername, dbconnection.dbpassword,gssencmode = dbconnection.gssencmode)"
   ]
  },
  {
   "cell_type": "markdown",
   "metadata": {},
   "source": [
    "**Inserting the data**\n",
    "\n",
    "We will be inserting the data from the dataframe `host_dimension_processed`, but first checking whether that information is already in the database."
   ]
  },
  {
   "cell_type": "code",
   "execution_count": null,
   "metadata": {},
   "outputs": [],
   "source": [
    "# Useful methods\n",
    "\n",
    "def query_table(conn, table_name):\n",
    "    \"\"\"Returns DataFrame with queried database table\"\"\"\n",
    "    sql = \"select * from {}\".format(table_name)\n",
    "    #return dataframe\n",
    "    return sqlio.read_sql_query(sql, conn)\n",
    "\n",
    "def get_data_to_insert(df1, df2, columns):\n",
    "    #Check if data of df1's given columns is in df2\n",
    "    #Only works if df1 and df2 have the same columns\n",
    "    return df1[~df1[columns].apply(tuple,1).isin(df2[columns].apply(tuple,1))]\n",
    "\n",
    "def insert_data(df, table_name, conn):\n",
    "    # Method for bulk insert\n",
    "    \n",
    "    df_columns = list(df)\n",
    "    columns = \",\".join(df_columns)\n",
    "    values = \"VALUES({})\".format(\",\".join([\"%s\" for _ in df_columns])) \n",
    "    insert_stmt = \"INSERT INTO {} ({}) {}\".format(table_name,columns,values)\n",
    "    success = True\n",
    "    try:\n",
    "        cursor = conn.cursor()\n",
    "        pg.extras.execute_batch(cursor, insert_stmt, df.values)\n",
    "        conn.commit()\n",
    "        success = True\n",
    "    except pg.DatabaseError as error:\n",
    "        success = False\n",
    "        print(error)\n",
    "    finally:\n",
    "        if conn is not None:\n",
    "            conn.close()\n",
    "    return success"
   ]
  },
  {
   "cell_type": "markdown",
   "metadata": {},
   "source": [
    "1. Query Database"
   ]
  },
  {
   "cell_type": "code",
   "execution_count": null,
   "metadata": {},
   "outputs": [],
   "source": [
    "conn = psycopg2.connect(host = dbconnection.server_host,database = dbconnection.dbname, user = dbconnection.dbusername,password = dbconnection.dbpassword,sslmode=dbconnection.sslmode,gssencmode=dbconnection.gssencmode)\n",
    "df_sql = query_table(conn, 'Host')\n",
    "conn.close()\n",
    "df_sql.drop(['host_id'], axis=1, inplace=True)\n",
    "df_sql.head()"
   ]
  },
  {
   "cell_type": "markdown",
   "metadata": {},
   "source": [
    "2. Cross-Validate if data exists on DB"
   ]
  },
  {
   "cell_type": "code",
   "execution_count": null,
   "metadata": {},
   "outputs": [],
   "source": [
    "columns = ['host_name', 'membership_duration','host_country', 'host_continent', \n",
    "           'host_country_gdp', 'host_response_time', 'host_is_superhost', 'host_is_verified']\n",
    "\n",
    "df_etl = get_data_to_insert(host_dimension_processed, df_sql, columns=columns)\n",
    "df_etl.head()"
   ]
  },
  {
   "cell_type": "markdown",
   "metadata": {},
   "source": [
    "3. Insert new data"
   ]
  },
  {
   "cell_type": "code",
   "execution_count": null,
   "metadata": {},
   "outputs": [],
   "source": [
    "if len(df_etl) > 0:\n",
    "    table_name = 'Host'\n",
    "    conn = psycopg2.connect(host = dbconnection.server_host,database = dbconnection.dbname, user = dbconnection.dbusername,password = dbconnection.dbpassword,sslmode=dbconnection.sslmode,gssencmode=dbconnection.gssencmode)\n",
    "    success = insert_data(df_etl,table_name, conn)\n",
    "    conn.close()\n",
    "    if success == True: print('Data inserted succefully')\n",
    "else: print('No data to insert')"
   ]
  },
  {
   "cell_type": "code",
   "execution_count": null,
   "metadata": {},
   "outputs": [],
   "source": []
  }
 ],
 "metadata": {
  "kernelspec": {
   "display_name": "Python 3",
   "language": "python",
   "name": "python3"
  },
  "language_info": {
   "codemirror_mode": {
    "name": "ipython",
    "version": 3
   },
   "file_extension": ".py",
   "mimetype": "text/x-python",
   "name": "python",
   "nbconvert_exporter": "python",
   "pygments_lexer": "ipython3",
   "version": "3.7.4"
  },
  "varInspector": {
   "cols": {
    "lenName": 16,
    "lenType": 16,
    "lenVar": 40
   },
   "kernels_config": {
    "python": {
     "delete_cmd_postfix": "",
     "delete_cmd_prefix": "del ",
     "library": "var_list.py",
     "varRefreshCmd": "print(var_dic_list())"
    },
    "r": {
     "delete_cmd_postfix": ") ",
     "delete_cmd_prefix": "rm(",
     "library": "var_list.r",
     "varRefreshCmd": "cat(var_dic_list()) "
    }
   },
   "types_to_exclude": [
    "module",
    "function",
    "builtin_function_or_method",
    "instance",
    "_Feature"
   ],
   "window_display": false
  }
 },
 "nbformat": 4,
 "nbformat_minor": 4
}
