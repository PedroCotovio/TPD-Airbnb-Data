{
 "cells": [
  {
   "cell_type": "markdown",
   "metadata": {},
   "source": [
    "# Host dimension\n",
    "\n",
    "In this dimension we hold information relative to airbnb hosts.\n",
    "\n",
    "![Host schema](../images/host_schema.jpg)\n",
    "\n",
    "\n",
    "Comparing the schema proposed in phase I to the one we currently have, the main difference is that we changed the data type of the `host_since` column. The initial idea was that it would be the date of the host's registration in the airbnb platform, but since dimension tables' data is typically categorical, we changed this field to `membership_duration`."
   ]
  },
  {
   "cell_type": "markdown",
   "metadata": {},
   "source": [
    "### Hierarchies and data granularity\n",
    "\n",
    "The only hierarchical relationship in this dimension is `country` < `continent`. There wasn't a way to make it more fine-grained since the host location data we had was quite heterogenous, more often than not cointaining only the host's country."
   ]
  },
  {
   "cell_type": "markdown",
   "metadata": {},
   "source": [
    "### Extraction, Transformation, Loading"
   ]
  },
  {
   "cell_type": "markdown",
   "metadata": {},
   "source": [
    "![ETL Host](../images/ETL_host.jpg)"
   ]
  },
  {
   "cell_type": "code",
   "execution_count": 15,
   "metadata": {},
   "outputs": [],
   "source": [
    "# Libraries\n",
    "import psycopg2 as pg\n",
    "import pandas as pd\n",
    "import os\n",
    "import re\n",
    "import pycountry_convert as pc\n",
    "import matplotlib.pyplot as plt\n",
    "import datetime\n",
    "import math\n",
    "import numpy as np\n",
    "import psycopg2.extras\n",
    "import seaborn as sns\n",
    "import pandas.io.sql as sqlio"
   ]
  },
  {
   "cell_type": "markdown",
   "metadata": {},
   "source": [
    "## Read csv files"
   ]
  },
  {
   "cell_type": "code",
   "execution_count": 74,
   "metadata": {
    "scrolled": true
   },
   "outputs": [],
   "source": [
    "# Main dataset\n",
    "df = pd.read_csv(\"../data/listings_al.csv\")\n",
    "# Dataset for countries gdp.\n",
    "# Source:  https://data.worldbank.org/indicator/ny.gdp.pcap.cd\n",
    "df_gdp = pd.read_csv('../data/GDP per capita (worldbank).csv')"
   ]
  },
  {
   "cell_type": "markdown",
   "metadata": {},
   "source": [
    "## EDA and missing data\n",
    "\n",
    "Singling out the columns of interest for this dimension, we analyse the distribution of missing values."
   ]
  },
  {
   "cell_type": "code",
   "execution_count": 75,
   "metadata": {},
   "outputs": [],
   "source": [
    "def missing_data(df, columns):\n",
    "    \"\"\"Calculates the amount of missing data in given DataFrame's selected columns\"\"\"\n",
    "    df_graph = df[columns]\n",
    "    # missing data\n",
    "    total = df_graph.isnull().sum().sort_values(ascending=False)\n",
    "    percent = (df_graph.isnull().sum()/df_graph.isnull().count()).sort_values(ascending=False)\n",
    "    missing_data = pd.concat([total, percent], axis=1, keys=['Total', 'Percent'])\n",
    "    print(missing_data)\n",
    "    plt.figure(figsize=(10,5))\n",
    "    ax = sns.barplot(x='index',y = 'Percent', data= missing_data.reset_index())\n",
    "    ax.set_xticklabels(ax.get_xticklabels(), rotation=45)\n",
    "    return ax\n",
    "\n",
    "#IN BAR CHARTS, SET THE VALUE ABOVE EACH BAR\n",
    "def set_bar_amount(ax):\n",
    "    for p in ax.patches:\n",
    "        height = p.get_height()\n",
    "        ax.annotate(\"{0:.2f}%\".format(p.get_height()*100), (p.get_x() + p.get_width() / 2., p.get_height()),\n",
    "            ha='center', va='center', rotation=0, xytext=(0, 10),\n",
    "            textcoords='offset points')"
   ]
  },
  {
   "cell_type": "code",
   "execution_count": 76,
   "metadata": {},
   "outputs": [
    {
     "name": "stdout",
     "output_type": "stream",
     "text": [
      "                    Total   Percent\n",
      "host_response_time   1691  0.098497\n",
      "host_location          21  0.001223\n",
      "host_verifications      0  0.000000\n",
      "host_is_superhost       0  0.000000\n",
      "host_since              0  0.000000\n",
      "host_name               0  0.000000\n"
     ]
    },
    {
     "data": {
      "text/plain": [
       "Text(0.5, 1.0, 'Host dimension missing data')"
      ]
     },
     "execution_count": 76,
     "metadata": {},
     "output_type": "execute_result"
    },
    {
     "data": {
      "image/png": "[encoded data removed]",
      "text/plain": [
       "<Figure size 720x360 with 1 Axes>"
      ]
     },
     "metadata": {
      "needs_background": "light"
     },
     "output_type": "display_data"
    }
   ],
   "source": [
    "columns = [\n",
    "'host_name',\n",
    "'host_since',\n",
    "'host_location',\n",
    "'host_response_time',\n",
    "'host_is_superhost',\n",
    "'host_verifications'\n",
    "]\n",
    "ax = missing_data(df,columns)\n",
    "set_bar_amount(ax)\n",
    "ax.set_xlabel('Columns')\n",
    "ax.set_ylabel('Missing data (%)')\n",
    "plt.ylim(0,1)\n",
    "ax.spines['right'].set_visible(False)\n",
    "ax.spines['top'].set_visible(False)\n",
    "ax.set_title('Host dimension missing data')"
   ]
  },
  {
   "cell_type": "markdown",
   "metadata": {},
   "source": [
    "Looking at the missing data we realize that it's reasonable to ignore the records of hosts lacking `location`, since it only corresponds to 0.12% of the whole dataset and the main focus of this analysis is based on the host's location. \n",
    "\n",
    "As for `response time`, we have 1691 missing values. Paradoxically, the fact that there isn't any information about whether the host is accessible is actually informative in some sense. Thus, all records lacking host_response_time values will be considered as if the response time is \"Unknown\".\n",
    "\n"
   ]
  },
  {
   "cell_type": "markdown",
   "metadata": {},
   "source": [
    "## Transformation methods"
   ]
  },
  {
   "cell_type": "code",
   "execution_count": 77,
   "metadata": {},
   "outputs": [],
   "source": [
    "# Check for missing values:\n",
    "def is_nan(x):\n",
    "    return (x != x)"
   ]
  },
  {
   "cell_type": "code",
   "execution_count": 78,
   "metadata": {},
   "outputs": [],
   "source": [
    "def get_host_name(name):\n",
    "    #If there is a name, return it\n",
    "    if is_nan(name): return \"Unknown\"\n",
    "    return name"
   ]
  },
  {
   "cell_type": "code",
   "execution_count": 79,
   "metadata": {},
   "outputs": [],
   "source": [
    "def get_host_membership_duration(date):\n",
    "    #date is a string with the date as YYYY-MM-DD\n",
    "\n",
    "    if is_nan(date): return \"Unknown\"\n",
    "    #get current year\n",
    "    now = datetime.datetime.now()\n",
    "    \n",
    "    #calculate membership duration\n",
    "    membership_time = now.year - int(date[0:4])\n",
    "    if membership_time > 10: return \"Member for more than 10 years\"\n",
    "    if membership_time > 5: return \"Member for more than 5 years\"\n",
    "    if membership_time > 2: return \"Member for more than 2 years\"\n",
    "    if membership_time >= 1: return \"Member for more than 1 year\"\n",
    "    if membership_time < 1: return \"Member for less than 1 year\""
   ]
  },
  {
   "cell_type": "markdown",
   "metadata": {},
   "source": [
    "As we discussed previously, all host records who don't have a known location will be ignored - `None` lines will be later removed in preprocessing."
   ]
  },
  {
   "cell_type": "code",
   "execution_count": 80,
   "metadata": {},
   "outputs": [],
   "source": [
    "def get_host_country(location):\n",
    "    #location is a string with the host location -- may not have country\n",
    "    location = str(location)\n",
    "    if re.search('po.*tugal', location, re.IGNORECASE): return \"Portugal\"\n",
    "    if re.search('lisbo', location, re.IGNORECASE): return \"Portugal\"\n",
    "    if re.search('PT', location): return \"Portugal\"\n",
    "    if re.search('spain', location, re.IGNORECASE): return \"Spain\"\n",
    "    if re.search('ES', location): return \"Spain\"\n",
    "    if re.search('madrid', location, re.IGNORECASE): return \"Spain\"\n",
    "    if re.search('united kingdom', location, re.IGNORECASE): return \"United Kingdom\"\n",
    "    if re.search('UK', location): return \"United Kingdom\"\n",
    "    if re.search('GB', location): return \"United Kingdom\"\n",
    "    if re.search('ireland', location, re.IGNORECASE): return \"United Kingdom\"\n",
    "    if re.search('denmark', location, re.IGNORECASE): return \"Denmark\"\n",
    "    if re.search('netherlands', location, re.IGNORECASE): return \"Netherlands\"\n",
    "    if re.search('NL', location): return \"Netherlands\"\n",
    "    if re.search('germany', location, re.IGNORECASE): return \"Germany\"\n",
    "    if re.search('DE', location): return \"Germany\"\n",
    "    if re.search('belgium', location, re.IGNORECASE): return \"Belgium\"\n",
    "    if re.search('united states', location, re.IGNORECASE): return \"United States\"\n",
    "    if re.search('US', location): return \"United States\"\n",
    "    if re.search('canada', location, re.IGNORECASE): return \"Canada\"\n",
    "    if re.search('france', location, re.IGNORECASE): return \"France\"\n",
    "    if re.search('FR', location): return \"France\"\n",
    "    if re.search('italy', location, re.IGNORECASE): return \"Italy\"\n",
    "    if re.search('IT', location): return \"Italy\"\n",
    "    if re.search('switzerland', location, re.IGNORECASE): return \"Switzerland\"\n",
    "    if re.search('sweden', location, re.IGNORECASE): return \"Sweden\"\n",
    "    if re.search('poland', location, re.IGNORECASE): return \"Poland\"\n",
    "    if re.search('finland', location, re.IGNORECASE): return \"Finland\"\n",
    "    if re.search('serbia', location, re.IGNORECASE): return \"Serbia\"\n",
    "    if re.search('austria', location, re.IGNORECASE): return \"Austria\"\n",
    "    if re.search('iceland', location, re.IGNORECASE): return \"Iceland\"\n",
    "    if re.search('norway', location, re.IGNORECASE): return \"Norway\"\n",
    "    if re.search('china', location, re.IGNORECASE): return \"China\"\n",
    "    if re.search('angola', location, re.IGNORECASE): return \"Angola\"\n",
    "    if re.search('australia', location, re.IGNORECASE): return \"Australia\"\n",
    "    if re.search('brazil', location, re.IGNORECASE): return \"Brazil\"\n",
    "    if re.search('BR', location): return \"Brazil\"\n",
    "    if re.search('peru', location, re.IGNORECASE): return \"Peru\"\n",
    "    if re.search('sri lanka', location, re.IGNORECASE): return \"Sri Lanka\"\n",
    "    if re.search('vietnam', location, re.IGNORECASE): return \"Vietnam\"\n",
    "    if re.search('united arab emirates', location, re.IGNORECASE): return \"United Arab Emirates\"\n",
    "    if re.search('south africa', location, re.IGNORECASE): return \"South Africa\"\n",
    "    if re.search('qatar', location, re.IGNORECASE): return \"Qatar\"\n",
    "    if re.search('japan', location, re.IGNORECASE): return \"Japan\"\n",
    "    if re.search('turkey', location, re.IGNORECASE): return \"Turkey\"\n",
    "    else: return None"
   ]
  },
  {
   "cell_type": "markdown",
   "metadata": {},
   "source": [
    "One thing to keep in mind is that this method for identification of the host's country is not the most adequate, since it is not very generalizable to new data. In order for this method to work safely for all new data, an extended 'database' of countries would be needed. Here we made an effort to cover the most common countries in the dataset, but did not extend it much in order to preserve performance.\n",
    "\n",
    "One alternative that we pursued was using the `pycountry` library, but since it was very inefficient (for each record it would go through all countries in the library!) we decided that for the purpose of this work the method above would be satisfatory."
   ]
  },
  {
   "cell_type": "code",
   "execution_count": 81,
   "metadata": {},
   "outputs": [],
   "source": [
    "def get_host_continent(country):\n",
    "    if country == None: return None\n",
    "    \n",
    "    continents_dic = {\n",
    "    'EU': 'Europe',\n",
    "    'NA': 'North America',\n",
    "    'SA': 'South America', \n",
    "    'AS': 'Asia',\n",
    "    'OC': 'Australia',\n",
    "    'AF': 'Africa',\n",
    "    }\n",
    "    \n",
    "    # Acquire the country code\n",
    "    country_code = pc.country_name_to_country_alpha2(country, cn_name_format=\"default\")\n",
    "    # Convert country code to continent code; use dictionary to return continent name\n",
    "    continent_name = pc.country_alpha2_to_continent_code(country_code)\n",
    "    \n",
    "    return continents_dic[continent_name]"
   ]
  },
  {
   "cell_type": "code",
   "execution_count": 82,
   "metadata": {},
   "outputs": [],
   "source": [
    "def get_host_country_gdp(country):\n",
    "    if country == None: return None\n",
    "    \n",
    "    # Always get latest (most updated) gdp available in the gdp dataset - last column\n",
    "    # The level of detail required here is not very high, since we will use bins\n",
    "    # to characterize the countries' wealth\n",
    "    dict_gdp = pd.Series(df_gdp.iloc[:,-1].values, index=df_gdp['Country Name']).to_dict()\n",
    "    \n",
    "    if country not in dict_gdp.keys(): return \"Unknown\"\n",
    "    \n",
    "    gdp = dict_gdp[country]\n",
    "    if gdp <= 20000  : return \"Below 20k\"\n",
    "    if gdp <= 35000  : return \"20k - 35k\"\n",
    "    if gdp <= 50000  : return \"35k - 50k\"\n",
    "    if gdp > 50000 : return \"Above 50k\"\n",
    "    else: return None"
   ]
  },
  {
   "cell_type": "code",
   "execution_count": 83,
   "metadata": {},
   "outputs": [],
   "source": [
    "def get_host_response_time(response_time):\n",
    "    #if there is a response_time, return it\n",
    "    if is_nan(response_time): return \"Unknown\"\n",
    "    return response_time"
   ]
  },
  {
   "cell_type": "code",
   "execution_count": 84,
   "metadata": {},
   "outputs": [],
   "source": [
    "def get_host_is_superhost(is_superhost):\n",
    "    if is_superhost == 't': return \"Superhost\"\n",
    "    if is_superhost == 'f': return \"Not Superhost\"\n",
    "    else: return None"
   ]
  },
  {
   "cell_type": "code",
   "execution_count": 85,
   "metadata": {},
   "outputs": [],
   "source": [
    "def get_host_identity_verified(identity):\n",
    "    if identity == 't': return \"Verified\"\n",
    "    if identity == 'f': return \"Unverified\"\n",
    "    else: return None"
   ]
  },
  {
   "cell_type": "markdown",
   "metadata": {},
   "source": [
    "### Create clean dataframe\n",
    "\n",
    "We will now use the methods described above to create each column of the dimension, extracting the data from the original dataset `df`."
   ]
  },
  {
   "cell_type": "code",
   "execution_count": 86,
   "metadata": {},
   "outputs": [],
   "source": [
    "listing_id = [i for i in df['id']]\n",
    "host_id = [h for h in df['host_id']]\n",
    "names = [n for n in df['host_name']]\n",
    "membership_duration = [get_host_membership_duration(d) for d in df['host_since']]\n",
    "country = [get_host_country(l) for l in df['host_location']]\n",
    "continent = [get_host_continent(c) for c in country]\n",
    "gdp = [get_host_country_gdp(c) for c in country]\n",
    "response_time = [get_host_response_time(t) for t in df['host_response_time']]\n",
    "superhost = [get_host_is_superhost(b) for b in df['host_is_superhost']]\n",
    "identity_verified = [get_host_identity_verified(i) for i in df['host_identity_verified']]"
   ]
  },
  {
   "cell_type": "code",
   "execution_count": 87,
   "metadata": {},
   "outputs": [
    {
     "data": {
      "text/plain": [
       "(17168, 10)"
      ]
     },
     "execution_count": 87,
     "metadata": {},
     "output_type": "execute_result"
    }
   ],
   "source": [
    "columns = ['listing_id','host_id','host_name', 'membership_duration','host_country', 'host_continent', \n",
    "           'host_country_gdp', 'host_response_time', 'host_is_superhost', 'host_is_verified']\n",
    "\n",
    "# Create dataframe\n",
    "df_host_dimension = pd.DataFrame(np.stack((listing_id, host_id, names, membership_duration, country, \n",
    "                                           continent, gdp, response_time, superhost, \n",
    "                                           identity_verified),axis=-1), columns = columns)\n",
    "# Dataframe shape (rows, columns)\n",
    "df_host_dimension.shape"
   ]
  },
  {
   "cell_type": "markdown",
   "metadata": {},
   "source": [
    "**Remove records with null values:**"
   ]
  },
  {
   "cell_type": "code",
   "execution_count": 88,
   "metadata": {},
   "outputs": [],
   "source": [
    "def delete_null_rows(df,columns):\n",
    "    \"\"\"Removes all records with any empty cells from input DataFrame\"\"\"\n",
    "    processed_df = df[columns].copy()\n",
    "    total_rows = processed_df.shape[0]\n",
    "    delete_rows = []\n",
    "    \n",
    "    if processed_df.isnull().values.any(): # if there are any null values in DataFrame, process DataFrame\n",
    "        for index, row in enumerate(processed_df.itertuples(), start = 0):\n",
    "            if (pd.Series(row).isnull().values.any()): # if row has any null value\n",
    "                delete_rows.append(index) # add row index to delete list\n",
    "    \n",
    "    processed_df.drop(df.index[delete_rows], inplace = True) # delete rows fr\n",
    "    processed_df = processed_df.reset_index().drop('index', axis = 1)\n",
    "    print('DataFrame contains {} rows. Deleted {} rows ({}% of total rows)'.format(processed_df.shape[0], len(delete_rows), round(len(delete_rows)*100/total_rows, 2)))\n",
    "    return processed_df"
   ]
  },
  {
   "cell_type": "code",
   "execution_count": 89,
   "metadata": {},
   "outputs": [
    {
     "name": "stdout",
     "output_type": "stream",
     "text": [
      "DataFrame contains 17005 rows. Deleted 163 rows (0.95% of total rows)\n"
     ]
    }
   ],
   "source": [
    "df_host_dimension = delete_null_rows(df_host_dimension, columns)"
   ]
  },
  {
   "cell_type": "markdown",
   "metadata": {},
   "source": [
    "**Remove duplicates:**"
   ]
  },
  {
   "cell_type": "code",
   "execution_count": 90,
   "metadata": {},
   "outputs": [
    {
     "data": {
      "text/html": [
       "<div>\n",
       "<style scoped>\n",
       "    .dataframe tbody tr th:only-of-type {\n",
       "        vertical-align: middle;\n",
       "    }\n",
       "\n",
       "    .dataframe tbody tr th {\n",
       "        vertical-align: top;\n",
       "    }\n",
       "\n",
       "    .dataframe thead th {\n",
       "        text-align: right;\n",
       "    }\n",
       "</style>\n",
       "<table border=\"1\" class=\"dataframe\">\n",
       "  <thead>\n",
       "    <tr style=\"text-align: right;\">\n",
       "      <th></th>\n",
       "      <th>host_id</th>\n",
       "      <th>host_name</th>\n",
       "      <th>membership_duration</th>\n",
       "      <th>host_country</th>\n",
       "      <th>host_continent</th>\n",
       "      <th>host_country_gdp</th>\n",
       "      <th>host_response_time</th>\n",
       "      <th>host_is_superhost</th>\n",
       "      <th>host_is_verified</th>\n",
       "    </tr>\n",
       "  </thead>\n",
       "  <tbody>\n",
       "    <tr>\n",
       "      <th>1</th>\n",
       "      <td>107347</td>\n",
       "      <td>Ellie</td>\n",
       "      <td>Member for more than 5 years</td>\n",
       "      <td>United States</td>\n",
       "      <td>North America</td>\n",
       "      <td>Above 50k</td>\n",
       "      <td>within an hour</td>\n",
       "      <td>Superhost</td>\n",
       "      <td>Verified</td>\n",
       "    </tr>\n",
       "    <tr>\n",
       "      <th>2</th>\n",
       "      <td>125768</td>\n",
       "      <td>Bárbara</td>\n",
       "      <td>Member for more than 5 years</td>\n",
       "      <td>Portugal</td>\n",
       "      <td>Europe</td>\n",
       "      <td>20k - 35k</td>\n",
       "      <td>within an hour</td>\n",
       "      <td>Not Superhost</td>\n",
       "      <td>Unverified</td>\n",
       "    </tr>\n",
       "    <tr>\n",
       "      <th>3</th>\n",
       "      <td>126415</td>\n",
       "      <td>Mónica</td>\n",
       "      <td>Member for more than 5 years</td>\n",
       "      <td>Portugal</td>\n",
       "      <td>Europe</td>\n",
       "      <td>20k - 35k</td>\n",
       "      <td>within an hour</td>\n",
       "      <td>Not Superhost</td>\n",
       "      <td>Unverified</td>\n",
       "    </tr>\n",
       "    <tr>\n",
       "      <th>4</th>\n",
       "      <td>128075</td>\n",
       "      <td>Francisco</td>\n",
       "      <td>Member for more than 5 years</td>\n",
       "      <td>Portugal</td>\n",
       "      <td>Europe</td>\n",
       "      <td>20k - 35k</td>\n",
       "      <td>within a day</td>\n",
       "      <td>Superhost</td>\n",
       "      <td>Verified</td>\n",
       "    </tr>\n",
       "    <tr>\n",
       "      <th>5</th>\n",
       "      <td>128890</td>\n",
       "      <td>Sara</td>\n",
       "      <td>Member for more than 5 years</td>\n",
       "      <td>United States</td>\n",
       "      <td>North America</td>\n",
       "      <td>Above 50k</td>\n",
       "      <td>within a day</td>\n",
       "      <td>Not Superhost</td>\n",
       "      <td>Verified</td>\n",
       "    </tr>\n",
       "  </tbody>\n",
       "</table>\n",
       "</div>"
      ],
      "text/plain": [
       "  host_id  host_name           membership_duration   host_country  \\\n",
       "1  107347      Ellie  Member for more than 5 years  United States   \n",
       "2  125768    Bárbara  Member for more than 5 years       Portugal   \n",
       "3  126415     Mónica  Member for more than 5 years       Portugal   \n",
       "4  128075  Francisco  Member for more than 5 years       Portugal   \n",
       "5  128890       Sara  Member for more than 5 years  United States   \n",
       "\n",
       "  host_continent host_country_gdp host_response_time host_is_superhost  \\\n",
       "1  North America        Above 50k     within an hour         Superhost   \n",
       "2         Europe        20k - 35k     within an hour     Not Superhost   \n",
       "3         Europe        20k - 35k     within an hour     Not Superhost   \n",
       "4         Europe        20k - 35k       within a day         Superhost   \n",
       "5  North America        Above 50k       within a day     Not Superhost   \n",
       "\n",
       "  host_is_verified  \n",
       "1         Verified  \n",
       "2       Unverified  \n",
       "3       Unverified  \n",
       "4         Verified  \n",
       "5         Verified  "
      ]
     },
     "execution_count": 90,
     "metadata": {},
     "output_type": "execute_result"
    }
   ],
   "source": [
    "columns = ['host_id','host_name', 'membership_duration','host_country', 'host_continent', \n",
    "           'host_country_gdp', 'host_response_time', 'host_is_superhost', 'host_is_verified']\n",
    "\n",
    "host_dimension_processed = df_host_dimension[columns]\n",
    "host_dimension_processed = host_dimension_processed.drop_duplicates()\n",
    "host_dimension_processed = host_dimension_processed.reset_index().drop('index', axis = 1)\n",
    "host_dimension_processed.index += 1\n",
    "\n",
    "host_dimension_processed.head()"
   ]
  },
  {
   "cell_type": "markdown",
   "metadata": {},
   "source": [
    "Save final ETL product to .csv file:"
   ]
  },
  {
   "cell_type": "code",
   "execution_count": 119,
   "metadata": {},
   "outputs": [],
   "source": [
    "host_dimension_processed.to_csv('../processed_dt/df_host_processed.csv',index=False)"
   ]
  },
  {
   "cell_type": "markdown",
   "metadata": {},
   "source": [
    "## Attributing dimension keys to facts\n",
    "\n",
    "We have a one-to-many relationship between `host ids` and `listing ids`. We create this 'mapping' table to keep track of the relationship between each fact in the fact table (PK - listing_id) and its respective host (FK - host_id)."
   ]
  },
  {
   "cell_type": "code",
   "execution_count": 92,
   "metadata": {},
   "outputs": [
    {
     "data": {
      "text/html": [
       "<div>\n",
       "<style scoped>\n",
       "    .dataframe tbody tr th:only-of-type {\n",
       "        vertical-align: middle;\n",
       "    }\n",
       "\n",
       "    .dataframe tbody tr th {\n",
       "        vertical-align: top;\n",
       "    }\n",
       "\n",
       "    .dataframe thead th {\n",
       "        text-align: right;\n",
       "    }\n",
       "</style>\n",
       "<table border=\"1\" class=\"dataframe\">\n",
       "  <thead>\n",
       "    <tr style=\"text-align: right;\">\n",
       "      <th></th>\n",
       "      <th>listing_id</th>\n",
       "      <th>host_id</th>\n",
       "    </tr>\n",
       "  </thead>\n",
       "  <tbody>\n",
       "    <tr>\n",
       "      <th>0</th>\n",
       "      <td>25659</td>\n",
       "      <td>107347</td>\n",
       "    </tr>\n",
       "    <tr>\n",
       "      <th>1</th>\n",
       "      <td>29248</td>\n",
       "      <td>125768</td>\n",
       "    </tr>\n",
       "    <tr>\n",
       "      <th>2</th>\n",
       "      <td>29396</td>\n",
       "      <td>126415</td>\n",
       "    </tr>\n",
       "    <tr>\n",
       "      <th>3</th>\n",
       "      <td>29720</td>\n",
       "      <td>128075</td>\n",
       "    </tr>\n",
       "    <tr>\n",
       "      <th>4</th>\n",
       "      <td>27899698</td>\n",
       "      <td>128075</td>\n",
       "    </tr>\n",
       "  </tbody>\n",
       "</table>\n",
       "</div>"
      ],
      "text/plain": [
       "  listing_id host_id\n",
       "0      25659  107347\n",
       "1      29248  125768\n",
       "2      29396  126415\n",
       "3      29720  128075\n",
       "4   27899698  128075"
      ]
     },
     "execution_count": 92,
     "metadata": {},
     "output_type": "execute_result"
    }
   ],
   "source": [
    "df_mapping = pd.DataFrame(columns=['listing_id', 'host_id'])\n",
    "df_mapping['listing_id'] = df_host_dimension['listing_id']\n",
    "df_mapping['host_id'] = df_host_dimension['host_id']\n",
    "\n",
    "df_mapping.head()"
   ]
  },
  {
   "cell_type": "markdown",
   "metadata": {},
   "source": [
    "Save mapping to .csv file:"
   ]
  },
  {
   "cell_type": "code",
   "execution_count": 122,
   "metadata": {},
   "outputs": [],
   "source": [
    "df_mapping.to_csv('../processed_dt/df_listings_host.csv')"
   ]
  },
  {
   "cell_type": "markdown",
   "metadata": {},
   "source": [
    "### Load Host dimension"
   ]
  },
  {
   "cell_type": "markdown",
   "metadata": {},
   "source": [
    "Load database connection settings"
   ]
  },
  {
   "cell_type": "code",
   "execution_count": 17,
   "metadata": {},
   "outputs": [],
   "source": [
    "from db_connection import dbconnection "
   ]
  },
  {
   "cell_type": "markdown",
   "metadata": {},
   "source": [
    "Test connection"
   ]
  },
  {
   "cell_type": "code",
   "execution_count": 18,
   "metadata": {},
   "outputs": [],
   "source": [
    "conn = psycopg2.connect(host = dbconnection.server_host,database = dbconnection.dbname, user = dbconnection.dbusername,password = dbconnection.dbpassword,sslmode=dbconnection.sslmode,gssencmode=dbconnection.gssencmode)\n",
    "conn.close()"
   ]
  },
  {
   "cell_type": "markdown",
   "metadata": {},
   "source": [
    "**Create or delete dimension**"
   ]
  },
  {
   "cell_type": "code",
   "execution_count": null,
   "metadata": {},
   "outputs": [],
   "source": [
    "delete_table = \"\"\"\n",
    "DROP TABLE IF EXISTS Host CASCADE;\n",
    "\"\"\"\n",
    "\n",
    "create_table = \"\"\"\n",
    "CREATE TABLE Host (\n",
    "    HOST_ID INT PRIMARY KEY NOT NULL,\n",
    "    HOST_NAME VARCHAR(40) NOT NULL,\n",
    "    MEMBERSHIP_DURATION VARCHAR(40) CHECK (MEMBERSHIP_DURATION in ('Member for more than 10 years','Member for more than 5 years','Member for more than 2 years','Member for more than 1 year','Member for less than 1 year', 'Unknown')) NOT NULL,\n",
    "    HOST_COUNTRY VARCHAR(20) NOT NULL,\n",
    "    HOST_CONTINENT VARCHAR(20) CHECK (HOST_CONTINENT in ('Europe','North America','South America','Asia','Australia','Africa')) NOT NULL,\n",
    "    HOST_COUNTRY_GDP VARCHAR(20) CHECK (HOST_COUNTRY_GDP in ('Below 20k','20k - 35k','35k - 50k','Above 50k')) NOT NULL,\n",
    "    HOST_RESPONSE_TIME VARCHAR(20) CHECK (HOST_RESPONSE_TIME in ('within an hour','within a few hours','within a day','a few days or more','Unknown')) NOT NULL,\n",
    "    HOST_IS_SUPERHOST VARCHAR(20) CHECK (HOST_IS_SUPERHOST in ('Superhost','Not Superhost')) NOT NULL,\n",
    "    HOST_IS_VERIFIED VARCHAR(20) CHECK (HOST_IS_VERIFIED in ('Verified','Unverified')) NOT NULL\n",
    "    )\n",
    "\"\"\""
   ]
  },
  {
   "cell_type": "code",
   "execution_count": null,
   "metadata": {},
   "outputs": [],
   "source": [
    "def excuteSingleSQLstatement(sql, host, database, user, password,gssencmode):\n",
    "    conn = pg.connect(host=host,database=database, user=user, password=password,sslmode = sslmode,gssencmode=gssencmode)\n",
    "    cur = conn.cursor()\n",
    "    cur.execute(sql)\n",
    "    cur.close()\n",
    "    conn.commit()\n",
    "    conn.close()    "
   ]
  },
  {
   "cell_type": "code",
   "execution_count": null,
   "metadata": {},
   "outputs": [],
   "source": [
    "#excuteSingleSQLstatement(delete_table, dbconnection.server_host, dbconnection.dbname, dbconnection.dbusername, dbconnection.dbpassword,gssencmode = dbconnection.gssencmode)\n",
    "#excuteSingleSQLstatement(create_table, dbconnection.server_host, dbconnection.dbname, dbconnection.dbusername, dbconnection.dbpassword,gssencmode = dbconnection.gssencmode)"
   ]
  },
  {
   "cell_type": "markdown",
   "metadata": {},
   "source": [
    "**Inserting the data**\n",
    "\n",
    "We will be inserting the data from the dataframe `host_dimension_processed`, but first checking whether that information is already in the database."
   ]
  },
  {
   "cell_type": "code",
   "execution_count": 22,
   "metadata": {},
   "outputs": [],
   "source": [
    "# Useful methods\n",
    "\n",
    "def query_table(conn, table_name):\n",
    "    \"\"\"Returns DataFrame with queried database table\"\"\"\n",
    "    sql = \"select * from {}\".format(table_name)\n",
    "    #return dataframe\n",
    "    return sqlio.read_sql_query(sql, conn)\n",
    "\n",
    "def get_data_to_insert(df1, df2, columns):\n",
    "    #Check if data of df1's given columns is in df2\n",
    "    #Only works if df1 and df2 have the same columns\n",
    "    return df1[~df1[columns].apply(tuple,1).isin(df2[columns].apply(tuple,1))]\n",
    "\n",
    "def insert_data(df, table_name, conn):\n",
    "    # Method for bulk insert\n",
    "    df_columns = list(df)\n",
    "    columns = \",\".join(df_columns)\n",
    "    values = \"VALUES({})\".format(\",\".join([\"%s\" for _ in df_columns])) \n",
    "    insert_stmt = \"INSERT INTO {} ({}) {}\".format(table_name,columns,values)\n",
    "    success = True\n",
    "    try:\n",
    "        cursor = conn.cursor()\n",
    "        pg.extras.execute_batch(cursor, insert_stmt, df.values)\n",
    "        conn.commit()\n",
    "        success = True\n",
    "    except pg.DatabaseError as error:\n",
    "        success = False\n",
    "        print(error)\n",
    "    finally:\n",
    "        if conn is not None:\n",
    "            conn.close()\n",
    "    return success"
   ]
  },
  {
   "cell_type": "markdown",
   "metadata": {},
   "source": [
    "1. Query Database"
   ]
  },
  {
   "cell_type": "code",
   "execution_count": null,
   "metadata": {},
   "outputs": [],
   "source": [
    "conn = psycopg2.connect(host = dbconnection.server_host,database = dbconnection.dbname, user = dbconnection.dbusername,password = dbconnection.dbpassword,sslmode=dbconnection.sslmode,gssencmode=dbconnection.gssencmode)\n",
    "df_sql = query_table(conn, 'Host')\n",
    "conn.close()\n",
    "df_sql.drop(['host_id'], axis=1, inplace=True)\n",
    "df_sql.head()"
   ]
  },
  {
   "cell_type": "markdown",
   "metadata": {},
   "source": [
    "2. Cross-Validate if data exists on DB"
   ]
  },
  {
   "cell_type": "code",
   "execution_count": 24,
   "metadata": {},
   "outputs": [
    {
     "data": {
      "text/html": [
       "<div>\n",
       "<style scoped>\n",
       "    .dataframe tbody tr th:only-of-type {\n",
       "        vertical-align: middle;\n",
       "    }\n",
       "\n",
       "    .dataframe tbody tr th {\n",
       "        vertical-align: top;\n",
       "    }\n",
       "\n",
       "    .dataframe thead th {\n",
       "        text-align: right;\n",
       "    }\n",
       "</style>\n",
       "<table border=\"1\" class=\"dataframe\">\n",
       "  <thead>\n",
       "    <tr style=\"text-align: right;\">\n",
       "      <th></th>\n",
       "      <th>host_id</th>\n",
       "      <th>host_name</th>\n",
       "      <th>membership_duration</th>\n",
       "      <th>host_country</th>\n",
       "      <th>host_continent</th>\n",
       "      <th>host_country_gdp</th>\n",
       "      <th>host_response_time</th>\n",
       "      <th>host_is_superhost</th>\n",
       "      <th>host_is_verified</th>\n",
       "    </tr>\n",
       "  </thead>\n",
       "  <tbody>\n",
       "    <tr>\n",
       "      <th>0</th>\n",
       "      <td>107347</td>\n",
       "      <td>Ellie</td>\n",
       "      <td>Member for more than 5 years</td>\n",
       "      <td>United States</td>\n",
       "      <td>North America</td>\n",
       "      <td>Above 50k</td>\n",
       "      <td>within an hour</td>\n",
       "      <td>Superhost</td>\n",
       "      <td>Verified</td>\n",
       "    </tr>\n",
       "    <tr>\n",
       "      <th>1</th>\n",
       "      <td>125768</td>\n",
       "      <td>Bárbara</td>\n",
       "      <td>Member for more than 5 years</td>\n",
       "      <td>Portugal</td>\n",
       "      <td>Europe</td>\n",
       "      <td>20k - 35k</td>\n",
       "      <td>within an hour</td>\n",
       "      <td>Not Superhost</td>\n",
       "      <td>Unverified</td>\n",
       "    </tr>\n",
       "    <tr>\n",
       "      <th>2</th>\n",
       "      <td>126415</td>\n",
       "      <td>Mónica</td>\n",
       "      <td>Member for more than 5 years</td>\n",
       "      <td>Portugal</td>\n",
       "      <td>Europe</td>\n",
       "      <td>20k - 35k</td>\n",
       "      <td>within an hour</td>\n",
       "      <td>Not Superhost</td>\n",
       "      <td>Unverified</td>\n",
       "    </tr>\n",
       "    <tr>\n",
       "      <th>3</th>\n",
       "      <td>128075</td>\n",
       "      <td>Francisco</td>\n",
       "      <td>Member for more than 5 years</td>\n",
       "      <td>Portugal</td>\n",
       "      <td>Europe</td>\n",
       "      <td>20k - 35k</td>\n",
       "      <td>within a day</td>\n",
       "      <td>Superhost</td>\n",
       "      <td>Verified</td>\n",
       "    </tr>\n",
       "    <tr>\n",
       "      <th>4</th>\n",
       "      <td>128890</td>\n",
       "      <td>Sara</td>\n",
       "      <td>Member for more than 5 years</td>\n",
       "      <td>United States</td>\n",
       "      <td>North America</td>\n",
       "      <td>Above 50k</td>\n",
       "      <td>within a day</td>\n",
       "      <td>Not Superhost</td>\n",
       "      <td>Verified</td>\n",
       "    </tr>\n",
       "    <tr>\n",
       "      <th>...</th>\n",
       "      <td>...</td>\n",
       "      <td>...</td>\n",
       "      <td>...</td>\n",
       "      <td>...</td>\n",
       "      <td>...</td>\n",
       "      <td>...</td>\n",
       "      <td>...</td>\n",
       "      <td>...</td>\n",
       "      <td>...</td>\n",
       "    </tr>\n",
       "    <tr>\n",
       "      <th>6860</th>\n",
       "      <td>16502648</td>\n",
       "      <td>Alexander</td>\n",
       "      <td>Member for more than 5 years</td>\n",
       "      <td>Portugal</td>\n",
       "      <td>Europe</td>\n",
       "      <td>20k - 35k</td>\n",
       "      <td>within a day</td>\n",
       "      <td>Not Superhost</td>\n",
       "      <td>Unverified</td>\n",
       "    </tr>\n",
       "    <tr>\n",
       "      <th>6861</th>\n",
       "      <td>330201893</td>\n",
       "      <td>Gonçalo</td>\n",
       "      <td>Member for less than 1 year</td>\n",
       "      <td>Portugal</td>\n",
       "      <td>Europe</td>\n",
       "      <td>20k - 35k</td>\n",
       "      <td>Unknown</td>\n",
       "      <td>Not Superhost</td>\n",
       "      <td>Unverified</td>\n",
       "    </tr>\n",
       "    <tr>\n",
       "      <th>6862</th>\n",
       "      <td>330234500</td>\n",
       "      <td>Margarida</td>\n",
       "      <td>Member for less than 1 year</td>\n",
       "      <td>Portugal</td>\n",
       "      <td>Europe</td>\n",
       "      <td>20k - 35k</td>\n",
       "      <td>Unknown</td>\n",
       "      <td>Not Superhost</td>\n",
       "      <td>Unverified</td>\n",
       "    </tr>\n",
       "    <tr>\n",
       "      <th>6863</th>\n",
       "      <td>121821289</td>\n",
       "      <td>Hugo</td>\n",
       "      <td>Member for more than 2 years</td>\n",
       "      <td>Portugal</td>\n",
       "      <td>Europe</td>\n",
       "      <td>20k - 35k</td>\n",
       "      <td>Unknown</td>\n",
       "      <td>Not Superhost</td>\n",
       "      <td>Unverified</td>\n",
       "    </tr>\n",
       "    <tr>\n",
       "      <th>6864</th>\n",
       "      <td>55037819</td>\n",
       "      <td>Fábio</td>\n",
       "      <td>Member for more than 2 years</td>\n",
       "      <td>Portugal</td>\n",
       "      <td>Europe</td>\n",
       "      <td>20k - 35k</td>\n",
       "      <td>within an hour</td>\n",
       "      <td>Not Superhost</td>\n",
       "      <td>Verified</td>\n",
       "    </tr>\n",
       "  </tbody>\n",
       "</table>\n",
       "<p>6865 rows × 9 columns</p>\n",
       "</div>"
      ],
      "text/plain": [
       "        host_id  host_name           membership_duration   host_country  \\\n",
       "0        107347      Ellie  Member for more than 5 years  United States   \n",
       "1        125768    Bárbara  Member for more than 5 years       Portugal   \n",
       "2        126415     Mónica  Member for more than 5 years       Portugal   \n",
       "3        128075  Francisco  Member for more than 5 years       Portugal   \n",
       "4        128890       Sara  Member for more than 5 years  United States   \n",
       "...         ...        ...                           ...            ...   \n",
       "6860   16502648  Alexander  Member for more than 5 years       Portugal   \n",
       "6861  330201893    Gonçalo   Member for less than 1 year       Portugal   \n",
       "6862  330234500  Margarida   Member for less than 1 year       Portugal   \n",
       "6863  121821289       Hugo  Member for more than 2 years       Portugal   \n",
       "6864   55037819      Fábio  Member for more than 2 years       Portugal   \n",
       "\n",
       "     host_continent host_country_gdp host_response_time host_is_superhost  \\\n",
       "0     North America        Above 50k     within an hour         Superhost   \n",
       "1            Europe        20k - 35k     within an hour     Not Superhost   \n",
       "2            Europe        20k - 35k     within an hour     Not Superhost   \n",
       "3            Europe        20k - 35k       within a day         Superhost   \n",
       "4     North America        Above 50k       within a day     Not Superhost   \n",
       "...             ...              ...                ...               ...   \n",
       "6860         Europe        20k - 35k       within a day     Not Superhost   \n",
       "6861         Europe        20k - 35k            Unknown     Not Superhost   \n",
       "6862         Europe        20k - 35k            Unknown     Not Superhost   \n",
       "6863         Europe        20k - 35k            Unknown     Not Superhost   \n",
       "6864         Europe        20k - 35k     within an hour     Not Superhost   \n",
       "\n",
       "     host_is_verified  \n",
       "0            Verified  \n",
       "1          Unverified  \n",
       "2          Unverified  \n",
       "3            Verified  \n",
       "4            Verified  \n",
       "...               ...  \n",
       "6860       Unverified  \n",
       "6861       Unverified  \n",
       "6862       Unverified  \n",
       "6863       Unverified  \n",
       "6864         Verified  \n",
       "\n",
       "[6865 rows x 9 columns]"
      ]
     },
     "execution_count": 24,
     "metadata": {},
     "output_type": "execute_result"
    }
   ],
   "source": [
    "# Boolean switch: True if we want to load data from .csv file\n",
    "use_csv_data = True\n",
    "\n",
    "if use_csv_data: \n",
    "    host_dimension_processed = pd.read_csv(\"../processed_dt/df_host_processed.csv\").drop(['Unnamed: 0'],axis=1)\n",
    "\n",
    "host.head()"
   ]
  },
  {
   "cell_type": "code",
   "execution_count": 29,
   "metadata": {},
   "outputs": [
    {
     "data": {
      "text/html": [
       "<div>\n",
       "<style scoped>\n",
       "    .dataframe tbody tr th:only-of-type {\n",
       "        vertical-align: middle;\n",
       "    }\n",
       "\n",
       "    .dataframe tbody tr th {\n",
       "        vertical-align: top;\n",
       "    }\n",
       "\n",
       "    .dataframe thead th {\n",
       "        text-align: right;\n",
       "    }\n",
       "</style>\n",
       "<table border=\"1\" class=\"dataframe\">\n",
       "  <thead>\n",
       "    <tr style=\"text-align: right;\">\n",
       "      <th></th>\n",
       "      <th>host_id</th>\n",
       "      <th>host_name</th>\n",
       "      <th>membership_duration</th>\n",
       "      <th>host_country</th>\n",
       "      <th>host_continent</th>\n",
       "      <th>host_country_gdp</th>\n",
       "      <th>host_response_time</th>\n",
       "      <th>host_is_superhost</th>\n",
       "      <th>host_is_verified</th>\n",
       "    </tr>\n",
       "  </thead>\n",
       "  <tbody>\n",
       "  </tbody>\n",
       "</table>\n",
       "</div>"
      ],
      "text/plain": [
       "Empty DataFrame\n",
       "Columns: [host_id, host_name, membership_duration, host_country, host_continent, host_country_gdp, host_response_time, host_is_superhost, host_is_verified]\n",
       "Index: []"
      ]
     },
     "execution_count": 29,
     "metadata": {},
     "output_type": "execute_result"
    }
   ],
   "source": [
    "conn = psycopg2.connect(host = dbconnection.server_host,database = dbconnection.dbname, user = dbconnection.dbusername,password = dbconnection.dbpassword,sslmode=dbconnection.sslmode,gssencmode=dbconnection.gssencmode)\n",
    "df_sql = query_table(conn, 'host')\n",
    "conn.close()\n",
    "df_sql.head()"
   ]
  },
  {
   "cell_type": "code",
   "execution_count": 30,
   "metadata": {},
   "outputs": [
    {
     "data": {
      "text/html": [
       "<div>\n",
       "<style scoped>\n",
       "    .dataframe tbody tr th:only-of-type {\n",
       "        vertical-align: middle;\n",
       "    }\n",
       "\n",
       "    .dataframe tbody tr th {\n",
       "        vertical-align: top;\n",
       "    }\n",
       "\n",
       "    .dataframe thead th {\n",
       "        text-align: right;\n",
       "    }\n",
       "</style>\n",
       "<table border=\"1\" class=\"dataframe\">\n",
       "  <thead>\n",
       "    <tr style=\"text-align: right;\">\n",
       "      <th></th>\n",
       "      <th>host_id</th>\n",
       "      <th>host_name</th>\n",
       "      <th>membership_duration</th>\n",
       "      <th>host_country</th>\n",
       "      <th>host_continent</th>\n",
       "      <th>host_country_gdp</th>\n",
       "      <th>host_response_time</th>\n",
       "      <th>host_is_superhost</th>\n",
       "      <th>host_is_verified</th>\n",
       "    </tr>\n",
       "  </thead>\n",
       "  <tbody>\n",
       "    <tr>\n",
       "      <th>0</th>\n",
       "      <td>107347</td>\n",
       "      <td>Ellie</td>\n",
       "      <td>Member for more than 5 years</td>\n",
       "      <td>United States</td>\n",
       "      <td>North America</td>\n",
       "      <td>Above 50k</td>\n",
       "      <td>within an hour</td>\n",
       "      <td>Superhost</td>\n",
       "      <td>Verified</td>\n",
       "    </tr>\n",
       "    <tr>\n",
       "      <th>1</th>\n",
       "      <td>125768</td>\n",
       "      <td>Bárbara</td>\n",
       "      <td>Member for more than 5 years</td>\n",
       "      <td>Portugal</td>\n",
       "      <td>Europe</td>\n",
       "      <td>20k - 35k</td>\n",
       "      <td>within an hour</td>\n",
       "      <td>Not Superhost</td>\n",
       "      <td>Unverified</td>\n",
       "    </tr>\n",
       "    <tr>\n",
       "      <th>2</th>\n",
       "      <td>126415</td>\n",
       "      <td>Mónica</td>\n",
       "      <td>Member for more than 5 years</td>\n",
       "      <td>Portugal</td>\n",
       "      <td>Europe</td>\n",
       "      <td>20k - 35k</td>\n",
       "      <td>within an hour</td>\n",
       "      <td>Not Superhost</td>\n",
       "      <td>Unverified</td>\n",
       "    </tr>\n",
       "    <tr>\n",
       "      <th>3</th>\n",
       "      <td>128075</td>\n",
       "      <td>Francisco</td>\n",
       "      <td>Member for more than 5 years</td>\n",
       "      <td>Portugal</td>\n",
       "      <td>Europe</td>\n",
       "      <td>20k - 35k</td>\n",
       "      <td>within a day</td>\n",
       "      <td>Superhost</td>\n",
       "      <td>Verified</td>\n",
       "    </tr>\n",
       "    <tr>\n",
       "      <th>4</th>\n",
       "      <td>128890</td>\n",
       "      <td>Sara</td>\n",
       "      <td>Member for more than 5 years</td>\n",
       "      <td>United States</td>\n",
       "      <td>North America</td>\n",
       "      <td>Above 50k</td>\n",
       "      <td>within a day</td>\n",
       "      <td>Not Superhost</td>\n",
       "      <td>Verified</td>\n",
       "    </tr>\n",
       "  </tbody>\n",
       "</table>\n",
       "</div>"
      ],
      "text/plain": [
       "   host_id  host_name           membership_duration   host_country  \\\n",
       "0   107347      Ellie  Member for more than 5 years  United States   \n",
       "1   125768    Bárbara  Member for more than 5 years       Portugal   \n",
       "2   126415     Mónica  Member for more than 5 years       Portugal   \n",
       "3   128075  Francisco  Member for more than 5 years       Portugal   \n",
       "4   128890       Sara  Member for more than 5 years  United States   \n",
       "\n",
       "  host_continent host_country_gdp host_response_time host_is_superhost  \\\n",
       "0  North America        Above 50k     within an hour         Superhost   \n",
       "1         Europe        20k - 35k     within an hour     Not Superhost   \n",
       "2         Europe        20k - 35k     within an hour     Not Superhost   \n",
       "3         Europe        20k - 35k       within a day         Superhost   \n",
       "4  North America        Above 50k       within a day     Not Superhost   \n",
       "\n",
       "  host_is_verified  \n",
       "0         Verified  \n",
       "1       Unverified  \n",
       "2       Unverified  \n",
       "3         Verified  \n",
       "4         Verified  "
      ]
     },
     "execution_count": 30,
     "metadata": {},
     "output_type": "execute_result"
    }
   ],
   "source": [
    "columns = ['host_name', 'membership_duration','host_country', 'host_continent', \n",
    "           'host_country_gdp', 'host_response_time', 'host_is_superhost', 'host_is_verified']\n",
    "\n",
    "df_etl = get_data_to_insert(host_dimension_processed, df_sql, columns=columns)\n",
    "df_etl.head()"
   ]
  },
  {
   "cell_type": "code",
   "execution_count": 31,
   "metadata": {},
   "outputs": [
    {
     "data": {
      "text/plain": [
       "(6865, 9)"
      ]
     },
     "execution_count": 31,
     "metadata": {},
     "output_type": "execute_result"
    }
   ],
   "source": [
    "df_etl.shape"
   ]
  },
  {
   "cell_type": "markdown",
   "metadata": {},
   "source": [
    "3. Insert new data"
   ]
  },
  {
   "cell_type": "code",
   "execution_count": 32,
   "metadata": {},
   "outputs": [
    {
     "name": "stdout",
     "output_type": "stream",
     "text": [
      "Data inserted succefully\n"
     ]
    }
   ],
   "source": [
    "if len(df_etl) > 0:\n",
    "    table_name = 'Host'\n",
    "    conn = psycopg2.connect(host = dbconnection.server_host,database = dbconnection.dbname, user = dbconnection.dbusername,password = dbconnection.dbpassword,sslmode=dbconnection.sslmode,gssencmode=dbconnection.gssencmode)\n",
    "    success = insert_data(df_etl,table_name, conn)\n",
    "    conn.close()\n",
    "    if success == True: print('Data inserted succefully')\n",
    "else: print('No data to insert')"
   ]
  },
  {
   "cell_type": "markdown",
   "metadata": {},
   "source": [
    "## Critical assesment of the work\n",
    "\n",
    "As discussed before the main problem with this ETL is that it might not be able to generalize to new data. The extraction of the host location is a difficult task, since the data is very heterogenous. One way to go around this could probably be to have the host fill in a form at the moment of registration with fixed slots for county, district, city, country, etc. That would also greatly facilitate the pre-processing and make it more reproducible.\n",
    "\n",
    "In respect of loading, the method for crossvalidating is also not perfect. We check the database for identical tuples to those we are trying to insert, but ignore the `host_id`. If we were to insert a record with a `host_id` already in the database, but one altered element of the tuple, we wouldn't categorize that as data already in the DB and we would later have a primary-key contraint problem. One way of fixing this has to do with how we would handle this slow changing dimension (see bellow) - adding a surrogate key and including `host_id` in the search."
   ]
  },
  {
   "cell_type": "markdown",
   "metadata": {},
   "source": [
    "#### Slow changing dimensions\n",
    "\n",
    "The data in this dimension is expected to change over time, not on daily basis, but once in a while or periodically. In these sense, we need to create strategies to deal with the new data, and assess the importance of keeping history of these changes.\n",
    "\n",
    "The `membership_duration` is a field that would need to be updated every year, or every few years. Since the membership duration is cumulative, i.e. the fact that one is a member for 5 years implies that he is a member for 1, 2, ... years as well, means that we could employ a type 1 method for this SCD: just replace the previous value, without keeping history.\n",
    "\n",
    "The fields referring to the host location (`host_country`, `host_continent`, `host_country_gdp`) could also require updating since hosts can change their home location. It is then important to assess if keeping a history of these changes is relevant for the types of analysis that will be done. In our point of view, it is not relevant to keep this history, since the host location is not properly a key factor when choosing a house for booking. Questions of the type \"did boking increase after the host changed country?\" do not seem relevant.\n",
    "In this sense we suggest once again the type 1 method for SCD: just replace the previous value, without keeping history. Of course, the necessity of keeping history would have to be discussed with the decision makers, and in the case that , we would employ a type 2 method for SCD, which we will be better explained after.\n",
    "\n",
    "On the other hand, we think that it would be interesting to keep a history of the fields `host_response_time`, `host_is_superhost` and `host_is_verified`, since these could directly correlate with the number of bookings.  We could analyse, for instance, if there are more bookings after the host was verified or became more responsive or superhost. Keeping this history allows us to perceive the weight of these host's characteristics in the user's choice of booking.\n",
    "\n",
    "Thus, we propose this dimension as a type 2 SCD: adding a new line to the dimension each time a change is made.\n",
    "\n",
    "![Type 2 SCD](../images/SCD_type_2_host.png)\n",
    "\n",
    "We would need to add four new columns:\n",
    " - host_key, which is a surrogate key \n",
    " - row effective date, which is the date in which that row first appeared\n",
    " - row expiration date, which is the date in which that row becomes outdated\n",
    " - current row indicator, which indicates if that row is the current one of if it is part of the history\n",
    " \n",
    "One disadvantage of this method is that it accelerates the growth of the host dimension table, potentially becoming a 'monster dimension'. We could consider that the growing of the table would not be so massive, since:\n",
    " - `host_is_superhost` and `host_is_verified` only have two possible states and they are likely to change only once;\n",
    " - hosts do not change their location often;\n",
    " - `host_response_time` could be something updated only very periodically."
   ]
  }
 ],
 "metadata": {
  "kernelspec": {
   "display_name": "Python 3",
   "language": "python",
   "name": "python3"
  },
  "language_info": {
   "codemirror_mode": {
    "name": "ipython",
    "version": 3
   },
   "file_extension": ".py",
   "mimetype": "text/x-python",
   "name": "python",
   "nbconvert_exporter": "python",
   "pygments_lexer": "ipython3",
   "version": "3.7.4"
  },
  "varInspector": {
   "cols": {
    "lenName": 16,
    "lenType": 16,
    "lenVar": 40
   },
   "kernels_config": {
    "python": {
     "delete_cmd_postfix": "",
     "delete_cmd_prefix": "del ",
     "library": "var_list.py",
     "varRefreshCmd": "print(var_dic_list())"
    },
    "r": {
     "delete_cmd_postfix": ") ",
     "delete_cmd_prefix": "rm(",
     "library": "var_list.r",
     "varRefreshCmd": "cat(var_dic_list()) "
    }
   },
   "types_to_exclude": [
    "module",
    "function",
    "builtin_function_or_method",
    "instance",
    "_Feature"
   ],
   "window_display": false
  }
 },
 "nbformat": 4,
 "nbformat_minor": 4
}
