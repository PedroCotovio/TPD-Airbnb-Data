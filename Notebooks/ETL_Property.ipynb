{
 "cells": [
  {
   "cell_type": "markdown",
   "metadata": {},
   "source": [
    "## 2.2. Preprocessing"
   ]
  },
  {
   "cell_type": "code",
   "execution_count": 1,
   "metadata": {},
   "outputs": [],
   "source": [
    "# libraries\n",
    "import psycopg2 as pg\n",
    "import pandas as pd\n",
    "import numpy as np\n",
    "import os\n",
    "\n",
    "# set environment variable for psycog2 (for some systems)\n",
    "os.environ[\"PGGSSENCMODE\"] = \"disable\"\n",
    "\n",
    "# get the stored passwords\n",
    "f=open(\"credentials_david.txt\", \"rt\")\n",
    "pwd=f.readline().strip()  #di   password\n",
    "hpwd=f.readline().strip() #home password\n",
    "f.close()"
   ]
  },
  {
   "cell_type": "code",
   "execution_count": 2,
   "metadata": {},
   "outputs": [],
   "source": [
    "# di test: WORKING\n",
    "#host_di = \"appserver-01.alunos.di.fc.ul.pt\"\n",
    "#db_di = \"tpd012\"\n",
    "#user_di = \"tpd012\"\n",
    "\n",
    "#conn = pg.connect(host = host_di,\n",
    "#                  database = db_di,\n",
    "#                  user = user_di,\n",
    "#                  password = pwd)\n",
    "#conn.close()\n",
    "\n",
    "# local test: WORKING\n",
    "host_local = \"localhost\"\n",
    "db_local = \"tpd012\"\n",
    "user_local = \"postgres\"\n",
    "\n",
    "conn = pg.connect(host = host_local,\n",
    "                  database = db_local,\n",
    "                  user = user_local,\n",
    "                  password=hpwd)\n",
    "conn.close()"
   ]
  },
  {
   "cell_type": "code",
   "execution_count": 3,
   "metadata": {},
   "outputs": [],
   "source": [
    "# functions\n",
    "def run_sql_command(sql, host, database, user, password):\n",
    "    \"\"\"Executes a single SQL statement from a string variable and the database credentials\"\"\"\n",
    "    conn = pg.connect(host = host,\n",
    "                      database = database,\n",
    "                      user = user,\n",
    "                      password = password)\n",
    "    cur = conn.cursor()\n",
    "    cur.execute(sql)\n",
    "    cur.close()\n",
    "    conn.commit()\n",
    "    conn.close() \n",
    "    \n",
    "def intTryParse(value):\n",
    "    \"\"\"Parse a string to an integer\"\"\"\n",
    "    try:\n",
    "        a = int(value)\n",
    "        return True\n",
    "    except ValueError:\n",
    "        return False"
   ]
  },
  {
   "cell_type": "markdown",
   "metadata": {},
   "source": [
    "## 1. Creating _Property_ dimension table in SQL\n",
    "\n",
    "The defined _Property_ table in __Phase I__ is as follows:\n",
    "\n",
    "<img src=\"property_sql.png\" width=\"200\" align=\"center\"/>\n",
    "\n",
    "The SQL statement to create the table is as follows:"
   ]
  },
  {
   "cell_type": "code",
   "execution_count": null,
   "metadata": {},
   "outputs": [],
   "source": [
    "create_table = \"\"\"\n",
    "CREATE TABLE Property (\n",
    "    PROPERTY_ID SERIAL PRIMARY KEY NOT NULL,\n",
    "    PROPERTY_TYPE VARCHAR(30) CHECK (PROPERTY_TYPE in ('Apartment', 'GuestHouse', 'House', 'Hostel', 'Room')) NOT NULL,\n",
    "    ROOM_TYPE VARCHAR(30) CHECK (ROOM_TYPE in ('Entire Property', 'Private Room', 'Hotel Room', 'Shared Room')) NOT NULL,\n",
    "    ACCOMMODATES VARCHAR(10) CHECK (ACCOMMODATES in ('0-2','2-4','4-6','>6')) NOT NULL,\n",
    "    BATHROOMS VARCHAR(10) CHECK (BATHROOMS in ('0','1','2','3','>=4')) NOT NULL,\n",
    "    BEDROOMS VARCHAR(10) CHECK (BEDROOMS in ('T0','T1','T2','T3','T>=4')) NOT NULL,\n",
    "    BEDS VARCHAR(10) CHECK (BATHROOMS in ('0','1','2','3','>=4')) NOT NULL,\n",
    "    BED_TYPE VARCHAR(30) CHECK (BED_TYPE in ('Real Bed', 'Pull-out Sofa', 'Futton', 'Couch', 'Airbed')) NOT NULL,\n",
    "    PRICE_SRQT VARCHAR(10) CHECK (PRICE_SRQT in ('Expensive', 'Medium', 'Cheap')) NOT NULL\n",
    ")\n",
    "\"\"\""
   ]
  },
  {
   "cell_type": "markdown",
   "metadata": {},
   "source": [
    "The `create_table` command contains the integrity constraints essential for modelling the dimension."
   ]
  },
  {
   "cell_type": "code",
   "execution_count": null,
   "metadata": {},
   "outputs": [],
   "source": [
    "# creating table\n",
    "run_sql_command(create_table,\n",
    "                host_local,\n",
    "                db_local,\n",
    "                user_local,\n",
    "                hpwd)"
   ]
  },
  {
   "cell_type": "markdown",
   "metadata": {},
   "source": [
    "The dimension `Property` is ready for data __loading__. Now, it's necessary to __transform__ the data, which was previously __extracted__ from its source."
   ]
  },
  {
   "cell_type": "markdown",
   "metadata": {},
   "source": [
    "## 2. Pre-processing data table\n",
    "\n",
    "### 2.1. Loading data into Python"
   ]
  },
  {
   "cell_type": "code",
   "execution_count": 4,
   "metadata": {},
   "outputs": [
    {
     "name": "stderr",
     "output_type": "stream",
     "text": [
      "C:\\Users\\david\\Anaconda3\\lib\\site-packages\\IPython\\core\\interactiveshell.py:3063: DtypeWarning: Columns (61,62) have mixed types.Specify dtype option on import or set low_memory=False.\n",
      "  interactivity=interactivity, compiler=compiler, result=result)\n"
     ]
    }
   ],
   "source": [
    "listings_file_path = '../data/airbnb/listings.csv'\n",
    "al_file_path = '../data/Alojamento_Local.csv'\n",
    "df_al = pd.read_csv(al_file_path)\n",
    "df_listings = pd.read_csv(listings_file_path)"
   ]
  },
  {
   "cell_type": "markdown",
   "metadata": {},
   "source": [
    "### 2.2. Merging _listings.csv_ data with _Alojamento_Local.csv_ data"
   ]
  },
  {
   "cell_type": "code",
   "execution_count": 5,
   "metadata": {},
   "outputs": [],
   "source": [
    "# get only listings where 'license' is not NaN and not 'Exempt'\n",
    "df_listings_with_license = df_listings[(~df_listings['license'].isnull()) & (df_listings['license'] != 'Exempt')].copy()\n",
    "\n",
    "# string replace\n",
    "df_listings_with_license['NrRNAL'] = [s.replace('/AL','').replace('.','') for s in df_listings_with_license['license']]\n",
    "\n",
    "# get only records where license number can be converted to an integer \n",
    "df_listings_with_license = df_listings_with_license[[intTryParse(s) for s in df_listings_with_license['NrRNAL']]]\n",
    "\n",
    "# convert NrRNAL to an integer before merging the two DataFrames\n",
    "df_listings_with_license['NrRNAL'] = df_listings_with_license['NrRNAL'].astype(np.int64)\n",
    "\n",
    "# inner join of both DataFrames\n",
    "df_result = pd.merge(df_listings_with_license, df_al, how='inner', on='NrRNAL')"
   ]
  },
  {
   "cell_type": "code",
   "execution_count": 46,
   "metadata": {},
   "outputs": [
    {
     "name": "stdout",
     "output_type": "stream",
     "text": [
      "Removing rows with missing data keeps 99.59% of the original data.\n"
     ]
    }
   ],
   "source": [
    "# keep only columns which are relevant for Property dimension\n",
    "df_columns = ['property_type',\n",
    "              'room_type',\n",
    "              'accommodates',\n",
    "              'bathrooms',\n",
    "              'bedrooms',\n",
    "              'beds',\n",
    "              'bed_type']\n",
    "\n",
    "# removing rows with missing data\n",
    "kept_data = df_result[df_columns].dropna().reset_index().copy()\n",
    "print('Removing rows with missing data keeps {}% of the original data.'.format( round( (kept_data.shape[0] / df_result[df_columns].shape[0]) * 100, 2) ) )"
   ]
  },
  {
   "cell_type": "markdown",
   "metadata": {},
   "source": [
    "# Drafts"
   ]
  },
  {
   "cell_type": "markdown",
   "metadata": {},
   "source": [
    "This will change in future, with the addition of price/sqr. meter"
   ]
  },
  {
   "cell_type": "code",
   "execution_count": null,
   "metadata": {},
   "outputs": [],
   "source": [
    "# convert columns to categorical variables and keep rows with only relevant categories\n",
    "\n",
    "delete_rows = []\n",
    "\n",
    "# change 'property_type' to four categories, exclude exceptions\n",
    "for i, value in enumerate(kept_data['property_type']):\n",
    "    if value in [\"Apartment\", \"Serviced apartment\", \"Aparthotel\",\"Loft\"]:  \n",
    "        kept_data.loc[i, 'property_type'] = 'Apartment'\n",
    "    elif value in [\"House\",\"Townhouse\",\"Villa\",\"Dome house\",\"Vacation home\",\"Lighthouse\",\"Casa particular (Cuba)\",\"Tiny house\",\"Farm stay\",\"Cottage\"]:\n",
    "        kept_data.loc[i, 'property_type'] = 'House'\n",
    "    elif value in [\"Guesthouse\",\"Guest suite\"]:\n",
    "        kept_data.loc[i, 'property_type'] = 'Guesthouse'\n",
    "    elif value in [\"Hostel\",\"Bed and breakfast\",\"Boutique hotel\",\"Hotel\"]:\n",
    "        kept_data.loc[i, 'property_type'] = 'Hotel/Hostel'\n",
    "    else:\n",
    "        delete_rows.append(i)  \n",
    "\n",
    "list(set(delete_rows))\n",
    "kept_data.drop(delete_rows, inplace = True)\n",
    "kept_data = kept_data.drop('index', axis = 1).reset_index().drop('index', axis = 1)\n",
    "kept_data\n",
    "\n",
    "# change 'bathrooms' to five categories, exclude exceptions\n",
    "for i, value in enumerate(kept_data['bathrooms']):\n",
    "    if value < 0.5:  \n",
    "        kept_data.loc[i, 'bathrooms'] = '0 bathrooms'\n",
    "    elif value < 1.5:\n",
    "        kept_data.loc[i, 'bathrooms'] = '1 bathroom'\n",
    "    elif value < 2.5:\n",
    "        kept_data.loc[i, 'bathrooms'] = '2 bathrooms'\n",
    "    elif value < 3.5:\n",
    "        kept_data.loc[i, 'bathrooms'] = '3 bathrooms'\n",
    "    elif value >= 3.5:\n",
    "        kept_data.loc[i, 'bathrooms'] = '4+ bathrooms'\n",
    "    else:\n",
    "        delete_rows.append(i) # for the case of missing values\n",
    "\n",
    "# change 'bedrooms' to five categories, exclude exceptions\n",
    "for i, value in enumerate(kept_data['bedrooms']):\n",
    "    if value == 0:  \n",
    "        kept_data.loc[i, 'bedrooms'] = 'T0'\n",
    "    elif value == 1:\n",
    "        kept_data.loc[i, 'bedrooms'] = 'T1'\n",
    "    elif value == 2:\n",
    "        kept_data.loc[i, 'bedrooms'] = 'T2'\n",
    "    elif value == 3:\n",
    "        kept_data.loc[i, 'bedrooms'] = 'T3'\n",
    "    elif value >= 4:\n",
    "        kept_data.loc[i, 'bedrooms'] = 'T4+'\n",
    "    else:\n",
    "        delete_rows.append(i) # for the case of missing values\n",
    "        \n",
    "# create a binned category type for 'accommodates'\n",
    "kept_data['accommodates_new'] = pd.qcut(kept_data['accommodates'],4, duplicates='drop')"
   ]
  },
  {
   "cell_type": "code",
   "execution_count": null,
   "metadata": {},
   "outputs": [],
   "source": []
  },
  {
   "cell_type": "code",
   "execution_count": null,
   "metadata": {},
   "outputs": [],
   "source": []
  }
 ],
 "metadata": {
  "kernelspec": {
   "display_name": "Python 3",
   "language": "python",
   "name": "python3"
  },
  "language_info": {
   "codemirror_mode": {
    "name": "ipython",
    "version": 3
   },
   "file_extension": ".py",
   "mimetype": "text/x-python",
   "name": "python",
   "nbconvert_exporter": "python",
   "pygments_lexer": "ipython3",
   "version": "3.7.5"
  }
 },
 "nbformat": 4,
 "nbformat_minor": 4
}
