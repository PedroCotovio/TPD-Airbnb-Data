{
 "cells": [
  {
   "cell_type": "markdown",
   "metadata": {},
   "source": [
    "# Dimension _'Property'_"
   ]
  },
  {
   "cell_type": "markdown",
   "metadata": {},
   "source": [
    "## Introduction\n",
    "### Hierarchies\n",
    "\n",
    "This dimension has one hierarchy: _'property_type_category'_ > _'property_type'_."
   ]
  },
  {
   "cell_type": "code",
   "execution_count": 1,
   "metadata": {},
   "outputs": [],
   "source": [
    "# libraries\n",
    "import psycopg2 as pg\n",
    "import pandas as pd\n",
    "import numpy as np\n",
    "import seaborn as sns\n",
    "import matplotlib.pyplot as plt\n",
    "from scipy import stats\n",
    "from scipy.stats import norm\n",
    "import os\n",
    "import psycopg2.extras\n",
    "\n",
    "# set environment variable for psycog2 (for some systems)\n",
    "os.environ[\"PGGSSENCMODE\"] = \"disable\"\n",
    "\n",
    "# get the stored passwords\n",
    "f=open(\"credentials.txt\", \"rt\")\n",
    "pwd=f.readline().strip()  #di   password\n",
    "hpwd=f.readline().strip() #home password\n",
    "f.close()"
   ]
  },
  {
   "cell_type": "markdown",
   "metadata": {},
   "source": [
    "## Exploratory data analysis"
   ]
  },
  {
   "cell_type": "code",
   "execution_count": 2,
   "metadata": {
    "ExecuteTime": {
     "end_time": "2020-03-27T18:13:44.029818Z",
     "start_time": "2020-03-27T18:13:44.017794Z"
    }
   },
   "outputs": [],
   "source": [
    "def missing_data(df, columns):\n",
    "    \"\"\"\"\"\"\n",
    "    df_graph = df[columns]\n",
    "    # missing data\n",
    "    total = df_graph.isnull().sum().sort_values(ascending=False)\n",
    "    percent = (df_graph.isnull().sum()/df_graph.isnull().count()).sort_values(ascending=False)\n",
    "    missing_data = pd.concat([total, percent], axis=1, keys=['Count', 'Percentage (%)'])\n",
    "    print(missing_data)\n",
    "    plt.figure(figsize=(10,5))\n",
    "    ax = sns.barplot(x='index',y = 'Percentage (%)', data= missing_data.reset_index())\n",
    "    ax.set_xticklabels(ax.get_xticklabels(), rotation=45)\n",
    "    return ax\n",
    "\n",
    "#IN BAR CHARTS, SET PERCENTAGES ABOVE EACH BAR\n",
    "def set_bar_percentage(ax, df):\n",
    "    \"\"\"\"\"\"\n",
    "    for p in ax.patches:\n",
    "        ax.annotate(f\"{p.get_height() * 100 / df.shape[0]:.2f}%\", (p.get_x() + p.get_width() / 2., p.get_height()),\n",
    "          ha='center', va='center', rotation=0, xytext=(0, 10),\n",
    "          textcoords='offset points')\n",
    "        \n",
    "#IN BAR CHARTS, SET THE VALUE ABOVE EACH BAR\n",
    "def set_bar_amount(ax):\n",
    "    \"\"\"\"\"\"\n",
    "    for p in ax.patches:\n",
    "        height = p.get_height()\n",
    "        ax.annotate(\"{0:.2f}%\".format(p.get_height()*100), (p.get_x() + p.get_width() / 2., p.get_height()),\n",
    "            ha='center', va='center', rotation=0, xytext=(0, 10),\n",
    "            textcoords='offset points')\n",
    "        \n",
    "# simple bar plot\n",
    "def simple_plot(df,column):\n",
    "    bx = sns.catplot(x=column,data=df, kind='count')\n",
    "    (bx.set_axis_labels(column, \"Count\")\n",
    "        .set_titles(\"{col_name} {col_var}\")\n",
    "        .despine(left=True))"
   ]
  },
  {
   "cell_type": "markdown",
   "metadata": {},
   "source": [
    "### Missing data"
   ]
  },
  {
   "cell_type": "markdown",
   "metadata": {},
   "source": [
    "#### Loading data"
   ]
  },
  {
   "cell_type": "code",
   "execution_count": 3,
   "metadata": {},
   "outputs": [
    {
     "name": "stderr",
     "output_type": "stream",
     "text": [
      "C:\\Users\\joao_\\Anaconda3\\lib\\site-packages\\IPython\\core\\interactiveshell.py:3063: DtypeWarning: Columns (61,62) have mixed types. Specify dtype option on import or set low_memory=False.\n",
      "  interactivity=interactivity, compiler=compiler, result=result)\n"
     ]
    }
   ],
   "source": [
    "listings_al_file_path = '../data/listings_al.csv'\n",
    "df_listings_al = pd.read_csv(listings_al_file_path)"
   ]
  },
  {
   "cell_type": "code",
   "execution_count": 4,
   "metadata": {},
   "outputs": [
    {
     "name": "stdout",
     "output_type": "stream",
     "text": [
      "               Count  Percentage (%)\n",
      "beds              58        0.003378\n",
      "bedrooms           8        0.000466\n",
      "bathrooms          5        0.000291\n",
      "bed_type           0        0.000000\n",
      "accommodates       0        0.000000\n",
      "room_type          0        0.000000\n",
      "property_type      0        0.000000\n"
     ]
    },
    {
     "data": {
      "text/plain": [
       "Text(0.5, 1.0, 'Property dimension missing values')"
      ]
     },
     "execution_count": 4,
     "metadata": {},
     "output_type": "execute_result"
    },
    {
     "data": {
      "image/png": "[encoded data removed]",
      "text/plain": [
       "<Figure size 720x360 with 1 Axes>"
      ]
     },
     "metadata": {
      "needs_background": "light"
     },
     "output_type": "display_data"
    }
   ],
   "source": [
    "columns = ['property_type',\n",
    "           'room_type',\n",
    "           'accommodates',\n",
    "           'bathrooms',\n",
    "           'bedrooms',\n",
    "           'beds',\n",
    "           'bed_type']\n",
    "\n",
    "ax = missing_data(df_listings_al,columns)\n",
    "set_bar_amount(ax)\n",
    "ax.set_xlabel('Columns')\n",
    "ax.set_ylabel('Missing data (%)')\n",
    "plt.ylim(0,1)\n",
    "ax.spines['right'].set_visible(False)\n",
    "ax.spines['top'].set_visible(False)\n",
    "ax.set_title('Property dimension missing values')"
   ]
  },
  {
   "cell_type": "markdown",
   "metadata": {},
   "source": [
    "The detected missing data will be removed, as it constitutes a small percentage of the overall information."
   ]
  },
  {
   "cell_type": "markdown",
   "metadata": {},
   "source": [
    "## Preprocessing"
   ]
  },
  {
   "cell_type": "markdown",
   "metadata": {},
   "source": [
    "The defined _'Property'_ dimension table is as follows. Price per meter squared was previously a column in this table, but data was lacking to determine that attribute at the property level, and therefore was removed.\n",
    "\n",
    "<img src=\"../images/property_schema.png\" align=\"center\"/>\n",
    "\n",
    "The ETL pipeline is described below:\n",
    "\n",
    "![ETL pipeline](../images/Pipeline_property.png)"
   ]
  },
  {
   "cell_type": "code",
   "execution_count": 5,
   "metadata": {},
   "outputs": [],
   "source": [
    "# load connection settings\n",
    "from db_connection import dbconnection "
   ]
  },
  {
   "cell_type": "code",
   "execution_count": 6,
   "metadata": {},
   "outputs": [],
   "source": [
    "# test connection\n",
    "conn = psycopg2.connect(host = dbconnection.server_host,database = dbconnection.dbname, user = dbconnection.dbusername,password = dbconnection.dbpassword,sslmode=dbconnection.sslmode,gssencmode=dbconnection.gssencmode)\n",
    "conn.close()"
   ]
  },
  {
   "cell_type": "code",
   "execution_count": 7,
   "metadata": {},
   "outputs": [],
   "source": [
    "def delete_null_rows(df,columns):\n",
    "    \"\"\"Removes all records with any empty cells from input DataFrame\"\"\"\n",
    "    processed_df = df[columns].copy()\n",
    "    total_rows = processed_df.shape[0]\n",
    "    delete_rows = []\n",
    "    \n",
    "    if processed_df.isnull().values.any(): # if there are any null values in DataFrame, process DataFrame\n",
    "        for index, row in enumerate(processed_df.itertuples(), start = 0):\n",
    "            if (pd.Series(row).isnull().values.any()): # if row has any null value\n",
    "                delete_rows.append(index) # add row index to delete list\n",
    "    \n",
    "    processed_df.drop(df.index[delete_rows], inplace = True) # delete rows fr\n",
    "    processed_df = processed_df.reset_index().drop('index', axis = 1)\n",
    "    print('DataFrame contains {} rows. Deleted {} rows ({}% of total rows)'.format(processed_df.shape[0], len(delete_rows), round(len(delete_rows)*100/total_rows, 2)))\n",
    "    return processed_df"
   ]
  },
  {
   "cell_type": "code",
   "execution_count": 8,
   "metadata": {},
   "outputs": [
    {
     "name": "stdout",
     "output_type": "stream",
     "text": [
      "DataFrame contains 17097 rows. Deleted 71 rows (0.41% of total rows)\n"
     ]
    }
   ],
   "source": [
    "property_columns = ['id',\n",
    "                    'property_type',\n",
    "                    'room_type',\n",
    "                    'accommodates',\n",
    "                    'bathrooms',\n",
    "                    'bedrooms',\n",
    "                    'beds',\n",
    "                    'bed_type']\n",
    "\n",
    "df_property = delete_null_rows(df_listings_al,property_columns)"
   ]
  },
  {
   "cell_type": "markdown",
   "metadata": {},
   "source": [
    "From `df_property`, we create `df_conv_fact`, which will be the table containing a record for each fact ID converted to the dimension format. `property_dimension` will be the _de facto_ property dimension from which we can correspond each fact ID record to the appropriate dimension foreign key according to its set of attributes."
   ]
  },
  {
   "cell_type": "markdown",
   "metadata": {},
   "source": [
    "### _'property_type_category'_\n",
    "\n",
    "We start by creating _'property_type_category'_, a set of four categories from _'property_type'_."
   ]
  },
  {
   "cell_type": "code",
   "execution_count": 9,
   "metadata": {},
   "outputs": [],
   "source": [
    "def get_property_type_category(value):\n",
    "# change 'property_type' to four categories, exclude exceptions\n",
    "    if value in [\"Apartment\", \"Serviced apartment\", \"Aparthotel\",\"Loft\"]:\n",
    "        return 'Apartment'\n",
    "    if value in [\"House\",\"Townhouse\",\"Villa\",\"Dome house\",\"Vacation home\",\"Lighthouse\",\"Casa particular (Cuba)\",\"Tiny house\",\"Farm stay\",\"Cottage\"]:\n",
    "        return 'House'\n",
    "    if value in [\"Guesthouse\",\"Guest suite\"]:\n",
    "        return 'Guesthouse'\n",
    "    if value in [\"Hostel\",\"Bed and breakfast\",\"Boutique hotel\",\"Hotel\"]:\n",
    "        return 'Hotel/Hostel'\n",
    "    return None # for the case of missing or invalid values"
   ]
  },
  {
   "cell_type": "markdown",
   "metadata": {},
   "source": [
    "### _'room_type'_"
   ]
  },
  {
   "cell_type": "markdown",
   "metadata": {},
   "source": [
    "This attribute is already defined in satisfactory categories."
   ]
  },
  {
   "cell_type": "markdown",
   "metadata": {},
   "source": [
    "### _'accommodates'_"
   ]
  },
  {
   "cell_type": "code",
   "execution_count": 10,
   "metadata": {},
   "outputs": [],
   "source": [
    "def get_accommodates(value):\n",
    "# change 'property_type' to four categories, exclude exceptions\n",
    "    if value in [1,2]: return 'Up to 2 guests'\n",
    "    if value in [3,4]: return 'Up to 4 guests'\n",
    "    if value in [5,6]: return 'Up to 6 guests'\n",
    "    return 'Up to 7 guests or more' # no missing values in this column"
   ]
  },
  {
   "cell_type": "markdown",
   "metadata": {},
   "source": [
    "### _'bathrooms'_"
   ]
  },
  {
   "cell_type": "code",
   "execution_count": 11,
   "metadata": {},
   "outputs": [],
   "source": [
    "def get_bathrooms(value):\n",
    "# change 'bathrooms' to five categories, exclude exceptions\n",
    "    if value < 0.5: return 'No bathrooms'\n",
    "    if value < 1.5: return '1 bathroom'\n",
    "    if value < 2.5: return '2 bathrooms'\n",
    "    if value < 3.5: return '3 bathrooms'\n",
    "    if value >= 3.5: return '4+ bathrooms'\n",
    "    return None # for the case of missing or invalid values"
   ]
  },
  {
   "cell_type": "markdown",
   "metadata": {},
   "source": [
    "### _'bedrooms'_"
   ]
  },
  {
   "cell_type": "code",
   "execution_count": 12,
   "metadata": {},
   "outputs": [],
   "source": [
    "def get_bedrooms(value):\n",
    "# change 'bedrooms' to five categories, exclude exceptions\n",
    "    if value == 0: return 'T0'\n",
    "    if value == 1: return 'T1'\n",
    "    if value == 2: return 'T2'\n",
    "    if value == 3: return 'T3'\n",
    "    if value >= 4: return 'T4+'\n",
    "    return None # for the case of missing or invalid values"
   ]
  },
  {
   "cell_type": "markdown",
   "metadata": {},
   "source": [
    "### _'beds'_"
   ]
  },
  {
   "cell_type": "code",
   "execution_count": 13,
   "metadata": {},
   "outputs": [],
   "source": [
    "def get_beds(value):\n",
    "# change 'beds' to five categories, exclude exceptions\n",
    "    if value == 0: return 'No beds'\n",
    "    if value == 1: return '1 bed'\n",
    "    if value == 2: return '2 beds'\n",
    "    if value == 3: return '3 beds'\n",
    "    if value >= 4: return '4+ beds'\n",
    "    return None # for the case of missing or invalid values"
   ]
  },
  {
   "cell_type": "code",
   "execution_count": 14,
   "metadata": {},
   "outputs": [],
   "source": [
    "def convert_facts_property(df_non_null_facts):\n",
    "    \"\"\"Performs preprocessing in facts to a Property dimension format\"\"\"\n",
    "    dimension = {}\n",
    "\n",
    "    dimension['ID'] = [value for value in df_property['id']]\n",
    "    dimension['property_type_category'] = [get_property_type_category(value) for value in df_property['property_type']]\n",
    "    dimension['property_type'] = [value for value in df_property['property_type']]\n",
    "    dimension['room_type'] = [value for value in df_property['room_type']]\n",
    "    dimension['accommodates'] = [get_accommodates(value) for value in df_property['accommodates']]\n",
    "    dimension['bathrooms'] = [get_bathrooms(value) for value in df_property['bathrooms']]\n",
    "    dimension['bedrooms'] = [get_bedrooms(value) for value in df_property['bedrooms']]\n",
    "    dimension['beds'] = [get_beds(value) for value in df_property['beds']]\n",
    "    dimension['bed_type'] = [value for value in df_property['bed_type']]\n",
    "\n",
    "    df_conv_facts = pd.DataFrame(dimension)\n",
    "    df_conv_facts.index += 1\n",
    "    df_conv_facts = delete_null_rows(df_conv_facts,df_conv_facts.columns) # removes any rows that during processing gained null values\n",
    "    \n",
    "    return df_conv_facts"
   ]
  },
  {
   "cell_type": "code",
   "execution_count": 15,
   "metadata": {},
   "outputs": [
    {
     "name": "stdout",
     "output_type": "stream",
     "text": [
      "DataFrame contains 16626 rows. Deleted 471 rows (2.75% of total rows)\n"
     ]
    },
    {
     "data": {
      "text/html": [
       "<div>\n",
       "<style scoped>\n",
       "    .dataframe tbody tr th:only-of-type {\n",
       "        vertical-align: middle;\n",
       "    }\n",
       "\n",
       "    .dataframe tbody tr th {\n",
       "        vertical-align: top;\n",
       "    }\n",
       "\n",
       "    .dataframe thead th {\n",
       "        text-align: right;\n",
       "    }\n",
       "</style>\n",
       "<table border=\"1\" class=\"dataframe\">\n",
       "  <thead>\n",
       "    <tr style=\"text-align: right;\">\n",
       "      <th></th>\n",
       "      <th>ID</th>\n",
       "      <th>property_type_category</th>\n",
       "      <th>property_type</th>\n",
       "      <th>room_type</th>\n",
       "      <th>accommodates</th>\n",
       "      <th>bathrooms</th>\n",
       "      <th>bedrooms</th>\n",
       "      <th>beds</th>\n",
       "      <th>bed_type</th>\n",
       "    </tr>\n",
       "  </thead>\n",
       "  <tbody>\n",
       "    <tr>\n",
       "      <th>0</th>\n",
       "      <td>25659</td>\n",
       "      <td>Apartment</td>\n",
       "      <td>Apartment</td>\n",
       "      <td>Entire home/apt</td>\n",
       "      <td>Up to 4 guests</td>\n",
       "      <td>1 bathroom</td>\n",
       "      <td>T1</td>\n",
       "      <td>1 bed</td>\n",
       "      <td>Real Bed</td>\n",
       "    </tr>\n",
       "    <tr>\n",
       "      <th>1</th>\n",
       "      <td>29248</td>\n",
       "      <td>Apartment</td>\n",
       "      <td>Apartment</td>\n",
       "      <td>Entire home/apt</td>\n",
       "      <td>Up to 4 guests</td>\n",
       "      <td>1 bathroom</td>\n",
       "      <td>T1</td>\n",
       "      <td>2 beds</td>\n",
       "      <td>Real Bed</td>\n",
       "    </tr>\n",
       "    <tr>\n",
       "      <th>2</th>\n",
       "      <td>29396</td>\n",
       "      <td>Apartment</td>\n",
       "      <td>Apartment</td>\n",
       "      <td>Entire home/apt</td>\n",
       "      <td>Up to 4 guests</td>\n",
       "      <td>1 bathroom</td>\n",
       "      <td>T1</td>\n",
       "      <td>1 bed</td>\n",
       "      <td>Real Bed</td>\n",
       "    </tr>\n",
       "    <tr>\n",
       "      <th>3</th>\n",
       "      <td>29720</td>\n",
       "      <td>Apartment</td>\n",
       "      <td>Apartment</td>\n",
       "      <td>Entire home/apt</td>\n",
       "      <td>Up to 7 guests or more</td>\n",
       "      <td>4+ bathrooms</td>\n",
       "      <td>T4+</td>\n",
       "      <td>4+ beds</td>\n",
       "      <td>Real Bed</td>\n",
       "    </tr>\n",
       "    <tr>\n",
       "      <th>4</th>\n",
       "      <td>27899698</td>\n",
       "      <td>Apartment</td>\n",
       "      <td>Apartment</td>\n",
       "      <td>Entire home/apt</td>\n",
       "      <td>Up to 4 guests</td>\n",
       "      <td>2 bathrooms</td>\n",
       "      <td>T2</td>\n",
       "      <td>2 beds</td>\n",
       "      <td>Real Bed</td>\n",
       "    </tr>\n",
       "    <tr>\n",
       "      <th>...</th>\n",
       "      <td>...</td>\n",
       "      <td>...</td>\n",
       "      <td>...</td>\n",
       "      <td>...</td>\n",
       "      <td>...</td>\n",
       "      <td>...</td>\n",
       "      <td>...</td>\n",
       "      <td>...</td>\n",
       "      <td>...</td>\n",
       "    </tr>\n",
       "    <tr>\n",
       "      <th>16621</th>\n",
       "      <td>41870065</td>\n",
       "      <td>Apartment</td>\n",
       "      <td>Apartment</td>\n",
       "      <td>Entire home/apt</td>\n",
       "      <td>Up to 2 guests</td>\n",
       "      <td>1 bathroom</td>\n",
       "      <td>T1</td>\n",
       "      <td>1 bed</td>\n",
       "      <td>Real Bed</td>\n",
       "    </tr>\n",
       "    <tr>\n",
       "      <th>16622</th>\n",
       "      <td>41879410</td>\n",
       "      <td>Apartment</td>\n",
       "      <td>Apartment</td>\n",
       "      <td>Entire home/apt</td>\n",
       "      <td>Up to 4 guests</td>\n",
       "      <td>1 bathroom</td>\n",
       "      <td>T1</td>\n",
       "      <td>3 beds</td>\n",
       "      <td>Real Bed</td>\n",
       "    </tr>\n",
       "    <tr>\n",
       "      <th>16623</th>\n",
       "      <td>41882911</td>\n",
       "      <td>Apartment</td>\n",
       "      <td>Apartment</td>\n",
       "      <td>Entire home/apt</td>\n",
       "      <td>Up to 4 guests</td>\n",
       "      <td>1 bathroom</td>\n",
       "      <td>T1</td>\n",
       "      <td>3 beds</td>\n",
       "      <td>Real Bed</td>\n",
       "    </tr>\n",
       "    <tr>\n",
       "      <th>16624</th>\n",
       "      <td>41879552</td>\n",
       "      <td>Apartment</td>\n",
       "      <td>Loft</td>\n",
       "      <td>Entire home/apt</td>\n",
       "      <td>Up to 2 guests</td>\n",
       "      <td>1 bathroom</td>\n",
       "      <td>T1</td>\n",
       "      <td>1 bed</td>\n",
       "      <td>Real Bed</td>\n",
       "    </tr>\n",
       "    <tr>\n",
       "      <th>16625</th>\n",
       "      <td>41882713</td>\n",
       "      <td>Hotel/Hostel</td>\n",
       "      <td>Boutique hotel</td>\n",
       "      <td>Private room</td>\n",
       "      <td>Up to 2 guests</td>\n",
       "      <td>1 bathroom</td>\n",
       "      <td>T1</td>\n",
       "      <td>2 beds</td>\n",
       "      <td>Real Bed</td>\n",
       "    </tr>\n",
       "  </tbody>\n",
       "</table>\n",
       "<p>16626 rows × 9 columns</p>\n",
       "</div>"
      ],
      "text/plain": [
       "             ID property_type_category   property_type        room_type  \\\n",
       "0         25659              Apartment       Apartment  Entire home/apt   \n",
       "1         29248              Apartment       Apartment  Entire home/apt   \n",
       "2         29396              Apartment       Apartment  Entire home/apt   \n",
       "3         29720              Apartment       Apartment  Entire home/apt   \n",
       "4      27899698              Apartment       Apartment  Entire home/apt   \n",
       "...         ...                    ...             ...              ...   \n",
       "16621  41870065              Apartment       Apartment  Entire home/apt   \n",
       "16622  41879410              Apartment       Apartment  Entire home/apt   \n",
       "16623  41882911              Apartment       Apartment  Entire home/apt   \n",
       "16624  41879552              Apartment            Loft  Entire home/apt   \n",
       "16625  41882713           Hotel/Hostel  Boutique hotel     Private room   \n",
       "\n",
       "                 accommodates     bathrooms bedrooms     beds  bed_type  \n",
       "0              Up to 4 guests    1 bathroom       T1    1 bed  Real Bed  \n",
       "1              Up to 4 guests    1 bathroom       T1   2 beds  Real Bed  \n",
       "2              Up to 4 guests    1 bathroom       T1    1 bed  Real Bed  \n",
       "3      Up to 7 guests or more  4+ bathrooms      T4+  4+ beds  Real Bed  \n",
       "4              Up to 4 guests   2 bathrooms       T2   2 beds  Real Bed  \n",
       "...                       ...           ...      ...      ...       ...  \n",
       "16621          Up to 2 guests    1 bathroom       T1    1 bed  Real Bed  \n",
       "16622          Up to 4 guests    1 bathroom       T1   3 beds  Real Bed  \n",
       "16623          Up to 4 guests    1 bathroom       T1   3 beds  Real Bed  \n",
       "16624          Up to 2 guests    1 bathroom       T1    1 bed  Real Bed  \n",
       "16625          Up to 2 guests    1 bathroom       T1   2 beds  Real Bed  \n",
       "\n",
       "[16626 rows x 9 columns]"
      ]
     },
     "execution_count": 15,
     "metadata": {},
     "output_type": "execute_result"
    }
   ],
   "source": [
    "df_conv_facts = convert_facts_property(df_property)\n",
    "\n",
    "df_conv_facts"
   ]
  },
  {
   "cell_type": "markdown",
   "metadata": {},
   "source": [
    "`df_conv_facts` now contains all facts of interest converted to the appropriate dimension format."
   ]
  },
  {
   "cell_type": "markdown",
   "metadata": {},
   "source": [
    "## Creating the dimension table"
   ]
  },
  {
   "cell_type": "code",
   "execution_count": 16,
   "metadata": {},
   "outputs": [],
   "source": [
    "create_table = \"\"\"\n",
    "CREATE TABLE IF NOT EXISTS Property (\n",
    "    PROPERTY_ID SERIAL PRIMARY KEY NOT NULL,\n",
    "    PROPERTY_TYPE_CATEGORY VARCHAR(30) CHECK (PROPERTY_TYPE_CATEGORY in ('Apartment', 'Guesthouse', 'House', 'Hotel/Hostel')) NOT NULL,\n",
    "    PROPERTY_TYPE VARCHAR(30) CHECK (PROPERTY_TYPE in ('Apartment','Serviced apartment','Aparthotel','Loft','House','Townhouse','Villa','Dome house','Vacation home','Lighthouse','Casa particular (Cuba)','Tiny house','Farm stay','Cottage','Guesthouse','Guest suite','Hostel','Bed and breakfast','Boutique hotel','Hotel')) NOT NULL,\n",
    "    ROOM_TYPE VARCHAR(30) CHECK (ROOM_TYPE in ('Entire home/apt', 'Private room', 'Hotel room', 'Shared room')) NOT NULL,\n",
    "    ACCOMMODATES VARCHAR(30) CHECK (ACCOMMODATES in ('Up to 2 guests','Up to 4 guests','Up to 6 guests','Up to 7 guests or more')) NOT NULL,\n",
    "    BATHROOMS VARCHAR(30) CHECK (BATHROOMS in ('No bathrooms','1 bathroom','2 bathrooms','3 bathrooms','4+ bathrooms')) NOT NULL,\n",
    "    BEDROOMS VARCHAR(10) CHECK (BEDROOMS in ('T0','T1','T2','T3','T4+')) NOT NULL,\n",
    "    BEDS VARCHAR(10) CHECK (BEDS in ('No beds','1 bed','2 beds','3 beds','4+ beds')) NOT NULL,\n",
    "    BED_TYPE VARCHAR(30) CHECK (BED_TYPE in ('Real Bed', 'Pull-out Sofa', 'Futon', 'Couch', 'Airbed')) NOT NULL\n",
    ")\n",
    "\"\"\""
   ]
  },
  {
   "cell_type": "markdown",
   "metadata": {},
   "source": [
    "The `create_table` command contains the integrity constraints essential for modelling the dimension."
   ]
  },
  {
   "cell_type": "code",
   "execution_count": 17,
   "metadata": {},
   "outputs": [],
   "source": [
    "def excuteSingleSQLstatement(sql, host, database, user, password,gssencmode):\n",
    "    conn = pg.connect(host=host,database=database, user=user, password=password,sslmode = sslmode,gssencmode=gssencmode)\n",
    "    cur = conn.cursor()\n",
    "    cur.execute(sql)\n",
    "    cur.close()\n",
    "    conn.commit()\n",
    "    conn.close()    "
   ]
  },
  {
   "cell_type": "code",
   "execution_count": 18,
   "metadata": {},
   "outputs": [],
   "source": [
    "excuteSingleSQLstatement(create_table, dbconnection.server_host, dbconnection.dbname, dbconnection.dbusername, dbconnection.dbpassword,gssencmode = dbconnection.gssencmode)"
   ]
  },
  {
   "cell_type": "markdown",
   "metadata": {},
   "source": [
    "The dimension table is created empty, to be populated later with incoming data."
   ]
  },
  {
   "cell_type": "markdown",
   "metadata": {},
   "source": [
    "### Adding new data to dimension table"
   ]
  },
  {
   "cell_type": "code",
   "execution_count": 19,
   "metadata": {},
   "outputs": [],
   "source": [
    "def create_property_dimension(df_conv_facts,columns):\n",
    "    \"\"\"Creates a Property dimension table from a converted facts DataFrame\"\"\"\n",
    "    property_dimension = df_conv_facts[columns].drop_duplicates().copy()\n",
    "    property_dimension = property_dimension.reset_index().drop('index', axis = 1)\n",
    "    property_dimension.index += 1\n",
    "\n",
    "    return property_dimension"
   ]
  },
  {
   "cell_type": "code",
   "execution_count": 20,
   "metadata": {},
   "outputs": [
    {
     "data": {
      "text/html": [
       "<div>\n",
       "<style scoped>\n",
       "    .dataframe tbody tr th:only-of-type {\n",
       "        vertical-align: middle;\n",
       "    }\n",
       "\n",
       "    .dataframe tbody tr th {\n",
       "        vertical-align: top;\n",
       "    }\n",
       "\n",
       "    .dataframe thead th {\n",
       "        text-align: right;\n",
       "    }\n",
       "</style>\n",
       "<table border=\"1\" class=\"dataframe\">\n",
       "  <thead>\n",
       "    <tr style=\"text-align: right;\">\n",
       "      <th></th>\n",
       "      <th>property_type_category</th>\n",
       "      <th>property_type</th>\n",
       "      <th>room_type</th>\n",
       "      <th>accommodates</th>\n",
       "      <th>bathrooms</th>\n",
       "      <th>bedrooms</th>\n",
       "      <th>beds</th>\n",
       "      <th>bed_type</th>\n",
       "    </tr>\n",
       "  </thead>\n",
       "  <tbody>\n",
       "    <tr>\n",
       "      <th>1</th>\n",
       "      <td>Apartment</td>\n",
       "      <td>Apartment</td>\n",
       "      <td>Entire home/apt</td>\n",
       "      <td>Up to 4 guests</td>\n",
       "      <td>1 bathroom</td>\n",
       "      <td>T1</td>\n",
       "      <td>1 bed</td>\n",
       "      <td>Real Bed</td>\n",
       "    </tr>\n",
       "    <tr>\n",
       "      <th>2</th>\n",
       "      <td>Apartment</td>\n",
       "      <td>Apartment</td>\n",
       "      <td>Entire home/apt</td>\n",
       "      <td>Up to 4 guests</td>\n",
       "      <td>1 bathroom</td>\n",
       "      <td>T1</td>\n",
       "      <td>2 beds</td>\n",
       "      <td>Real Bed</td>\n",
       "    </tr>\n",
       "    <tr>\n",
       "      <th>3</th>\n",
       "      <td>Apartment</td>\n",
       "      <td>Apartment</td>\n",
       "      <td>Entire home/apt</td>\n",
       "      <td>Up to 7 guests or more</td>\n",
       "      <td>4+ bathrooms</td>\n",
       "      <td>T4+</td>\n",
       "      <td>4+ beds</td>\n",
       "      <td>Real Bed</td>\n",
       "    </tr>\n",
       "    <tr>\n",
       "      <th>4</th>\n",
       "      <td>Apartment</td>\n",
       "      <td>Apartment</td>\n",
       "      <td>Entire home/apt</td>\n",
       "      <td>Up to 4 guests</td>\n",
       "      <td>2 bathrooms</td>\n",
       "      <td>T2</td>\n",
       "      <td>2 beds</td>\n",
       "      <td>Real Bed</td>\n",
       "    </tr>\n",
       "    <tr>\n",
       "      <th>5</th>\n",
       "      <td>Apartment</td>\n",
       "      <td>Apartment</td>\n",
       "      <td>Entire home/apt</td>\n",
       "      <td>Up to 4 guests</td>\n",
       "      <td>1 bathroom</td>\n",
       "      <td>T1</td>\n",
       "      <td>No beds</td>\n",
       "      <td>Real Bed</td>\n",
       "    </tr>\n",
       "    <tr>\n",
       "      <th>...</th>\n",
       "      <td>...</td>\n",
       "      <td>...</td>\n",
       "      <td>...</td>\n",
       "      <td>...</td>\n",
       "      <td>...</td>\n",
       "      <td>...</td>\n",
       "      <td>...</td>\n",
       "      <td>...</td>\n",
       "    </tr>\n",
       "    <tr>\n",
       "      <th>1020</th>\n",
       "      <td>House</td>\n",
       "      <td>Farm stay</td>\n",
       "      <td>Private room</td>\n",
       "      <td>Up to 6 guests</td>\n",
       "      <td>1 bathroom</td>\n",
       "      <td>T2</td>\n",
       "      <td>4+ beds</td>\n",
       "      <td>Real Bed</td>\n",
       "    </tr>\n",
       "    <tr>\n",
       "      <th>1021</th>\n",
       "      <td>Apartment</td>\n",
       "      <td>Apartment</td>\n",
       "      <td>Shared room</td>\n",
       "      <td>Up to 4 guests</td>\n",
       "      <td>1 bathroom</td>\n",
       "      <td>T1</td>\n",
       "      <td>No beds</td>\n",
       "      <td>Real Bed</td>\n",
       "    </tr>\n",
       "    <tr>\n",
       "      <th>1022</th>\n",
       "      <td>House</td>\n",
       "      <td>Casa particular (Cuba)</td>\n",
       "      <td>Entire home/apt</td>\n",
       "      <td>Up to 4 guests</td>\n",
       "      <td>1 bathroom</td>\n",
       "      <td>T2</td>\n",
       "      <td>4+ beds</td>\n",
       "      <td>Real Bed</td>\n",
       "    </tr>\n",
       "    <tr>\n",
       "      <th>1023</th>\n",
       "      <td>Hotel/Hostel</td>\n",
       "      <td>Bed and breakfast</td>\n",
       "      <td>Private room</td>\n",
       "      <td>Up to 6 guests</td>\n",
       "      <td>2 bathrooms</td>\n",
       "      <td>T1</td>\n",
       "      <td>3 beds</td>\n",
       "      <td>Real Bed</td>\n",
       "    </tr>\n",
       "    <tr>\n",
       "      <th>1024</th>\n",
       "      <td>Apartment</td>\n",
       "      <td>Serviced apartment</td>\n",
       "      <td>Entire home/apt</td>\n",
       "      <td>Up to 4 guests</td>\n",
       "      <td>3 bathrooms</td>\n",
       "      <td>T2</td>\n",
       "      <td>2 beds</td>\n",
       "      <td>Real Bed</td>\n",
       "    </tr>\n",
       "  </tbody>\n",
       "</table>\n",
       "<p>1024 rows × 8 columns</p>\n",
       "</div>"
      ],
      "text/plain": [
       "     property_type_category           property_type        room_type  \\\n",
       "1                 Apartment               Apartment  Entire home/apt   \n",
       "2                 Apartment               Apartment  Entire home/apt   \n",
       "3                 Apartment               Apartment  Entire home/apt   \n",
       "4                 Apartment               Apartment  Entire home/apt   \n",
       "5                 Apartment               Apartment  Entire home/apt   \n",
       "...                     ...                     ...              ...   \n",
       "1020                  House               Farm stay     Private room   \n",
       "1021              Apartment               Apartment      Shared room   \n",
       "1022                  House  Casa particular (Cuba)  Entire home/apt   \n",
       "1023           Hotel/Hostel       Bed and breakfast     Private room   \n",
       "1024              Apartment      Serviced apartment  Entire home/apt   \n",
       "\n",
       "                accommodates     bathrooms bedrooms     beds  bed_type  \n",
       "1             Up to 4 guests    1 bathroom       T1    1 bed  Real Bed  \n",
       "2             Up to 4 guests    1 bathroom       T1   2 beds  Real Bed  \n",
       "3     Up to 7 guests or more  4+ bathrooms      T4+  4+ beds  Real Bed  \n",
       "4             Up to 4 guests   2 bathrooms       T2   2 beds  Real Bed  \n",
       "5             Up to 4 guests    1 bathroom       T1  No beds  Real Bed  \n",
       "...                      ...           ...      ...      ...       ...  \n",
       "1020          Up to 6 guests    1 bathroom       T2  4+ beds  Real Bed  \n",
       "1021          Up to 4 guests    1 bathroom       T1  No beds  Real Bed  \n",
       "1022          Up to 4 guests    1 bathroom       T2  4+ beds  Real Bed  \n",
       "1023          Up to 6 guests   2 bathrooms       T1   3 beds  Real Bed  \n",
       "1024          Up to 4 guests   3 bathrooms       T2   2 beds  Real Bed  \n",
       "\n",
       "[1024 rows x 8 columns]"
      ]
     },
     "execution_count": 20,
     "metadata": {},
     "output_type": "execute_result"
    }
   ],
   "source": [
    "property_dimension_new = create_property_dimension(df_conv_facts,list(df_conv_facts.columns[1:]))\n",
    "\n",
    "property_dimension_new"
   ]
  },
  {
   "cell_type": "markdown",
   "metadata": {},
   "source": [
    "`property_dimension_new` contains all the potential new records for the dimension. This DataFrame is compared to existing dimension data in the database to assess which new records need to be added, and which are already accounted for in the dimension table."
   ]
  },
  {
   "cell_type": "code",
   "execution_count": 21,
   "metadata": {},
   "outputs": [],
   "source": [
    "# function to query table and convert it to pandas dataframe\n",
    "def query_table(conn, table_name):\n",
    "    \"\"\"Returns DataFrame with queried database table\"\"\"\n",
    "    sql = \"select * from {};\".format(table_name)\n",
    "    #return dataframe\n",
    "    return pd.read_sql_query(sql, conn)\n",
    "\n",
    "# for this function to run, the dataframes must have the same columns, in the same order\n",
    "def get_data_to_insert(df_etl, df_sql):\n",
    "    \"\"\"Returns data valid for insertion in dimension from a new ETL-processed DataFrame\"\"\"\n",
    "    return df_etl[~df_etl.isin(df_sql)].dropna(how = 'all') # checks which rows are not yet in the dimension\n",
    "\n",
    "# function for bulk insert\n",
    "def insert_data(df, table_name, conn):\n",
    "    \"\"\"Inserts selected data into dimension table in database\"\"\"\n",
    "    df_columns = list(df)\n",
    "    columns = \",\".join(df_columns)\n",
    "    values = \"VALUES({})\".format(\",\".join([\"%s\" for _ in df_columns])) \n",
    "    insert_stmt = \"INSERT INTO {} ({}) {}\".format(table_name,columns,values)\n",
    "    success = True\n",
    "    try:\n",
    "        cursor = conn.cursor()\n",
    "        psycopg2.extras.execute_batch(cursor, insert_stmt, df.values)\n",
    "        conn.commit()\n",
    "        success = True\n",
    "    except pg.DatabaseError as error:\n",
    "        success = False\n",
    "        print(error)\n",
    "    finally:\n",
    "        if conn is not None:\n",
    "            conn.close()\n",
    "    return success"
   ]
  },
  {
   "cell_type": "code",
   "execution_count": 22,
   "metadata": {},
   "outputs": [
    {
     "data": {
      "text/html": [
       "<div>\n",
       "<style scoped>\n",
       "    .dataframe tbody tr th:only-of-type {\n",
       "        vertical-align: middle;\n",
       "    }\n",
       "\n",
       "    .dataframe tbody tr th {\n",
       "        vertical-align: top;\n",
       "    }\n",
       "\n",
       "    .dataframe thead th {\n",
       "        text-align: right;\n",
       "    }\n",
       "</style>\n",
       "<table border=\"1\" class=\"dataframe\">\n",
       "  <thead>\n",
       "    <tr style=\"text-align: right;\">\n",
       "      <th></th>\n",
       "      <th>property_type_category</th>\n",
       "      <th>property_type</th>\n",
       "      <th>room_type</th>\n",
       "      <th>accommodates</th>\n",
       "      <th>bathrooms</th>\n",
       "      <th>bedrooms</th>\n",
       "      <th>beds</th>\n",
       "      <th>bed_type</th>\n",
       "    </tr>\n",
       "    <tr>\n",
       "      <th>property_id</th>\n",
       "      <th></th>\n",
       "      <th></th>\n",
       "      <th></th>\n",
       "      <th></th>\n",
       "      <th></th>\n",
       "      <th></th>\n",
       "      <th></th>\n",
       "      <th></th>\n",
       "    </tr>\n",
       "  </thead>\n",
       "  <tbody>\n",
       "  </tbody>\n",
       "</table>\n",
       "</div>"
      ],
      "text/plain": [
       "Empty DataFrame\n",
       "Columns: [property_type_category, property_type, room_type, accommodates, bathrooms, bedrooms, beds, bed_type]\n",
       "Index: []"
      ]
     },
     "execution_count": 22,
     "metadata": {},
     "output_type": "execute_result"
    }
   ],
   "source": [
    "# retrieve Property dimension table\n",
    "conn = psycopg2.connect(host = dbconnection.server_host,database = dbconnection.dbname, user = dbconnection.dbusername,password = dbconnection.dbpassword,sslmode=dbconnection.sslmode,gssencmode=dbconnection.gssencmode)\n",
    "\n",
    "property_dimension_old = query_table(conn, 'property')\n",
    "\n",
    "conn.close()\n",
    "\n",
    "property_dimension_old.set_index('property_id', inplace = True)\n",
    "\n",
    "property_dimension_old"
   ]
  },
  {
   "cell_type": "markdown",
   "metadata": {},
   "source": [
    "With `property_dimension_old`, we can now confirm which new records to add to the _'Property'_ dimension. When first populating the database, `property_dimension_old` yields an empty DataFrame."
   ]
  },
  {
   "cell_type": "code",
   "execution_count": 23,
   "metadata": {},
   "outputs": [],
   "source": [
    "# checks which rows from new data will be inserted into database dimension table\n",
    "def get_data_to_insert(df1, df2, columns):\n",
    "    \"\"\"Checks if rows in df1 are already present in df2\"\"\"\n",
    "    return df1[~df1[columns].apply(tuple,1).isin(df2[columns].apply(tuple,1))]"
   ]
  },
  {
   "cell_type": "code",
   "execution_count": 24,
   "metadata": {},
   "outputs": [],
   "source": [
    "# compares rows (excluding unique IDs) of new data and database dimension\n",
    "dimension_insert = get_data_to_insert(property_dimension_new,property_dimension_old,property_dimension_new.columns[1:])\n",
    "dimension_insert.index += property_dimension_old.shape[0] # changes the ID (index) to follow the last row in the database table"
   ]
  },
  {
   "cell_type": "markdown",
   "metadata": {},
   "source": [
    "`dimension_insert` contains all records that will be added to the database dimension table."
   ]
  },
  {
   "cell_type": "code",
   "execution_count": 25,
   "metadata": {},
   "outputs": [],
   "source": [
    "def insert_data(df, table_name, conn):\n",
    "    # Method for bulk insert\n",
    "    \n",
    "    df_columns = list(df)\n",
    "    columns = \",\".join(df_columns)\n",
    "    values = \"VALUES({})\".format(\",\".join([\"%s\" for _ in df_columns])) \n",
    "    insert_stmt = \"INSERT INTO {} ({}) {}\".format(table_name,columns,values)\n",
    "    success = True\n",
    "    try:\n",
    "        cursor = conn.cursor()\n",
    "        pg.extras.execute_batch(cursor, insert_stmt, df.values)\n",
    "        conn.commit()\n",
    "        success = True\n",
    "    except pg.DatabaseError as error:\n",
    "        success = False\n",
    "        print(error)\n",
    "    finally:\n",
    "        if conn is not None:\n",
    "            conn.close()\n",
    "    return success"
   ]
  },
  {
   "cell_type": "code",
   "execution_count": 26,
   "metadata": {},
   "outputs": [
    {
     "name": "stdout",
     "output_type": "stream",
     "text": [
      "Data inserted succefully\n"
     ]
    }
   ],
   "source": [
    "if len(dimension_insert) > 0:\n",
    "    table_name = 'Property'\n",
    "    conn = psycopg2.connect(host = dbconnection.server_host,database = dbconnection.dbname, user = dbconnection.dbusername,password = dbconnection.dbpassword,sslmode=dbconnection.sslmode,gssencmode=dbconnection.gssencmode)\n",
    "    success = insert_data(dimension_insert,table_name, conn)\n",
    "    conn.close()\n",
    "    if success == True: print('Data inserted succefully')\n",
    "else: print('No data to insert')"
   ]
  },
  {
   "cell_type": "markdown",
   "metadata": {},
   "source": [
    "The valid records are inserted into the dimension.\n",
    "\n",
    "#### Critical assessment\n",
    "\n",
    "The dimension grows as new combinations of property attributes are found in the incoming facts. It could be considered a Type I or Type II slow-changing dimension. Maintaining history by implementing a Type II methodology could be benefitial for queries such as comparing bookings before and after changes in a property (adding beds, building bedrooms/bathrooms).\n",
    "\n",
    "The determination of which records to use to expand the dimension is based on comparing each processed fact row with the existing dimension rowsm excluding IDs. In this way, we can ensure new types of property are always accounted for in the dimension. However, IDs should be verified, since duplicate listing IDs in the facts table can be indicative of an update to the listing's information.\n",
    "\n",
    "The ETL procedure above does _not_ account for this case, as it would require an added level of complexity to the pipeline, but it was also not seen as having high priority, since, for the most part, the characteristics that describe a property in the dimension table are not frequently changed.\n",
    "\n",
    "This pipeline achieves good __reusability__. It was designed in a way that ensures that multiple runs of this code are not redundant, that is, only new data that truly needs to be added is added to the warehouse."
   ]
  },
  {
   "cell_type": "markdown",
   "metadata": {},
   "source": [
    "## Attributing dimension keys to facts"
   ]
  },
  {
   "cell_type": "markdown",
   "metadata": {},
   "source": [
    "Having our dimension DataFrame `property_dimension` ready, we can now use our converted listings table, `df_conv_facts` (which contains _'Property'_ dimension attributes for all valid facts), to assign each fact its corresponding _'Property'_ dimension foreign key."
   ]
  },
  {
   "cell_type": "code",
   "execution_count": 27,
   "metadata": {},
   "outputs": [
    {
     "data": {
      "text/html": [
       "<div>\n",
       "<style scoped>\n",
       "    .dataframe tbody tr th:only-of-type {\n",
       "        vertical-align: middle;\n",
       "    }\n",
       "\n",
       "    .dataframe tbody tr th {\n",
       "        vertical-align: top;\n",
       "    }\n",
       "\n",
       "    .dataframe thead th {\n",
       "        text-align: right;\n",
       "    }\n",
       "</style>\n",
       "<table border=\"1\" class=\"dataframe\">\n",
       "  <thead>\n",
       "    <tr style=\"text-align: right;\">\n",
       "      <th></th>\n",
       "      <th>property_id</th>\n",
       "      <th>property_type_category</th>\n",
       "      <th>property_type</th>\n",
       "      <th>room_type</th>\n",
       "      <th>accommodates</th>\n",
       "      <th>bathrooms</th>\n",
       "      <th>bedrooms</th>\n",
       "      <th>beds</th>\n",
       "      <th>bed_type</th>\n",
       "    </tr>\n",
       "  </thead>\n",
       "  <tbody>\n",
       "    <tr>\n",
       "      <th>0</th>\n",
       "      <td>1</td>\n",
       "      <td>Apartment</td>\n",
       "      <td>Apartment</td>\n",
       "      <td>Entire home/apt</td>\n",
       "      <td>Up to 4 guests</td>\n",
       "      <td>1 bathroom</td>\n",
       "      <td>T1</td>\n",
       "      <td>1 bed</td>\n",
       "      <td>Real Bed</td>\n",
       "    </tr>\n",
       "    <tr>\n",
       "      <th>1</th>\n",
       "      <td>2</td>\n",
       "      <td>Apartment</td>\n",
       "      <td>Apartment</td>\n",
       "      <td>Entire home/apt</td>\n",
       "      <td>Up to 4 guests</td>\n",
       "      <td>1 bathroom</td>\n",
       "      <td>T1</td>\n",
       "      <td>2 beds</td>\n",
       "      <td>Real Bed</td>\n",
       "    </tr>\n",
       "    <tr>\n",
       "      <th>2</th>\n",
       "      <td>3</td>\n",
       "      <td>Apartment</td>\n",
       "      <td>Apartment</td>\n",
       "      <td>Entire home/apt</td>\n",
       "      <td>Up to 7 guests or more</td>\n",
       "      <td>4+ bathrooms</td>\n",
       "      <td>T4+</td>\n",
       "      <td>4+ beds</td>\n",
       "      <td>Real Bed</td>\n",
       "    </tr>\n",
       "    <tr>\n",
       "      <th>3</th>\n",
       "      <td>4</td>\n",
       "      <td>Apartment</td>\n",
       "      <td>Apartment</td>\n",
       "      <td>Entire home/apt</td>\n",
       "      <td>Up to 4 guests</td>\n",
       "      <td>2 bathrooms</td>\n",
       "      <td>T2</td>\n",
       "      <td>2 beds</td>\n",
       "      <td>Real Bed</td>\n",
       "    </tr>\n",
       "    <tr>\n",
       "      <th>4</th>\n",
       "      <td>5</td>\n",
       "      <td>Apartment</td>\n",
       "      <td>Apartment</td>\n",
       "      <td>Entire home/apt</td>\n",
       "      <td>Up to 4 guests</td>\n",
       "      <td>1 bathroom</td>\n",
       "      <td>T1</td>\n",
       "      <td>No beds</td>\n",
       "      <td>Real Bed</td>\n",
       "    </tr>\n",
       "    <tr>\n",
       "      <th>...</th>\n",
       "      <td>...</td>\n",
       "      <td>...</td>\n",
       "      <td>...</td>\n",
       "      <td>...</td>\n",
       "      <td>...</td>\n",
       "      <td>...</td>\n",
       "      <td>...</td>\n",
       "      <td>...</td>\n",
       "      <td>...</td>\n",
       "    </tr>\n",
       "    <tr>\n",
       "      <th>1019</th>\n",
       "      <td>1020</td>\n",
       "      <td>House</td>\n",
       "      <td>Farm stay</td>\n",
       "      <td>Private room</td>\n",
       "      <td>Up to 6 guests</td>\n",
       "      <td>1 bathroom</td>\n",
       "      <td>T2</td>\n",
       "      <td>4+ beds</td>\n",
       "      <td>Real Bed</td>\n",
       "    </tr>\n",
       "    <tr>\n",
       "      <th>1020</th>\n",
       "      <td>1021</td>\n",
       "      <td>Apartment</td>\n",
       "      <td>Apartment</td>\n",
       "      <td>Shared room</td>\n",
       "      <td>Up to 4 guests</td>\n",
       "      <td>1 bathroom</td>\n",
       "      <td>T1</td>\n",
       "      <td>No beds</td>\n",
       "      <td>Real Bed</td>\n",
       "    </tr>\n",
       "    <tr>\n",
       "      <th>1021</th>\n",
       "      <td>1022</td>\n",
       "      <td>House</td>\n",
       "      <td>Casa particular (Cuba)</td>\n",
       "      <td>Entire home/apt</td>\n",
       "      <td>Up to 4 guests</td>\n",
       "      <td>1 bathroom</td>\n",
       "      <td>T2</td>\n",
       "      <td>4+ beds</td>\n",
       "      <td>Real Bed</td>\n",
       "    </tr>\n",
       "    <tr>\n",
       "      <th>1022</th>\n",
       "      <td>1023</td>\n",
       "      <td>Hotel/Hostel</td>\n",
       "      <td>Bed and breakfast</td>\n",
       "      <td>Private room</td>\n",
       "      <td>Up to 6 guests</td>\n",
       "      <td>2 bathrooms</td>\n",
       "      <td>T1</td>\n",
       "      <td>3 beds</td>\n",
       "      <td>Real Bed</td>\n",
       "    </tr>\n",
       "    <tr>\n",
       "      <th>1023</th>\n",
       "      <td>1024</td>\n",
       "      <td>Apartment</td>\n",
       "      <td>Serviced apartment</td>\n",
       "      <td>Entire home/apt</td>\n",
       "      <td>Up to 4 guests</td>\n",
       "      <td>3 bathrooms</td>\n",
       "      <td>T2</td>\n",
       "      <td>2 beds</td>\n",
       "      <td>Real Bed</td>\n",
       "    </tr>\n",
       "  </tbody>\n",
       "</table>\n",
       "<p>1024 rows × 9 columns</p>\n",
       "</div>"
      ],
      "text/plain": [
       "      property_id property_type_category           property_type  \\\n",
       "0               1              Apartment               Apartment   \n",
       "1               2              Apartment               Apartment   \n",
       "2               3              Apartment               Apartment   \n",
       "3               4              Apartment               Apartment   \n",
       "4               5              Apartment               Apartment   \n",
       "...           ...                    ...                     ...   \n",
       "1019         1020                  House               Farm stay   \n",
       "1020         1021              Apartment               Apartment   \n",
       "1021         1022                  House  Casa particular (Cuba)   \n",
       "1022         1023           Hotel/Hostel       Bed and breakfast   \n",
       "1023         1024              Apartment      Serviced apartment   \n",
       "\n",
       "            room_type            accommodates     bathrooms bedrooms     beds  \\\n",
       "0     Entire home/apt          Up to 4 guests    1 bathroom       T1    1 bed   \n",
       "1     Entire home/apt          Up to 4 guests    1 bathroom       T1   2 beds   \n",
       "2     Entire home/apt  Up to 7 guests or more  4+ bathrooms      T4+  4+ beds   \n",
       "3     Entire home/apt          Up to 4 guests   2 bathrooms       T2   2 beds   \n",
       "4     Entire home/apt          Up to 4 guests    1 bathroom       T1  No beds   \n",
       "...               ...                     ...           ...      ...      ...   \n",
       "1019     Private room          Up to 6 guests    1 bathroom       T2  4+ beds   \n",
       "1020      Shared room          Up to 4 guests    1 bathroom       T1  No beds   \n",
       "1021  Entire home/apt          Up to 4 guests    1 bathroom       T2  4+ beds   \n",
       "1022     Private room          Up to 6 guests   2 bathrooms       T1   3 beds   \n",
       "1023  Entire home/apt          Up to 4 guests   3 bathrooms       T2   2 beds   \n",
       "\n",
       "      bed_type  \n",
       "0     Real Bed  \n",
       "1     Real Bed  \n",
       "2     Real Bed  \n",
       "3     Real Bed  \n",
       "4     Real Bed  \n",
       "...        ...  \n",
       "1019  Real Bed  \n",
       "1020  Real Bed  \n",
       "1021  Real Bed  \n",
       "1022  Real Bed  \n",
       "1023  Real Bed  \n",
       "\n",
       "[1024 rows x 9 columns]"
      ]
     },
     "execution_count": 27,
     "metadata": {},
     "output_type": "execute_result"
    }
   ],
   "source": [
    "# retrieve updated Property dimension table for mapping\n",
    "conn = psycopg2.connect(host = dbconnection.server_host,database = dbconnection.dbname, user = dbconnection.dbusername,password = dbconnection.dbpassword,sslmode=dbconnection.sslmode,gssencmode=dbconnection.gssencmode)\n",
    "\n",
    "property_dimension_updated = query_table(conn, 'property')\n",
    "\n",
    "conn.close()\n",
    "\n",
    "property_dimension_updated.set_index('property_id', inplace = True)\n",
    "property_dimension_updated.reset_index(inplace = True)\n",
    "\n",
    "property_dimension_updated"
   ]
  },
  {
   "cell_type": "code",
   "execution_count": 28,
   "metadata": {},
   "outputs": [],
   "source": [
    "def key_mapping(df1, df2, pk1, pk2):\n",
    "    # This function merges two dataframes, and creates a map linking their keys\n",
    "    df_merged = df1.merge(df2, how='outer')\n",
    "    df_map = pd.DataFrame()\n",
    "    df_map[pk1]= df_merged[pk1]\n",
    "    df_map[pk2]= df_merged[pk2]\n",
    "    \n",
    "    df_map = delete_null_rows(df_map,df_map.columns)\n",
    "    \n",
    "    return df_map"
   ]
  },
  {
   "cell_type": "code",
   "execution_count": 29,
   "metadata": {},
   "outputs": [
    {
     "name": "stdout",
     "output_type": "stream",
     "text": [
      "DataFrame contains 16626 rows. Deleted 0 rows (0.0% of total rows)\n"
     ]
    }
   ],
   "source": [
    "# match fact IDs with FKs in dimension\n",
    "df_mapping = key_mapping(df_conv_facts, property_dimension_updated, 'ID', 'property_id')\n",
    "df_mapping.to_csv('../processed_dt/df_listings_property.csv')"
   ]
  },
  {
   "cell_type": "markdown",
   "metadata": {},
   "source": [
    "This table can then be merged with all other corresponding tables for the remaining dimensions to produce each fact record in the facts table. It will be used both in the _Listings_ and _Availability_ facts tables."
   ]
  }
 ],
 "metadata": {
  "kernelspec": {
   "display_name": "Python 3",
   "language": "python",
   "name": "python3"
  },
  "language_info": {
   "codemirror_mode": {
    "name": "ipython",
    "version": 3
   },
   "file_extension": ".py",
   "mimetype": "text/x-python",
   "name": "python",
   "nbconvert_exporter": "python",
   "pygments_lexer": "ipython3",
   "version": "3.7.5"
  }
 },
 "nbformat": 4,
 "nbformat_minor": 4
}
