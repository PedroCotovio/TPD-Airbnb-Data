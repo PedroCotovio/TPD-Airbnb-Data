{
 "cells": [
  {
   "cell_type": "code",
   "execution_count": 1,
   "metadata": {},
   "outputs": [],
   "source": [
    "# libraries\n",
    "import psycopg2 as pg\n",
    "import pandas as pd\n",
    "import numpy as np\n",
    "import os\n",
    "\n",
    "# set environment variable for psycog2 (for some systems)\n",
    "os.environ[\"PGGSSENCMODE\"] = \"disable\"\n",
    "\n",
    "# get the stored passwords\n",
    "f=open(\"credentials_david.txt\", \"rt\")\n",
    "pwd=f.readline().strip()  #di   password\n",
    "hpwd=f.readline().strip() #home password\n",
    "f.close()"
   ]
  },
  {
   "cell_type": "code",
   "execution_count": 24,
   "metadata": {},
   "outputs": [],
   "source": [
    "# di test: WORKING\n",
    "host_di = \"appserver-01.alunos.di.fc.ul.pt\"\n",
    "db_di = \"tpd012\"\n",
    "user_di = \"tpd012\"\n",
    "\n",
    "conn = pg.connect(host = host_di,\n",
    "                  database = db_di,\n",
    "                  user = user_di,\n",
    "                  password = pwd)\n",
    "conn.close()\n",
    "\n",
    "# local test: WORKING\n",
    "host_local = \"localhost\"\n",
    "db_local = \"tpd012\"\n",
    "user_local = \"postgres\"\n",
    "\n",
    "conn = pg.connect(host = host_local,\n",
    "                  database = db_local,\n",
    "                  user = user_local,\n",
    "                  password=hpwd)\n",
    "conn.close()"
   ]
  },
  {
   "cell_type": "code",
   "execution_count": 29,
   "metadata": {},
   "outputs": [],
   "source": [
    "# functions\n",
    "def run_sql_command(sql, host, database, user, password):\n",
    "    \"\"\"Executes a single SQL statement from a string variable and the database credentials\"\"\"\n",
    "    conn = pg.connect(host = host,\n",
    "                      database = database,\n",
    "                      user = user,\n",
    "                      password = password)\n",
    "    cur = conn.cursor()\n",
    "    cur.execute(sql)\n",
    "    cur.close()\n",
    "    conn.commit()\n",
    "    conn.close() "
   ]
  },
  {
   "cell_type": "code",
   "execution_count": null,
   "metadata": {},
   "outputs": [],
   "source": [
    "def intTryParse(value):\n",
    "    \"\"\"Parse a string to an integer\"\"\"\n",
    "    try:\n",
    "        a = int(value)\n",
    "        return True\n",
    "    except ValueError:\n",
    "        return False"
   ]
  },
  {
   "cell_type": "code",
   "execution_count": 4,
   "metadata": {},
   "outputs": [
    {
     "name": "stderr",
     "output_type": "stream",
     "text": [
      "C:\\Users\\david\\Anaconda3\\lib\\site-packages\\IPython\\core\\interactiveshell.py:3063: DtypeWarning: Columns (61,62) have mixed types.Specify dtype option on import or set low_memory=False.\n",
      "  interactivity=interactivity, compiler=compiler, result=result)\n"
     ]
    }
   ],
   "source": [
    "listings_al_file_path = '../data/listings_al.csv'\n",
    "df_listings_al = pd.read_csv(listings_al_file_path)"
   ]
  },
  {
   "cell_type": "markdown",
   "metadata": {},
   "source": [
    "## 2.2. Preprocessing"
   ]
  },
  {
   "cell_type": "markdown",
   "metadata": {},
   "source": [
    "The defined _'Property'_ dimension table in __Phase I__ is as follows:\n",
    "\n",
    "<img src=\"property_schema.png\" width=\"150\" align=\"center\"/>\n",
    "\n",
    "# __CHANGE SCHEMA__"
   ]
  },
  {
   "cell_type": "code",
   "execution_count": 5,
   "metadata": {},
   "outputs": [],
   "source": [
    "def delete_null_rows(df,columns):\n",
    "    \"\"\"Removes all records with any empty cells from input DataFrame\"\"\"\n",
    "    processed_df = df[columns].copy()\n",
    "    total_rows = processed_df.shape[0]\n",
    "    delete_rows = []\n",
    "    \n",
    "    if processed_df.isnull().values.any(): # if there are any null values in DataFrame, process DataFrame\n",
    "        for index, row in enumerate(processed_df.itertuples(), start = 0):\n",
    "            if (pd.Series(row).isnull().values.any()): # if row has any null value\n",
    "                delete_rows.append(index) # add row index to delete list\n",
    "    \n",
    "    processed_df.drop(df.index[delete_rows], inplace = True) # delete rows fr\n",
    "    processed_df = processed_df.reset_index().drop('index', axis = 1)\n",
    "    print('DataFrame contains {} rows. Deleted {} rows ({}% of total rows)'.format(processed_df.shape[0], len(delete_rows), round(len(delete_rows)*100/total_rows, 2)))\n",
    "    return processed_df"
   ]
  },
  {
   "cell_type": "code",
   "execution_count": 6,
   "metadata": {},
   "outputs": [
    {
     "name": "stdout",
     "output_type": "stream",
     "text": [
      "DataFrame contains 17097 rows. Deleted 71 rows (0.41% of total rows)\n"
     ]
    }
   ],
   "source": [
    "df_columns = ['id',\n",
    "              'property_type',\n",
    "              'room_type',\n",
    "              'accommodates',\n",
    "              'bathrooms',\n",
    "              'bedrooms',\n",
    "              'beds',\n",
    "              'bed_type']\n",
    "\n",
    "df_property = delete_null_rows(df_listings_al,df_columns)"
   ]
  },
  {
   "cell_type": "markdown",
   "metadata": {},
   "source": [
    "`df_property` will be the table containing a record for each fact ID converted to the dimension format. `df_property_dimension` will be the _de facto_ property dimension from which we can convert each fact ID record to the dimension key according to its set of attributes."
   ]
  },
  {
   "cell_type": "markdown",
   "metadata": {},
   "source": [
    "### _'property_type_category'_\n",
    "\n",
    "We start by creating _'property_type_category'_, a set of four categories from _'property_type'_."
   ]
  },
  {
   "cell_type": "code",
   "execution_count": 7,
   "metadata": {},
   "outputs": [],
   "source": [
    "def get_property_type_category(value):\n",
    "# change 'property_type' to four categories, exclude exceptions\n",
    "    if value in [\"Apartment\", \"Serviced apartment\", \"Aparthotel\",\"Loft\"]:\n",
    "        return 'Apartment'\n",
    "    if value in [\"House\",\"Townhouse\",\"Villa\",\"Dome house\",\"Vacation home\",\"Lighthouse\",\"Casa particular (Cuba)\",\"Tiny house\",\"Farm stay\",\"Cottage\"]:\n",
    "        return 'House'\n",
    "    if value in [\"Guesthouse\",\"Guest suite\"]:\n",
    "        return 'Guesthouse'\n",
    "    if value in [\"Hostel\",\"Bed and breakfast\",\"Boutique hotel\",\"Hotel\"]:\n",
    "        return 'Hotel/Hostel'\n",
    "    return None # for the case of missing or invalid values"
   ]
  },
  {
   "cell_type": "markdown",
   "metadata": {},
   "source": [
    "### _'room_type'_"
   ]
  },
  {
   "cell_type": "markdown",
   "metadata": {},
   "source": [
    "This attribute is already defined in satisfactory categories."
   ]
  },
  {
   "cell_type": "markdown",
   "metadata": {},
   "source": [
    "### _'accommodates'_"
   ]
  },
  {
   "cell_type": "code",
   "execution_count": 8,
   "metadata": {},
   "outputs": [],
   "source": [
    "def get_accommodates(value):\n",
    "# change 'property_type' to four categories, exclude exceptions\n",
    "    if value in [1,2]: return 'Up to 2 guests'\n",
    "    if value in [3,4]: return 'Up to 4 guests'\n",
    "    if value in [5,6]: return 'Up to 6 guests'\n",
    "    return 'Up to 7 guests or more' # no missing values in this column"
   ]
  },
  {
   "cell_type": "markdown",
   "metadata": {},
   "source": [
    "### _'bathrooms'_"
   ]
  },
  {
   "cell_type": "code",
   "execution_count": 9,
   "metadata": {},
   "outputs": [],
   "source": [
    "def get_bathrooms(value):\n",
    "# change 'bathrooms' to five categories, exclude exceptions\n",
    "    if value < 0.5: return 'No bathrooms'\n",
    "    if value < 1.5: return '1 bathroom'\n",
    "    if value < 2.5: return '2 bathrooms'\n",
    "    if value < 3.5: return '3 bathrooms'\n",
    "    if value >= 3.5: return '4+ bathrooms'\n",
    "    return None # for the case of missing or invalid values"
   ]
  },
  {
   "cell_type": "markdown",
   "metadata": {},
   "source": [
    "### _'bedrooms'_"
   ]
  },
  {
   "cell_type": "code",
   "execution_count": 10,
   "metadata": {},
   "outputs": [],
   "source": [
    "def get_bedrooms(value):\n",
    "# change 'bedrooms' to five categories, exclude exceptions\n",
    "    if value == 0: return 'T0'\n",
    "    if value == 1: return 'T1'\n",
    "    if value == 2: return 'T2'\n",
    "    if value == 3: return 'T3'\n",
    "    if value >= 4: return 'T4+'\n",
    "    return None # for the case of missing or invalid values"
   ]
  },
  {
   "cell_type": "markdown",
   "metadata": {},
   "source": [
    "### _'beds'_"
   ]
  },
  {
   "cell_type": "code",
   "execution_count": 11,
   "metadata": {},
   "outputs": [],
   "source": [
    "def get_beds(value):\n",
    "# change 'beds' to five categories, exclude exceptions\n",
    "    if value == 0: return 'No beds'\n",
    "    if value == 1: return '1 bed'\n",
    "    if value == 2: return '2 beds'\n",
    "    if value == 3: return '3 beds'\n",
    "    if value >= 4: return '4+ beds'\n",
    "    return None # for the case of missing or invalid values"
   ]
  },
  {
   "cell_type": "markdown",
   "metadata": {},
   "source": [
    "## 2.3. Creating the dimension table"
   ]
  },
  {
   "cell_type": "code",
   "execution_count": 12,
   "metadata": {},
   "outputs": [],
   "source": [
    "dimension = {}\n",
    "\n",
    "dimension['ID'] = [value for value in df_property['id']]\n",
    "dimension['property_type_category'] = [get_property_type_category(value) for value in df_property['property_type']]\n",
    "dimension['property_type'] = [value for value in df_property['property_type']]\n",
    "dimension['room_type'] = [value for value in df_property['room_type']]\n",
    "dimension['accommodates'] = [get_accommodates(value) for value in df_property['accommodates']]\n",
    "dimension['bathrooms'] = [get_bathrooms(value) for value in df_property['bathrooms']]\n",
    "dimension['bedrooms'] = [get_bedrooms(value) for value in df_property['bedrooms']]\n",
    "dimension['beds'] = [get_beds(value) for value in df_property['beds']]\n",
    "dimension['bed_type'] = [value for value in df_property['bed_type']]"
   ]
  },
  {
   "cell_type": "code",
   "execution_count": 13,
   "metadata": {},
   "outputs": [
    {
     "data": {
      "text/html": [
       "<div>\n",
       "<style scoped>\n",
       "    .dataframe tbody tr th:only-of-type {\n",
       "        vertical-align: middle;\n",
       "    }\n",
       "\n",
       "    .dataframe tbody tr th {\n",
       "        vertical-align: top;\n",
       "    }\n",
       "\n",
       "    .dataframe thead th {\n",
       "        text-align: right;\n",
       "    }\n",
       "</style>\n",
       "<table border=\"1\" class=\"dataframe\">\n",
       "  <thead>\n",
       "    <tr style=\"text-align: right;\">\n",
       "      <th></th>\n",
       "      <th>ID</th>\n",
       "      <th>property_type_category</th>\n",
       "      <th>property_type</th>\n",
       "      <th>room_type</th>\n",
       "      <th>accommodates</th>\n",
       "      <th>bathrooms</th>\n",
       "      <th>bedrooms</th>\n",
       "      <th>beds</th>\n",
       "      <th>bed_type</th>\n",
       "    </tr>\n",
       "  </thead>\n",
       "  <tbody>\n",
       "    <tr>\n",
       "      <th>1</th>\n",
       "      <td>25659</td>\n",
       "      <td>Apartment</td>\n",
       "      <td>Apartment</td>\n",
       "      <td>Entire home/apt</td>\n",
       "      <td>Up to 4 guests</td>\n",
       "      <td>1 bathroom</td>\n",
       "      <td>T1</td>\n",
       "      <td>1 bed</td>\n",
       "      <td>Real Bed</td>\n",
       "    </tr>\n",
       "    <tr>\n",
       "      <th>2</th>\n",
       "      <td>29248</td>\n",
       "      <td>Apartment</td>\n",
       "      <td>Apartment</td>\n",
       "      <td>Entire home/apt</td>\n",
       "      <td>Up to 4 guests</td>\n",
       "      <td>1 bathroom</td>\n",
       "      <td>T1</td>\n",
       "      <td>2 beds</td>\n",
       "      <td>Real Bed</td>\n",
       "    </tr>\n",
       "    <tr>\n",
       "      <th>3</th>\n",
       "      <td>29396</td>\n",
       "      <td>Apartment</td>\n",
       "      <td>Apartment</td>\n",
       "      <td>Entire home/apt</td>\n",
       "      <td>Up to 4 guests</td>\n",
       "      <td>1 bathroom</td>\n",
       "      <td>T1</td>\n",
       "      <td>1 bed</td>\n",
       "      <td>Real Bed</td>\n",
       "    </tr>\n",
       "    <tr>\n",
       "      <th>4</th>\n",
       "      <td>29720</td>\n",
       "      <td>Apartment</td>\n",
       "      <td>Apartment</td>\n",
       "      <td>Entire home/apt</td>\n",
       "      <td>Up to 7 guests or more</td>\n",
       "      <td>4+ bathrooms</td>\n",
       "      <td>T4+</td>\n",
       "      <td>4+ beds</td>\n",
       "      <td>Real Bed</td>\n",
       "    </tr>\n",
       "    <tr>\n",
       "      <th>5</th>\n",
       "      <td>27899698</td>\n",
       "      <td>Apartment</td>\n",
       "      <td>Apartment</td>\n",
       "      <td>Entire home/apt</td>\n",
       "      <td>Up to 4 guests</td>\n",
       "      <td>2 bathrooms</td>\n",
       "      <td>T2</td>\n",
       "      <td>2 beds</td>\n",
       "      <td>Real Bed</td>\n",
       "    </tr>\n",
       "    <tr>\n",
       "      <th>...</th>\n",
       "      <td>...</td>\n",
       "      <td>...</td>\n",
       "      <td>...</td>\n",
       "      <td>...</td>\n",
       "      <td>...</td>\n",
       "      <td>...</td>\n",
       "      <td>...</td>\n",
       "      <td>...</td>\n",
       "      <td>...</td>\n",
       "    </tr>\n",
       "    <tr>\n",
       "      <th>17093</th>\n",
       "      <td>41870065</td>\n",
       "      <td>Apartment</td>\n",
       "      <td>Apartment</td>\n",
       "      <td>Entire home/apt</td>\n",
       "      <td>Up to 2 guests</td>\n",
       "      <td>1 bathroom</td>\n",
       "      <td>T1</td>\n",
       "      <td>1 bed</td>\n",
       "      <td>Real Bed</td>\n",
       "    </tr>\n",
       "    <tr>\n",
       "      <th>17094</th>\n",
       "      <td>41879410</td>\n",
       "      <td>Apartment</td>\n",
       "      <td>Apartment</td>\n",
       "      <td>Entire home/apt</td>\n",
       "      <td>Up to 4 guests</td>\n",
       "      <td>1 bathroom</td>\n",
       "      <td>T1</td>\n",
       "      <td>3 beds</td>\n",
       "      <td>Real Bed</td>\n",
       "    </tr>\n",
       "    <tr>\n",
       "      <th>17095</th>\n",
       "      <td>41882911</td>\n",
       "      <td>Apartment</td>\n",
       "      <td>Apartment</td>\n",
       "      <td>Entire home/apt</td>\n",
       "      <td>Up to 4 guests</td>\n",
       "      <td>1 bathroom</td>\n",
       "      <td>T1</td>\n",
       "      <td>3 beds</td>\n",
       "      <td>Real Bed</td>\n",
       "    </tr>\n",
       "    <tr>\n",
       "      <th>17096</th>\n",
       "      <td>41879552</td>\n",
       "      <td>Apartment</td>\n",
       "      <td>Loft</td>\n",
       "      <td>Entire home/apt</td>\n",
       "      <td>Up to 2 guests</td>\n",
       "      <td>1 bathroom</td>\n",
       "      <td>T1</td>\n",
       "      <td>1 bed</td>\n",
       "      <td>Real Bed</td>\n",
       "    </tr>\n",
       "    <tr>\n",
       "      <th>17097</th>\n",
       "      <td>41882713</td>\n",
       "      <td>Hotel/Hostel</td>\n",
       "      <td>Boutique hotel</td>\n",
       "      <td>Private room</td>\n",
       "      <td>Up to 2 guests</td>\n",
       "      <td>1 bathroom</td>\n",
       "      <td>T1</td>\n",
       "      <td>2 beds</td>\n",
       "      <td>Real Bed</td>\n",
       "    </tr>\n",
       "  </tbody>\n",
       "</table>\n",
       "<p>17097 rows × 9 columns</p>\n",
       "</div>"
      ],
      "text/plain": [
       "             ID property_type_category   property_type        room_type  \\\n",
       "1         25659              Apartment       Apartment  Entire home/apt   \n",
       "2         29248              Apartment       Apartment  Entire home/apt   \n",
       "3         29396              Apartment       Apartment  Entire home/apt   \n",
       "4         29720              Apartment       Apartment  Entire home/apt   \n",
       "5      27899698              Apartment       Apartment  Entire home/apt   \n",
       "...         ...                    ...             ...              ...   \n",
       "17093  41870065              Apartment       Apartment  Entire home/apt   \n",
       "17094  41879410              Apartment       Apartment  Entire home/apt   \n",
       "17095  41882911              Apartment       Apartment  Entire home/apt   \n",
       "17096  41879552              Apartment            Loft  Entire home/apt   \n",
       "17097  41882713           Hotel/Hostel  Boutique hotel     Private room   \n",
       "\n",
       "                 accommodates     bathrooms bedrooms     beds  bed_type  \n",
       "1              Up to 4 guests    1 bathroom       T1    1 bed  Real Bed  \n",
       "2              Up to 4 guests    1 bathroom       T1   2 beds  Real Bed  \n",
       "3              Up to 4 guests    1 bathroom       T1    1 bed  Real Bed  \n",
       "4      Up to 7 guests or more  4+ bathrooms      T4+  4+ beds  Real Bed  \n",
       "5              Up to 4 guests   2 bathrooms       T2   2 beds  Real Bed  \n",
       "...                       ...           ...      ...      ...       ...  \n",
       "17093          Up to 2 guests    1 bathroom       T1    1 bed  Real Bed  \n",
       "17094          Up to 4 guests    1 bathroom       T1   3 beds  Real Bed  \n",
       "17095          Up to 4 guests    1 bathroom       T1   3 beds  Real Bed  \n",
       "17096          Up to 2 guests    1 bathroom       T1    1 bed  Real Bed  \n",
       "17097          Up to 2 guests    1 bathroom       T1   2 beds  Real Bed  \n",
       "\n",
       "[17097 rows x 9 columns]"
      ]
     },
     "execution_count": 13,
     "metadata": {},
     "output_type": "execute_result"
    }
   ],
   "source": [
    "df_property_dimension = pd.DataFrame(dimension)\n",
    "df_property_dimension.index += 1\n",
    "df_property_dimension"
   ]
  },
  {
   "cell_type": "code",
   "execution_count": 14,
   "metadata": {},
   "outputs": [
    {
     "name": "stdout",
     "output_type": "stream",
     "text": [
      "DataFrame contains 16626 rows. Deleted 471 rows (2.75% of total rows)\n"
     ]
    }
   ],
   "source": [
    "df_property_dimension = delete_null_rows(df_property_dimension,df_property_dimension.columns)"
   ]
  },
  {
   "cell_type": "code",
   "execution_count": 15,
   "metadata": {},
   "outputs": [
    {
     "data": {
      "text/html": [
       "<div>\n",
       "<style scoped>\n",
       "    .dataframe tbody tr th:only-of-type {\n",
       "        vertical-align: middle;\n",
       "    }\n",
       "\n",
       "    .dataframe tbody tr th {\n",
       "        vertical-align: top;\n",
       "    }\n",
       "\n",
       "    .dataframe thead th {\n",
       "        text-align: right;\n",
       "    }\n",
       "</style>\n",
       "<table border=\"1\" class=\"dataframe\">\n",
       "  <thead>\n",
       "    <tr style=\"text-align: right;\">\n",
       "      <th></th>\n",
       "      <th>property_type_category</th>\n",
       "      <th>property_type</th>\n",
       "      <th>room_type</th>\n",
       "      <th>accommodates</th>\n",
       "      <th>bathrooms</th>\n",
       "      <th>bedrooms</th>\n",
       "      <th>beds</th>\n",
       "      <th>bed_type</th>\n",
       "    </tr>\n",
       "  </thead>\n",
       "  <tbody>\n",
       "    <tr>\n",
       "      <th>1</th>\n",
       "      <td>Apartment</td>\n",
       "      <td>Apartment</td>\n",
       "      <td>Entire home/apt</td>\n",
       "      <td>Up to 4 guests</td>\n",
       "      <td>1 bathroom</td>\n",
       "      <td>T1</td>\n",
       "      <td>1 bed</td>\n",
       "      <td>Real Bed</td>\n",
       "    </tr>\n",
       "    <tr>\n",
       "      <th>2</th>\n",
       "      <td>Apartment</td>\n",
       "      <td>Apartment</td>\n",
       "      <td>Entire home/apt</td>\n",
       "      <td>Up to 4 guests</td>\n",
       "      <td>1 bathroom</td>\n",
       "      <td>T1</td>\n",
       "      <td>2 beds</td>\n",
       "      <td>Real Bed</td>\n",
       "    </tr>\n",
       "    <tr>\n",
       "      <th>3</th>\n",
       "      <td>Apartment</td>\n",
       "      <td>Apartment</td>\n",
       "      <td>Entire home/apt</td>\n",
       "      <td>Up to 7 guests or more</td>\n",
       "      <td>4+ bathrooms</td>\n",
       "      <td>T4+</td>\n",
       "      <td>4+ beds</td>\n",
       "      <td>Real Bed</td>\n",
       "    </tr>\n",
       "    <tr>\n",
       "      <th>4</th>\n",
       "      <td>Apartment</td>\n",
       "      <td>Apartment</td>\n",
       "      <td>Entire home/apt</td>\n",
       "      <td>Up to 4 guests</td>\n",
       "      <td>2 bathrooms</td>\n",
       "      <td>T2</td>\n",
       "      <td>2 beds</td>\n",
       "      <td>Real Bed</td>\n",
       "    </tr>\n",
       "    <tr>\n",
       "      <th>5</th>\n",
       "      <td>Apartment</td>\n",
       "      <td>Apartment</td>\n",
       "      <td>Entire home/apt</td>\n",
       "      <td>Up to 4 guests</td>\n",
       "      <td>1 bathroom</td>\n",
       "      <td>T1</td>\n",
       "      <td>No beds</td>\n",
       "      <td>Real Bed</td>\n",
       "    </tr>\n",
       "    <tr>\n",
       "      <th>...</th>\n",
       "      <td>...</td>\n",
       "      <td>...</td>\n",
       "      <td>...</td>\n",
       "      <td>...</td>\n",
       "      <td>...</td>\n",
       "      <td>...</td>\n",
       "      <td>...</td>\n",
       "      <td>...</td>\n",
       "    </tr>\n",
       "    <tr>\n",
       "      <th>1020</th>\n",
       "      <td>House</td>\n",
       "      <td>Farm stay</td>\n",
       "      <td>Private room</td>\n",
       "      <td>Up to 6 guests</td>\n",
       "      <td>1 bathroom</td>\n",
       "      <td>T2</td>\n",
       "      <td>4+ beds</td>\n",
       "      <td>Real Bed</td>\n",
       "    </tr>\n",
       "    <tr>\n",
       "      <th>1021</th>\n",
       "      <td>Apartment</td>\n",
       "      <td>Apartment</td>\n",
       "      <td>Shared room</td>\n",
       "      <td>Up to 4 guests</td>\n",
       "      <td>1 bathroom</td>\n",
       "      <td>T1</td>\n",
       "      <td>No beds</td>\n",
       "      <td>Real Bed</td>\n",
       "    </tr>\n",
       "    <tr>\n",
       "      <th>1022</th>\n",
       "      <td>House</td>\n",
       "      <td>Casa particular (Cuba)</td>\n",
       "      <td>Entire home/apt</td>\n",
       "      <td>Up to 4 guests</td>\n",
       "      <td>1 bathroom</td>\n",
       "      <td>T2</td>\n",
       "      <td>4+ beds</td>\n",
       "      <td>Real Bed</td>\n",
       "    </tr>\n",
       "    <tr>\n",
       "      <th>1023</th>\n",
       "      <td>Hotel/Hostel</td>\n",
       "      <td>Bed and breakfast</td>\n",
       "      <td>Private room</td>\n",
       "      <td>Up to 6 guests</td>\n",
       "      <td>2 bathrooms</td>\n",
       "      <td>T1</td>\n",
       "      <td>3 beds</td>\n",
       "      <td>Real Bed</td>\n",
       "    </tr>\n",
       "    <tr>\n",
       "      <th>1024</th>\n",
       "      <td>Apartment</td>\n",
       "      <td>Serviced apartment</td>\n",
       "      <td>Entire home/apt</td>\n",
       "      <td>Up to 4 guests</td>\n",
       "      <td>3 bathrooms</td>\n",
       "      <td>T2</td>\n",
       "      <td>2 beds</td>\n",
       "      <td>Real Bed</td>\n",
       "    </tr>\n",
       "  </tbody>\n",
       "</table>\n",
       "<p>1024 rows × 8 columns</p>\n",
       "</div>"
      ],
      "text/plain": [
       "     property_type_category           property_type        room_type  \\\n",
       "1                 Apartment               Apartment  Entire home/apt   \n",
       "2                 Apartment               Apartment  Entire home/apt   \n",
       "3                 Apartment               Apartment  Entire home/apt   \n",
       "4                 Apartment               Apartment  Entire home/apt   \n",
       "5                 Apartment               Apartment  Entire home/apt   \n",
       "...                     ...                     ...              ...   \n",
       "1020                  House               Farm stay     Private room   \n",
       "1021              Apartment               Apartment      Shared room   \n",
       "1022                  House  Casa particular (Cuba)  Entire home/apt   \n",
       "1023           Hotel/Hostel       Bed and breakfast     Private room   \n",
       "1024              Apartment      Serviced apartment  Entire home/apt   \n",
       "\n",
       "                accommodates     bathrooms bedrooms     beds  bed_type  \n",
       "1             Up to 4 guests    1 bathroom       T1    1 bed  Real Bed  \n",
       "2             Up to 4 guests    1 bathroom       T1   2 beds  Real Bed  \n",
       "3     Up to 7 guests or more  4+ bathrooms      T4+  4+ beds  Real Bed  \n",
       "4             Up to 4 guests   2 bathrooms       T2   2 beds  Real Bed  \n",
       "5             Up to 4 guests    1 bathroom       T1  No beds  Real Bed  \n",
       "...                      ...           ...      ...      ...       ...  \n",
       "1020          Up to 6 guests    1 bathroom       T2  4+ beds  Real Bed  \n",
       "1021          Up to 4 guests    1 bathroom       T1  No beds  Real Bed  \n",
       "1022          Up to 4 guests    1 bathroom       T2  4+ beds  Real Bed  \n",
       "1023          Up to 6 guests   2 bathrooms       T1   3 beds  Real Bed  \n",
       "1024          Up to 4 guests   3 bathrooms       T2   2 beds  Real Bed  \n",
       "\n",
       "[1024 rows x 8 columns]"
      ]
     },
     "execution_count": 15,
     "metadata": {},
     "output_type": "execute_result"
    }
   ],
   "source": [
    "# create df_property_dimension\n",
    "property_dimension = df_property_dimension[['property_type_category','property_type','room_type','accommodates','bathrooms','bedrooms','beds','bed_type']].drop_duplicates().copy()\n",
    "property_dimension = property_dimension.reset_index().drop('index', axis = 1)\n",
    "property_dimension.index += 1\n",
    "\n",
    "property_dimension"
   ]
  },
  {
   "cell_type": "markdown",
   "metadata": {},
   "source": [
    "## 2.4. Attributing dimension keys to facts"
   ]
  },
  {
   "cell_type": "markdown",
   "metadata": {},
   "source": [
    "Having our dimension DataFrame ready, we can now use our converted listings table, `df_property` (which contains Property dimension attributes for all valid facts), to assign each fact its corresponding Property dimension foreign key."
   ]
  },
  {
   "cell_type": "code",
   "execution_count": 16,
   "metadata": {},
   "outputs": [],
   "source": [
    "# change df_property to property dimension ID\n",
    "FK = []\n",
    "for i, row in enumerate(df_property_dimension.itertuples(), start = 1): # creates enumerate object (counter, value1, value2, ...)\n",
    "    row = list(row[2:]) # remove ID and index\n",
    "    for j, dim_row in enumerate(property_dimension.itertuples(), start = 1):\n",
    "        dim_row = list(dim_row[1:]) # remove index\n",
    "        if row == dim_row: # checks which dimension row the fact is equal to\n",
    "            FK.append(j)"
   ]
  },
  {
   "cell_type": "code",
   "execution_count": 17,
   "metadata": {},
   "outputs": [],
   "source": [
    "df_property_dimension['Property'] = FK"
   ]
  },
  {
   "cell_type": "code",
   "execution_count": 18,
   "metadata": {},
   "outputs": [
    {
     "data": {
      "text/html": [
       "<div>\n",
       "<style scoped>\n",
       "    .dataframe tbody tr th:only-of-type {\n",
       "        vertical-align: middle;\n",
       "    }\n",
       "\n",
       "    .dataframe tbody tr th {\n",
       "        vertical-align: top;\n",
       "    }\n",
       "\n",
       "    .dataframe thead th {\n",
       "        text-align: right;\n",
       "    }\n",
       "</style>\n",
       "<table border=\"1\" class=\"dataframe\">\n",
       "  <thead>\n",
       "    <tr style=\"text-align: right;\">\n",
       "      <th></th>\n",
       "      <th>ID</th>\n",
       "      <th>Property</th>\n",
       "    </tr>\n",
       "  </thead>\n",
       "  <tbody>\n",
       "    <tr>\n",
       "      <th>1</th>\n",
       "      <td>25659</td>\n",
       "      <td>1</td>\n",
       "    </tr>\n",
       "    <tr>\n",
       "      <th>2</th>\n",
       "      <td>29248</td>\n",
       "      <td>2</td>\n",
       "    </tr>\n",
       "    <tr>\n",
       "      <th>3</th>\n",
       "      <td>29396</td>\n",
       "      <td>1</td>\n",
       "    </tr>\n",
       "    <tr>\n",
       "      <th>4</th>\n",
       "      <td>29720</td>\n",
       "      <td>3</td>\n",
       "    </tr>\n",
       "    <tr>\n",
       "      <th>5</th>\n",
       "      <td>27899698</td>\n",
       "      <td>4</td>\n",
       "    </tr>\n",
       "    <tr>\n",
       "      <th>...</th>\n",
       "      <td>...</td>\n",
       "      <td>...</td>\n",
       "    </tr>\n",
       "    <tr>\n",
       "      <th>16622</th>\n",
       "      <td>41870065</td>\n",
       "      <td>6</td>\n",
       "    </tr>\n",
       "    <tr>\n",
       "      <th>16623</th>\n",
       "      <td>41879410</td>\n",
       "      <td>9</td>\n",
       "    </tr>\n",
       "    <tr>\n",
       "      <th>16624</th>\n",
       "      <td>41882911</td>\n",
       "      <td>9</td>\n",
       "    </tr>\n",
       "    <tr>\n",
       "      <th>16625</th>\n",
       "      <td>41879552</td>\n",
       "      <td>50</td>\n",
       "    </tr>\n",
       "    <tr>\n",
       "      <th>16626</th>\n",
       "      <td>41882713</td>\n",
       "      <td>341</td>\n",
       "    </tr>\n",
       "  </tbody>\n",
       "</table>\n",
       "<p>16626 rows × 2 columns</p>\n",
       "</div>"
      ],
      "text/plain": [
       "             ID  Property\n",
       "1         25659         1\n",
       "2         29248         2\n",
       "3         29396         1\n",
       "4         29720         3\n",
       "5      27899698         4\n",
       "...         ...       ...\n",
       "16622  41870065         6\n",
       "16623  41879410         9\n",
       "16624  41882911         9\n",
       "16625  41879552        50\n",
       "16626  41882713       341\n",
       "\n",
       "[16626 rows x 2 columns]"
      ]
     },
     "execution_count": 18,
     "metadata": {},
     "output_type": "execute_result"
    }
   ],
   "source": [
    "df_property_dimension = df_property_dimension[['ID','Property']]\n",
    "df_property_dimension.index += 1\n",
    "df_property_dimension"
   ]
  },
  {
   "cell_type": "markdown",
   "metadata": {},
   "source": [
    "## 2.5. Creating the _Property_ dimension table in SQL\n",
    "\n",
    "The SQL statement to create the table is as follows:"
   ]
  },
  {
   "cell_type": "code",
   "execution_count": 35,
   "metadata": {},
   "outputs": [],
   "source": [
    "delete_table = \"\"\"\n",
    "DROP TABLE IF EXISTS Property;\n",
    "\"\"\"\n",
    "\n",
    "create_table = \"\"\"\n",
    "CREATE TABLE Property (\n",
    "    PROPERTY_ID SERIAL PRIMARY KEY NOT NULL,\n",
    "    PROPERTY_TYPE_CATEGORY VARCHAR(30) CHECK (PROPERTY_TYPE in ('Apartment', 'Guesthouse', 'House', 'Hotel/Hostel')) NOT NULL,\n",
    "    PROPERTY_TYPE VARCHAR(30) CHECK (PROPERTY_TYPE in ('Apartment','Serviced apartment','Aparthotel','Loft','House','Townhouse','Villa','Dome house','Vacation home','Lighthouse','Casa particular (Cuba)','Tiny house','Farm stay','Cottage','Guesthouse','Guest suite','Hostel','Bed and breakfast','Boutique hotel','Hotel')) NOT NULL,\n",
    "    ROOM_TYPE VARCHAR(30) CHECK (ROOM_TYPE in ('Entire Property', 'Private Room', 'Hotel Room', 'Shared Room')) NOT NULL,\n",
    "    ACCOMMODATES VARCHAR(30) CHECK (ACCOMMODATES in ('Up to 2 guests','Up to 4 guests','Up to 6 guests','Up to 7 guests or more')) NOT NULL,\n",
    "    BATHROOMS VARCHAR(30) CHECK (BATHROOMS in ('No bathrooms','1 bathroom','2 bathrooms','3 bathrooms','4+ bathrooms')) NOT NULL,\n",
    "    BEDROOMS VARCHAR(10) CHECK (BEDROOMS in ('T0','T1','T2','T3','T4+')) NOT NULL,\n",
    "    BEDS VARCHAR(10) CHECK (BATHROOMS in ('No beds','1 bed','2 beds','3 beds','4+ beds')) NOT NULL,\n",
    "    BED_TYPE VARCHAR(30) CHECK (BED_TYPE in ('Real Bed', 'Pull-out Sofa', 'Futton', 'Couch', 'Airbed')) NOT NULL,\n",
    ")\n",
    "\"\"\""
   ]
  },
  {
   "cell_type": "code",
   "execution_count": 36,
   "metadata": {},
   "outputs": [
    {
     "ename": "DependentObjectsStillExist",
     "evalue": "cannot drop table property because other objects depend on it\nDETAIL:  constraint listings_property_id_fkey on table listings depends on table property\nconstraint availability_property_id_fkey on table availability depends on table property\nHINT:  Use DROP ... CASCADE to drop the dependent objects too.\n",
     "output_type": "error",
     "traceback": [
      "\u001b[1;31m---------------------------------------------------------------------------\u001b[0m",
      "\u001b[1;31mDependentObjectsStillExist\u001b[0m                Traceback (most recent call last)",
      "\u001b[1;32m<ipython-input-36-56ca7d618b9a>\u001b[0m in \u001b[0;36m<module>\u001b[1;34m\u001b[0m\n\u001b[0;32m      1\u001b[0m \u001b[1;31m#creating table\u001b[0m\u001b[1;33m\u001b[0m\u001b[1;33m\u001b[0m\u001b[1;33m\u001b[0m\u001b[0m\n\u001b[1;32m----> 2\u001b[1;33m \u001b[0mrun_sql_command\u001b[0m\u001b[1;33m(\u001b[0m\u001b[0mdelete_table\u001b[0m\u001b[1;33m,\u001b[0m \u001b[0mhost_di\u001b[0m\u001b[1;33m,\u001b[0m \u001b[0mdb_di\u001b[0m\u001b[1;33m,\u001b[0m \u001b[0muser_di\u001b[0m\u001b[1;33m,\u001b[0m \u001b[0mpwd\u001b[0m\u001b[1;33m)\u001b[0m\u001b[1;33m\u001b[0m\u001b[1;33m\u001b[0m\u001b[0m\n\u001b[0m\u001b[0;32m      3\u001b[0m \u001b[0mrun_sql_command\u001b[0m\u001b[1;33m(\u001b[0m\u001b[0mcreate_table\u001b[0m\u001b[1;33m,\u001b[0m \u001b[0mhost_di\u001b[0m\u001b[1;33m,\u001b[0m \u001b[0mdb_di\u001b[0m\u001b[1;33m,\u001b[0m \u001b[0muser_di\u001b[0m\u001b[1;33m,\u001b[0m \u001b[0mpwd\u001b[0m\u001b[1;33m)\u001b[0m\u001b[1;33m\u001b[0m\u001b[1;33m\u001b[0m\u001b[0m\n",
      "\u001b[1;32m<ipython-input-29-aa98b6734f06>\u001b[0m in \u001b[0;36mrun_sql_command\u001b[1;34m(sql, host, database, user, password)\u001b[0m\n\u001b[0;32m      7\u001b[0m                       password = password)\n\u001b[0;32m      8\u001b[0m     \u001b[0mcur\u001b[0m \u001b[1;33m=\u001b[0m \u001b[0mconn\u001b[0m\u001b[1;33m.\u001b[0m\u001b[0mcursor\u001b[0m\u001b[1;33m(\u001b[0m\u001b[1;33m)\u001b[0m\u001b[1;33m\u001b[0m\u001b[1;33m\u001b[0m\u001b[0m\n\u001b[1;32m----> 9\u001b[1;33m     \u001b[0mcur\u001b[0m\u001b[1;33m.\u001b[0m\u001b[0mexecute\u001b[0m\u001b[1;33m(\u001b[0m\u001b[0msql\u001b[0m\u001b[1;33m)\u001b[0m\u001b[1;33m\u001b[0m\u001b[1;33m\u001b[0m\u001b[0m\n\u001b[0m\u001b[0;32m     10\u001b[0m     \u001b[0mcur\u001b[0m\u001b[1;33m.\u001b[0m\u001b[0mclose\u001b[0m\u001b[1;33m(\u001b[0m\u001b[1;33m)\u001b[0m\u001b[1;33m\u001b[0m\u001b[1;33m\u001b[0m\u001b[0m\n\u001b[0;32m     11\u001b[0m     \u001b[0mconn\u001b[0m\u001b[1;33m.\u001b[0m\u001b[0mcommit\u001b[0m\u001b[1;33m(\u001b[0m\u001b[1;33m)\u001b[0m\u001b[1;33m\u001b[0m\u001b[1;33m\u001b[0m\u001b[0m\n",
      "\u001b[1;31mDependentObjectsStillExist\u001b[0m: cannot drop table property because other objects depend on it\nDETAIL:  constraint listings_property_id_fkey on table listings depends on table property\nconstraint availability_property_id_fkey on table availability depends on table property\nHINT:  Use DROP ... CASCADE to drop the dependent objects too.\n"
     ]
    }
   ],
   "source": [
    "#creating table\n",
    "run_sql_command(delete_table, host_di, db_di, user_di, pwd)\n",
    "run_sql_command(create_table, host_di, db_di, user_di, pwd)"
   ]
  },
  {
   "cell_type": "markdown",
   "metadata": {},
   "source": [
    "The `create_table` command contains the integrity constraints essential for modelling the dimension."
   ]
  },
  {
   "cell_type": "markdown",
   "metadata": {},
   "source": [
    "The dimension `Property` is ready for data __loading__. Now, it's necessary to __transform__ the data, which was previously __extracted__ from its source."
   ]
  }
 ],
 "metadata": {
  "kernelspec": {
   "display_name": "Python 3",
   "language": "python",
   "name": "python3"
  },
  "language_info": {
   "codemirror_mode": {
    "name": "ipython",
    "version": 3
   },
   "file_extension": ".py",
   "mimetype": "text/x-python",
   "name": "python",
   "nbconvert_exporter": "python",
   "pygments_lexer": "ipython3",
   "version": "3.7.5"
  }
 },
 "nbformat": 4,
 "nbformat_minor": 4
}
