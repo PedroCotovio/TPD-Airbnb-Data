{
 "cells": [
  {
   "cell_type": "code",
   "execution_count": 1,
   "metadata": {},
   "outputs": [],
   "source": [
    "# libraries\n",
    "import psycopg2 as pg\n",
    "import pandas as pd\n",
    "import numpy as np\n",
    "import os\n",
    "\n",
    "# set environment variable for psycog2 (for some systems)\n",
    "os.environ[\"PGGSSENCMODE\"] = \"disable\"\n",
    "\n",
    "# get the stored passwords\n",
    "f=open(\"credentials_david.txt\", \"rt\")\n",
    "pwd=f.readline().strip()  #di   password\n",
    "hpwd=f.readline().strip() #home password\n",
    "f.close()"
   ]
  },
  {
   "cell_type": "code",
   "execution_count": 2,
   "metadata": {},
   "outputs": [],
   "source": [
    "# di test: WORKING\n",
    "#host_di = \"appserver-01.alunos.di.fc.ul.pt\"\n",
    "#db_di = \"tpd012\"\n",
    "#user_di = \"tpd012\"\n",
    "\n",
    "#conn = pg.connect(host = host_di,\n",
    "#                  database = db_di,\n",
    "#                  user = user_di,\n",
    "#                  password = pwd)\n",
    "#conn.close()\n",
    "\n",
    "# local test: WORKING\n",
    "host_local = \"localhost\"\n",
    "db_local = \"tpd012\"\n",
    "user_local = \"postgres\"\n",
    "\n",
    "conn = pg.connect(host = host_local,\n",
    "                  database = db_local,\n",
    "                  user = user_local,\n",
    "                  password=hpwd)\n",
    "conn.close()"
   ]
  },
  {
   "cell_type": "code",
   "execution_count": 3,
   "metadata": {},
   "outputs": [],
   "source": [
    "# functions\n",
    "def run_sql_command(sql, host, database, user, password):\n",
    "    \"\"\"Executes a single SQL statement from a string variable and the database credentials\"\"\"\n",
    "    conn = pg.connect(host = host,\n",
    "                      database = database,\n",
    "                      user = user,\n",
    "                      password = password)\n",
    "    cur = conn.cursor()\n",
    "    cur.execute(sql)\n",
    "    cur.close()\n",
    "    conn.commit()\n",
    "    conn.close() \n",
    "    \n",
    "def intTryParse(value):\n",
    "    \"\"\"Parse a string to an integer\"\"\"\n",
    "    try:\n",
    "        a = int(value)\n",
    "        return True\n",
    "    except ValueError:\n",
    "        return False"
   ]
  },
  {
   "cell_type": "code",
   "execution_count": 4,
   "metadata": {},
   "outputs": [
    {
     "name": "stderr",
     "output_type": "stream",
     "text": [
      "C:\\Users\\david\\Anaconda3\\lib\\site-packages\\IPython\\core\\interactiveshell.py:3063: DtypeWarning: Columns (61,62) have mixed types.Specify dtype option on import or set low_memory=False.\n",
      "  interactivity=interactivity, compiler=compiler, result=result)\n"
     ]
    }
   ],
   "source": [
    "listings_al_file_path = '../data/listings_al.csv'\n",
    "df_listings_al = pd.read_csv(listings_al_file_path)"
   ]
  },
  {
   "cell_type": "markdown",
   "metadata": {},
   "source": [
    "## 2.2. Preprocessing"
   ]
  },
  {
   "cell_type": "markdown",
   "metadata": {},
   "source": [
    "The defined _'Property'_ dimension table in __Phase I__ is as follows:\n",
    "\n",
    "<img src=\"property_schema.png\" width=\"150\" align=\"center\"/>"
   ]
  },
  {
   "cell_type": "code",
   "execution_count": 34,
   "metadata": {},
   "outputs": [],
   "source": [
    "def delete_null_rows(df,columns):\n",
    "    processed_df = df[columns].copy()\n",
    "    total_rows = processed_df.shape[0]\n",
    "    delete_rows = []\n",
    "    \n",
    "    if processed_df.isnull().values.any(): # if there are any null values in DataFrame, process DataFrame\n",
    "        for index, row in enumerate(processed_df.itertuples(), start = 0):\n",
    "            if (pd.Series(row).isnull().values.any()): # if row has any null value\n",
    "                delete_rows.append(index) # add row index to delete list\n",
    "    \n",
    "    processed_df.drop(df.index[delete_rows], inplace = True) # delete rows fr\n",
    "    \n",
    "    print('Deleted {} rows ({}% of total rows)'.format(len(delete_rows), round(len(delete_rows)*100/total_rows, 2)))\n",
    "    return processed_df"
   ]
  },
  {
   "cell_type": "code",
   "execution_count": 35,
   "metadata": {},
   "outputs": [
    {
     "name": "stdout",
     "output_type": "stream",
     "text": [
      "Deleted 71 rows (0.41% of total rows)\n"
     ]
    }
   ],
   "source": [
    "df_columns = ['property_type',\n",
    "              'room_type',\n",
    "              'accommodates',\n",
    "              'bathrooms',\n",
    "              'bedrooms',\n",
    "              'beds',\n",
    "              'bed_type']\n",
    "\n",
    "df_property = delete_null_rows(df_listings_al,df_columns)"
   ]
  },
  {
   "cell_type": "code",
   "execution_count": 28,
   "metadata": {},
   "outputs": [
    {
     "data": {
      "text/html": [
       "<div>\n",
       "<style scoped>\n",
       "    .dataframe tbody tr th:only-of-type {\n",
       "        vertical-align: middle;\n",
       "    }\n",
       "\n",
       "    .dataframe tbody tr th {\n",
       "        vertical-align: top;\n",
       "    }\n",
       "\n",
       "    .dataframe thead th {\n",
       "        text-align: right;\n",
       "    }\n",
       "</style>\n",
       "<table border=\"1\" class=\"dataframe\">\n",
       "  <thead>\n",
       "    <tr style=\"text-align: right;\">\n",
       "      <th></th>\n",
       "      <th>property_type</th>\n",
       "      <th>room_type</th>\n",
       "      <th>accommodates</th>\n",
       "      <th>bathrooms</th>\n",
       "      <th>bedrooms</th>\n",
       "      <th>beds</th>\n",
       "      <th>bed_type</th>\n",
       "    </tr>\n",
       "  </thead>\n",
       "  <tbody>\n",
       "    <tr>\n",
       "      <th>0</th>\n",
       "      <td>Apartment</td>\n",
       "      <td>Entire home/apt</td>\n",
       "      <td>3</td>\n",
       "      <td>1.0</td>\n",
       "      <td>1.0</td>\n",
       "      <td>1.0</td>\n",
       "      <td>Real Bed</td>\n",
       "    </tr>\n",
       "    <tr>\n",
       "      <th>1</th>\n",
       "      <td>Apartment</td>\n",
       "      <td>Entire home/apt</td>\n",
       "      <td>4</td>\n",
       "      <td>1.0</td>\n",
       "      <td>1.0</td>\n",
       "      <td>2.0</td>\n",
       "      <td>Real Bed</td>\n",
       "    </tr>\n",
       "    <tr>\n",
       "      <th>2</th>\n",
       "      <td>Apartment</td>\n",
       "      <td>Entire home/apt</td>\n",
       "      <td>4</td>\n",
       "      <td>1.0</td>\n",
       "      <td>1.0</td>\n",
       "      <td>1.0</td>\n",
       "      <td>Real Bed</td>\n",
       "    </tr>\n",
       "    <tr>\n",
       "      <th>3</th>\n",
       "      <td>Apartment</td>\n",
       "      <td>Entire home/apt</td>\n",
       "      <td>16</td>\n",
       "      <td>8.0</td>\n",
       "      <td>9.0</td>\n",
       "      <td>14.0</td>\n",
       "      <td>Real Bed</td>\n",
       "    </tr>\n",
       "    <tr>\n",
       "      <th>4</th>\n",
       "      <td>Apartment</td>\n",
       "      <td>Entire home/apt</td>\n",
       "      <td>4</td>\n",
       "      <td>2.0</td>\n",
       "      <td>2.0</td>\n",
       "      <td>2.0</td>\n",
       "      <td>Real Bed</td>\n",
       "    </tr>\n",
       "    <tr>\n",
       "      <th>...</th>\n",
       "      <td>...</td>\n",
       "      <td>...</td>\n",
       "      <td>...</td>\n",
       "      <td>...</td>\n",
       "      <td>...</td>\n",
       "      <td>...</td>\n",
       "      <td>...</td>\n",
       "    </tr>\n",
       "    <tr>\n",
       "      <th>60</th>\n",
       "      <td>Apartment</td>\n",
       "      <td>Entire home/apt</td>\n",
       "      <td>6</td>\n",
       "      <td>2.0</td>\n",
       "      <td>3.0</td>\n",
       "      <td>4.0</td>\n",
       "      <td>Real Bed</td>\n",
       "    </tr>\n",
       "    <tr>\n",
       "      <th>62</th>\n",
       "      <td>Apartment</td>\n",
       "      <td>Entire home/apt</td>\n",
       "      <td>6</td>\n",
       "      <td>2.0</td>\n",
       "      <td>3.0</td>\n",
       "      <td>3.0</td>\n",
       "      <td>Real Bed</td>\n",
       "    </tr>\n",
       "    <tr>\n",
       "      <th>63</th>\n",
       "      <td>Apartment</td>\n",
       "      <td>Entire home/apt</td>\n",
       "      <td>4</td>\n",
       "      <td>2.0</td>\n",
       "      <td>2.0</td>\n",
       "      <td>2.0</td>\n",
       "      <td>Real Bed</td>\n",
       "    </tr>\n",
       "    <tr>\n",
       "      <th>64</th>\n",
       "      <td>Apartment</td>\n",
       "      <td>Entire home/apt</td>\n",
       "      <td>5</td>\n",
       "      <td>2.0</td>\n",
       "      <td>3.0</td>\n",
       "      <td>3.0</td>\n",
       "      <td>Real Bed</td>\n",
       "    </tr>\n",
       "    <tr>\n",
       "      <th>65</th>\n",
       "      <td>Apartment</td>\n",
       "      <td>Entire home/apt</td>\n",
       "      <td>6</td>\n",
       "      <td>3.0</td>\n",
       "      <td>3.0</td>\n",
       "      <td>3.0</td>\n",
       "      <td>Real Bed</td>\n",
       "    </tr>\n",
       "  </tbody>\n",
       "</table>\n",
       "<p>65 rows × 7 columns</p>\n",
       "</div>"
      ],
      "text/plain": [
       "   property_type        room_type  accommodates  bathrooms  bedrooms  beds  \\\n",
       "0      Apartment  Entire home/apt             3        1.0       1.0   1.0   \n",
       "1      Apartment  Entire home/apt             4        1.0       1.0   2.0   \n",
       "2      Apartment  Entire home/apt             4        1.0       1.0   1.0   \n",
       "3      Apartment  Entire home/apt            16        8.0       9.0  14.0   \n",
       "4      Apartment  Entire home/apt             4        2.0       2.0   2.0   \n",
       "..           ...              ...           ...        ...       ...   ...   \n",
       "60     Apartment  Entire home/apt             6        2.0       3.0   4.0   \n",
       "62     Apartment  Entire home/apt             6        2.0       3.0   3.0   \n",
       "63     Apartment  Entire home/apt             4        2.0       2.0   2.0   \n",
       "64     Apartment  Entire home/apt             5        2.0       3.0   3.0   \n",
       "65     Apartment  Entire home/apt             6        3.0       3.0   3.0   \n",
       "\n",
       "    bed_type  \n",
       "0   Real Bed  \n",
       "1   Real Bed  \n",
       "2   Real Bed  \n",
       "3   Real Bed  \n",
       "4   Real Bed  \n",
       "..       ...  \n",
       "60  Real Bed  \n",
       "62  Real Bed  \n",
       "63  Real Bed  \n",
       "64  Real Bed  \n",
       "65  Real Bed  \n",
       "\n",
       "[65 rows x 7 columns]"
      ]
     },
     "execution_count": 28,
     "metadata": {},
     "output_type": "execute_result"
    }
   ],
   "source": []
  },
  {
   "cell_type": "code",
   "execution_count": null,
   "metadata": {},
   "outputs": [],
   "source": [
    "# convert columns to categorical variables and keep rows with only relevant categories\n",
    "\n",
    "delete_rows = []\n",
    "\n",
    "# change 'property_type' to four categories, exclude exceptions\n",
    "for i, value in enumerate(kept_data['property_type']):\n",
    "    if value in [\"Apartment\", \"Serviced apartment\", \"Aparthotel\",\"Loft\"]:  \n",
    "        kept_data.loc[i, 'property_type'] = 'Apartment'\n",
    "    elif value in [\"House\",\"Townhouse\",\"Villa\",\"Dome house\",\"Vacation home\",\"Lighthouse\",\"Casa particular (Cuba)\",\"Tiny house\",\"Farm stay\",\"Cottage\"]:\n",
    "        kept_data.loc[i, 'property_type'] = 'House'\n",
    "    elif value in [\"Guesthouse\",\"Guest suite\"]:\n",
    "        kept_data.loc[i, 'property_type'] = 'Guesthouse'\n",
    "    elif value in [\"Hostel\",\"Bed and breakfast\",\"Boutique hotel\",\"Hotel\"]:\n",
    "        kept_data.loc[i, 'property_type'] = 'Hotel/Hostel'\n",
    "    else:\n",
    "        delete_rows.append(i)  \n",
    "\n",
    "list(set(delete_rows))\n",
    "kept_data.drop(delete_rows, inplace = True)\n",
    "kept_data = kept_data.drop('index', axis = 1).reset_index().drop('index', axis = 1)\n",
    "kept_data\n",
    "\n",
    "# change 'bathrooms' to five categories, exclude exceptions\n",
    "for i, value in enumerate(kept_data['bathrooms']):\n",
    "    if value < 0.5:  \n",
    "        kept_data.loc[i, 'bathrooms'] = '0 bathrooms'\n",
    "    elif value < 1.5:\n",
    "        kept_data.loc[i, 'bathrooms'] = '1 bathroom'\n",
    "    elif value < 2.5:\n",
    "        kept_data.loc[i, 'bathrooms'] = '2 bathrooms'\n",
    "    elif value < 3.5:\n",
    "        kept_data.loc[i, 'bathrooms'] = '3 bathrooms'\n",
    "    elif value >= 3.5:\n",
    "        kept_data.loc[i, 'bathrooms'] = '4+ bathrooms'\n",
    "    else:\n",
    "        delete_rows.append(i) # for the case of missing values\n",
    "\n",
    "# change 'bedrooms' to five categories, exclude exceptions\n",
    "for i, value in enumerate(kept_data['bedrooms']):\n",
    "    if value == 0:  \n",
    "        kept_data.loc[i, 'bedrooms'] = 'T0'\n",
    "    elif value == 1:\n",
    "        kept_data.loc[i, 'bedrooms'] = 'T1'\n",
    "    elif value == 2:\n",
    "        kept_data.loc[i, 'bedrooms'] = 'T2'\n",
    "    elif value == 3:\n",
    "        kept_data.loc[i, 'bedrooms'] = 'T3'\n",
    "    elif value >= 4:\n",
    "        kept_data.loc[i, 'bedrooms'] = 'T4+'\n",
    "    else:\n",
    "        delete_rows.append(i) # for the case of missing values\n",
    "        \n",
    "# create a binned category type for 'accommodates'\n",
    "kept_data['accommodates_new'] = pd.qcut(kept_data['accommodates'],4, duplicates='drop')"
   ]
  },
  {
   "cell_type": "code",
   "execution_count": null,
   "metadata": {},
   "outputs": [],
   "source": [
    "# keep only columns which are relevant for Property dimension\n",
    "\n",
    "\n",
    "# removing rows with missing data\n",
    "kept_data = df_result[df_columns].dropna().reset_index().copy()\n",
    "print('Removing rows with missing data keeps {}% of the original data.'.format( round( (kept_data.shape[0] / df_result[df_columns].shape[0]) * 100, 2) ) )"
   ]
  },
  {
   "cell_type": "markdown",
   "metadata": {},
   "source": [
    "### 2.2.?. Creating _Property_ dimension table in SQL\n",
    "\n",
    "The SQL statement to create the table is as follows:"
   ]
  },
  {
   "cell_type": "code",
   "execution_count": null,
   "metadata": {},
   "outputs": [],
   "source": [
    "create_table = \"\"\"\n",
    "CREATE TABLE Property (\n",
    "    PROPERTY_ID SERIAL PRIMARY KEY NOT NULL,\n",
    "    PROPERTY_TYPE VARCHAR(30) CHECK (PROPERTY_TYPE in ('Apartment', 'GuestHouse', 'House', 'Hostel', 'Room')) NOT NULL,\n",
    "    ROOM_TYPE VARCHAR(30) CHECK (ROOM_TYPE in ('Entire Property', 'Private Room', 'Hotel Room', 'Shared Room')) NOT NULL,\n",
    "    ACCOMMODATES VARCHAR(10) CHECK (ACCOMMODATES in ('0-2','2-4','4-6','>6')) NOT NULL,\n",
    "    BATHROOMS VARCHAR(10) CHECK (BATHROOMS in ('0','1','2','3','>=4')) NOT NULL,\n",
    "    BEDROOMS VARCHAR(10) CHECK (BEDROOMS in ('T0','T1','T2','T3','T>=4')) NOT NULL,\n",
    "    BEDS VARCHAR(10) CHECK (BATHROOMS in ('0','1','2','3','>=4')) NOT NULL,\n",
    "    BED_TYPE VARCHAR(30) CHECK (BED_TYPE in ('Real Bed', 'Pull-out Sofa', 'Futton', 'Couch', 'Airbed')) NOT NULL,\n",
    "    PRICE_SRQT VARCHAR(10) CHECK (PRICE_SRQT in ('Expensive', 'Medium', 'Cheap')) NOT NULL\n",
    ")\n",
    "\"\"\""
   ]
  },
  {
   "cell_type": "code",
   "execution_count": null,
   "metadata": {},
   "outputs": [],
   "source": [
    "# creating table\n",
    "run_sql_command(create_table,\n",
    "                host_local,\n",
    "                db_local,\n",
    "                user_local,\n",
    "                hpwd)"
   ]
  },
  {
   "cell_type": "markdown",
   "metadata": {},
   "source": [
    "The `create_table` command contains the integrity constraints essential for modelling the dimension."
   ]
  },
  {
   "cell_type": "markdown",
   "metadata": {},
   "source": [
    "The dimension `Property` is ready for data __loading__. Now, it's necessary to __transform__ the data, which was previously __extracted__ from its source."
   ]
  },
  {
   "cell_type": "markdown",
   "metadata": {},
   "source": [
    "# Drafts"
   ]
  },
  {
   "cell_type": "markdown",
   "metadata": {},
   "source": [
    "This will change in future, with the addition of price/sqr. meter"
   ]
  },
  {
   "cell_type": "code",
   "execution_count": null,
   "metadata": {},
   "outputs": [],
   "source": []
  },
  {
   "cell_type": "code",
   "execution_count": null,
   "metadata": {},
   "outputs": [],
   "source": []
  }
 ],
 "metadata": {
  "kernelspec": {
   "display_name": "Python 3",
   "language": "python",
   "name": "python3"
  },
  "language_info": {
   "codemirror_mode": {
    "name": "ipython",
    "version": 3
   },
   "file_extension": ".py",
   "mimetype": "text/x-python",
   "name": "python",
   "nbconvert_exporter": "python",
   "pygments_lexer": "ipython3",
   "version": "3.7.5"
  }
 },
 "nbformat": 4,
 "nbformat_minor": 4
}
