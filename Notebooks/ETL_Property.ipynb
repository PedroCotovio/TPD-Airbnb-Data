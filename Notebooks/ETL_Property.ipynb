{
 "cells": [
  {
   "cell_type": "code",
   "execution_count": 1,
   "metadata": {},
   "outputs": [],
   "source": [
    "# libraries\n",
    "import psycopg2 as pg\n",
    "import pandas as pd\n",
    "import numpy as np\n",
    "import os\n",
    "\n",
    "# set environment variable for psycog2 (for some systems)\n",
    "os.environ[\"PGGSSENCMODE\"] = \"disable\"\n",
    "\n",
    "# get the stored passwords\n",
    "f=open(\"credentials_david.txt\", \"rt\")\n",
    "pwd=f.readline().strip()  #di   password\n",
    "hpwd=f.readline().strip() #home password\n",
    "f.close()"
   ]
  },
  {
   "cell_type": "code",
   "execution_count": 2,
   "metadata": {},
   "outputs": [],
   "source": [
    "# di test: WORKING\n",
    "#host_di = \"appserver-01.alunos.di.fc.ul.pt\"\n",
    "#db_di = \"tpd012\"\n",
    "#user_di = \"tpd012\"\n",
    "\n",
    "#conn = pg.connect(host = host_di,\n",
    "#                  database = db_di,\n",
    "#                  user = user_di,\n",
    "#                  password = pwd)\n",
    "#conn.close()\n",
    "\n",
    "# local test: WORKING\n",
    "host_local = \"localhost\"\n",
    "db_local = \"tpd012\"\n",
    "user_local = \"postgres\"\n",
    "\n",
    "conn = pg.connect(host = host_local,\n",
    "                  database = db_local,\n",
    "                  user = user_local,\n",
    "                  password=hpwd)\n",
    "conn.close()"
   ]
  },
  {
   "cell_type": "code",
   "execution_count": 3,
   "metadata": {},
   "outputs": [],
   "source": [
    "# functions\n",
    "def run_sql_command(sql, host, database, user, password):\n",
    "    \"\"\"Executes a single SQL statement from a string variable and the database credentials\"\"\"\n",
    "    conn = pg.connect(host = host,\n",
    "                      database = database,\n",
    "                      user = user,\n",
    "                      password = password)\n",
    "    cur = conn.cursor()\n",
    "    cur.execute(sql)\n",
    "    cur.close()\n",
    "    conn.commit()\n",
    "    conn.close() \n",
    "    \n",
    "def intTryParse(value):\n",
    "    \"\"\"Parse a string to an integer\"\"\"\n",
    "    try:\n",
    "        a = int(value)\n",
    "        return True\n",
    "    except ValueError:\n",
    "        return False"
   ]
  },
  {
   "cell_type": "code",
   "execution_count": 4,
   "metadata": {},
   "outputs": [
    {
     "name": "stderr",
     "output_type": "stream",
     "text": [
      "C:\\Users\\david\\Anaconda3\\lib\\site-packages\\IPython\\core\\interactiveshell.py:3063: DtypeWarning: Columns (61,62) have mixed types.Specify dtype option on import or set low_memory=False.\n",
      "  interactivity=interactivity, compiler=compiler, result=result)\n"
     ]
    }
   ],
   "source": [
    "listings_al_file_path = '../data/listings_al.csv'\n",
    "df_listings_al = pd.read_csv(listings_al_file_path)"
   ]
  },
  {
   "cell_type": "markdown",
   "metadata": {},
   "source": [
    "## 2.2. Preprocessing"
   ]
  },
  {
   "cell_type": "markdown",
   "metadata": {},
   "source": [
    "The defined _'Property'_ dimension table in __Phase I__ is as follows:\n",
    "\n",
    "<img src=\"property_schema.png\" width=\"150\" align=\"center\"/>\n",
    "\n",
    "# __CHANGE SCHEMA__"
   ]
  },
  {
   "cell_type": "code",
   "execution_count": 5,
   "metadata": {},
   "outputs": [],
   "source": [
    "def delete_null_rows(df,columns):\n",
    "    \"\"\"Removes all records with any empty cells from input DataFrame\"\"\"\n",
    "    processed_df = df[columns].copy()\n",
    "    total_rows = processed_df.shape[0]\n",
    "    delete_rows = []\n",
    "    \n",
    "    if processed_df.isnull().values.any(): # if there are any null values in DataFrame, process DataFrame\n",
    "        for index, row in enumerate(processed_df.itertuples(), start = 0):\n",
    "            if (pd.Series(row).isnull().values.any()): # if row has any null value\n",
    "                delete_rows.append(index) # add row index to delete list\n",
    "    \n",
    "    processed_df.drop(df.index[delete_rows], inplace = True) # delete rows fr\n",
    "    processed_df = processed_df.reset_index().drop('index', axis = 1)\n",
    "    print('DataFrame contains {} rows. Deleted {} rows ({}% of total rows)'.format(processed_df.shape[0], len(delete_rows), round(len(delete_rows)*100/total_rows, 2)))\n",
    "    return processed_df"
   ]
  },
  {
   "cell_type": "code",
   "execution_count": 6,
   "metadata": {},
   "outputs": [
    {
     "name": "stdout",
     "output_type": "stream",
     "text": [
      "DataFrame contains 17097 rows. Deleted 71 rows (0.41% of total rows)\n"
     ]
    }
   ],
   "source": [
    "df_columns = ['id',\n",
    "              'property_type',\n",
    "              'room_type',\n",
    "              'accommodates',\n",
    "              'bathrooms',\n",
    "              'bedrooms',\n",
    "              'beds',\n",
    "              'bed_type']\n",
    "\n",
    "df_property = delete_null_rows(df_listings_al,df_columns)"
   ]
  },
  {
   "cell_type": "markdown",
   "metadata": {},
   "source": [
    "`df_property` will be the table containing a record for each fact ID converted to the dimension format. `df_property_dimension` will be the _de facto_ property dimension from which we can convert each fact ID record to the dimension key according to its set of attributes."
   ]
  },
  {
   "cell_type": "markdown",
   "metadata": {},
   "source": [
    "### _'property_type_category'_\n",
    "\n",
    "We start by creating _'property_type_category'_, a set of four categories from _'property_type'_."
   ]
  },
  {
   "cell_type": "code",
   "execution_count": 7,
   "metadata": {},
   "outputs": [],
   "source": [
    "category = []\n",
    "# change 'property_type' to four categories, exclude exceptions\n",
    "for i, value in enumerate(df_property['property_type']):\n",
    "    if value in [\"Apartment\", \"Serviced apartment\", \"Aparthotel\",\"Loft\"]: # 4\n",
    "        category.append('Apartment')\n",
    "    elif value in [\"House\",\"Townhouse\",\"Villa\",\"Dome house\",\"Vacation home\",\"Lighthouse\",\"Casa particular (Cuba)\",\"Tiny house\",\"Farm stay\",\"Cottage\"]: # 10\n",
    "        category.append('House')\n",
    "    elif value in [\"Guesthouse\",\"Guest suite\"]: # 2\n",
    "        category.append('Guesthouse')\n",
    "    elif value in [\"Hostel\",\"Bed and breakfast\",\"Boutique hotel\",\"Hotel\"]: # 4\n",
    "        category.append('Hotel/Hostel')\n",
    "    else:\n",
    "        category.append(None) # for the case of missing or invalid values\n",
    "        \n",
    "df_property['property_type_category'] = category"
   ]
  },
  {
   "cell_type": "markdown",
   "metadata": {},
   "source": [
    "### _'room_type'_"
   ]
  },
  {
   "cell_type": "markdown",
   "metadata": {},
   "source": [
    "This attribute is already defined in satisfactory categories."
   ]
  },
  {
   "cell_type": "markdown",
   "metadata": {},
   "source": [
    "### _'accommodates'_"
   ]
  },
  {
   "cell_type": "code",
   "execution_count": 8,
   "metadata": {},
   "outputs": [],
   "source": [
    "# change 'property_type' to four categories, exclude exceptions\n",
    "for i, value in enumerate(df_property['accommodates']):\n",
    "    if value in [1,2]:  \n",
    "        df_property.loc[i, 'accommodates'] = 'Up to 2'\n",
    "    elif value in [3,4]:\n",
    "        df_property.loc[i, 'accommodates'] = 'Up to 4'\n",
    "    elif value in [5,6]:\n",
    "        df_property.loc[i, 'accommodates'] = 'Up to 6'\n",
    "    else:\n",
    "        df_property.loc[i, 'accommodates'] = 'Up to 7 or more'\n",
    "        # no missing values in this column"
   ]
  },
  {
   "cell_type": "markdown",
   "metadata": {},
   "source": [
    "### _'bathrooms'_"
   ]
  },
  {
   "cell_type": "code",
   "execution_count": 9,
   "metadata": {},
   "outputs": [],
   "source": [
    "# change 'bathrooms' to five categories, exclude exceptions\n",
    "for i, value in enumerate(df_property['bathrooms']):\n",
    "    if value < 0.5:  \n",
    "        df_property.loc[i, 'bathrooms'] = 'No bathrooms'\n",
    "    elif value < 1.5:\n",
    "        df_property.loc[i, 'bathrooms'] = '1 bathroom'\n",
    "    elif value < 2.5:\n",
    "        df_property.loc[i, 'bathrooms'] = '2 bathrooms'\n",
    "    elif value < 3.5:\n",
    "        df_property.loc[i, 'bathrooms'] = '3 bathrooms'\n",
    "    elif value >= 3.5:\n",
    "        df_property.loc[i, 'bathrooms'] = '4+ bathrooms'\n",
    "    else:\n",
    "        df_property.loc[i, 'bathrooms'] = None # for the case of missing or invalid values"
   ]
  },
  {
   "cell_type": "markdown",
   "metadata": {},
   "source": [
    "### _'bedrooms'_"
   ]
  },
  {
   "cell_type": "code",
   "execution_count": 10,
   "metadata": {},
   "outputs": [],
   "source": [
    "# change 'bedrooms' to five categories, exclude exceptions\n",
    "for i, value in enumerate(df_property['bedrooms']):\n",
    "    if value == 0:  \n",
    "        df_property.loc[i, 'bedrooms'] = 'T0'\n",
    "    elif value == 1:\n",
    "        df_property.loc[i, 'bedrooms'] = 'T1'\n",
    "    elif value == 2:\n",
    "        df_property.loc[i, 'bedrooms'] = 'T2'\n",
    "    elif value == 3:\n",
    "        df_property.loc[i, 'bedrooms'] = 'T3'\n",
    "    elif value >= 4:\n",
    "        df_property.loc[i, 'bedrooms'] = 'T4+'\n",
    "    else:\n",
    "        df_property.loc[i, 'bedrooms'] = None # for the case of missing or invalid values"
   ]
  },
  {
   "cell_type": "markdown",
   "metadata": {},
   "source": [
    "### _'beds'_"
   ]
  },
  {
   "cell_type": "code",
   "execution_count": 11,
   "metadata": {},
   "outputs": [],
   "source": [
    "# change 'beds' to five categories, exclude exceptions\n",
    "for i, value in enumerate(df_property['beds']):\n",
    "    if value == 0:  \n",
    "        df_property.loc[i, 'bedrooms'] = 'No beds'\n",
    "    elif value == 1:\n",
    "        df_property.loc[i, 'bedrooms'] = '1 bed'\n",
    "    elif value == 2:\n",
    "        df_property.loc[i, 'bedrooms'] = '2 beds'\n",
    "    elif value == 3:\n",
    "        df_property.loc[i, 'bedrooms'] = '3 beds'\n",
    "    elif value >= 4:\n",
    "        df_property.loc[i, 'bedrooms'] = '4+ beds'\n",
    "    else:\n",
    "        df_property.loc[i, 'bedrooms'] = None # for the case of missing or invalid values"
   ]
  },
  {
   "cell_type": "markdown",
   "metadata": {},
   "source": [
    "### Deleting missing data"
   ]
  },
  {
   "cell_type": "markdown",
   "metadata": {},
   "source": [
    "Besides the initial removal of rows that had one or more missing data cells, we now remove any cells that may now have missing data from our recategorisation process."
   ]
  },
  {
   "cell_type": "code",
   "execution_count": 12,
   "metadata": {},
   "outputs": [
    {
     "name": "stdout",
     "output_type": "stream",
     "text": [
      "DataFrame contains 16626 rows. Deleted 471 rows (2.75% of total rows)\n"
     ]
    },
    {
     "data": {
      "text/html": [
       "<div>\n",
       "<style scoped>\n",
       "    .dataframe tbody tr th:only-of-type {\n",
       "        vertical-align: middle;\n",
       "    }\n",
       "\n",
       "    .dataframe tbody tr th {\n",
       "        vertical-align: top;\n",
       "    }\n",
       "\n",
       "    .dataframe thead th {\n",
       "        text-align: right;\n",
       "    }\n",
       "</style>\n",
       "<table border=\"1\" class=\"dataframe\">\n",
       "  <thead>\n",
       "    <tr style=\"text-align: right;\">\n",
       "      <th></th>\n",
       "      <th>id</th>\n",
       "      <th>property_type_category</th>\n",
       "      <th>property_type</th>\n",
       "      <th>room_type</th>\n",
       "      <th>accommodates</th>\n",
       "      <th>bathrooms</th>\n",
       "      <th>bedrooms</th>\n",
       "      <th>beds</th>\n",
       "      <th>bed_type</th>\n",
       "    </tr>\n",
       "  </thead>\n",
       "  <tbody>\n",
       "    <tr>\n",
       "      <th>0</th>\n",
       "      <td>25659</td>\n",
       "      <td>Apartment</td>\n",
       "      <td>Apartment</td>\n",
       "      <td>Entire home/apt</td>\n",
       "      <td>Up to 4</td>\n",
       "      <td>1 bathroom</td>\n",
       "      <td>1 bed</td>\n",
       "      <td>1.0</td>\n",
       "      <td>Real Bed</td>\n",
       "    </tr>\n",
       "    <tr>\n",
       "      <th>1</th>\n",
       "      <td>29248</td>\n",
       "      <td>Apartment</td>\n",
       "      <td>Apartment</td>\n",
       "      <td>Entire home/apt</td>\n",
       "      <td>Up to 4</td>\n",
       "      <td>1 bathroom</td>\n",
       "      <td>2 beds</td>\n",
       "      <td>2.0</td>\n",
       "      <td>Real Bed</td>\n",
       "    </tr>\n",
       "    <tr>\n",
       "      <th>2</th>\n",
       "      <td>29396</td>\n",
       "      <td>Apartment</td>\n",
       "      <td>Apartment</td>\n",
       "      <td>Entire home/apt</td>\n",
       "      <td>Up to 4</td>\n",
       "      <td>1 bathroom</td>\n",
       "      <td>1 bed</td>\n",
       "      <td>1.0</td>\n",
       "      <td>Real Bed</td>\n",
       "    </tr>\n",
       "    <tr>\n",
       "      <th>3</th>\n",
       "      <td>29720</td>\n",
       "      <td>Apartment</td>\n",
       "      <td>Apartment</td>\n",
       "      <td>Entire home/apt</td>\n",
       "      <td>Up to 7 or more</td>\n",
       "      <td>4+ bathrooms</td>\n",
       "      <td>4+ beds</td>\n",
       "      <td>14.0</td>\n",
       "      <td>Real Bed</td>\n",
       "    </tr>\n",
       "    <tr>\n",
       "      <th>4</th>\n",
       "      <td>27899698</td>\n",
       "      <td>Apartment</td>\n",
       "      <td>Apartment</td>\n",
       "      <td>Entire home/apt</td>\n",
       "      <td>Up to 4</td>\n",
       "      <td>2 bathrooms</td>\n",
       "      <td>2 beds</td>\n",
       "      <td>2.0</td>\n",
       "      <td>Real Bed</td>\n",
       "    </tr>\n",
       "    <tr>\n",
       "      <th>...</th>\n",
       "      <td>...</td>\n",
       "      <td>...</td>\n",
       "      <td>...</td>\n",
       "      <td>...</td>\n",
       "      <td>...</td>\n",
       "      <td>...</td>\n",
       "      <td>...</td>\n",
       "      <td>...</td>\n",
       "      <td>...</td>\n",
       "    </tr>\n",
       "    <tr>\n",
       "      <th>16621</th>\n",
       "      <td>41870065</td>\n",
       "      <td>Apartment</td>\n",
       "      <td>Apartment</td>\n",
       "      <td>Entire home/apt</td>\n",
       "      <td>Up to 2</td>\n",
       "      <td>1 bathroom</td>\n",
       "      <td>1 bed</td>\n",
       "      <td>1.0</td>\n",
       "      <td>Real Bed</td>\n",
       "    </tr>\n",
       "    <tr>\n",
       "      <th>16622</th>\n",
       "      <td>41879410</td>\n",
       "      <td>Apartment</td>\n",
       "      <td>Apartment</td>\n",
       "      <td>Entire home/apt</td>\n",
       "      <td>Up to 4</td>\n",
       "      <td>1 bathroom</td>\n",
       "      <td>3 beds</td>\n",
       "      <td>3.0</td>\n",
       "      <td>Real Bed</td>\n",
       "    </tr>\n",
       "    <tr>\n",
       "      <th>16623</th>\n",
       "      <td>41882911</td>\n",
       "      <td>Apartment</td>\n",
       "      <td>Apartment</td>\n",
       "      <td>Entire home/apt</td>\n",
       "      <td>Up to 4</td>\n",
       "      <td>1 bathroom</td>\n",
       "      <td>3 beds</td>\n",
       "      <td>3.0</td>\n",
       "      <td>Real Bed</td>\n",
       "    </tr>\n",
       "    <tr>\n",
       "      <th>16624</th>\n",
       "      <td>41879552</td>\n",
       "      <td>Apartment</td>\n",
       "      <td>Loft</td>\n",
       "      <td>Entire home/apt</td>\n",
       "      <td>Up to 2</td>\n",
       "      <td>1 bathroom</td>\n",
       "      <td>1 bed</td>\n",
       "      <td>1.0</td>\n",
       "      <td>Real Bed</td>\n",
       "    </tr>\n",
       "    <tr>\n",
       "      <th>16625</th>\n",
       "      <td>41882713</td>\n",
       "      <td>Hotel/Hostel</td>\n",
       "      <td>Boutique hotel</td>\n",
       "      <td>Private room</td>\n",
       "      <td>Up to 2</td>\n",
       "      <td>1 bathroom</td>\n",
       "      <td>2 beds</td>\n",
       "      <td>2.0</td>\n",
       "      <td>Real Bed</td>\n",
       "    </tr>\n",
       "  </tbody>\n",
       "</table>\n",
       "<p>16626 rows × 9 columns</p>\n",
       "</div>"
      ],
      "text/plain": [
       "             id property_type_category   property_type        room_type  \\\n",
       "0         25659              Apartment       Apartment  Entire home/apt   \n",
       "1         29248              Apartment       Apartment  Entire home/apt   \n",
       "2         29396              Apartment       Apartment  Entire home/apt   \n",
       "3         29720              Apartment       Apartment  Entire home/apt   \n",
       "4      27899698              Apartment       Apartment  Entire home/apt   \n",
       "...         ...                    ...             ...              ...   \n",
       "16621  41870065              Apartment       Apartment  Entire home/apt   \n",
       "16622  41879410              Apartment       Apartment  Entire home/apt   \n",
       "16623  41882911              Apartment       Apartment  Entire home/apt   \n",
       "16624  41879552              Apartment            Loft  Entire home/apt   \n",
       "16625  41882713           Hotel/Hostel  Boutique hotel     Private room   \n",
       "\n",
       "          accommodates     bathrooms bedrooms  beds  bed_type  \n",
       "0              Up to 4    1 bathroom    1 bed   1.0  Real Bed  \n",
       "1              Up to 4    1 bathroom   2 beds   2.0  Real Bed  \n",
       "2              Up to 4    1 bathroom    1 bed   1.0  Real Bed  \n",
       "3      Up to 7 or more  4+ bathrooms  4+ beds  14.0  Real Bed  \n",
       "4              Up to 4   2 bathrooms   2 beds   2.0  Real Bed  \n",
       "...                ...           ...      ...   ...       ...  \n",
       "16621          Up to 2    1 bathroom    1 bed   1.0  Real Bed  \n",
       "16622          Up to 4    1 bathroom   3 beds   3.0  Real Bed  \n",
       "16623          Up to 4    1 bathroom   3 beds   3.0  Real Bed  \n",
       "16624          Up to 2    1 bathroom    1 bed   1.0  Real Bed  \n",
       "16625          Up to 2    1 bathroom   2 beds   2.0  Real Bed  \n",
       "\n",
       "[16626 rows x 9 columns]"
      ]
     },
     "execution_count": 12,
     "metadata": {},
     "output_type": "execute_result"
    }
   ],
   "source": [
    "df_property = delete_null_rows(df_property,df_property.columns)\n",
    "\n",
    "df_property = df_property[['id',\n",
    "              'property_type_category',\n",
    "              'property_type',\n",
    "              'room_type',\n",
    "              'accommodates',\n",
    "              'bathrooms',\n",
    "              'bedrooms',\n",
    "              'beds',\n",
    "              'bed_type']]\n",
    "df_property"
   ]
  },
  {
   "cell_type": "markdown",
   "metadata": {},
   "source": [
    "In this step, a larger number of rows was lost, but still a small percentage in relation to the entirety of the dataset."
   ]
  },
  {
   "cell_type": "markdown",
   "metadata": {},
   "source": [
    "## 2.3. Creating the dimension table"
   ]
  },
  {
   "cell_type": "code",
   "execution_count": 13,
   "metadata": {},
   "outputs": [
    {
     "data": {
      "text/html": [
       "<div>\n",
       "<style scoped>\n",
       "    .dataframe tbody tr th:only-of-type {\n",
       "        vertical-align: middle;\n",
       "    }\n",
       "\n",
       "    .dataframe tbody tr th {\n",
       "        vertical-align: top;\n",
       "    }\n",
       "\n",
       "    .dataframe thead th {\n",
       "        text-align: right;\n",
       "    }\n",
       "</style>\n",
       "<table border=\"1\" class=\"dataframe\">\n",
       "  <thead>\n",
       "    <tr style=\"text-align: right;\">\n",
       "      <th></th>\n",
       "      <th>property_type_category</th>\n",
       "      <th>property_type</th>\n",
       "      <th>room_type</th>\n",
       "      <th>accommodates</th>\n",
       "      <th>bathrooms</th>\n",
       "      <th>bedrooms</th>\n",
       "      <th>beds</th>\n",
       "      <th>bed_type</th>\n",
       "    </tr>\n",
       "  </thead>\n",
       "  <tbody>\n",
       "    <tr>\n",
       "      <th>0</th>\n",
       "      <td>Apartment</td>\n",
       "      <td>Apartment</td>\n",
       "      <td>Entire home/apt</td>\n",
       "      <td>Up to 4</td>\n",
       "      <td>1 bathroom</td>\n",
       "      <td>1 bed</td>\n",
       "      <td>1.0</td>\n",
       "      <td>Real Bed</td>\n",
       "    </tr>\n",
       "    <tr>\n",
       "      <th>1</th>\n",
       "      <td>Apartment</td>\n",
       "      <td>Apartment</td>\n",
       "      <td>Entire home/apt</td>\n",
       "      <td>Up to 4</td>\n",
       "      <td>1 bathroom</td>\n",
       "      <td>2 beds</td>\n",
       "      <td>2.0</td>\n",
       "      <td>Real Bed</td>\n",
       "    </tr>\n",
       "    <tr>\n",
       "      <th>2</th>\n",
       "      <td>Apartment</td>\n",
       "      <td>Apartment</td>\n",
       "      <td>Entire home/apt</td>\n",
       "      <td>Up to 7 or more</td>\n",
       "      <td>4+ bathrooms</td>\n",
       "      <td>4+ beds</td>\n",
       "      <td>14.0</td>\n",
       "      <td>Real Bed</td>\n",
       "    </tr>\n",
       "    <tr>\n",
       "      <th>3</th>\n",
       "      <td>Apartment</td>\n",
       "      <td>Apartment</td>\n",
       "      <td>Entire home/apt</td>\n",
       "      <td>Up to 4</td>\n",
       "      <td>2 bathrooms</td>\n",
       "      <td>2 beds</td>\n",
       "      <td>2.0</td>\n",
       "      <td>Real Bed</td>\n",
       "    </tr>\n",
       "    <tr>\n",
       "      <th>4</th>\n",
       "      <td>Apartment</td>\n",
       "      <td>Apartment</td>\n",
       "      <td>Entire home/apt</td>\n",
       "      <td>Up to 4</td>\n",
       "      <td>1 bathroom</td>\n",
       "      <td>No beds</td>\n",
       "      <td>0.0</td>\n",
       "      <td>Real Bed</td>\n",
       "    </tr>\n",
       "    <tr>\n",
       "      <th>...</th>\n",
       "      <td>...</td>\n",
       "      <td>...</td>\n",
       "      <td>...</td>\n",
       "      <td>...</td>\n",
       "      <td>...</td>\n",
       "      <td>...</td>\n",
       "      <td>...</td>\n",
       "      <td>...</td>\n",
       "    </tr>\n",
       "    <tr>\n",
       "      <th>967</th>\n",
       "      <td>Apartment</td>\n",
       "      <td>Apartment</td>\n",
       "      <td>Private room</td>\n",
       "      <td>Up to 7 or more</td>\n",
       "      <td>4+ bathrooms</td>\n",
       "      <td>4+ beds</td>\n",
       "      <td>7.0</td>\n",
       "      <td>Real Bed</td>\n",
       "    </tr>\n",
       "    <tr>\n",
       "      <th>968</th>\n",
       "      <td>Hotel/Hostel</td>\n",
       "      <td>Bed and breakfast</td>\n",
       "      <td>Private room</td>\n",
       "      <td>Up to 6</td>\n",
       "      <td>2 bathrooms</td>\n",
       "      <td>3 beds</td>\n",
       "      <td>3.0</td>\n",
       "      <td>Real Bed</td>\n",
       "    </tr>\n",
       "    <tr>\n",
       "      <th>969</th>\n",
       "      <td>Apartment</td>\n",
       "      <td>Serviced apartment</td>\n",
       "      <td>Entire home/apt</td>\n",
       "      <td>Up to 4</td>\n",
       "      <td>3 bathrooms</td>\n",
       "      <td>2 beds</td>\n",
       "      <td>2.0</td>\n",
       "      <td>Real Bed</td>\n",
       "    </tr>\n",
       "    <tr>\n",
       "      <th>970</th>\n",
       "      <td>Guesthouse</td>\n",
       "      <td>Guesthouse</td>\n",
       "      <td>Shared room</td>\n",
       "      <td>Up to 7 or more</td>\n",
       "      <td>3 bathrooms</td>\n",
       "      <td>4+ beds</td>\n",
       "      <td>8.0</td>\n",
       "      <td>Real Bed</td>\n",
       "    </tr>\n",
       "    <tr>\n",
       "      <th>971</th>\n",
       "      <td>Apartment</td>\n",
       "      <td>Apartment</td>\n",
       "      <td>Shared room</td>\n",
       "      <td>Up to 7 or more</td>\n",
       "      <td>1 bathroom</td>\n",
       "      <td>4+ beds</td>\n",
       "      <td>8.0</td>\n",
       "      <td>Real Bed</td>\n",
       "    </tr>\n",
       "  </tbody>\n",
       "</table>\n",
       "<p>972 rows × 8 columns</p>\n",
       "</div>"
      ],
      "text/plain": [
       "    property_type_category       property_type        room_type  \\\n",
       "0                Apartment           Apartment  Entire home/apt   \n",
       "1                Apartment           Apartment  Entire home/apt   \n",
       "2                Apartment           Apartment  Entire home/apt   \n",
       "3                Apartment           Apartment  Entire home/apt   \n",
       "4                Apartment           Apartment  Entire home/apt   \n",
       "..                     ...                 ...              ...   \n",
       "967              Apartment           Apartment     Private room   \n",
       "968           Hotel/Hostel   Bed and breakfast     Private room   \n",
       "969              Apartment  Serviced apartment  Entire home/apt   \n",
       "970             Guesthouse          Guesthouse      Shared room   \n",
       "971              Apartment           Apartment      Shared room   \n",
       "\n",
       "        accommodates     bathrooms bedrooms  beds  bed_type  \n",
       "0            Up to 4    1 bathroom    1 bed   1.0  Real Bed  \n",
       "1            Up to 4    1 bathroom   2 beds   2.0  Real Bed  \n",
       "2    Up to 7 or more  4+ bathrooms  4+ beds  14.0  Real Bed  \n",
       "3            Up to 4   2 bathrooms   2 beds   2.0  Real Bed  \n",
       "4            Up to 4    1 bathroom  No beds   0.0  Real Bed  \n",
       "..               ...           ...      ...   ...       ...  \n",
       "967  Up to 7 or more  4+ bathrooms  4+ beds   7.0  Real Bed  \n",
       "968          Up to 6   2 bathrooms   3 beds   3.0  Real Bed  \n",
       "969          Up to 4   3 bathrooms   2 beds   2.0  Real Bed  \n",
       "970  Up to 7 or more   3 bathrooms  4+ beds   8.0  Real Bed  \n",
       "971  Up to 7 or more    1 bathroom  4+ beds   8.0  Real Bed  \n",
       "\n",
       "[972 rows x 8 columns]"
      ]
     },
     "execution_count": 13,
     "metadata": {},
     "output_type": "execute_result"
    }
   ],
   "source": [
    "# create df_property_dimension\n",
    "df_property_dimension = df_property[['property_type_category','property_type','room_type','accommodates','bathrooms','bedrooms','beds','bed_type']].drop_duplicates().copy()\n",
    "df_property_dimension = df_property_dimension.reset_index().drop('index', axis = 1)\n",
    "\n",
    "df_property_dimension"
   ]
  },
  {
   "cell_type": "markdown",
   "metadata": {},
   "source": [
    "## 2.4. Attributing dimension keys to facts"
   ]
  },
  {
   "cell_type": "markdown",
   "metadata": {},
   "source": [
    "Having our dimension DataFrame ready, we can now use our converted listings table, `df_property` (which contains Property dimension attributes for all valid facts), to assign each fact its corresponding Property dimension foreign key."
   ]
  },
  {
   "cell_type": "code",
   "execution_count": 14,
   "metadata": {},
   "outputs": [],
   "source": [
    "# change df_property to property dimension ID\n",
    "FK = []\n",
    "for i, row in enumerate(df_property.itertuples(), start = 0): # creates enumerate object (counter, value1, value2, ...)\n",
    "    row = list(row[2:]) # remove ID and index\n",
    "    for j, dim_row in enumerate(df_property_dimension.itertuples(), start = 0):\n",
    "        dim_row = list(dim_row[1:]) # remove index\n",
    "        if row == dim_row: # checks which dimension row the fact is equal to\n",
    "            FK.append(j)"
   ]
  },
  {
   "cell_type": "code",
   "execution_count": 15,
   "metadata": {},
   "outputs": [],
   "source": [
    "df_property['Property'] = FK"
   ]
  },
  {
   "cell_type": "code",
   "execution_count": 16,
   "metadata": {},
   "outputs": [
    {
     "data": {
      "text/html": [
       "<div>\n",
       "<style scoped>\n",
       "    .dataframe tbody tr th:only-of-type {\n",
       "        vertical-align: middle;\n",
       "    }\n",
       "\n",
       "    .dataframe tbody tr th {\n",
       "        vertical-align: top;\n",
       "    }\n",
       "\n",
       "    .dataframe thead th {\n",
       "        text-align: right;\n",
       "    }\n",
       "</style>\n",
       "<table border=\"1\" class=\"dataframe\">\n",
       "  <thead>\n",
       "    <tr style=\"text-align: right;\">\n",
       "      <th></th>\n",
       "      <th>id</th>\n",
       "      <th>Property</th>\n",
       "    </tr>\n",
       "  </thead>\n",
       "  <tbody>\n",
       "    <tr>\n",
       "      <th>0</th>\n",
       "      <td>25659</td>\n",
       "      <td>0</td>\n",
       "    </tr>\n",
       "    <tr>\n",
       "      <th>1</th>\n",
       "      <td>29248</td>\n",
       "      <td>1</td>\n",
       "    </tr>\n",
       "    <tr>\n",
       "      <th>2</th>\n",
       "      <td>29396</td>\n",
       "      <td>0</td>\n",
       "    </tr>\n",
       "    <tr>\n",
       "      <th>3</th>\n",
       "      <td>29720</td>\n",
       "      <td>2</td>\n",
       "    </tr>\n",
       "    <tr>\n",
       "      <th>4</th>\n",
       "      <td>27899698</td>\n",
       "      <td>3</td>\n",
       "    </tr>\n",
       "    <tr>\n",
       "      <th>...</th>\n",
       "      <td>...</td>\n",
       "      <td>...</td>\n",
       "    </tr>\n",
       "    <tr>\n",
       "      <th>16621</th>\n",
       "      <td>41870065</td>\n",
       "      <td>5</td>\n",
       "    </tr>\n",
       "    <tr>\n",
       "      <th>16622</th>\n",
       "      <td>41879410</td>\n",
       "      <td>8</td>\n",
       "    </tr>\n",
       "    <tr>\n",
       "      <th>16623</th>\n",
       "      <td>41882911</td>\n",
       "      <td>8</td>\n",
       "    </tr>\n",
       "    <tr>\n",
       "      <th>16624</th>\n",
       "      <td>41879552</td>\n",
       "      <td>41</td>\n",
       "    </tr>\n",
       "    <tr>\n",
       "      <th>16625</th>\n",
       "      <td>41882713</td>\n",
       "      <td>346</td>\n",
       "    </tr>\n",
       "  </tbody>\n",
       "</table>\n",
       "<p>16626 rows × 2 columns</p>\n",
       "</div>"
      ],
      "text/plain": [
       "             id  Property\n",
       "0         25659         0\n",
       "1         29248         1\n",
       "2         29396         0\n",
       "3         29720         2\n",
       "4      27899698         3\n",
       "...         ...       ...\n",
       "16621  41870065         5\n",
       "16622  41879410         8\n",
       "16623  41882911         8\n",
       "16624  41879552        41\n",
       "16625  41882713       346\n",
       "\n",
       "[16626 rows x 2 columns]"
      ]
     },
     "execution_count": 16,
     "metadata": {},
     "output_type": "execute_result"
    }
   ],
   "source": [
    "df_property = df_property[['id','Property']]\n",
    "df_property"
   ]
  },
  {
   "cell_type": "markdown",
   "metadata": {},
   "source": [
    "## 2.5. Creating the _Property_ dimension table in SQL\n",
    "\n",
    "The SQL statement to create the table is as follows:"
   ]
  },
  {
   "cell_type": "code",
   "execution_count": 17,
   "metadata": {},
   "outputs": [],
   "source": [
    "create_table = \"\"\"\n",
    "CREATE TABLE Property (\n",
    "    PROPERTY_ID SERIAL PRIMARY KEY NOT NULL,\n",
    "    PROPERTY_TYPE_CATEGORY VARCHAR(30) CHECK (PROPERTY_TYPE in ('Apartment', 'Guesthouse', 'House', 'Hotel/Hostel')) NOT NULL,\n",
    "    PROPERTY_TYPE VARCHAR(30) CHECK (PROPERTY_TYPE in ('Apartment','Serviced apartment','Aparthotel','Loft','House','Townhouse','Villa','Dome house','Vacation home','Lighthouse','Casa particular (Cuba)','Tiny house','Farm stay','Cottage','Guesthouse','Guest suite','Hostel','Bed and breakfast','Boutique hotel','Hotel')) NOT NULL,\n",
    "    ROOM_TYPE VARCHAR(30) CHECK (ROOM_TYPE in ('Entire Property', 'Private Room', 'Hotel Room', 'Shared Room')) NOT NULL,\n",
    "    ACCOMMODATES VARCHAR(10) CHECK (ACCOMMODATES in ('Up to 2','Up to 4','Up to 6','Up to 7 or more')) NOT NULL,\n",
    "    BATHROOMS VARCHAR(10) CHECK (BATHROOMS in ('No bathrooms','1 bathroom','2 bathrooms','3 bathrooms','4+ bathrooms')) NOT NULL,\n",
    "    BEDROOMS VARCHAR(10) CHECK (BEDROOMS in ('T0','T1','T2','T3','T>=4')) NOT NULL,\n",
    "    BEDS VARCHAR(10) CHECK (BATHROOMS in ('No beds','1 bed','2 beds','3 beds','4+ beds')) NOT NULL,\n",
    "    BED_TYPE VARCHAR(30) CHECK (BED_TYPE in ('Real Bed', 'Pull-out Sofa', 'Futton', 'Couch', 'Airbed')) NOT NULL,\n",
    ")\n",
    "\"\"\""
   ]
  },
  {
   "cell_type": "code",
   "execution_count": 18,
   "metadata": {},
   "outputs": [],
   "source": [
    "# creating table\n",
    "# run_sql_command(create_table,\n",
    "#                host_local,\n",
    "#                db_local,\n",
    "#                user_local,\n",
    "#                hpwd)"
   ]
  },
  {
   "cell_type": "markdown",
   "metadata": {},
   "source": [
    "The `create_table` command contains the integrity constraints essential for modelling the dimension."
   ]
  },
  {
   "cell_type": "markdown",
   "metadata": {},
   "source": [
    "The dimension `Property` is ready for data __loading__. Now, it's necessary to __transform__ the data, which was previously __extracted__ from its source."
   ]
  }
 ],
 "metadata": {
  "kernelspec": {
   "display_name": "Python 3",
   "language": "python",
   "name": "python3"
  },
  "language_info": {
   "codemirror_mode": {
    "name": "ipython",
    "version": 3
   },
   "file_extension": ".py",
   "mimetype": "text/x-python",
   "name": "python",
   "nbconvert_exporter": "python",
   "pygments_lexer": "ipython3",
   "version": "3.7.5"
  }
 },
 "nbformat": 4,
 "nbformat_minor": 4
}
