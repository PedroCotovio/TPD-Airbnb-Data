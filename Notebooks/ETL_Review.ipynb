{
 "cells": [
  {
   "cell_type": "markdown",
   "metadata": {},
   "source": [
    "# Start the system"
   ]
  },
  {
   "cell_type": "code",
   "execution_count": 26,
   "metadata": {},
   "outputs": [],
   "source": [
    "#1. Libraries\n",
    "import psycopg2 as pg\n",
    "import pandas as pd\n",
    "import os\n",
    "import re\n",
    "import pycountry_convert as pc\n",
    "import matplotlib.pyplot as plt\n",
    "import datetime\n",
    "import math\n",
    "import numpy as np"
   ]
  },
  {
   "cell_type": "markdown",
   "metadata": {},
   "source": [
    "### Read csv files"
   ]
  },
  {
   "cell_type": "code",
   "execution_count": 27,
   "metadata": {},
   "outputs": [],
   "source": [
    "df = pd.read_csv(\"../data/listings_al.csv\")"
   ]
  },
  {
   "cell_type": "markdown",
   "metadata": {},
   "source": [
    "### Transformation methods"
   ]
  },
  {
   "cell_type": "code",
   "execution_count": 28,
   "metadata": {},
   "outputs": [],
   "source": [
    "def get_rating(score):\n",
    "    if score < 88: return \"Bellow average\"\n",
    "    if score < 93: return \"Average\"\n",
    "    if score < 96: return \"Good\"\n",
    "    if score < 99: return \"Very good\"\n",
    "    if score < 100: return \"Excelent\""
   ]
  },
  {
   "cell_type": "code",
   "execution_count": 29,
   "metadata": {},
   "outputs": [],
   "source": [
    "def get_accuracy(score):\n",
    "    if score < 9: return \"Accurate description\"\n",
    "    return \"Description is not accurate\""
   ]
  },
  {
   "cell_type": "code",
   "execution_count": 30,
   "metadata": {},
   "outputs": [],
   "source": [
    "def get_cleanliness(score):\n",
    "    if score < 9: return \"Not clean\"\n",
    "    return \"Clean\""
   ]
  },
  {
   "cell_type": "code",
   "execution_count": 31,
   "metadata": {},
   "outputs": [],
   "source": [
    "def get_communication(score):\n",
    "    if score < 9: return \"Bad communication\"\n",
    "    return \"Good communication\""
   ]
  },
  {
   "cell_type": "code",
   "execution_count": 32,
   "metadata": {},
   "outputs": [],
   "source": [
    "def get_location(score):\n",
    "    if score < 9: return \"Bad location\"\n",
    "    return \"Good location\""
   ]
  },
  {
   "cell_type": "markdown",
   "metadata": {},
   "source": [
    "### Create clean dataframe"
   ]
  },
  {
   "cell_type": "code",
   "execution_count": 33,
   "metadata": {},
   "outputs": [],
   "source": [
    "ratings = [get_rating(s) for s in df['review_scores_rating']]\n",
    "accuracy = [get_accuracy(s) for s in df['review_scores_accuracy']]\n",
    "cleanliness = [get_cleanliness(s) for s in df['review_scores_cleanliness']]\n",
    "communication = [get_communication(s) for s in df['review_scores_communication']]\n",
    "location = [get_location(s) for s in df['review_scores_location']]"
   ]
  },
  {
   "cell_type": "code",
   "execution_count": 34,
   "metadata": {},
   "outputs": [
    {
     "data": {
      "text/plain": [
       "(17168, 5)"
      ]
     },
     "execution_count": 34,
     "metadata": {},
     "output_type": "execute_result"
    }
   ],
   "source": [
    "columns = ['rating','accuracy','cleanliness','communication','location']\n",
    "df_review_dimension = pd.DataFrame(np.stack((ratings, accuracy, cleanliness,communication,\n",
    "                                          location),axis=-1), columns = columns)\n",
    "df_review_dimension.shape"
   ]
  },
  {
   "cell_type": "markdown",
   "metadata": {},
   "source": [
    "Remove duplicates:"
   ]
  },
  {
   "cell_type": "code",
   "execution_count": 35,
   "metadata": {},
   "outputs": [
    {
     "data": {
      "text/plain": [
       "(63, 5)"
      ]
     },
     "execution_count": 35,
     "metadata": {},
     "output_type": "execute_result"
    }
   ],
   "source": [
    "df_review_dimension = df_review_dimension.drop_duplicates()\n",
    "df_review_dimension.shape"
   ]
  },
  {
   "cell_type": "markdown",
   "metadata": {},
   "source": [
    "Add primary key:"
   ]
  },
  {
   "cell_type": "code",
   "execution_count": 36,
   "metadata": {},
   "outputs": [],
   "source": [
    "pks = [i for i in range(1,df_review_dimension.shape[0]+1)]\n",
    "df_review_dimension.insert(0, \"review_id\", pks, True) "
   ]
  },
  {
   "cell_type": "code",
   "execution_count": 37,
   "metadata": {},
   "outputs": [
    {
     "data": {
      "text/html": [
       "<div>\n",
       "<style scoped>\n",
       "    .dataframe tbody tr th:only-of-type {\n",
       "        vertical-align: middle;\n",
       "    }\n",
       "\n",
       "    .dataframe tbody tr th {\n",
       "        vertical-align: top;\n",
       "    }\n",
       "\n",
       "    .dataframe thead th {\n",
       "        text-align: right;\n",
       "    }\n",
       "</style>\n",
       "<table border=\"1\" class=\"dataframe\">\n",
       "  <thead>\n",
       "    <tr style=\"text-align: right;\">\n",
       "      <th></th>\n",
       "      <th>review_id</th>\n",
       "      <th>rating</th>\n",
       "      <th>accuracy</th>\n",
       "      <th>cleanliness</th>\n",
       "      <th>communication</th>\n",
       "      <th>location</th>\n",
       "    </tr>\n",
       "  </thead>\n",
       "  <tbody>\n",
       "    <tr>\n",
       "      <th>0</th>\n",
       "      <td>1</td>\n",
       "      <td>Very good</td>\n",
       "      <td>Description is not accurate</td>\n",
       "      <td>Clean</td>\n",
       "      <td>Good communication</td>\n",
       "      <td>Good location</td>\n",
       "    </tr>\n",
       "    <tr>\n",
       "      <th>1</th>\n",
       "      <td>2</td>\n",
       "      <td>Average</td>\n",
       "      <td>Description is not accurate</td>\n",
       "      <td>Clean</td>\n",
       "      <td>Good communication</td>\n",
       "      <td>Good location</td>\n",
       "    </tr>\n",
       "    <tr>\n",
       "      <th>4</th>\n",
       "      <td>3</td>\n",
       "      <td>None</td>\n",
       "      <td>Description is not accurate</td>\n",
       "      <td>Clean</td>\n",
       "      <td>Good communication</td>\n",
       "      <td>Good location</td>\n",
       "    </tr>\n",
       "    <tr>\n",
       "      <th>5</th>\n",
       "      <td>4</td>\n",
       "      <td>Good</td>\n",
       "      <td>Description is not accurate</td>\n",
       "      <td>Clean</td>\n",
       "      <td>Good communication</td>\n",
       "      <td>Good location</td>\n",
       "    </tr>\n",
       "    <tr>\n",
       "      <th>10</th>\n",
       "      <td>5</td>\n",
       "      <td>Bellow average</td>\n",
       "      <td>Description is not accurate</td>\n",
       "      <td>Clean</td>\n",
       "      <td>Good communication</td>\n",
       "      <td>Good location</td>\n",
       "    </tr>\n",
       "    <tr>\n",
       "      <th>...</th>\n",
       "      <td>...</td>\n",
       "      <td>...</td>\n",
       "      <td>...</td>\n",
       "      <td>...</td>\n",
       "      <td>...</td>\n",
       "      <td>...</td>\n",
       "    </tr>\n",
       "    <tr>\n",
       "      <th>10397</th>\n",
       "      <td>59</td>\n",
       "      <td>Good</td>\n",
       "      <td>Description is not accurate</td>\n",
       "      <td>Not clean</td>\n",
       "      <td>Good communication</td>\n",
       "      <td>Bad location</td>\n",
       "    </tr>\n",
       "    <tr>\n",
       "      <th>10848</th>\n",
       "      <td>60</td>\n",
       "      <td>Good</td>\n",
       "      <td>Accurate description</td>\n",
       "      <td>Clean</td>\n",
       "      <td>Good communication</td>\n",
       "      <td>Bad location</td>\n",
       "    </tr>\n",
       "    <tr>\n",
       "      <th>11179</th>\n",
       "      <td>61</td>\n",
       "      <td>None</td>\n",
       "      <td>Accurate description</td>\n",
       "      <td>Not clean</td>\n",
       "      <td>Good communication</td>\n",
       "      <td>Bad location</td>\n",
       "    </tr>\n",
       "    <tr>\n",
       "      <th>12953</th>\n",
       "      <td>62</td>\n",
       "      <td>Average</td>\n",
       "      <td>Description is not accurate</td>\n",
       "      <td>Clean</td>\n",
       "      <td>Bad communication</td>\n",
       "      <td>Bad location</td>\n",
       "    </tr>\n",
       "    <tr>\n",
       "      <th>14397</th>\n",
       "      <td>63</td>\n",
       "      <td>None</td>\n",
       "      <td>Accurate description</td>\n",
       "      <td>Clean</td>\n",
       "      <td>Bad communication</td>\n",
       "      <td>Good location</td>\n",
       "    </tr>\n",
       "  </tbody>\n",
       "</table>\n",
       "<p>63 rows × 6 columns</p>\n",
       "</div>"
      ],
      "text/plain": [
       "       review_id          rating                     accuracy cleanliness  \\\n",
       "0              1       Very good  Description is not accurate       Clean   \n",
       "1              2         Average  Description is not accurate       Clean   \n",
       "4              3            None  Description is not accurate       Clean   \n",
       "5              4            Good  Description is not accurate       Clean   \n",
       "10             5  Bellow average  Description is not accurate       Clean   \n",
       "...          ...             ...                          ...         ...   \n",
       "10397         59            Good  Description is not accurate   Not clean   \n",
       "10848         60            Good         Accurate description       Clean   \n",
       "11179         61            None         Accurate description   Not clean   \n",
       "12953         62         Average  Description is not accurate       Clean   \n",
       "14397         63            None         Accurate description       Clean   \n",
       "\n",
       "            communication       location  \n",
       "0      Good communication  Good location  \n",
       "1      Good communication  Good location  \n",
       "4      Good communication  Good location  \n",
       "5      Good communication  Good location  \n",
       "10     Good communication  Good location  \n",
       "...                   ...            ...  \n",
       "10397  Good communication   Bad location  \n",
       "10848  Good communication   Bad location  \n",
       "11179  Good communication   Bad location  \n",
       "12953   Bad communication   Bad location  \n",
       "14397   Bad communication  Good location  \n",
       "\n",
       "[63 rows x 6 columns]"
      ]
     },
     "execution_count": 37,
     "metadata": {},
     "output_type": "execute_result"
    }
   ],
   "source": [
    "df_review_dimension"
   ]
  },
  {
   "cell_type": "code",
   "execution_count": null,
   "metadata": {},
   "outputs": [],
   "source": []
  }
 ],
 "metadata": {
  "kernelspec": {
   "display_name": "Python 3",
   "language": "python",
   "name": "python3"
  },
  "language_info": {
   "codemirror_mode": {
    "name": "ipython",
    "version": 3
   },
   "file_extension": ".py",
   "mimetype": "text/x-python",
   "name": "python",
   "nbconvert_exporter": "python",
   "pygments_lexer": "ipython3",
   "version": "3.7.4"
  }
 },
 "nbformat": 4,
 "nbformat_minor": 2
}
