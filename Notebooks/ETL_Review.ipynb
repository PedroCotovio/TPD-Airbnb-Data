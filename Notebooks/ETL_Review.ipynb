{
 "cells": [
  {
   "cell_type": "markdown",
   "metadata": {},
   "source": [
    "# ETL for the Review dimension"
   ]
  },
  {
   "cell_type": "code",
   "execution_count": 199,
   "metadata": {},
   "outputs": [],
   "source": [
    "#1. Libraries\n",
    "import psycopg2 as pg\n",
    "import pandas as pd\n",
    "import os\n",
    "import re\n",
    "import matplotlib.pyplot as plt\n",
    "import psycopg2.extras\n",
    "import math\n",
    "import numpy as np"
   ]
  },
  {
   "cell_type": "code",
   "execution_count": 203,
   "metadata": {},
   "outputs": [],
   "source": [
    "#2. set environment variable for psycog2 (for some systems)\n",
    "os.environ[\"PGGSSENCMODE\"] = \"disable\"\n",
    "\n",
    "#3. get the stored Passwords\n",
    "f=open(\"credentials.txt\", \"rt\")\n",
    "pwd=f.readline().strip()  #di   pass \n",
    "f.close()\n",
    "\n",
    "#4. test connections using the password\n",
    "# FCUL server\n",
    "host_di = \"appserver-01.alunos.di.fc.ul.pt\"\n",
    "db_di = \"tpd012\"\n",
    "user_di = \"tpd012\"\n",
    "\n",
    "conn = pg.connect(host = host_di, database = db_di, user = user_di, password = pwd)\n",
    "conn.close()\n",
    "\n",
    "# Local server\n",
    "#host = \"localhost\"\n",
    "#database=\"teste\"\n",
    "#user=\"postgres\"\n",
    "#password=\"0000\"\n",
    "\n",
    "#conn = pg.connect(host=host,database=database, user=user, password=password)\n",
    "#conn.close()\n"
   ]
  },
  {
   "cell_type": "markdown",
   "metadata": {},
   "source": [
    "### Read csv files"
   ]
  },
  {
   "cell_type": "code",
   "execution_count": 106,
   "metadata": {},
   "outputs": [],
   "source": [
    "df = pd.read_csv(\"../data/listings_al.csv\")"
   ]
  },
  {
   "cell_type": "markdown",
   "metadata": {},
   "source": [
    "### Transformation methods"
   ]
  },
  {
   "cell_type": "code",
   "execution_count": 107,
   "metadata": {},
   "outputs": [],
   "source": [
    "# Check for missing values:\n",
    "def is_nan(x):\n",
    "    return (x != x)"
   ]
  },
  {
   "cell_type": "code",
   "execution_count": 108,
   "metadata": {},
   "outputs": [],
   "source": [
    "def get_rating(score):\n",
    "    if is_nan(score): return None\n",
    "    if score < 88: return \"Bellow average\"\n",
    "    if score < 93: return \"Average\"\n",
    "    if score < 96: return \"Good\"\n",
    "    if score < 99: return \"Very good\"\n",
    "    if score < 100: return \"Excelent\""
   ]
  },
  {
   "cell_type": "code",
   "execution_count": 109,
   "metadata": {},
   "outputs": [],
   "source": [
    "def get_accuracy(score):\n",
    "    if is_nan(score): return None\n",
    "    if score < 9: return \"Accurate description\"\n",
    "    return \"Description is not accurate\""
   ]
  },
  {
   "cell_type": "code",
   "execution_count": 110,
   "metadata": {},
   "outputs": [],
   "source": [
    "def get_cleanliness(score):\n",
    "    if is_nan(score): return None\n",
    "    if score < 9: return \"Not clean\"\n",
    "    return \"Clean\""
   ]
  },
  {
   "cell_type": "code",
   "execution_count": 111,
   "metadata": {},
   "outputs": [],
   "source": [
    "def get_communication(score):\n",
    "    if is_nan(score): return None\n",
    "    if score < 9: return \"Bad communication\"\n",
    "    return \"Good communication\""
   ]
  },
  {
   "cell_type": "code",
   "execution_count": 112,
   "metadata": {},
   "outputs": [],
   "source": [
    "def get_location(score):\n",
    "    if is_nan(score): return None\n",
    "    if score < 9: return \"Bad location\"\n",
    "    return \"Good location\""
   ]
  },
  {
   "cell_type": "markdown",
   "metadata": {},
   "source": [
    "### Create clean dataframe"
   ]
  },
  {
   "cell_type": "code",
   "execution_count": 113,
   "metadata": {},
   "outputs": [],
   "source": [
    "listing_id = [i for i in df['id']]\n",
    "ratings = [get_rating(s) for s in df['review_scores_rating']]\n",
    "accuracy = [get_accuracy(s) for s in df['review_scores_accuracy']]\n",
    "cleanliness = [get_cleanliness(s) for s in df['review_scores_cleanliness']]\n",
    "communication = [get_communication(s) for s in df['review_scores_communication']]\n",
    "location = [get_location(s) for s in df['review_scores_location']]"
   ]
  },
  {
   "cell_type": "code",
   "execution_count": 100,
   "metadata": {},
   "outputs": [
    {
     "data": {
      "text/plain": [
       "(17168, 6)"
      ]
     },
     "execution_count": 100,
     "metadata": {},
     "output_type": "execute_result"
    }
   ],
   "source": [
    "columns = ['listing_id','rating','accuracy','cleanliness','communication','location']\n",
    "df_review_dimension = pd.DataFrame(np.stack((listing_id,ratings, accuracy, cleanliness,communication,\n",
    "                                          location),axis=-1), columns = columns)\n",
    "df_review_dimension.shape"
   ]
  },
  {
   "cell_type": "code",
   "execution_count": 101,
   "metadata": {},
   "outputs": [],
   "source": [
    "def delete_null_rows(df,columns):\n",
    "    \"\"\"Removes all records with any empty cells from input DataFrame\"\"\"\n",
    "    processed_df = df[columns].copy()\n",
    "    total_rows = processed_df.shape[0]\n",
    "    delete_rows = []\n",
    "    \n",
    "    if processed_df.isnull().values.any(): # if there are any null values in DataFrame, process DataFrame\n",
    "        for index, row in enumerate(processed_df.itertuples(), start = 0):\n",
    "            if (pd.Series(row).isnull().values.any()): # if row has any null value\n",
    "                delete_rows.append(index) # add row index to delete list\n",
    "    \n",
    "    processed_df.drop(df.index[delete_rows], inplace = True) # delete rows fr\n",
    "    processed_df = processed_df.reset_index().drop('index', axis = 1)\n",
    "    print('DataFrame contains {} rows. Deleted {} rows ({}% of total rows)'.format(processed_df.shape[0], len(delete_rows), round(len(delete_rows)*100/total_rows, 2)))\n",
    "    return processed_df"
   ]
  },
  {
   "cell_type": "code",
   "execution_count": 122,
   "metadata": {},
   "outputs": [
    {
     "name": "stdout",
     "output_type": "stream",
     "text": [
      "DataFrame contains 12830 rows. Deleted 0 rows (0.0% of total rows)\n"
     ]
    }
   ],
   "source": [
    "df_review_dimension = delete_null_rows(df_review_dimension, ['listing_id','rating','accuracy','cleanliness','communication','location'])"
   ]
  },
  {
   "cell_type": "markdown",
   "metadata": {},
   "source": [
    "Add primary key:"
   ]
  },
  {
   "cell_type": "code",
   "execution_count": 123,
   "metadata": {},
   "outputs": [],
   "source": [
    "pk_bf_duplicates = [i for i in range(1, len(df_review_dimension)+1)]\n",
    "df_review_dimension.insert(0,'pk_bf_duplicates', pk_bf_duplicates)"
   ]
  },
  {
   "cell_type": "code",
   "execution_count": 124,
   "metadata": {},
   "outputs": [
    {
     "data": {
      "text/html": [
       "<div>\n",
       "<style scoped>\n",
       "    .dataframe tbody tr th:only-of-type {\n",
       "        vertical-align: middle;\n",
       "    }\n",
       "\n",
       "    .dataframe tbody tr th {\n",
       "        vertical-align: top;\n",
       "    }\n",
       "\n",
       "    .dataframe thead th {\n",
       "        text-align: right;\n",
       "    }\n",
       "</style>\n",
       "<table border=\"1\" class=\"dataframe\">\n",
       "  <thead>\n",
       "    <tr style=\"text-align: right;\">\n",
       "      <th></th>\n",
       "      <th>pk_bf_duplicates</th>\n",
       "      <th>listing_id</th>\n",
       "      <th>rating</th>\n",
       "      <th>accuracy</th>\n",
       "      <th>cleanliness</th>\n",
       "      <th>communication</th>\n",
       "      <th>location</th>\n",
       "    </tr>\n",
       "  </thead>\n",
       "  <tbody>\n",
       "    <tr>\n",
       "      <th>0</th>\n",
       "      <td>1</td>\n",
       "      <td>25659</td>\n",
       "      <td>Very good</td>\n",
       "      <td>Description is not accurate</td>\n",
       "      <td>Clean</td>\n",
       "      <td>Good communication</td>\n",
       "      <td>Good location</td>\n",
       "    </tr>\n",
       "    <tr>\n",
       "      <th>1</th>\n",
       "      <td>2</td>\n",
       "      <td>29248</td>\n",
       "      <td>Average</td>\n",
       "      <td>Description is not accurate</td>\n",
       "      <td>Clean</td>\n",
       "      <td>Good communication</td>\n",
       "      <td>Good location</td>\n",
       "    </tr>\n",
       "    <tr>\n",
       "      <th>2</th>\n",
       "      <td>3</td>\n",
       "      <td>29396</td>\n",
       "      <td>Very good</td>\n",
       "      <td>Description is not accurate</td>\n",
       "      <td>Clean</td>\n",
       "      <td>Good communication</td>\n",
       "      <td>Good location</td>\n",
       "    </tr>\n",
       "    <tr>\n",
       "      <th>3</th>\n",
       "      <td>4</td>\n",
       "      <td>29720</td>\n",
       "      <td>Very good</td>\n",
       "      <td>Description is not accurate</td>\n",
       "      <td>Clean</td>\n",
       "      <td>Good communication</td>\n",
       "      <td>Good location</td>\n",
       "    </tr>\n",
       "    <tr>\n",
       "      <th>4</th>\n",
       "      <td>5</td>\n",
       "      <td>29915</td>\n",
       "      <td>Good</td>\n",
       "      <td>Description is not accurate</td>\n",
       "      <td>Clean</td>\n",
       "      <td>Good communication</td>\n",
       "      <td>Good location</td>\n",
       "    </tr>\n",
       "    <tr>\n",
       "      <th>...</th>\n",
       "      <td>...</td>\n",
       "      <td>...</td>\n",
       "      <td>...</td>\n",
       "      <td>...</td>\n",
       "      <td>...</td>\n",
       "      <td>...</td>\n",
       "      <td>...</td>\n",
       "    </tr>\n",
       "    <tr>\n",
       "      <th>12825</th>\n",
       "      <td>12826</td>\n",
       "      <td>41251727</td>\n",
       "      <td>Bellow average</td>\n",
       "      <td>Accurate description</td>\n",
       "      <td>Clean</td>\n",
       "      <td>Good communication</td>\n",
       "      <td>Good location</td>\n",
       "    </tr>\n",
       "    <tr>\n",
       "      <th>12826</th>\n",
       "      <td>12827</td>\n",
       "      <td>41397838</td>\n",
       "      <td>Average</td>\n",
       "      <td>Description is not accurate</td>\n",
       "      <td>Clean</td>\n",
       "      <td>Good communication</td>\n",
       "      <td>Good location</td>\n",
       "    </tr>\n",
       "    <tr>\n",
       "      <th>12827</th>\n",
       "      <td>12828</td>\n",
       "      <td>41403386</td>\n",
       "      <td>Good</td>\n",
       "      <td>Description is not accurate</td>\n",
       "      <td>Clean</td>\n",
       "      <td>Good communication</td>\n",
       "      <td>Good location</td>\n",
       "    </tr>\n",
       "    <tr>\n",
       "      <th>12828</th>\n",
       "      <td>12829</td>\n",
       "      <td>41429051</td>\n",
       "      <td>Average</td>\n",
       "      <td>Description is not accurate</td>\n",
       "      <td>Clean</td>\n",
       "      <td>Good communication</td>\n",
       "      <td>Bad location</td>\n",
       "    </tr>\n",
       "    <tr>\n",
       "      <th>12829</th>\n",
       "      <td>12830</td>\n",
       "      <td>41429288</td>\n",
       "      <td>Bellow average</td>\n",
       "      <td>Accurate description</td>\n",
       "      <td>Clean</td>\n",
       "      <td>Good communication</td>\n",
       "      <td>Good location</td>\n",
       "    </tr>\n",
       "  </tbody>\n",
       "</table>\n",
       "<p>12830 rows × 7 columns</p>\n",
       "</div>"
      ],
      "text/plain": [
       "       pk_bf_duplicates listing_id          rating  \\\n",
       "0                     1      25659       Very good   \n",
       "1                     2      29248         Average   \n",
       "2                     3      29396       Very good   \n",
       "3                     4      29720       Very good   \n",
       "4                     5      29915            Good   \n",
       "...                 ...        ...             ...   \n",
       "12825             12826   41251727  Bellow average   \n",
       "12826             12827   41397838         Average   \n",
       "12827             12828   41403386            Good   \n",
       "12828             12829   41429051         Average   \n",
       "12829             12830   41429288  Bellow average   \n",
       "\n",
       "                          accuracy cleanliness       communication  \\\n",
       "0      Description is not accurate       Clean  Good communication   \n",
       "1      Description is not accurate       Clean  Good communication   \n",
       "2      Description is not accurate       Clean  Good communication   \n",
       "3      Description is not accurate       Clean  Good communication   \n",
       "4      Description is not accurate       Clean  Good communication   \n",
       "...                            ...         ...                 ...   \n",
       "12825         Accurate description       Clean  Good communication   \n",
       "12826  Description is not accurate       Clean  Good communication   \n",
       "12827  Description is not accurate       Clean  Good communication   \n",
       "12828  Description is not accurate       Clean  Good communication   \n",
       "12829         Accurate description       Clean  Good communication   \n",
       "\n",
       "            location  \n",
       "0      Good location  \n",
       "1      Good location  \n",
       "2      Good location  \n",
       "3      Good location  \n",
       "4      Good location  \n",
       "...              ...  \n",
       "12825  Good location  \n",
       "12826  Good location  \n",
       "12827  Good location  \n",
       "12828   Bad location  \n",
       "12829  Good location  \n",
       "\n",
       "[12830 rows x 7 columns]"
      ]
     },
     "execution_count": 124,
     "metadata": {},
     "output_type": "execute_result"
    }
   ],
   "source": [
    "df_review_dimension"
   ]
  },
  {
   "cell_type": "markdown",
   "metadata": {},
   "source": [
    "Remove duplicates:"
   ]
  },
  {
   "cell_type": "code",
   "execution_count": 127,
   "metadata": {},
   "outputs": [],
   "source": [
    "columns = ['rating','accuracy','cleanliness','communication','location']\n",
    "\n",
    "review_dimension_processed = df_review_dimension[columns].drop_duplicates().copy()\n",
    "review_dimension_processed = review_dimension_processed.reset_index().drop('index', axis = 1)\n",
    "review_dimension_processed.index += 1"
   ]
  },
  {
   "cell_type": "markdown",
   "metadata": {},
   "source": [
    "Add new primary key:"
   ]
  },
  {
   "cell_type": "code",
   "execution_count": 130,
   "metadata": {},
   "outputs": [],
   "source": [
    "pk_aft_duplicates = [i for i in range(1, len(review_dimension_processed)+1)]\n",
    "review_dimension_processed.insert(0,'pk_aft_duplicates', pk_aft_duplicates)"
   ]
  },
  {
   "cell_type": "markdown",
   "metadata": {},
   "source": [
    "## Attributing dimension keys to facts"
   ]
  },
  {
   "cell_type": "markdown",
   "metadata": {},
   "source": [
    "In order to do a mapping between the listing_id (i.e. the facts PK) and the review_ids (FK), two keys were created: one for the dataset before we removed the duplicates and one for after. \n",
    "\n",
    "The primary keys created before the duplicate removal have a one-to-one relationship with the listings_id. Here we do an outer join in order to establish correspondence between the old PKs (and therefore the listings_id) and the new PKs."
   ]
  },
  {
   "cell_type": "code",
   "execution_count": 197,
   "metadata": {},
   "outputs": [],
   "source": [
    "def key_mapping(df1, df2, pk1, pk2, dimension_name):\n",
    "    # This function merges two dataframes, and creates a map linking their keys\n",
    "    df_merged = df1.merge(df2, how='outer')\n",
    "    df_map = pd.DataFrame()\n",
    "    df_map['listing_id']= df_merged['listing_id']\n",
    "    # df_map[pk1]= df_merged[pk1] # Remove this comment if you want to see the middle key in the final df\n",
    "    df_map[dimension_name+\"_id\"]= df_merged[pk2]\n",
    "    \n",
    "    return df_map"
   ]
  },
  {
   "cell_type": "code",
   "execution_count": 198,
   "metadata": {},
   "outputs": [],
   "source": [
    "# Do the mapping\n",
    "key_map = key_mapping(df_review_dimension, review_dimension_processed, \"pk_bf_duplicates\" , \"pk_aft_duplicates\", \"review\")"
   ]
  },
  {
   "cell_type": "code",
   "execution_count": 194,
   "metadata": {},
   "outputs": [
    {
     "data": {
      "text/html": [
       "<div>\n",
       "<style scoped>\n",
       "    .dataframe tbody tr th:only-of-type {\n",
       "        vertical-align: middle;\n",
       "    }\n",
       "\n",
       "    .dataframe tbody tr th {\n",
       "        vertical-align: top;\n",
       "    }\n",
       "\n",
       "    .dataframe thead th {\n",
       "        text-align: right;\n",
       "    }\n",
       "</style>\n",
       "<table border=\"1\" class=\"dataframe\">\n",
       "  <thead>\n",
       "    <tr style=\"text-align: right;\">\n",
       "      <th></th>\n",
       "      <th>listing_id</th>\n",
       "      <th>review_id</th>\n",
       "    </tr>\n",
       "  </thead>\n",
       "  <tbody>\n",
       "    <tr>\n",
       "      <th>0</th>\n",
       "      <td>25659</td>\n",
       "      <td>1</td>\n",
       "    </tr>\n",
       "    <tr>\n",
       "      <th>1</th>\n",
       "      <td>29396</td>\n",
       "      <td>1</td>\n",
       "    </tr>\n",
       "    <tr>\n",
       "      <th>2</th>\n",
       "      <td>29720</td>\n",
       "      <td>1</td>\n",
       "    </tr>\n",
       "    <tr>\n",
       "      <th>3</th>\n",
       "      <td>65878</td>\n",
       "      <td>1</td>\n",
       "    </tr>\n",
       "    <tr>\n",
       "      <th>4</th>\n",
       "      <td>103252</td>\n",
       "      <td>1</td>\n",
       "    </tr>\n",
       "    <tr>\n",
       "      <th>...</th>\n",
       "      <td>...</td>\n",
       "      <td>...</td>\n",
       "    </tr>\n",
       "    <tr>\n",
       "      <th>12825</th>\n",
       "      <td>26582375</td>\n",
       "      <td>46</td>\n",
       "    </tr>\n",
       "    <tr>\n",
       "      <th>12826</th>\n",
       "      <td>33126271</td>\n",
       "      <td>46</td>\n",
       "    </tr>\n",
       "    <tr>\n",
       "      <th>12827</th>\n",
       "      <td>31012644</td>\n",
       "      <td>47</td>\n",
       "    </tr>\n",
       "    <tr>\n",
       "      <th>12828</th>\n",
       "      <td>35116421</td>\n",
       "      <td>47</td>\n",
       "    </tr>\n",
       "    <tr>\n",
       "      <th>12829</th>\n",
       "      <td>39519023</td>\n",
       "      <td>47</td>\n",
       "    </tr>\n",
       "  </tbody>\n",
       "</table>\n",
       "<p>12830 rows × 2 columns</p>\n",
       "</div>"
      ],
      "text/plain": [
       "      listing_id  review_id\n",
       "0          25659          1\n",
       "1          29396          1\n",
       "2          29720          1\n",
       "3          65878          1\n",
       "4         103252          1\n",
       "...          ...        ...\n",
       "12825   26582375         46\n",
       "12826   33126271         46\n",
       "12827   31012644         47\n",
       "12828   35116421         47\n",
       "12829   39519023         47\n",
       "\n",
       "[12830 rows x 2 columns]"
      ]
     },
     "execution_count": 194,
     "metadata": {},
     "output_type": "execute_result"
    }
   ],
   "source": [
    "key_map"
   ]
  },
  {
   "cell_type": "code",
   "execution_count": 201,
   "metadata": {},
   "outputs": [],
   "source": [
    "df_mapping.to_csv('df_listings_review.csv')"
   ]
  },
  {
   "cell_type": "markdown",
   "metadata": {},
   "source": [
    "### Load Host dimension"
   ]
  },
  {
   "cell_type": "code",
   "execution_count": 204,
   "metadata": {},
   "outputs": [],
   "source": [
    "delete_table = \"\"\"\n",
    "DROP CASCADE TABLE IF EXISTS Review;\n",
    "\"\"\"\n",
    "\n",
    "create_table = \"\"\"\n",
    "CREATE TABLE Review (\n",
    "    REVIEW_ID SERIAL PRIMARY KEY NOT NULL,\n",
    "    RATING VARCHAR(30) CHECK (RATING in ('Bellow average','Average','Good','Very good','Excelent')) NOT NULL, \n",
    "    ACCURACY VARCHAR(30) CHECK (ACCURACY in ('Accurate description','Description is not accurate')) NOT NULL,\n",
    "    CLEANLINESS VARCHAR(30) CHECK (CLEANLINESS in ('Clean','Not clean')) NOT NULL,\n",
    "    COMMUNICATION VARCHAR(30) CHECK (COMMUNICATION in ('Good communication','Bad communication')) NOT NULL,\n",
    "    LOCATION VARCHAR(30) CHECK (LOCATION in ('Good location','Bad location')) NOT NULL\n",
    "    )\n",
    "\"\"\""
   ]
  },
  {
   "cell_type": "code",
   "execution_count": 205,
   "metadata": {},
   "outputs": [],
   "source": [
    "def excuteSingleSQLstatement(sql, host, database, user, password):\n",
    "    conn = pg.connect(host=host,database=database, user=user, password=password)\n",
    "    cur = conn.cursor()\n",
    "    cur.execute(sql)\n",
    "    cur.close()\n",
    "    conn.commit()\n",
    "    conn.close() "
   ]
  },
  {
   "cell_type": "code",
   "execution_count": 206,
   "metadata": {},
   "outputs": [
    {
     "ename": "DependentObjectsStillExist",
     "evalue": "cannot drop table review because other objects depend on it\nDETAIL:  constraint listings_review_id_fkey on table listings depends on table review\nHINT:  Use DROP ... CASCADE to drop the dependent objects too.\n",
     "output_type": "error",
     "traceback": [
      "\u001b[0;31m---------------------------------------------------------------------------\u001b[0m",
      "\u001b[0;31mDependentObjectsStillExist\u001b[0m                Traceback (most recent call last)",
      "\u001b[0;32m<ipython-input-206-bd0f3d9130ca>\u001b[0m in \u001b[0;36m<module>\u001b[0;34m\u001b[0m\n\u001b[0;32m----> 1\u001b[0;31m \u001b[0mexcuteSingleSQLstatement\u001b[0m\u001b[0;34m(\u001b[0m\u001b[0mdelete_table\u001b[0m\u001b[0;34m,\u001b[0m \u001b[0mhost_di\u001b[0m\u001b[0;34m,\u001b[0m \u001b[0mdb_di\u001b[0m\u001b[0;34m,\u001b[0m \u001b[0muser_di\u001b[0m\u001b[0;34m,\u001b[0m \u001b[0mpwd\u001b[0m\u001b[0;34m)\u001b[0m\u001b[0;34m\u001b[0m\u001b[0;34m\u001b[0m\u001b[0m\n\u001b[0m\u001b[1;32m      2\u001b[0m \u001b[0mexcuteSingleSQLstatement\u001b[0m\u001b[0;34m(\u001b[0m\u001b[0mdelete_table\u001b[0m\u001b[0;34m,\u001b[0m \u001b[0mhost_di\u001b[0m\u001b[0;34m,\u001b[0m \u001b[0mdb_di\u001b[0m\u001b[0;34m,\u001b[0m \u001b[0muser_di\u001b[0m\u001b[0;34m,\u001b[0m \u001b[0mpwd\u001b[0m\u001b[0;34m)\u001b[0m\u001b[0;34m\u001b[0m\u001b[0;34m\u001b[0m\u001b[0m\n",
      "\u001b[0;32m<ipython-input-205-c675e854cff8>\u001b[0m in \u001b[0;36mexcuteSingleSQLstatement\u001b[0;34m(sql, host, database, user, password)\u001b[0m\n\u001b[1;32m      2\u001b[0m     \u001b[0mconn\u001b[0m \u001b[0;34m=\u001b[0m \u001b[0mpg\u001b[0m\u001b[0;34m.\u001b[0m\u001b[0mconnect\u001b[0m\u001b[0;34m(\u001b[0m\u001b[0mhost\u001b[0m\u001b[0;34m=\u001b[0m\u001b[0mhost\u001b[0m\u001b[0;34m,\u001b[0m\u001b[0mdatabase\u001b[0m\u001b[0;34m=\u001b[0m\u001b[0mdatabase\u001b[0m\u001b[0;34m,\u001b[0m \u001b[0muser\u001b[0m\u001b[0;34m=\u001b[0m\u001b[0muser\u001b[0m\u001b[0;34m,\u001b[0m \u001b[0mpassword\u001b[0m\u001b[0;34m=\u001b[0m\u001b[0mpassword\u001b[0m\u001b[0;34m)\u001b[0m\u001b[0;34m\u001b[0m\u001b[0;34m\u001b[0m\u001b[0m\n\u001b[1;32m      3\u001b[0m     \u001b[0mcur\u001b[0m \u001b[0;34m=\u001b[0m \u001b[0mconn\u001b[0m\u001b[0;34m.\u001b[0m\u001b[0mcursor\u001b[0m\u001b[0;34m(\u001b[0m\u001b[0;34m)\u001b[0m\u001b[0;34m\u001b[0m\u001b[0;34m\u001b[0m\u001b[0m\n\u001b[0;32m----> 4\u001b[0;31m     \u001b[0mcur\u001b[0m\u001b[0;34m.\u001b[0m\u001b[0mexecute\u001b[0m\u001b[0;34m(\u001b[0m\u001b[0msql\u001b[0m\u001b[0;34m)\u001b[0m\u001b[0;34m\u001b[0m\u001b[0;34m\u001b[0m\u001b[0m\n\u001b[0m\u001b[1;32m      5\u001b[0m     \u001b[0mcur\u001b[0m\u001b[0;34m.\u001b[0m\u001b[0mclose\u001b[0m\u001b[0;34m(\u001b[0m\u001b[0;34m)\u001b[0m\u001b[0;34m\u001b[0m\u001b[0;34m\u001b[0m\u001b[0m\n\u001b[1;32m      6\u001b[0m     \u001b[0mconn\u001b[0m\u001b[0;34m.\u001b[0m\u001b[0mcommit\u001b[0m\u001b[0;34m(\u001b[0m\u001b[0;34m)\u001b[0m\u001b[0;34m\u001b[0m\u001b[0;34m\u001b[0m\u001b[0m\n",
      "\u001b[0;31mDependentObjectsStillExist\u001b[0m: cannot drop table review because other objects depend on it\nDETAIL:  constraint listings_review_id_fkey on table listings depends on table review\nHINT:  Use DROP ... CASCADE to drop the dependent objects too.\n"
     ]
    }
   ],
   "source": [
    "excuteSingleSQLstatement(delete_table, host_di, db_di, user_di, pwd)\n",
    "excuteSingleSQLstatement(delete_table, host_di, db_di, user_di, pwd)"
   ]
  },
  {
   "cell_type": "code",
   "execution_count": 67,
   "metadata": {},
   "outputs": [],
   "source": [
    "#method for bulk insert\n",
    "def insert_data(df, table_name, conn):\n",
    "    df_columns = list(df)\n",
    "    columns = \",\".join(df_columns)\n",
    "    values = \"VALUES({})\".format(\",\".join([\"%s\" for _ in df_columns])) \n",
    "    insert_stmt = \"INSERT INTO {} ({}) {}\".format(table_name,columns,values)\n",
    "    success = True\n",
    "    try:\n",
    "        cursor = conn.cursor()\n",
    "        pg.extras.execute_batch(cursor, insert_stmt, df.values)\n",
    "        conn.commit()\n",
    "        success = True\n",
    "    except pg.DatabaseError as error:\n",
    "        success = False\n",
    "        print(error)\n",
    "    finally:\n",
    "        if conn is not None:\n",
    "            conn.close()\n",
    "    return success"
   ]
  },
  {
   "cell_type": "code",
   "execution_count": 68,
   "metadata": {},
   "outputs": [
    {
     "name": "stdout",
     "output_type": "stream",
     "text": [
      "Data inserted succefully\n"
     ]
    }
   ],
   "source": [
    "if len(df_review_dimension) > 0:\n",
    "    table_name = 'Review'\n",
    "    conn = pg.connect(host=host, database=database, user=user, password=password)\n",
    "    success = insert_data(df_review_dimension,table_name, conn)\n",
    "    conn.close()\n",
    "    if success == True: print('Data inserted succefully')\n",
    "else: print('No data to insert')"
   ]
  }
 ],
 "metadata": {
  "kernelspec": {
   "display_name": "Python 3",
   "language": "python",
   "name": "python3"
  },
  "language_info": {
   "codemirror_mode": {
    "name": "ipython",
    "version": 3
   },
   "file_extension": ".py",
   "mimetype": "text/x-python",
   "name": "python",
   "nbconvert_exporter": "python",
   "pygments_lexer": "ipython3",
   "version": "3.7.4"
  }
 },
 "nbformat": 4,
 "nbformat_minor": 2
}
