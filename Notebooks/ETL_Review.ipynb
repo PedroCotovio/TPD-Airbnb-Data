{
 "cells": [
  {
   "cell_type": "markdown",
   "metadata": {},
   "source": [
    "# Review dimension\n",
    "\n",
    "In this dimension we hold information relative to reviews given by airbnb guests.\n",
    "\n",
    "![Host schema](../images/review_schema.jpg)\n",
    "\n",
    "Comparing the schema proposed in phase I to the one we currently have, we can see that no conceptual changes were made. We only altered the size of each entry to accomodate more descriptive and self-explaining attributes."
   ]
  },
  {
   "cell_type": "markdown",
   "metadata": {},
   "source": [
    "### Hierarchies and data granularity\n",
    "\n",
    "There are no hierarchical relationships in this dimension.\n",
    "As for granularity, you will see that efforts were made in order to ensure that the grain is as fine as the data distribution allows us to have it."
   ]
  },
  {
   "cell_type": "markdown",
   "metadata": {},
   "source": [
    "### Extraction, Transformation, Loading"
   ]
  },
  {
   "cell_type": "markdown",
   "metadata": {},
   "source": [
    "![ETL Review](../images/ETL_review.jpg)"
   ]
  },
  {
   "cell_type": "code",
   "execution_count": 1,
   "metadata": {},
   "outputs": [],
   "source": [
    "# Libraries\n",
    "import psycopg2 as pg\n",
    "import pandas as pd\n",
    "import os\n",
    "import re\n",
    "import matplotlib.pyplot as plt\n",
    "import psycopg2.extras\n",
    "import math\n",
    "import numpy as np\n",
    "import seaborn as sns\n",
    "\n",
    "import pandas.io.sql as sqlio"
   ]
  },
  {
   "cell_type": "markdown",
   "metadata": {},
   "source": [
    "### Read csv files"
   ]
  },
  {
   "cell_type": "code",
   "execution_count": 2,
   "metadata": {},
   "outputs": [
    {
     "name": "stderr",
     "output_type": "stream",
     "text": [
      "C:\\Users\\joao_\\Anaconda3\\lib\\site-packages\\IPython\\core\\interactiveshell.py:3063: DtypeWarning: Columns (61,62) have mixed types. Specify dtype option on import or set low_memory=False.\n",
      "  interactivity=interactivity, compiler=compiler, result=result)\n"
     ]
    }
   ],
   "source": [
    "# Main dataset\n",
    "df = pd.read_csv(\"../data/listings_al.csv\")"
   ]
  },
  {
   "cell_type": "markdown",
   "metadata": {},
   "source": [
    "## EDA and missing data\n",
    "\n",
    "Singling out the columns of interest for this dimension, we analyse the distribution of missing values."
   ]
  },
  {
   "cell_type": "code",
   "execution_count": 3,
   "metadata": {},
   "outputs": [],
   "source": [
    "def missing_data(df, columns):\n",
    "    \"\"\"Calculates the amount of missing data in given DataFrame's selected columns\"\"\"\n",
    "    df_graph = df[columns]\n",
    "    # missing data\n",
    "    total = df_graph.isnull().sum().sort_values(ascending=False)\n",
    "    percent = (df_graph.isnull().sum()/df_graph.isnull().count()).sort_values(ascending=False)\n",
    "    missing_data = pd.concat([total, percent], axis=1, keys=['Total', 'Percent'])\n",
    "    print(missing_data)\n",
    "    plt.figure(figsize=(10,5))\n",
    "    ax = sns.barplot(x='index',y = 'Percent', data= missing_data.reset_index())\n",
    "    ax.set_xticklabels(ax.get_xticklabels(), rotation=45)\n",
    "    return ax\n",
    "\n",
    "#IN BAR CHARTS, SET THE VALUE ABOVE EACH BAR\n",
    "def set_bar_amount(ax):\n",
    "    for p in ax.patches:\n",
    "        height = p.get_height()\n",
    "        ax.annotate(\"{0:.2f}%\".format(p.get_height()*100), (p.get_x() + p.get_width() / 2., p.get_height()),\n",
    "            ha='center', va='center', rotation=0, xytext=(0, 10),\n",
    "            textcoords='offset points')"
   ]
  },
  {
   "cell_type": "code",
   "execution_count": 4,
   "metadata": {},
   "outputs": [
    {
     "name": "stdout",
     "output_type": "stream",
     "text": [
      "                             Total   Percent\n",
      "review_scores_location        2170  0.126398\n",
      "review_scores_communication   2169  0.126340\n",
      "review_scores_accuracy        2168  0.126281\n",
      "review_scores_cleanliness     2167  0.126223\n",
      "review_scores_rating          2166  0.126165\n"
     ]
    },
    {
     "data": {
      "text/plain": [
       "Text(0.5, 1.0, 'Review dimension missing values')"
      ]
     },
     "execution_count": 4,
     "metadata": {},
     "output_type": "execute_result"
    },
    {
     "data": {
      "image/png": "[encoded data removed]",
      "text/plain": [
       "<Figure size 720x360 with 1 Axes>"
      ]
     },
     "metadata": {
      "needs_background": "light"
     },
     "output_type": "display_data"
    }
   ],
   "source": [
    "columns = [\n",
    "'review_scores_rating', \n",
    "'review_scores_accuracy', \n",
    "'review_scores_cleanliness', \n",
    "'review_scores_communication', \n",
    "'review_scores_location', \n",
    "]\n",
    "\n",
    "ax = missing_data(df,columns)\n",
    "set_bar_amount(ax)\n",
    "ax.set_xlabel('Columns')\n",
    "ax.set_ylabel('Percentage')\n",
    "plt.ylim(0,1)\n",
    "ax.spines['right'].set_visible(False)\n",
    "ax.spines['top'].set_visible(False)\n",
    "ax.set_title('Review dimension missing values')"
   ]
  },
  {
   "cell_type": "markdown",
   "metadata": {},
   "source": [
    "Looking at the missing data we think that it is reasonable to ignore the records which don't have any review information, since the bar plot suggests that some records are entirely empty.\n",
    "\n",
    "One alternative could be setting a minimum number of non-null scores in order for the record to be considered. "
   ]
  },
  {
   "cell_type": "markdown",
   "metadata": {},
   "source": [
    "**How to categorize the numerical scores?**"
   ]
  },
  {
   "cell_type": "code",
   "execution_count": 5,
   "metadata": {},
   "outputs": [],
   "source": [
    "def get_quantiles(df,column,num_quantiles):\n",
    "    print(pd.qcut(df[column],5, duplicates='drop').value_counts())"
   ]
  },
  {
   "cell_type": "markdown",
   "metadata": {},
   "source": [
    "Rating:"
   ]
  },
  {
   "cell_type": "code",
   "execution_count": 6,
   "metadata": {},
   "outputs": [
    {
     "name": "stdout",
     "output_type": "stream",
     "text": [
      "(19.999, 89.0]    3280\n",
      "(93.0, 96.0]      3278\n",
      "(89.0, 93.0]      3136\n",
      "(98.0, 100.0]     2987\n",
      "(96.0, 98.0]      2321\n",
      "Name: review_scores_rating, dtype: int64\n"
     ]
    }
   ],
   "source": [
    "get_quantiles(df,'review_scores_rating', 5)"
   ]
  },
  {
   "cell_type": "markdown",
   "metadata": {},
   "source": [
    "As we can see from this quantile distribution, it is reasonable to divide the rating in five categories: 'Bellow average', 'Average', 'Good', 'Very good', 'Excelent' (given that the average is 92.67 and std. deviation=8.07)."
   ]
  },
  {
   "cell_type": "markdown",
   "metadata": {},
   "source": [
    "Accuracy, cleanliness, communication, location:"
   ]
  },
  {
   "cell_type": "code",
   "execution_count": 7,
   "metadata": {},
   "outputs": [
    {
     "name": "stdout",
     "output_type": "stream",
     "text": [
      "(9.0, 10.0]     10381\n",
      "(1.999, 9.0]     4619\n",
      "Name: review_scores_accuracy, dtype: int64\n"
     ]
    }
   ],
   "source": [
    "get_quantiles(df,'review_scores_accuracy', 5)"
   ]
  },
  {
   "cell_type": "code",
   "execution_count": 8,
   "metadata": {},
   "outputs": [
    {
     "name": "stdout",
     "output_type": "stream",
     "text": [
      "(9.0, 10.0]     9180\n",
      "(1.999, 9.0]    5821\n",
      "Name: review_scores_cleanliness, dtype: int64\n"
     ]
    }
   ],
   "source": [
    "get_quantiles(df,'review_scores_cleanliness', 5)"
   ]
  },
  {
   "cell_type": "code",
   "execution_count": 9,
   "metadata": {},
   "outputs": [
    {
     "name": "stdout",
     "output_type": "stream",
     "text": [
      "(9.0, 10.0]     11444\n",
      "(1.999, 9.0]     3555\n",
      "Name: review_scores_communication, dtype: int64\n"
     ]
    }
   ],
   "source": [
    "get_quantiles(df,'review_scores_communication', 5)"
   ]
  },
  {
   "cell_type": "code",
   "execution_count": 10,
   "metadata": {},
   "outputs": [
    {
     "name": "stdout",
     "output_type": "stream",
     "text": [
      "(9.0, 10.0]     9579\n",
      "(1.999, 9.0]    5419\n",
      "Name: review_scores_location, dtype: int64\n"
     ]
    }
   ],
   "source": [
    "get_quantiles(df,'review_scores_location', 5)"
   ]
  },
  {
   "cell_type": "markdown",
   "metadata": {},
   "source": [
    "Given this data distribution it only makes sense to create two categories: Good (score>=9.0) or Bad (score<9.0)"
   ]
  },
  {
   "cell_type": "markdown",
   "metadata": {},
   "source": [
    "### Transformation methods"
   ]
  },
  {
   "cell_type": "code",
   "execution_count": 11,
   "metadata": {},
   "outputs": [],
   "source": [
    "# Check for missing values:\n",
    "def is_nan(x):\n",
    "    return (x != x)"
   ]
  },
  {
   "cell_type": "code",
   "execution_count": 12,
   "metadata": {},
   "outputs": [],
   "source": [
    "def get_rating(score):\n",
    "    if is_nan(score): return None\n",
    "    if score < 88: return \"Bellow average\"\n",
    "    if score < 93: return \"Average\"\n",
    "    if score < 96: return \"Good\"\n",
    "    if score < 99: return \"Very good\"\n",
    "    if score < 100: return \"Excelent\""
   ]
  },
  {
   "cell_type": "code",
   "execution_count": 13,
   "metadata": {},
   "outputs": [],
   "source": [
    "def get_accuracy(score):\n",
    "    if is_nan(score): return None\n",
    "    if score < 9: return \"Accurate description\"\n",
    "    return \"Description is not accurate\""
   ]
  },
  {
   "cell_type": "code",
   "execution_count": 14,
   "metadata": {},
   "outputs": [],
   "source": [
    "def get_cleanliness(score):\n",
    "    if is_nan(score): return None\n",
    "    if score < 9: return \"Not clean\"\n",
    "    return \"Clean\""
   ]
  },
  {
   "cell_type": "code",
   "execution_count": 15,
   "metadata": {},
   "outputs": [],
   "source": [
    "def get_communication(score):\n",
    "    if is_nan(score): return None\n",
    "    if score < 9: return \"Bad communication\"\n",
    "    return \"Good communication\""
   ]
  },
  {
   "cell_type": "code",
   "execution_count": 16,
   "metadata": {},
   "outputs": [],
   "source": [
    "def get_location(score):\n",
    "    if is_nan(score): return None\n",
    "    if score < 9: return \"Bad location\"\n",
    "    return \"Good location\""
   ]
  },
  {
   "cell_type": "markdown",
   "metadata": {},
   "source": [
    "### Create clean dataframe\n",
    "\n",
    "We will now use the methods described above to create each column of the dimension, extracting the data from the original dataset `df`."
   ]
  },
  {
   "cell_type": "code",
   "execution_count": 17,
   "metadata": {},
   "outputs": [],
   "source": [
    "listing_id = [i for i in df['id']]\n",
    "ratings = [get_rating(s) for s in df['review_scores_rating']]\n",
    "accuracy = [get_accuracy(s) for s in df['review_scores_accuracy']]\n",
    "cleanliness = [get_cleanliness(s) for s in df['review_scores_cleanliness']]\n",
    "communication = [get_communication(s) for s in df['review_scores_communication']]\n",
    "location = [get_location(s) for s in df['review_scores_location']]"
   ]
  },
  {
   "cell_type": "code",
   "execution_count": 18,
   "metadata": {},
   "outputs": [
    {
     "data": {
      "text/plain": [
       "(17168, 6)"
      ]
     },
     "execution_count": 18,
     "metadata": {},
     "output_type": "execute_result"
    }
   ],
   "source": [
    "columns = ['listing_id','rating','accuracy','cleanliness','communication','location']\n",
    "\n",
    "# Create dataframe\n",
    "df_review_dimension = pd.DataFrame(np.stack((listing_id,ratings, accuracy, cleanliness,communication,\n",
    "                                          location),axis=-1), columns = columns)\n",
    "# Dataframe shape (rows, columns)\n",
    "df_review_dimension.shape"
   ]
  },
  {
   "cell_type": "markdown",
   "metadata": {},
   "source": [
    "**Remove records with null values:**"
   ]
  },
  {
   "cell_type": "code",
   "execution_count": 19,
   "metadata": {},
   "outputs": [],
   "source": [
    "def delete_null_rows(df,columns):\n",
    "    \"\"\"Removes all records with any empty cells from input DataFrame\"\"\"\n",
    "    processed_df = df[columns].copy()\n",
    "    total_rows = processed_df.shape[0]\n",
    "    delete_rows = []\n",
    "    \n",
    "    if processed_df.isnull().values.any(): # if there are any null values in DataFrame, process DataFrame\n",
    "        for index, row in enumerate(processed_df.itertuples(), start = 0):\n",
    "            if (pd.Series(row).isnull().values.any()): # if row has any null value\n",
    "                delete_rows.append(index) # add row index to delete list\n",
    "    \n",
    "    processed_df.drop(df.index[delete_rows], inplace = True) # delete rows \n",
    "    processed_df = processed_df.reset_index().drop('index', axis = 1)\n",
    "    print('DataFrame contains {} rows. Deleted {} rows ({}% of total rows)'.format(processed_df.shape[0], len(delete_rows), round(len(delete_rows)*100/total_rows, 2)))\n",
    "    return processed_df"
   ]
  },
  {
   "cell_type": "code",
   "execution_count": 20,
   "metadata": {},
   "outputs": [
    {
     "name": "stdout",
     "output_type": "stream",
     "text": [
      "DataFrame contains 12830 rows. Deleted 4338 rows (25.27% of total rows)\n"
     ]
    }
   ],
   "source": [
    "df_review_dimension = delete_null_rows(df_review_dimension, ['listing_id','rating','accuracy','cleanliness','communication','location'])"
   ]
  },
  {
   "cell_type": "markdown",
   "metadata": {},
   "source": [
    "We ended up deleting a big amount of records, more than the inital ~12% we were hoping to delete, if the records were null."
   ]
  },
  {
   "cell_type": "markdown",
   "metadata": {},
   "source": [
    "**Remove duplicates:**"
   ]
  },
  {
   "cell_type": "code",
   "execution_count": 21,
   "metadata": {},
   "outputs": [],
   "source": [
    "columns = ['rating','accuracy','cleanliness','communication','location']\n",
    "\n",
    "review_dimension_processed = df_review_dimension[columns].drop_duplicates().copy()\n",
    "review_dimension_processed = review_dimension_processed.reset_index().drop('index', axis = 1)\n",
    "review_dimension_processed.index += 1"
   ]
  },
  {
   "cell_type": "markdown",
   "metadata": {},
   "source": [
    "Since we removed the duplicates, it makes sense to add a new primary key:"
   ]
  },
  {
   "cell_type": "code",
   "execution_count": 22,
   "metadata": {},
   "outputs": [],
   "source": [
    "pk_aft_duplicates = [i for i in range(1, len(review_dimension_processed)+1)]\n",
    "review_dimension_processed.insert(0,'review_id', pk_aft_duplicates)"
   ]
  },
  {
   "cell_type": "code",
   "execution_count": 23,
   "metadata": {},
   "outputs": [
    {
     "data": {
      "text/html": [
       "<div>\n",
       "<style scoped>\n",
       "    .dataframe tbody tr th:only-of-type {\n",
       "        vertical-align: middle;\n",
       "    }\n",
       "\n",
       "    .dataframe tbody tr th {\n",
       "        vertical-align: top;\n",
       "    }\n",
       "\n",
       "    .dataframe thead th {\n",
       "        text-align: right;\n",
       "    }\n",
       "</style>\n",
       "<table border=\"1\" class=\"dataframe\">\n",
       "  <thead>\n",
       "    <tr style=\"text-align: right;\">\n",
       "      <th></th>\n",
       "      <th>review_id</th>\n",
       "      <th>rating</th>\n",
       "      <th>accuracy</th>\n",
       "      <th>cleanliness</th>\n",
       "      <th>communication</th>\n",
       "      <th>location</th>\n",
       "    </tr>\n",
       "  </thead>\n",
       "  <tbody>\n",
       "    <tr>\n",
       "      <th>1</th>\n",
       "      <td>1</td>\n",
       "      <td>Very good</td>\n",
       "      <td>Description is not accurate</td>\n",
       "      <td>Clean</td>\n",
       "      <td>Good communication</td>\n",
       "      <td>Good location</td>\n",
       "    </tr>\n",
       "    <tr>\n",
       "      <th>2</th>\n",
       "      <td>2</td>\n",
       "      <td>Average</td>\n",
       "      <td>Description is not accurate</td>\n",
       "      <td>Clean</td>\n",
       "      <td>Good communication</td>\n",
       "      <td>Good location</td>\n",
       "    </tr>\n",
       "    <tr>\n",
       "      <th>3</th>\n",
       "      <td>3</td>\n",
       "      <td>Good</td>\n",
       "      <td>Description is not accurate</td>\n",
       "      <td>Clean</td>\n",
       "      <td>Good communication</td>\n",
       "      <td>Good location</td>\n",
       "    </tr>\n",
       "    <tr>\n",
       "      <th>4</th>\n",
       "      <td>4</td>\n",
       "      <td>Bellow average</td>\n",
       "      <td>Description is not accurate</td>\n",
       "      <td>Clean</td>\n",
       "      <td>Good communication</td>\n",
       "      <td>Good location</td>\n",
       "    </tr>\n",
       "    <tr>\n",
       "      <th>5</th>\n",
       "      <td>5</td>\n",
       "      <td>Average</td>\n",
       "      <td>Description is not accurate</td>\n",
       "      <td>Clean</td>\n",
       "      <td>Bad communication</td>\n",
       "      <td>Good location</td>\n",
       "    </tr>\n",
       "  </tbody>\n",
       "</table>\n",
       "</div>"
      ],
      "text/plain": [
       "   review_id          rating                     accuracy cleanliness  \\\n",
       "1          1       Very good  Description is not accurate       Clean   \n",
       "2          2         Average  Description is not accurate       Clean   \n",
       "3          3            Good  Description is not accurate       Clean   \n",
       "4          4  Bellow average  Description is not accurate       Clean   \n",
       "5          5         Average  Description is not accurate       Clean   \n",
       "\n",
       "        communication       location  \n",
       "1  Good communication  Good location  \n",
       "2  Good communication  Good location  \n",
       "3  Good communication  Good location  \n",
       "4  Good communication  Good location  \n",
       "5   Bad communication  Good location  "
      ]
     },
     "execution_count": 23,
     "metadata": {},
     "output_type": "execute_result"
    }
   ],
   "source": [
    "review_dimension_processed.head()"
   ]
  },
  {
   "cell_type": "markdown",
   "metadata": {},
   "source": [
    "## Attributing dimension keys to facts"
   ]
  },
  {
   "cell_type": "markdown",
   "metadata": {},
   "source": [
    "In order to make a mapping between the listing_id (i.e. the facts PK) and the review_ids (FK), two keys were created: one for the dataset before we removed the duplicates and one for after. \n",
    "\n",
    "The primary keys created before the duplicate removal have a one-to-one relationship with the listings_id. Here we do an outer join in order to establish correspondence between the old PKs (and therefore the listings_id) and the new PKs."
   ]
  },
  {
   "cell_type": "code",
   "execution_count": 24,
   "metadata": {},
   "outputs": [],
   "source": [
    "def key_mapping(df1, df2, pk1, pk2):\n",
    "    # This function merges two dataframes, and creates a map linking their keys\n",
    "    df_merged = df1.merge(df2, how='outer')\n",
    "    df_map = pd.DataFrame()\n",
    "    df_map[pk1]= df_merged[pk1]\n",
    "    df_map[pk2]= df_merged[pk2]\n",
    "    \n",
    "    return df_map"
   ]
  },
  {
   "cell_type": "code",
   "execution_count": 25,
   "metadata": {},
   "outputs": [],
   "source": [
    "# Do the mapping\n",
    "key_map = key_mapping(df_review_dimension, review_dimension_processed, \"listing_id\" , \"review_id\")"
   ]
  },
  {
   "cell_type": "code",
   "execution_count": 26,
   "metadata": {},
   "outputs": [
    {
     "data": {
      "text/html": [
       "<div>\n",
       "<style scoped>\n",
       "    .dataframe tbody tr th:only-of-type {\n",
       "        vertical-align: middle;\n",
       "    }\n",
       "\n",
       "    .dataframe tbody tr th {\n",
       "        vertical-align: top;\n",
       "    }\n",
       "\n",
       "    .dataframe thead th {\n",
       "        text-align: right;\n",
       "    }\n",
       "</style>\n",
       "<table border=\"1\" class=\"dataframe\">\n",
       "  <thead>\n",
       "    <tr style=\"text-align: right;\">\n",
       "      <th></th>\n",
       "      <th>listing_id</th>\n",
       "      <th>review_id</th>\n",
       "    </tr>\n",
       "  </thead>\n",
       "  <tbody>\n",
       "    <tr>\n",
       "      <th>0</th>\n",
       "      <td>25659</td>\n",
       "      <td>1</td>\n",
       "    </tr>\n",
       "    <tr>\n",
       "      <th>1</th>\n",
       "      <td>29396</td>\n",
       "      <td>1</td>\n",
       "    </tr>\n",
       "    <tr>\n",
       "      <th>2</th>\n",
       "      <td>29720</td>\n",
       "      <td>1</td>\n",
       "    </tr>\n",
       "    <tr>\n",
       "      <th>3</th>\n",
       "      <td>65878</td>\n",
       "      <td>1</td>\n",
       "    </tr>\n",
       "    <tr>\n",
       "      <th>4</th>\n",
       "      <td>103252</td>\n",
       "      <td>1</td>\n",
       "    </tr>\n",
       "  </tbody>\n",
       "</table>\n",
       "</div>"
      ],
      "text/plain": [
       "  listing_id  review_id\n",
       "0      25659          1\n",
       "1      29396          1\n",
       "2      29720          1\n",
       "3      65878          1\n",
       "4     103252          1"
      ]
     },
     "execution_count": 26,
     "metadata": {},
     "output_type": "execute_result"
    }
   ],
   "source": [
    "key_map.head()"
   ]
  },
  {
   "cell_type": "code",
   "execution_count": 27,
   "metadata": {},
   "outputs": [],
   "source": [
    "key_map.to_csv('../processed_dt/df_listings_review.csv')"
   ]
  },
  {
   "cell_type": "markdown",
   "metadata": {},
   "source": [
    "### Load Host dimension"
   ]
  },
  {
   "cell_type": "markdown",
   "metadata": {},
   "source": [
    "**Test connection**"
   ]
  },
  {
   "cell_type": "code",
   "execution_count": 28,
   "metadata": {},
   "outputs": [],
   "source": [
    "from db_connection import dbconnection "
   ]
  },
  {
   "cell_type": "code",
   "execution_count": 29,
   "metadata": {},
   "outputs": [],
   "source": [
    "conn = psycopg2.connect(host = dbconnection.server_host,database = dbconnection.dbname, user = dbconnection.dbusername,password = dbconnection.dbpassword,sslmode=dbconnection.sslmode,gssencmode=dbconnection.gssencmode)\n",
    "conn.close()"
   ]
  },
  {
   "cell_type": "markdown",
   "metadata": {},
   "source": [
    "**Create or delete dimension**"
   ]
  },
  {
   "cell_type": "code",
   "execution_count": 30,
   "metadata": {},
   "outputs": [],
   "source": [
    "delete_table = \"\"\"\n",
    "DROP TABLE IF EXISTS Review CASCADE;\n",
    "\"\"\"\n",
    "\n",
    "create_table = \"\"\"\n",
    "CREATE TABLE Review (\n",
    "    REVIEW_ID INT PRIMARY KEY NOT NULL,\n",
    "    RATING VARCHAR(30) CHECK (RATING in ('Bellow average','Average','Good','Very good','Excelent')) NOT NULL, \n",
    "    ACCURACY VARCHAR(30) CHECK (ACCURACY in ('Accurate description','Description is not accurate')) NOT NULL,\n",
    "    CLEANLINESS VARCHAR(30) CHECK (CLEANLINESS in ('Clean','Not clean')) NOT NULL,\n",
    "    COMMUNICATION VARCHAR(30) CHECK (COMMUNICATION in ('Good communication','Bad communication')) NOT NULL,\n",
    "    LOCATION VARCHAR(30) CHECK (LOCATION in ('Good location','Bad location')) NOT NULL\n",
    "    )\n",
    "\"\"\""
   ]
  },
  {
   "cell_type": "code",
   "execution_count": 31,
   "metadata": {},
   "outputs": [],
   "source": [
    "def excuteSingleSQLstatement(sql, host, database, user, password,gssencmode):\n",
    "    conn = pg.connect(host=host,database=database, user=user, password=password,sslmode = sslmode,gssencmode=gssencmode)\n",
    "    cur = conn.cursor()\n",
    "    cur.execute(sql)\n",
    "    cur.close()\n",
    "    conn.commit()\n",
    "    conn.close()    "
   ]
  },
  {
   "cell_type": "code",
   "execution_count": 32,
   "metadata": {},
   "outputs": [],
   "source": [
    "#excuteSingleSQLstatement(delete_table, dbconnection.server_host, dbconnection.dbname, dbconnection.dbusername, dbconnection.dbpassword,gssencmode = dbconnection.gssencmode)\n",
    "#excuteSingleSQLstatement(create_table, dbconnection.server_host, dbconnection.dbname, dbconnection.dbusername, dbconnection.dbpassword,gssencmode = dbconnection.gssencmode)"
   ]
  },
  {
   "cell_type": "markdown",
   "metadata": {},
   "source": [
    "**Inserting the data**\n",
    "\n",
    "We will be inserting the data from the dataframe `review_dimension_processed`, but first checking whether that information is already in the database."
   ]
  },
  {
   "cell_type": "code",
   "execution_count": 33,
   "metadata": {},
   "outputs": [],
   "source": [
    "# Useful methods\n",
    "\n",
    "def query_table(conn, table_name):\n",
    "    \"\"\"Returns DataFrame with queried database table\"\"\"\n",
    "    sql = \"select * from {};\".format(table_name)\n",
    "    #return dataframe\n",
    "    return sqlio.read_sql_query(sql, conn)\n",
    "\n",
    "def get_data_to_insert(df1, df2, columns):\n",
    "    #Check if data of df1's given columns is in df2\n",
    "    #Only works if df1 and df2 have the same columns\n",
    "    return df1[~df1[columns].apply(tuple,1).isin(df2[columns].apply(tuple,1))]\n",
    "\n",
    "def insert_data(df, table_name, conn):\n",
    "    # Method for bulk insert\n",
    "    \n",
    "    df_columns = list(df)\n",
    "    columns = \",\".join(df_columns)\n",
    "    values = \"VALUES({})\".format(\",\".join([\"%s\" for _ in df_columns])) \n",
    "    insert_stmt = \"INSERT INTO {} ({}) {}\".format(table_name,columns,values)\n",
    "    success = True\n",
    "    try:\n",
    "        cursor = conn.cursor()\n",
    "        pg.extras.execute_batch(cursor, insert_stmt, df.values)\n",
    "        conn.commit()\n",
    "        success = True\n",
    "    except pg.DatabaseError as error:\n",
    "        success = False\n",
    "        print(error)\n",
    "    finally:\n",
    "        if conn is not None:\n",
    "            conn.close()\n",
    "    return success"
   ]
  },
  {
   "cell_type": "markdown",
   "metadata": {},
   "source": [
    "1. Query Database"
   ]
  },
  {
   "cell_type": "code",
   "execution_count": 34,
   "metadata": {},
   "outputs": [
    {
     "data": {
      "text/html": [
       "<div>\n",
       "<style scoped>\n",
       "    .dataframe tbody tr th:only-of-type {\n",
       "        vertical-align: middle;\n",
       "    }\n",
       "\n",
       "    .dataframe tbody tr th {\n",
       "        vertical-align: top;\n",
       "    }\n",
       "\n",
       "    .dataframe thead th {\n",
       "        text-align: right;\n",
       "    }\n",
       "</style>\n",
       "<table border=\"1\" class=\"dataframe\">\n",
       "  <thead>\n",
       "    <tr style=\"text-align: right;\">\n",
       "      <th></th>\n",
       "      <th>rating</th>\n",
       "      <th>accuracy</th>\n",
       "      <th>cleanliness</th>\n",
       "      <th>communication</th>\n",
       "      <th>location</th>\n",
       "    </tr>\n",
       "  </thead>\n",
       "  <tbody>\n",
       "  </tbody>\n",
       "</table>\n",
       "</div>"
      ],
      "text/plain": [
       "Empty DataFrame\n",
       "Columns: [rating, accuracy, cleanliness, communication, location]\n",
       "Index: []"
      ]
     },
     "execution_count": 34,
     "metadata": {},
     "output_type": "execute_result"
    }
   ],
   "source": [
    "conn = psycopg2.connect(host = dbconnection.server_host,database = dbconnection.dbname, user = dbconnection.dbusername,password = dbconnection.dbpassword,sslmode=dbconnection.sslmode,gssencmode=dbconnection.gssencmode)\n",
    "df_sql = query_table(conn, 'review')\n",
    "conn.close()\n",
    "df_sql.drop(['review_id'], axis=1, inplace=True)\n",
    "df_sql.head()"
   ]
  },
  {
   "cell_type": "markdown",
   "metadata": {},
   "source": [
    "2. Cross-Validate if data exists on DB"
   ]
  },
  {
   "cell_type": "code",
   "execution_count": 35,
   "metadata": {},
   "outputs": [
    {
     "data": {
      "text/html": [
       "<div>\n",
       "<style scoped>\n",
       "    .dataframe tbody tr th:only-of-type {\n",
       "        vertical-align: middle;\n",
       "    }\n",
       "\n",
       "    .dataframe tbody tr th {\n",
       "        vertical-align: top;\n",
       "    }\n",
       "\n",
       "    .dataframe thead th {\n",
       "        text-align: right;\n",
       "    }\n",
       "</style>\n",
       "<table border=\"1\" class=\"dataframe\">\n",
       "  <thead>\n",
       "    <tr style=\"text-align: right;\">\n",
       "      <th></th>\n",
       "      <th>review_id</th>\n",
       "      <th>rating</th>\n",
       "      <th>accuracy</th>\n",
       "      <th>cleanliness</th>\n",
       "      <th>communication</th>\n",
       "      <th>location</th>\n",
       "    </tr>\n",
       "  </thead>\n",
       "  <tbody>\n",
       "    <tr>\n",
       "      <th>1</th>\n",
       "      <td>1</td>\n",
       "      <td>Very good</td>\n",
       "      <td>Description is not accurate</td>\n",
       "      <td>Clean</td>\n",
       "      <td>Good communication</td>\n",
       "      <td>Good location</td>\n",
       "    </tr>\n",
       "    <tr>\n",
       "      <th>2</th>\n",
       "      <td>2</td>\n",
       "      <td>Average</td>\n",
       "      <td>Description is not accurate</td>\n",
       "      <td>Clean</td>\n",
       "      <td>Good communication</td>\n",
       "      <td>Good location</td>\n",
       "    </tr>\n",
       "    <tr>\n",
       "      <th>3</th>\n",
       "      <td>3</td>\n",
       "      <td>Good</td>\n",
       "      <td>Description is not accurate</td>\n",
       "      <td>Clean</td>\n",
       "      <td>Good communication</td>\n",
       "      <td>Good location</td>\n",
       "    </tr>\n",
       "    <tr>\n",
       "      <th>4</th>\n",
       "      <td>4</td>\n",
       "      <td>Bellow average</td>\n",
       "      <td>Description is not accurate</td>\n",
       "      <td>Clean</td>\n",
       "      <td>Good communication</td>\n",
       "      <td>Good location</td>\n",
       "    </tr>\n",
       "    <tr>\n",
       "      <th>5</th>\n",
       "      <td>5</td>\n",
       "      <td>Average</td>\n",
       "      <td>Description is not accurate</td>\n",
       "      <td>Clean</td>\n",
       "      <td>Bad communication</td>\n",
       "      <td>Good location</td>\n",
       "    </tr>\n",
       "  </tbody>\n",
       "</table>\n",
       "</div>"
      ],
      "text/plain": [
       "   review_id          rating                     accuracy cleanliness  \\\n",
       "1          1       Very good  Description is not accurate       Clean   \n",
       "2          2         Average  Description is not accurate       Clean   \n",
       "3          3            Good  Description is not accurate       Clean   \n",
       "4          4  Bellow average  Description is not accurate       Clean   \n",
       "5          5         Average  Description is not accurate       Clean   \n",
       "\n",
       "        communication       location  \n",
       "1  Good communication  Good location  \n",
       "2  Good communication  Good location  \n",
       "3  Good communication  Good location  \n",
       "4  Good communication  Good location  \n",
       "5   Bad communication  Good location  "
      ]
     },
     "execution_count": 35,
     "metadata": {},
     "output_type": "execute_result"
    }
   ],
   "source": [
    "columns = ['rating','accuracy','cleanliness','communication','location']\n",
    "\n",
    "df_etl = get_data_to_insert(review_dimension_processed, df_sql, columns=columns)\n",
    "df_etl.head()"
   ]
  },
  {
   "cell_type": "markdown",
   "metadata": {},
   "source": [
    "3. Insert new data"
   ]
  },
  {
   "cell_type": "code",
   "execution_count": 36,
   "metadata": {},
   "outputs": [
    {
     "name": "stdout",
     "output_type": "stream",
     "text": [
      "Data inserted succefully\n"
     ]
    }
   ],
   "source": [
    "if len(df_etl) > 0:\n",
    "    table_name = 'Review'\n",
    "    conn = psycopg2.connect(host = dbconnection.server_host,database = dbconnection.dbname, user = dbconnection.dbusername,password = dbconnection.dbpassword,sslmode=dbconnection.sslmode,gssencmode=dbconnection.gssencmode)\n",
    "    success = insert_data(df_etl,table_name, conn)\n",
    "    conn.close()\n",
    "    if success == True: print('Data inserted succefully')\n",
    "else: print('No data to insert')"
   ]
  },
  {
   "cell_type": "markdown",
   "metadata": {},
   "source": [
    "## Critical assesment of the work\n",
    "\n",
    "**Slow changing dimensions**\n",
    "\n",
    "The data in this dimension is expected to change over time, not on daily basis, but once in a while or periodically. In these sense, we need to create strategies to deal with the new data, and assess the importance of keeping history of these changes.\n",
    "\n",
    "In our point of view, it would be interesting to keep a history of reviews for each listing, in order to do some sort of analysis such as comparing the evolution of reviews with the number of bookings.\n",
    "\n",
    "In that sense we propose two options:\n",
    "\n",
    "- Type 2 SCD: "
   ]
  },
  {
   "cell_type": "code",
   "execution_count": null,
   "metadata": {},
   "outputs": [],
   "source": []
  }
 ],
 "metadata": {
  "kernelspec": {
   "display_name": "Python 3",
   "language": "python",
   "name": "python3"
  },
  "language_info": {
   "codemirror_mode": {
    "name": "ipython",
    "version": 3
   },
   "file_extension": ".py",
   "mimetype": "text/x-python",
   "name": "python",
   "nbconvert_exporter": "python",
   "pygments_lexer": "ipython3",
   "version": "3.7.4"
  }
 },
 "nbformat": 4,
 "nbformat_minor": 4
}
