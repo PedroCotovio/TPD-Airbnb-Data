{
 "cells": [
  {
   "cell_type": "markdown",
   "metadata": {},
   "source": [
    "# ETL for the Review dimension\n",
    "\n",
    "In this dimension we hold information relative to reviews given by airbnb guests.\n",
    "\n",
    "![Host schema](../review_schema.png)\n",
    "\n",
    "**Hierarchies and data granularity**\n",
    "\n",
    "There are no hierarchical relationships in this dimension.\n",
    "As for granularity, you will see that efforts were made in order to ensure that the grain is as fine as the data distribution allows us to have it."
   ]
  },
  {
   "cell_type": "code",
   "execution_count": 246,
   "metadata": {},
   "outputs": [],
   "source": [
    "# Libraries\n",
    "import psycopg2 as pg\n",
    "import pandas as pd\n",
    "import os\n",
    "import re\n",
    "import matplotlib.pyplot as plt\n",
    "import psycopg2.extras\n",
    "import math\n",
    "import numpy as np\n",
    "import seaborn as sns"
   ]
  },
  {
   "cell_type": "markdown",
   "metadata": {},
   "source": [
    "### Read csv files"
   ]
  },
  {
   "cell_type": "code",
   "execution_count": 106,
   "metadata": {},
   "outputs": [],
   "source": [
    "# Main dataset\n",
    "df = pd.read_csv(\"../data/listings_al.csv\")"
   ]
  },
  {
   "cell_type": "markdown",
   "metadata": {},
   "source": [
    "## EDA and missing data\n",
    "\n",
    "Singling out the columns of interest for this dimension, we analyse the distribution of missing values."
   ]
  },
  {
   "cell_type": "code",
   "execution_count": 247,
   "metadata": {},
   "outputs": [],
   "source": [
    "def missing_data(df, columns):\n",
    "    \"\"\"Calculates the amount of missing data in given DataFrame's selected columns\"\"\"\n",
    "    df_graph = df[columns]\n",
    "    # missing data\n",
    "    total = df_graph.isnull().sum().sort_values(ascending=False)\n",
    "    percent = (df_graph.isnull().sum()/df_graph.isnull().count()).sort_values(ascending=False)\n",
    "    missing_data = pd.concat([total, percent], axis=1, keys=['Total', 'Percent'])\n",
    "    print(missing_data)\n",
    "    plt.figure(figsize=(10,5))\n",
    "    ax = sns.barplot(x='index',y = 'Percent', data= missing_data.reset_index())\n",
    "    ax.set_xticklabels(ax.get_xticklabels(), rotation=45)\n",
    "    return ax\n",
    "\n",
    "#IN BAR CHARTS, SET THE VALUE ABOVE EACH BAR\n",
    "def set_bar_amount(ax):\n",
    "    for p in ax.patches:\n",
    "        height = p.get_height()\n",
    "        ax.annotate(\"{0:.2f}%\".format(p.get_height()*100), (p.get_x() + p.get_width() / 2., p.get_height()),\n",
    "            ha='center', va='center', rotation=0, xytext=(0, 10),\n",
    "            textcoords='offset points')"
   ]
  },
  {
   "cell_type": "code",
   "execution_count": 248,
   "metadata": {
    "scrolled": false
   },
   "outputs": [
    {
     "name": "stdout",
     "output_type": "stream",
     "text": [
      "                             Total   Percent\n",
      "review_scores_location        2170  0.126398\n",
      "review_scores_communication   2169  0.126340\n",
      "review_scores_accuracy        2168  0.126281\n",
      "review_scores_cleanliness     2167  0.126223\n",
      "review_scores_rating          2166  0.126165\n"
     ]
    },
    {
     "data": {
      "text/plain": [
       "Text(0.5, 1.0, 'Review dimension missing values')"
      ]
     },
     "execution_count": 248,
     "metadata": {},
     "output_type": "execute_result"
    },
    {
     "data": {
      "image/png": "[encoded data removed]",
      "text/plain": [
       "<Figure size 720x360 with 1 Axes>"
      ]
     },
     "metadata": {
      "needs_background": "light"
     },
     "output_type": "display_data"
    }
   ],
   "source": [
    "columns = [\n",
    "'review_scores_rating', \n",
    "'review_scores_accuracy', \n",
    "'review_scores_cleanliness', \n",
    "'review_scores_communication', \n",
    "'review_scores_location', \n",
    "]\n",
    "\n",
    "ax = missing_data(df,columns)\n",
    "set_bar_amount(ax)\n",
    "ax.set_xlabel('Columns')\n",
    "ax.set_ylabel('Percentage')\n",
    "plt.ylim(0,1)\n",
    "ax.spines['right'].set_visible(False)\n",
    "ax.spines['top'].set_visible(False)\n",
    "ax.set_title('Review dimension missing values')"
   ]
  },
  {
   "cell_type": "markdown",
   "metadata": {},
   "source": [
    "Looking at the missing data we think that it is reasonable to ignore the records which don't have any review information, since the bar plot suggests that some records are entirely empty.\n",
    "\n",
    "One alternative could be setting a minimum number of non-null scores in order for the record to be considered. "
   ]
  },
  {
   "cell_type": "markdown",
   "metadata": {},
   "source": [
    "**How to categorize the numerical scores?**"
   ]
  },
  {
   "cell_type": "code",
   "execution_count": 260,
   "metadata": {},
   "outputs": [],
   "source": [
    "def get_quantiles(df,column,num_quantiles):\n",
    "    print(pd.qcut(df[column],5, duplicates='drop').value_counts())"
   ]
  },
  {
   "cell_type": "markdown",
   "metadata": {},
   "source": [
    "Rating:"
   ]
  },
  {
   "cell_type": "code",
   "execution_count": 261,
   "metadata": {},
   "outputs": [
    {
     "name": "stdout",
     "output_type": "stream",
     "text": [
      "(19.999, 89.0]    3280\n",
      "(93.0, 96.0]      3278\n",
      "(89.0, 93.0]      3136\n",
      "(98.0, 100.0]     2987\n",
      "(96.0, 98.0]      2321\n",
      "Name: review_scores_rating, dtype: int64\n"
     ]
    }
   ],
   "source": [
    "get_quantiles(df,'review_scores_rating', 5)"
   ]
  },
  {
   "cell_type": "markdown",
   "metadata": {},
   "source": [
    "As we can see from this quantile distribution, it is reasonable to divide the rating in five categories: 'Bellow average', 'Average', 'Good', 'Very good', 'Excelent' (given that the average is 92.67 and std. deviation=8.07)."
   ]
  },
  {
   "cell_type": "markdown",
   "metadata": {},
   "source": [
    "Accuracy, cleanliness, communication, location:"
   ]
  },
  {
   "cell_type": "code",
   "execution_count": 262,
   "metadata": {},
   "outputs": [
    {
     "name": "stdout",
     "output_type": "stream",
     "text": [
      "(9.0, 10.0]     10381\n",
      "(1.999, 9.0]     4619\n",
      "Name: review_scores_accuracy, dtype: int64\n"
     ]
    }
   ],
   "source": [
    "get_quantiles(df,'review_scores_accuracy', 5)"
   ]
  },
  {
   "cell_type": "code",
   "execution_count": 263,
   "metadata": {},
   "outputs": [
    {
     "name": "stdout",
     "output_type": "stream",
     "text": [
      "(9.0, 10.0]     9180\n",
      "(1.999, 9.0]    5821\n",
      "Name: review_scores_cleanliness, dtype: int64\n"
     ]
    }
   ],
   "source": [
    "get_quantiles(df,'review_scores_cleanliness', 5)"
   ]
  },
  {
   "cell_type": "code",
   "execution_count": 264,
   "metadata": {},
   "outputs": [
    {
     "name": "stdout",
     "output_type": "stream",
     "text": [
      "(9.0, 10.0]     11444\n",
      "(1.999, 9.0]     3555\n",
      "Name: review_scores_communication, dtype: int64\n"
     ]
    }
   ],
   "source": [
    "get_quantiles(df,'review_scores_communication', 5)"
   ]
  },
  {
   "cell_type": "code",
   "execution_count": 265,
   "metadata": {},
   "outputs": [
    {
     "name": "stdout",
     "output_type": "stream",
     "text": [
      "(9.0, 10.0]     9579\n",
      "(1.999, 9.0]    5419\n",
      "Name: review_scores_location, dtype: int64\n"
     ]
    }
   ],
   "source": [
    "get_quantiles(df,'review_scores_location', 5)"
   ]
  },
  {
   "cell_type": "markdown",
   "metadata": {},
   "source": [
    "Given this data distribution it only makes sense to create two categories: Good (score>=9.0) or Bad (score<9.0)"
   ]
  },
  {
   "cell_type": "markdown",
   "metadata": {},
   "source": [
    "### Transformation methods"
   ]
  },
  {
   "cell_type": "code",
   "execution_count": 107,
   "metadata": {},
   "outputs": [],
   "source": [
    "# Check for missing values:\n",
    "def is_nan(x):\n",
    "    return (x != x)"
   ]
  },
  {
   "cell_type": "code",
   "execution_count": 108,
   "metadata": {},
   "outputs": [],
   "source": [
    "def get_rating(score):\n",
    "    if is_nan(score): return None\n",
    "    if score < 88: return \"Bellow average\"\n",
    "    if score < 93: return \"Average\"\n",
    "    if score < 96: return \"Good\"\n",
    "    if score < 99: return \"Very good\"\n",
    "    if score < 100: return \"Excelent\""
   ]
  },
  {
   "cell_type": "code",
   "execution_count": 109,
   "metadata": {},
   "outputs": [],
   "source": [
    "def get_accuracy(score):\n",
    "    if is_nan(score): return None\n",
    "    if score < 9: return \"Accurate description\"\n",
    "    return \"Description is not accurate\""
   ]
  },
  {
   "cell_type": "code",
   "execution_count": 110,
   "metadata": {},
   "outputs": [],
   "source": [
    "def get_cleanliness(score):\n",
    "    if is_nan(score): return None\n",
    "    if score < 9: return \"Not clean\"\n",
    "    return \"Clean\""
   ]
  },
  {
   "cell_type": "code",
   "execution_count": 111,
   "metadata": {},
   "outputs": [],
   "source": [
    "def get_communication(score):\n",
    "    if is_nan(score): return None\n",
    "    if score < 9: return \"Bad communication\"\n",
    "    return \"Good communication\""
   ]
  },
  {
   "cell_type": "code",
   "execution_count": 112,
   "metadata": {},
   "outputs": [],
   "source": [
    "def get_location(score):\n",
    "    if is_nan(score): return None\n",
    "    if score < 9: return \"Bad location\"\n",
    "    return \"Good location\""
   ]
  },
  {
   "cell_type": "markdown",
   "metadata": {},
   "source": [
    "### Create clean dataframe\n",
    "\n",
    "We will now use the methods described above to create each column of the dimension, extracting the data from the original dataset `df`."
   ]
  },
  {
   "cell_type": "code",
   "execution_count": 113,
   "metadata": {},
   "outputs": [],
   "source": [
    "listing_id = [i for i in df['id']]\n",
    "ratings = [get_rating(s) for s in df['review_scores_rating']]\n",
    "accuracy = [get_accuracy(s) for s in df['review_scores_accuracy']]\n",
    "cleanliness = [get_cleanliness(s) for s in df['review_scores_cleanliness']]\n",
    "communication = [get_communication(s) for s in df['review_scores_communication']]\n",
    "location = [get_location(s) for s in df['review_scores_location']]"
   ]
  },
  {
   "cell_type": "code",
   "execution_count": 268,
   "metadata": {},
   "outputs": [
    {
     "data": {
      "text/plain": [
       "(17168, 6)"
      ]
     },
     "execution_count": 268,
     "metadata": {},
     "output_type": "execute_result"
    }
   ],
   "source": [
    "columns = ['listing_id','rating','accuracy','cleanliness','communication','location']\n",
    "\n",
    "# Create dataframe\n",
    "df_review_dimension = pd.DataFrame(np.stack((listing_id,ratings, accuracy, cleanliness,communication,\n",
    "                                          location),axis=-1), columns = columns)\n",
    "# Dataframe shape (rows, columns)\n",
    "df_review_dimension.shape"
   ]
  },
  {
   "cell_type": "markdown",
   "metadata": {},
   "source": [
    "**Remove records with null values:**"
   ]
  },
  {
   "cell_type": "code",
   "execution_count": 101,
   "metadata": {},
   "outputs": [],
   "source": [
    "def delete_null_rows(df,columns):\n",
    "    \"\"\"Removes all records with any empty cells from input DataFrame\"\"\"\n",
    "    processed_df = df[columns].copy()\n",
    "    total_rows = processed_df.shape[0]\n",
    "    delete_rows = []\n",
    "    \n",
    "    if processed_df.isnull().values.any(): # if there are any null values in DataFrame, process DataFrame\n",
    "        for index, row in enumerate(processed_df.itertuples(), start = 0):\n",
    "            if (pd.Series(row).isnull().values.any()): # if row has any null value\n",
    "                delete_rows.append(index) # add row index to delete list\n",
    "    \n",
    "    processed_df.drop(df.index[delete_rows], inplace = True) # delete rows fr\n",
    "    processed_df = processed_df.reset_index().drop('index', axis = 1)\n",
    "    print('DataFrame contains {} rows. Deleted {} rows ({}% of total rows)'.format(processed_df.shape[0], len(delete_rows), round(len(delete_rows)*100/total_rows, 2)))\n",
    "    return processed_df"
   ]
  },
  {
   "cell_type": "code",
   "execution_count": 122,
   "metadata": {},
   "outputs": [
    {
     "name": "stdout",
     "output_type": "stream",
     "text": [
      "DataFrame contains 12830 rows. Deleted 0 rows (0.0% of total rows)\n"
     ]
    }
   ],
   "source": [
    "df_review_dimension = delete_null_rows(df_review_dimension, ['listing_id','rating','accuracy','cleanliness','communication','location'])"
   ]
  },
  {
   "cell_type": "markdown",
   "metadata": {},
   "source": [
    "**Add primary key:**"
   ]
  },
  {
   "cell_type": "code",
   "execution_count": 123,
   "metadata": {},
   "outputs": [],
   "source": [
    "pk_bf_duplicates = [i for i in range(1, len(df_review_dimension)+1)]\n",
    "df_review_dimension.insert(0,'pk_bf_duplicates', pk_bf_duplicates)"
   ]
  },
  {
   "cell_type": "markdown",
   "metadata": {},
   "source": [
    "**Remove duplicates:**"
   ]
  },
  {
   "cell_type": "code",
   "execution_count": 218,
   "metadata": {},
   "outputs": [],
   "source": [
    "columns = ['rating','accuracy','cleanliness','communication','location']\n",
    "\n",
    "review_dimension_processed = df_review_dimension[columns].drop_duplicates().copy()\n",
    "review_dimension_processed = review_dimension_processed.reset_index().drop('index', axis = 1)\n",
    "review_dimension_processed.index += 1"
   ]
  },
  {
   "cell_type": "markdown",
   "metadata": {},
   "source": [
    "Since we removed the duplicates, it makes sense to add a new primary key:"
   ]
  },
  {
   "cell_type": "code",
   "execution_count": 269,
   "metadata": {},
   "outputs": [
    {
     "ename": "ValueError",
     "evalue": "cannot insert review_id, already exists",
     "output_type": "error",
     "traceback": [
      "\u001b[0;31m---------------------------------------------------------------------------\u001b[0m",
      "\u001b[0;31mValueError\u001b[0m                                Traceback (most recent call last)",
      "\u001b[0;32m<ipython-input-269-63429e1bada6>\u001b[0m in \u001b[0;36m<module>\u001b[0;34m\u001b[0m\n\u001b[1;32m      1\u001b[0m \u001b[0mpk_aft_duplicates\u001b[0m \u001b[0;34m=\u001b[0m \u001b[0;34m[\u001b[0m\u001b[0mi\u001b[0m \u001b[0;32mfor\u001b[0m \u001b[0mi\u001b[0m \u001b[0;32min\u001b[0m \u001b[0mrange\u001b[0m\u001b[0;34m(\u001b[0m\u001b[0;36m1\u001b[0m\u001b[0;34m,\u001b[0m \u001b[0mlen\u001b[0m\u001b[0;34m(\u001b[0m\u001b[0mreview_dimension_processed\u001b[0m\u001b[0;34m)\u001b[0m\u001b[0;34m+\u001b[0m\u001b[0;36m1\u001b[0m\u001b[0;34m)\u001b[0m\u001b[0;34m]\u001b[0m\u001b[0;34m\u001b[0m\u001b[0;34m\u001b[0m\u001b[0m\n\u001b[0;32m----> 2\u001b[0;31m \u001b[0mreview_dimension_processed\u001b[0m\u001b[0;34m.\u001b[0m\u001b[0minsert\u001b[0m\u001b[0;34m(\u001b[0m\u001b[0;36m0\u001b[0m\u001b[0;34m,\u001b[0m\u001b[0;34m'review_id'\u001b[0m\u001b[0;34m,\u001b[0m \u001b[0mpk_aft_duplicates\u001b[0m\u001b[0;34m)\u001b[0m\u001b[0;34m\u001b[0m\u001b[0;34m\u001b[0m\u001b[0m\n\u001b[0m",
      "\u001b[0;32m~/anaconda3/lib/python3.7/site-packages/pandas/core/frame.py\u001b[0m in \u001b[0;36minsert\u001b[0;34m(self, loc, column, value, allow_duplicates)\u001b[0m\n\u001b[1;32m   3589\u001b[0m         \u001b[0mself\u001b[0m\u001b[0;34m.\u001b[0m\u001b[0m_ensure_valid_index\u001b[0m\u001b[0;34m(\u001b[0m\u001b[0mvalue\u001b[0m\u001b[0;34m)\u001b[0m\u001b[0;34m\u001b[0m\u001b[0;34m\u001b[0m\u001b[0m\n\u001b[1;32m   3590\u001b[0m         \u001b[0mvalue\u001b[0m \u001b[0;34m=\u001b[0m \u001b[0mself\u001b[0m\u001b[0;34m.\u001b[0m\u001b[0m_sanitize_column\u001b[0m\u001b[0;34m(\u001b[0m\u001b[0mcolumn\u001b[0m\u001b[0;34m,\u001b[0m \u001b[0mvalue\u001b[0m\u001b[0;34m,\u001b[0m \u001b[0mbroadcast\u001b[0m\u001b[0;34m=\u001b[0m\u001b[0;32mFalse\u001b[0m\u001b[0;34m)\u001b[0m\u001b[0;34m\u001b[0m\u001b[0;34m\u001b[0m\u001b[0m\n\u001b[0;32m-> 3591\u001b[0;31m         \u001b[0mself\u001b[0m\u001b[0;34m.\u001b[0m\u001b[0m_data\u001b[0m\u001b[0;34m.\u001b[0m\u001b[0minsert\u001b[0m\u001b[0;34m(\u001b[0m\u001b[0mloc\u001b[0m\u001b[0;34m,\u001b[0m \u001b[0mcolumn\u001b[0m\u001b[0;34m,\u001b[0m \u001b[0mvalue\u001b[0m\u001b[0;34m,\u001b[0m \u001b[0mallow_duplicates\u001b[0m\u001b[0;34m=\u001b[0m\u001b[0mallow_duplicates\u001b[0m\u001b[0;34m)\u001b[0m\u001b[0;34m\u001b[0m\u001b[0;34m\u001b[0m\u001b[0m\n\u001b[0m\u001b[1;32m   3592\u001b[0m \u001b[0;34m\u001b[0m\u001b[0m\n\u001b[1;32m   3593\u001b[0m     \u001b[0;32mdef\u001b[0m \u001b[0massign\u001b[0m\u001b[0;34m(\u001b[0m\u001b[0mself\u001b[0m\u001b[0;34m,\u001b[0m \u001b[0;34m**\u001b[0m\u001b[0mkwargs\u001b[0m\u001b[0;34m)\u001b[0m\u001b[0;34m:\u001b[0m\u001b[0;34m\u001b[0m\u001b[0;34m\u001b[0m\u001b[0m\n",
      "\u001b[0;32m~/anaconda3/lib/python3.7/site-packages/pandas/core/internals/managers.py\u001b[0m in \u001b[0;36minsert\u001b[0;34m(self, loc, item, value, allow_duplicates)\u001b[0m\n\u001b[1;32m   1171\u001b[0m         \u001b[0;32mif\u001b[0m \u001b[0;32mnot\u001b[0m \u001b[0mallow_duplicates\u001b[0m \u001b[0;32mand\u001b[0m \u001b[0mitem\u001b[0m \u001b[0;32min\u001b[0m \u001b[0mself\u001b[0m\u001b[0;34m.\u001b[0m\u001b[0mitems\u001b[0m\u001b[0;34m:\u001b[0m\u001b[0;34m\u001b[0m\u001b[0;34m\u001b[0m\u001b[0m\n\u001b[1;32m   1172\u001b[0m             \u001b[0;31m# Should this be a different kind of error??\u001b[0m\u001b[0;34m\u001b[0m\u001b[0;34m\u001b[0m\u001b[0;34m\u001b[0m\u001b[0m\n\u001b[0;32m-> 1173\u001b[0;31m             \u001b[0;32mraise\u001b[0m \u001b[0mValueError\u001b[0m\u001b[0;34m(\u001b[0m\u001b[0;34m\"cannot insert {}, already exists\"\u001b[0m\u001b[0;34m.\u001b[0m\u001b[0mformat\u001b[0m\u001b[0;34m(\u001b[0m\u001b[0mitem\u001b[0m\u001b[0;34m)\u001b[0m\u001b[0;34m)\u001b[0m\u001b[0;34m\u001b[0m\u001b[0;34m\u001b[0m\u001b[0m\n\u001b[0m\u001b[1;32m   1174\u001b[0m \u001b[0;34m\u001b[0m\u001b[0m\n\u001b[1;32m   1175\u001b[0m         \u001b[0;32mif\u001b[0m \u001b[0;32mnot\u001b[0m \u001b[0misinstance\u001b[0m\u001b[0;34m(\u001b[0m\u001b[0mloc\u001b[0m\u001b[0;34m,\u001b[0m \u001b[0mint\u001b[0m\u001b[0;34m)\u001b[0m\u001b[0;34m:\u001b[0m\u001b[0;34m\u001b[0m\u001b[0;34m\u001b[0m\u001b[0m\n",
      "\u001b[0;31mValueError\u001b[0m: cannot insert review_id, already exists"
     ]
    }
   ],
   "source": [
    "pk_aft_duplicates = [i for i in range(1, len(review_dimension_processed)+1)]\n",
    "review_dimension_processed.insert(0,'review_id', pk_aft_duplicates)"
   ]
  },
  {
   "cell_type": "code",
   "execution_count": 270,
   "metadata": {},
   "outputs": [
    {
     "data": {
      "text/html": [
       "<div>\n",
       "<style scoped>\n",
       "    .dataframe tbody tr th:only-of-type {\n",
       "        vertical-align: middle;\n",
       "    }\n",
       "\n",
       "    .dataframe tbody tr th {\n",
       "        vertical-align: top;\n",
       "    }\n",
       "\n",
       "    .dataframe thead th {\n",
       "        text-align: right;\n",
       "    }\n",
       "</style>\n",
       "<table border=\"1\" class=\"dataframe\">\n",
       "  <thead>\n",
       "    <tr style=\"text-align: right;\">\n",
       "      <th></th>\n",
       "      <th>review_id</th>\n",
       "      <th>rating</th>\n",
       "      <th>accuracy</th>\n",
       "      <th>cleanliness</th>\n",
       "      <th>communication</th>\n",
       "      <th>location</th>\n",
       "    </tr>\n",
       "  </thead>\n",
       "  <tbody>\n",
       "    <tr>\n",
       "      <th>1</th>\n",
       "      <td>1</td>\n",
       "      <td>Very good</td>\n",
       "      <td>Description is not accurate</td>\n",
       "      <td>Clean</td>\n",
       "      <td>Good communication</td>\n",
       "      <td>Good location</td>\n",
       "    </tr>\n",
       "    <tr>\n",
       "      <th>2</th>\n",
       "      <td>2</td>\n",
       "      <td>Average</td>\n",
       "      <td>Description is not accurate</td>\n",
       "      <td>Clean</td>\n",
       "      <td>Good communication</td>\n",
       "      <td>Good location</td>\n",
       "    </tr>\n",
       "    <tr>\n",
       "      <th>3</th>\n",
       "      <td>3</td>\n",
       "      <td>Good</td>\n",
       "      <td>Description is not accurate</td>\n",
       "      <td>Clean</td>\n",
       "      <td>Good communication</td>\n",
       "      <td>Good location</td>\n",
       "    </tr>\n",
       "    <tr>\n",
       "      <th>4</th>\n",
       "      <td>4</td>\n",
       "      <td>Bellow average</td>\n",
       "      <td>Description is not accurate</td>\n",
       "      <td>Clean</td>\n",
       "      <td>Good communication</td>\n",
       "      <td>Good location</td>\n",
       "    </tr>\n",
       "    <tr>\n",
       "      <th>5</th>\n",
       "      <td>5</td>\n",
       "      <td>Average</td>\n",
       "      <td>Description is not accurate</td>\n",
       "      <td>Clean</td>\n",
       "      <td>Bad communication</td>\n",
       "      <td>Good location</td>\n",
       "    </tr>\n",
       "    <tr>\n",
       "      <th>6</th>\n",
       "      <td>6</td>\n",
       "      <td>Excelent</td>\n",
       "      <td>Description is not accurate</td>\n",
       "      <td>Clean</td>\n",
       "      <td>Good communication</td>\n",
       "      <td>Good location</td>\n",
       "    </tr>\n",
       "    <tr>\n",
       "      <th>7</th>\n",
       "      <td>7</td>\n",
       "      <td>Average</td>\n",
       "      <td>Description is not accurate</td>\n",
       "      <td>Not clean</td>\n",
       "      <td>Good communication</td>\n",
       "      <td>Good location</td>\n",
       "    </tr>\n",
       "    <tr>\n",
       "      <th>8</th>\n",
       "      <td>8</td>\n",
       "      <td>Bellow average</td>\n",
       "      <td>Accurate description</td>\n",
       "      <td>Not clean</td>\n",
       "      <td>Good communication</td>\n",
       "      <td>Good location</td>\n",
       "    </tr>\n",
       "    <tr>\n",
       "      <th>9</th>\n",
       "      <td>9</td>\n",
       "      <td>Bellow average</td>\n",
       "      <td>Accurate description</td>\n",
       "      <td>Not clean</td>\n",
       "      <td>Bad communication</td>\n",
       "      <td>Bad location</td>\n",
       "    </tr>\n",
       "    <tr>\n",
       "      <th>10</th>\n",
       "      <td>10</td>\n",
       "      <td>Bellow average</td>\n",
       "      <td>Description is not accurate</td>\n",
       "      <td>Not clean</td>\n",
       "      <td>Good communication</td>\n",
       "      <td>Good location</td>\n",
       "    </tr>\n",
       "    <tr>\n",
       "      <th>11</th>\n",
       "      <td>11</td>\n",
       "      <td>Bellow average</td>\n",
       "      <td>Description is not accurate</td>\n",
       "      <td>Clean</td>\n",
       "      <td>Good communication</td>\n",
       "      <td>Bad location</td>\n",
       "    </tr>\n",
       "    <tr>\n",
       "      <th>12</th>\n",
       "      <td>12</td>\n",
       "      <td>Bellow average</td>\n",
       "      <td>Description is not accurate</td>\n",
       "      <td>Clean</td>\n",
       "      <td>Bad communication</td>\n",
       "      <td>Good location</td>\n",
       "    </tr>\n",
       "    <tr>\n",
       "      <th>13</th>\n",
       "      <td>13</td>\n",
       "      <td>Bellow average</td>\n",
       "      <td>Accurate description</td>\n",
       "      <td>Clean</td>\n",
       "      <td>Good communication</td>\n",
       "      <td>Bad location</td>\n",
       "    </tr>\n",
       "    <tr>\n",
       "      <th>14</th>\n",
       "      <td>14</td>\n",
       "      <td>Bellow average</td>\n",
       "      <td>Accurate description</td>\n",
       "      <td>Clean</td>\n",
       "      <td>Good communication</td>\n",
       "      <td>Good location</td>\n",
       "    </tr>\n",
       "    <tr>\n",
       "      <th>15</th>\n",
       "      <td>15</td>\n",
       "      <td>Bellow average</td>\n",
       "      <td>Accurate description</td>\n",
       "      <td>Not clean</td>\n",
       "      <td>Bad communication</td>\n",
       "      <td>Good location</td>\n",
       "    </tr>\n",
       "    <tr>\n",
       "      <th>16</th>\n",
       "      <td>16</td>\n",
       "      <td>Bellow average</td>\n",
       "      <td>Accurate description</td>\n",
       "      <td>Clean</td>\n",
       "      <td>Bad communication</td>\n",
       "      <td>Bad location</td>\n",
       "    </tr>\n",
       "    <tr>\n",
       "      <th>17</th>\n",
       "      <td>17</td>\n",
       "      <td>Average</td>\n",
       "      <td>Accurate description</td>\n",
       "      <td>Not clean</td>\n",
       "      <td>Bad communication</td>\n",
       "      <td>Good location</td>\n",
       "    </tr>\n",
       "    <tr>\n",
       "      <th>18</th>\n",
       "      <td>18</td>\n",
       "      <td>Average</td>\n",
       "      <td>Description is not accurate</td>\n",
       "      <td>Clean</td>\n",
       "      <td>Good communication</td>\n",
       "      <td>Bad location</td>\n",
       "    </tr>\n",
       "    <tr>\n",
       "      <th>19</th>\n",
       "      <td>19</td>\n",
       "      <td>Bellow average</td>\n",
       "      <td>Description is not accurate</td>\n",
       "      <td>Not clean</td>\n",
       "      <td>Good communication</td>\n",
       "      <td>Bad location</td>\n",
       "    </tr>\n",
       "    <tr>\n",
       "      <th>20</th>\n",
       "      <td>20</td>\n",
       "      <td>Bellow average</td>\n",
       "      <td>Accurate description</td>\n",
       "      <td>Clean</td>\n",
       "      <td>Bad communication</td>\n",
       "      <td>Good location</td>\n",
       "    </tr>\n",
       "    <tr>\n",
       "      <th>21</th>\n",
       "      <td>21</td>\n",
       "      <td>Average</td>\n",
       "      <td>Accurate description</td>\n",
       "      <td>Not clean</td>\n",
       "      <td>Good communication</td>\n",
       "      <td>Good location</td>\n",
       "    </tr>\n",
       "    <tr>\n",
       "      <th>22</th>\n",
       "      <td>22</td>\n",
       "      <td>Average</td>\n",
       "      <td>Accurate description</td>\n",
       "      <td>Clean</td>\n",
       "      <td>Good communication</td>\n",
       "      <td>Bad location</td>\n",
       "    </tr>\n",
       "    <tr>\n",
       "      <th>23</th>\n",
       "      <td>23</td>\n",
       "      <td>Good</td>\n",
       "      <td>Description is not accurate</td>\n",
       "      <td>Not clean</td>\n",
       "      <td>Good communication</td>\n",
       "      <td>Good location</td>\n",
       "    </tr>\n",
       "    <tr>\n",
       "      <th>24</th>\n",
       "      <td>24</td>\n",
       "      <td>Average</td>\n",
       "      <td>Accurate description</td>\n",
       "      <td>Clean</td>\n",
       "      <td>Good communication</td>\n",
       "      <td>Good location</td>\n",
       "    </tr>\n",
       "    <tr>\n",
       "      <th>25</th>\n",
       "      <td>25</td>\n",
       "      <td>Bellow average</td>\n",
       "      <td>Description is not accurate</td>\n",
       "      <td>Not clean</td>\n",
       "      <td>Bad communication</td>\n",
       "      <td>Good location</td>\n",
       "    </tr>\n",
       "    <tr>\n",
       "      <th>26</th>\n",
       "      <td>26</td>\n",
       "      <td>Good</td>\n",
       "      <td>Accurate description</td>\n",
       "      <td>Clean</td>\n",
       "      <td>Bad communication</td>\n",
       "      <td>Good location</td>\n",
       "    </tr>\n",
       "    <tr>\n",
       "      <th>27</th>\n",
       "      <td>27</td>\n",
       "      <td>Bellow average</td>\n",
       "      <td>Description is not accurate</td>\n",
       "      <td>Clean</td>\n",
       "      <td>Bad communication</td>\n",
       "      <td>Bad location</td>\n",
       "    </tr>\n",
       "    <tr>\n",
       "      <th>28</th>\n",
       "      <td>28</td>\n",
       "      <td>Very good</td>\n",
       "      <td>Description is not accurate</td>\n",
       "      <td>Clean</td>\n",
       "      <td>Good communication</td>\n",
       "      <td>Bad location</td>\n",
       "    </tr>\n",
       "    <tr>\n",
       "      <th>29</th>\n",
       "      <td>29</td>\n",
       "      <td>Good</td>\n",
       "      <td>Description is not accurate</td>\n",
       "      <td>Clean</td>\n",
       "      <td>Bad communication</td>\n",
       "      <td>Good location</td>\n",
       "    </tr>\n",
       "    <tr>\n",
       "      <th>30</th>\n",
       "      <td>30</td>\n",
       "      <td>Good</td>\n",
       "      <td>Description is not accurate</td>\n",
       "      <td>Clean</td>\n",
       "      <td>Good communication</td>\n",
       "      <td>Bad location</td>\n",
       "    </tr>\n",
       "    <tr>\n",
       "      <th>31</th>\n",
       "      <td>31</td>\n",
       "      <td>Bellow average</td>\n",
       "      <td>Accurate description</td>\n",
       "      <td>Not clean</td>\n",
       "      <td>Good communication</td>\n",
       "      <td>Bad location</td>\n",
       "    </tr>\n",
       "    <tr>\n",
       "      <th>32</th>\n",
       "      <td>32</td>\n",
       "      <td>Bellow average</td>\n",
       "      <td>Description is not accurate</td>\n",
       "      <td>Not clean</td>\n",
       "      <td>Bad communication</td>\n",
       "      <td>Bad location</td>\n",
       "    </tr>\n",
       "    <tr>\n",
       "      <th>33</th>\n",
       "      <td>33</td>\n",
       "      <td>Average</td>\n",
       "      <td>Description is not accurate</td>\n",
       "      <td>Not clean</td>\n",
       "      <td>Bad communication</td>\n",
       "      <td>Good location</td>\n",
       "    </tr>\n",
       "    <tr>\n",
       "      <th>34</th>\n",
       "      <td>34</td>\n",
       "      <td>Good</td>\n",
       "      <td>Accurate description</td>\n",
       "      <td>Clean</td>\n",
       "      <td>Good communication</td>\n",
       "      <td>Good location</td>\n",
       "    </tr>\n",
       "    <tr>\n",
       "      <th>35</th>\n",
       "      <td>35</td>\n",
       "      <td>Average</td>\n",
       "      <td>Accurate description</td>\n",
       "      <td>Not clean</td>\n",
       "      <td>Bad communication</td>\n",
       "      <td>Bad location</td>\n",
       "    </tr>\n",
       "    <tr>\n",
       "      <th>36</th>\n",
       "      <td>36</td>\n",
       "      <td>Average</td>\n",
       "      <td>Description is not accurate</td>\n",
       "      <td>Not clean</td>\n",
       "      <td>Good communication</td>\n",
       "      <td>Bad location</td>\n",
       "    </tr>\n",
       "    <tr>\n",
       "      <th>37</th>\n",
       "      <td>37</td>\n",
       "      <td>Very good</td>\n",
       "      <td>Description is not accurate</td>\n",
       "      <td>Clean</td>\n",
       "      <td>Bad communication</td>\n",
       "      <td>Good location</td>\n",
       "    </tr>\n",
       "    <tr>\n",
       "      <th>38</th>\n",
       "      <td>38</td>\n",
       "      <td>Average</td>\n",
       "      <td>Accurate description</td>\n",
       "      <td>Clean</td>\n",
       "      <td>Bad communication</td>\n",
       "      <td>Good location</td>\n",
       "    </tr>\n",
       "    <tr>\n",
       "      <th>39</th>\n",
       "      <td>39</td>\n",
       "      <td>Very good</td>\n",
       "      <td>Description is not accurate</td>\n",
       "      <td>Not clean</td>\n",
       "      <td>Good communication</td>\n",
       "      <td>Good location</td>\n",
       "    </tr>\n",
       "    <tr>\n",
       "      <th>40</th>\n",
       "      <td>40</td>\n",
       "      <td>Excelent</td>\n",
       "      <td>Description is not accurate</td>\n",
       "      <td>Clean</td>\n",
       "      <td>Good communication</td>\n",
       "      <td>Bad location</td>\n",
       "    </tr>\n",
       "    <tr>\n",
       "      <th>41</th>\n",
       "      <td>41</td>\n",
       "      <td>Average</td>\n",
       "      <td>Accurate description</td>\n",
       "      <td>Not clean</td>\n",
       "      <td>Good communication</td>\n",
       "      <td>Bad location</td>\n",
       "    </tr>\n",
       "    <tr>\n",
       "      <th>42</th>\n",
       "      <td>42</td>\n",
       "      <td>Very good</td>\n",
       "      <td>Accurate description</td>\n",
       "      <td>Clean</td>\n",
       "      <td>Good communication</td>\n",
       "      <td>Good location</td>\n",
       "    </tr>\n",
       "    <tr>\n",
       "      <th>43</th>\n",
       "      <td>43</td>\n",
       "      <td>Good</td>\n",
       "      <td>Description is not accurate</td>\n",
       "      <td>Not clean</td>\n",
       "      <td>Bad communication</td>\n",
       "      <td>Good location</td>\n",
       "    </tr>\n",
       "    <tr>\n",
       "      <th>44</th>\n",
       "      <td>44</td>\n",
       "      <td>Average</td>\n",
       "      <td>Accurate description</td>\n",
       "      <td>Clean</td>\n",
       "      <td>Bad communication</td>\n",
       "      <td>Bad location</td>\n",
       "    </tr>\n",
       "    <tr>\n",
       "      <th>45</th>\n",
       "      <td>45</td>\n",
       "      <td>Good</td>\n",
       "      <td>Description is not accurate</td>\n",
       "      <td>Not clean</td>\n",
       "      <td>Good communication</td>\n",
       "      <td>Bad location</td>\n",
       "    </tr>\n",
       "    <tr>\n",
       "      <th>46</th>\n",
       "      <td>46</td>\n",
       "      <td>Good</td>\n",
       "      <td>Accurate description</td>\n",
       "      <td>Clean</td>\n",
       "      <td>Good communication</td>\n",
       "      <td>Bad location</td>\n",
       "    </tr>\n",
       "    <tr>\n",
       "      <th>47</th>\n",
       "      <td>47</td>\n",
       "      <td>Average</td>\n",
       "      <td>Description is not accurate</td>\n",
       "      <td>Clean</td>\n",
       "      <td>Bad communication</td>\n",
       "      <td>Bad location</td>\n",
       "    </tr>\n",
       "  </tbody>\n",
       "</table>\n",
       "</div>"
      ],
      "text/plain": [
       "    review_id          rating                     accuracy cleanliness  \\\n",
       "1           1       Very good  Description is not accurate       Clean   \n",
       "2           2         Average  Description is not accurate       Clean   \n",
       "3           3            Good  Description is not accurate       Clean   \n",
       "4           4  Bellow average  Description is not accurate       Clean   \n",
       "5           5         Average  Description is not accurate       Clean   \n",
       "6           6        Excelent  Description is not accurate       Clean   \n",
       "7           7         Average  Description is not accurate   Not clean   \n",
       "8           8  Bellow average         Accurate description   Not clean   \n",
       "9           9  Bellow average         Accurate description   Not clean   \n",
       "10         10  Bellow average  Description is not accurate   Not clean   \n",
       "11         11  Bellow average  Description is not accurate       Clean   \n",
       "12         12  Bellow average  Description is not accurate       Clean   \n",
       "13         13  Bellow average         Accurate description       Clean   \n",
       "14         14  Bellow average         Accurate description       Clean   \n",
       "15         15  Bellow average         Accurate description   Not clean   \n",
       "16         16  Bellow average         Accurate description       Clean   \n",
       "17         17         Average         Accurate description   Not clean   \n",
       "18         18         Average  Description is not accurate       Clean   \n",
       "19         19  Bellow average  Description is not accurate   Not clean   \n",
       "20         20  Bellow average         Accurate description       Clean   \n",
       "21         21         Average         Accurate description   Not clean   \n",
       "22         22         Average         Accurate description       Clean   \n",
       "23         23            Good  Description is not accurate   Not clean   \n",
       "24         24         Average         Accurate description       Clean   \n",
       "25         25  Bellow average  Description is not accurate   Not clean   \n",
       "26         26            Good         Accurate description       Clean   \n",
       "27         27  Bellow average  Description is not accurate       Clean   \n",
       "28         28       Very good  Description is not accurate       Clean   \n",
       "29         29            Good  Description is not accurate       Clean   \n",
       "30         30            Good  Description is not accurate       Clean   \n",
       "31         31  Bellow average         Accurate description   Not clean   \n",
       "32         32  Bellow average  Description is not accurate   Not clean   \n",
       "33         33         Average  Description is not accurate   Not clean   \n",
       "34         34            Good         Accurate description       Clean   \n",
       "35         35         Average         Accurate description   Not clean   \n",
       "36         36         Average  Description is not accurate   Not clean   \n",
       "37         37       Very good  Description is not accurate       Clean   \n",
       "38         38         Average         Accurate description       Clean   \n",
       "39         39       Very good  Description is not accurate   Not clean   \n",
       "40         40        Excelent  Description is not accurate       Clean   \n",
       "41         41         Average         Accurate description   Not clean   \n",
       "42         42       Very good         Accurate description       Clean   \n",
       "43         43            Good  Description is not accurate   Not clean   \n",
       "44         44         Average         Accurate description       Clean   \n",
       "45         45            Good  Description is not accurate   Not clean   \n",
       "46         46            Good         Accurate description       Clean   \n",
       "47         47         Average  Description is not accurate       Clean   \n",
       "\n",
       "         communication       location  \n",
       "1   Good communication  Good location  \n",
       "2   Good communication  Good location  \n",
       "3   Good communication  Good location  \n",
       "4   Good communication  Good location  \n",
       "5    Bad communication  Good location  \n",
       "6   Good communication  Good location  \n",
       "7   Good communication  Good location  \n",
       "8   Good communication  Good location  \n",
       "9    Bad communication   Bad location  \n",
       "10  Good communication  Good location  \n",
       "11  Good communication   Bad location  \n",
       "12   Bad communication  Good location  \n",
       "13  Good communication   Bad location  \n",
       "14  Good communication  Good location  \n",
       "15   Bad communication  Good location  \n",
       "16   Bad communication   Bad location  \n",
       "17   Bad communication  Good location  \n",
       "18  Good communication   Bad location  \n",
       "19  Good communication   Bad location  \n",
       "20   Bad communication  Good location  \n",
       "21  Good communication  Good location  \n",
       "22  Good communication   Bad location  \n",
       "23  Good communication  Good location  \n",
       "24  Good communication  Good location  \n",
       "25   Bad communication  Good location  \n",
       "26   Bad communication  Good location  \n",
       "27   Bad communication   Bad location  \n",
       "28  Good communication   Bad location  \n",
       "29   Bad communication  Good location  \n",
       "30  Good communication   Bad location  \n",
       "31  Good communication   Bad location  \n",
       "32   Bad communication   Bad location  \n",
       "33   Bad communication  Good location  \n",
       "34  Good communication  Good location  \n",
       "35   Bad communication   Bad location  \n",
       "36  Good communication   Bad location  \n",
       "37   Bad communication  Good location  \n",
       "38   Bad communication  Good location  \n",
       "39  Good communication  Good location  \n",
       "40  Good communication   Bad location  \n",
       "41  Good communication   Bad location  \n",
       "42  Good communication  Good location  \n",
       "43   Bad communication  Good location  \n",
       "44   Bad communication   Bad location  \n",
       "45  Good communication   Bad location  \n",
       "46  Good communication   Bad location  \n",
       "47   Bad communication   Bad location  "
      ]
     },
     "execution_count": 270,
     "metadata": {},
     "output_type": "execute_result"
    }
   ],
   "source": [
    "review_dimension_processed"
   ]
  },
  {
   "cell_type": "markdown",
   "metadata": {},
   "source": [
    "## Attributing dimension keys to facts"
   ]
  },
  {
   "cell_type": "markdown",
   "metadata": {},
   "source": [
    "In order to make a mapping between the listing_id (i.e. the facts PK) and the review_ids (FK), two keys were created: one for the dataset before we removed the duplicates and one for after. \n",
    "\n",
    "The primary keys created before the duplicate removal have a one-to-one relationship with the listings_id. Here we do an outer join in order to establish correspondence between the old PKs (and therefore the listings_id) and the new PKs."
   ]
  },
  {
   "cell_type": "code",
   "execution_count": 222,
   "metadata": {},
   "outputs": [],
   "source": [
    "def key_mapping(df1, df2, pk1, pk2, dimension_name):\n",
    "    # This function merges two dataframes, and creates a map linking their keys\n",
    "    df_merged = df1.merge(df2, how='outer')\n",
    "    df_map = pd.DataFrame()\n",
    "    df_map['listing_id']= df_merged['listing_id']\n",
    "    # df_map[pk1]= df_merged[pk1] # Remove this comment if you want to see the middle key in the final df\n",
    "    df_map[dimension_name+\"_id\"]= df_merged[pk2]\n",
    "    \n",
    "    return df_map"
   ]
  },
  {
   "cell_type": "code",
   "execution_count": 223,
   "metadata": {},
   "outputs": [],
   "source": [
    "# Do the mapping\n",
    "key_map = key_mapping(df_review_dimension, review_dimension_processed, \"pk_bf_duplicates\" , \"review_id\", \"review\")"
   ]
  },
  {
   "cell_type": "code",
   "execution_count": 224,
   "metadata": {},
   "outputs": [
    {
     "data": {
      "text/html": [
       "<div>\n",
       "<style scoped>\n",
       "    .dataframe tbody tr th:only-of-type {\n",
       "        vertical-align: middle;\n",
       "    }\n",
       "\n",
       "    .dataframe tbody tr th {\n",
       "        vertical-align: top;\n",
       "    }\n",
       "\n",
       "    .dataframe thead th {\n",
       "        text-align: right;\n",
       "    }\n",
       "</style>\n",
       "<table border=\"1\" class=\"dataframe\">\n",
       "  <thead>\n",
       "    <tr style=\"text-align: right;\">\n",
       "      <th></th>\n",
       "      <th>listing_id</th>\n",
       "      <th>review_id</th>\n",
       "    </tr>\n",
       "  </thead>\n",
       "  <tbody>\n",
       "    <tr>\n",
       "      <th>0</th>\n",
       "      <td>25659</td>\n",
       "      <td>1</td>\n",
       "    </tr>\n",
       "    <tr>\n",
       "      <th>1</th>\n",
       "      <td>29396</td>\n",
       "      <td>1</td>\n",
       "    </tr>\n",
       "    <tr>\n",
       "      <th>2</th>\n",
       "      <td>29720</td>\n",
       "      <td>1</td>\n",
       "    </tr>\n",
       "    <tr>\n",
       "      <th>3</th>\n",
       "      <td>65878</td>\n",
       "      <td>1</td>\n",
       "    </tr>\n",
       "    <tr>\n",
       "      <th>4</th>\n",
       "      <td>103252</td>\n",
       "      <td>1</td>\n",
       "    </tr>\n",
       "    <tr>\n",
       "      <th>...</th>\n",
       "      <td>...</td>\n",
       "      <td>...</td>\n",
       "    </tr>\n",
       "    <tr>\n",
       "      <th>12825</th>\n",
       "      <td>26582375</td>\n",
       "      <td>46</td>\n",
       "    </tr>\n",
       "    <tr>\n",
       "      <th>12826</th>\n",
       "      <td>33126271</td>\n",
       "      <td>46</td>\n",
       "    </tr>\n",
       "    <tr>\n",
       "      <th>12827</th>\n",
       "      <td>31012644</td>\n",
       "      <td>47</td>\n",
       "    </tr>\n",
       "    <tr>\n",
       "      <th>12828</th>\n",
       "      <td>35116421</td>\n",
       "      <td>47</td>\n",
       "    </tr>\n",
       "    <tr>\n",
       "      <th>12829</th>\n",
       "      <td>39519023</td>\n",
       "      <td>47</td>\n",
       "    </tr>\n",
       "  </tbody>\n",
       "</table>\n",
       "<p>12830 rows × 2 columns</p>\n",
       "</div>"
      ],
      "text/plain": [
       "      listing_id  review_id\n",
       "0          25659          1\n",
       "1          29396          1\n",
       "2          29720          1\n",
       "3          65878          1\n",
       "4         103252          1\n",
       "...          ...        ...\n",
       "12825   26582375         46\n",
       "12826   33126271         46\n",
       "12827   31012644         47\n",
       "12828   35116421         47\n",
       "12829   39519023         47\n",
       "\n",
       "[12830 rows x 2 columns]"
      ]
     },
     "execution_count": 224,
     "metadata": {},
     "output_type": "execute_result"
    }
   ],
   "source": [
    "key_map"
   ]
  },
  {
   "cell_type": "code",
   "execution_count": 225,
   "metadata": {},
   "outputs": [],
   "source": [
    "df_mapping.to_csv('df_listings_review.csv')"
   ]
  },
  {
   "cell_type": "markdown",
   "metadata": {},
   "source": [
    "### Load Host dimension"
   ]
  },
  {
   "cell_type": "markdown",
   "metadata": {},
   "source": [
    "**Test connection**"
   ]
  },
  {
   "cell_type": "code",
   "execution_count": 272,
   "metadata": {},
   "outputs": [],
   "source": [
    "#1. set environment variable for psycog2 (for some systems)\n",
    "os.environ[\"PGGSSENCMODE\"] = \"disable\"\n",
    "\n",
    "#2. get the stored Passwords\n",
    "f=open(\"credentials.txt\", \"rt\")\n",
    "pwd=f.readline().strip()  #di   pass \n",
    "f.close()\n",
    "\n",
    "#3. test connections using the password\n",
    "# FCUL server\n",
    "host_di = \"appserver-01.alunos.di.fc.ul.pt\"\n",
    "db_di = \"tpd012\"\n",
    "user_di = \"tpd012\"\n",
    "\n",
    "conn = pg.connect(host = host_di, database = db_di, user = user_di, password = pwd)\n",
    "conn.close()"
   ]
  },
  {
   "cell_type": "markdown",
   "metadata": {},
   "source": [
    "**Create or delete dimension**"
   ]
  },
  {
   "cell_type": "code",
   "execution_count": 235,
   "metadata": {},
   "outputs": [],
   "source": [
    "delete_table = \"\"\"\n",
    "DROP TABLE IF EXISTS Review CASCADE;\n",
    "\"\"\"\n",
    "\n",
    "create_table = \"\"\"\n",
    "CREATE TABLE Review (\n",
    "    REVIEW_ID INT PRIMARY KEY NOT NULL,\n",
    "    RATING VARCHAR(30) CHECK (RATING in ('Bellow average','Average','Good','Very good','Excelent')) NOT NULL, \n",
    "    ACCURACY VARCHAR(30) CHECK (ACCURACY in ('Accurate description','Description is not accurate')) NOT NULL,\n",
    "    CLEANLINESS VARCHAR(30) CHECK (CLEANLINESS in ('Clean','Not clean')) NOT NULL,\n",
    "    COMMUNICATION VARCHAR(30) CHECK (COMMUNICATION in ('Good communication','Bad communication')) NOT NULL,\n",
    "    LOCATION VARCHAR(30) CHECK (LOCATION in ('Good location','Bad location')) NOT NULL\n",
    "    )\n",
    "\"\"\""
   ]
  },
  {
   "cell_type": "code",
   "execution_count": 236,
   "metadata": {},
   "outputs": [],
   "source": [
    "def excuteSingleSQLstatement(sql, host, database, user, password):\n",
    "    conn = pg.connect(host=host,database=database, user=user, password=password)\n",
    "    cur = conn.cursor()\n",
    "    cur.execute(sql)\n",
    "    cur.close()\n",
    "    conn.commit()\n",
    "    conn.close() "
   ]
  },
  {
   "cell_type": "code",
   "execution_count": 237,
   "metadata": {},
   "outputs": [],
   "source": [
    "excuteSingleSQLstatement(delete_table, host_di, db_di, user_di, pwd)\n",
    "excuteSingleSQLstatement(create_table, host_di, db_di, user_di, pwd)"
   ]
  },
  {
   "cell_type": "markdown",
   "metadata": {},
   "source": [
    "**Inserting the data**\n",
    "\n",
    "We will be inserting the data from the dataframe `review_dimension_processed`."
   ]
  },
  {
   "cell_type": "code",
   "execution_count": 238,
   "metadata": {},
   "outputs": [],
   "source": [
    "#method for bulk insert\n",
    "def insert_data(df, table_name, conn):\n",
    "    df_columns = list(df)\n",
    "    columns = \",\".join(df_columns)\n",
    "    values = \"VALUES({})\".format(\",\".join([\"%s\" for _ in df_columns])) \n",
    "    insert_stmt = \"INSERT INTO {} ({}) {}\".format(table_name,columns,values)\n",
    "    success = True\n",
    "    try:\n",
    "        cursor = conn.cursor()\n",
    "        pg.extras.execute_batch(cursor, insert_stmt, df.values)\n",
    "        conn.commit()\n",
    "        success = True\n",
    "    except pg.DatabaseError as error:\n",
    "        success = False\n",
    "        print(error)\n",
    "    finally:\n",
    "        if conn is not None:\n",
    "            conn.close()\n",
    "    return success"
   ]
  },
  {
   "cell_type": "code",
   "execution_count": 239,
   "metadata": {},
   "outputs": [
    {
     "name": "stdout",
     "output_type": "stream",
     "text": [
      "Data inserted succefully\n"
     ]
    }
   ],
   "source": [
    "if len(df_review_dimension) > 0:\n",
    "    table_name = 'Review'\n",
    "    conn = pg.connect(host=host_di, database=db_di, user=user_di, password=pwd)\n",
    "    success = insert_data(review_dimension_processed,table_name, conn)\n",
    "    conn.close()\n",
    "    if success == True: print('Data inserted succefully')\n",
    "else: print('No data to insert')"
   ]
  }
 ],
 "metadata": {
  "kernelspec": {
   "display_name": "Python 3",
   "language": "python",
   "name": "python3"
  },
  "language_info": {
   "codemirror_mode": {
    "name": "ipython",
    "version": 3
   },
   "file_extension": ".py",
   "mimetype": "text/x-python",
   "name": "python",
   "nbconvert_exporter": "python",
   "pygments_lexer": "ipython3",
   "version": "3.7.4"
  }
 },
 "nbformat": 4,
 "nbformat_minor": 2
}
