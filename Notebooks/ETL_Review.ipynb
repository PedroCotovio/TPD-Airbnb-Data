{
 "cells": [
  {
   "cell_type": "markdown",
   "metadata": {},
   "source": [
    "# Start the system"
   ]
  },
  {
   "cell_type": "code",
   "execution_count": 61,
   "metadata": {},
   "outputs": [],
   "source": [
    "#1. Libraries\n",
    "import psycopg2 as pg\n",
    "import pandas as pd\n",
    "import os\n",
    "import re\n",
    "import pycountry_convert as pc\n",
    "import matplotlib.pyplot as plt\n",
    "import datetime\n",
    "import psycopg2.extras\n",
    "import math\n",
    "import numpy as np\n"
   ]
  },
  {
   "cell_type": "code",
   "execution_count": 54,
   "metadata": {},
   "outputs": [],
   "source": [
    "#2. set environment variable for psycog2 (for some systems)\n",
    "os.environ[\"PGGSSENCMODE\"] = \"disable\"\n",
    "\n",
    "#3. get the stored Passwords\n",
    "f=open(\"credentials.txt\", \"rt\")\n",
    "pwd=f.readline().strip()  #di   pass \n",
    "f.close()\n",
    "\n",
    "#4. test connections using the password\n",
    "# FCUL server\n",
    "#host_di = \"appserver-01.alunos.di.fc.ul.pt\"\n",
    "#db_di = \"tpd012\"\n",
    "#user_di = \"tpd012\"\n",
    "\n",
    "#conn = pg.connect(host = host_di, database = db_di, user = user_di, password = pwd)\n",
    "#conn.close()\n",
    "\n",
    "# Local server\n",
    "host = \"localhost\"\n",
    "database=\"teste\"\n",
    "user=\"postgres\"\n",
    "password=\"0000\"\n",
    "\n",
    "conn = pg.connect(host=host,database=database, user=user, password=password)\n",
    "conn.close()\n"
   ]
  },
  {
   "cell_type": "markdown",
   "metadata": {},
   "source": [
    "### Read csv files"
   ]
  },
  {
   "cell_type": "code",
   "execution_count": 5,
   "metadata": {},
   "outputs": [
    {
     "name": "stderr",
     "output_type": "stream",
     "text": [
      "/Users/air/anaconda3/lib/python3.7/site-packages/IPython/core/interactiveshell.py:3051: DtypeWarning: Columns (61,62) have mixed types. Specify dtype option on import or set low_memory=False.\n",
      "  interactivity=interactivity, compiler=compiler, result=result)\n"
     ]
    }
   ],
   "source": [
    "df = pd.read_csv(\"../data/listings_al.csv\")"
   ]
  },
  {
   "cell_type": "markdown",
   "metadata": {},
   "source": [
    "### Transformation methods"
   ]
  },
  {
   "cell_type": "code",
   "execution_count": 38,
   "metadata": {},
   "outputs": [],
   "source": [
    "# Check for missing values:\n",
    "def is_nan(x):\n",
    "    return (x != x)"
   ]
  },
  {
   "cell_type": "code",
   "execution_count": 39,
   "metadata": {},
   "outputs": [],
   "source": [
    "def get_rating(score):\n",
    "    if is_nan(score): return None\n",
    "    if score < 88: return \"Bellow average\"\n",
    "    if score < 93: return \"Average\"\n",
    "    if score < 96: return \"Good\"\n",
    "    if score < 99: return \"Very good\"\n",
    "    if score < 100: return \"Excelent\""
   ]
  },
  {
   "cell_type": "code",
   "execution_count": 40,
   "metadata": {},
   "outputs": [],
   "source": [
    "def get_accuracy(score):\n",
    "    if is_nan(score): return None\n",
    "    if score < 9: return \"Accurate description\"\n",
    "    return \"Description is not accurate\""
   ]
  },
  {
   "cell_type": "code",
   "execution_count": 41,
   "metadata": {},
   "outputs": [],
   "source": [
    "def get_cleanliness(score):\n",
    "    if is_nan(score): return None\n",
    "    if score < 9: return \"Not clean\"\n",
    "    return \"Clean\""
   ]
  },
  {
   "cell_type": "code",
   "execution_count": 42,
   "metadata": {},
   "outputs": [],
   "source": [
    "def get_communication(score):\n",
    "    if is_nan(score): return None\n",
    "    if score < 9: return \"Bad communication\"\n",
    "    return \"Good communication\""
   ]
  },
  {
   "cell_type": "code",
   "execution_count": 43,
   "metadata": {},
   "outputs": [],
   "source": [
    "def get_location(score):\n",
    "    if is_nan(score): return None\n",
    "    if score < 9: return \"Bad location\"\n",
    "    return \"Good location\""
   ]
  },
  {
   "cell_type": "markdown",
   "metadata": {},
   "source": [
    "### Create clean dataframe"
   ]
  },
  {
   "cell_type": "code",
   "execution_count": 81,
   "metadata": {},
   "outputs": [],
   "source": [
    "listing_id = [i for i in df['id']]\n",
    "ratings = [get_rating(s) for s in df['review_scores_rating']]\n",
    "accuracy = [get_accuracy(s) for s in df['review_scores_accuracy']]\n",
    "cleanliness = [get_cleanliness(s) for s in df['review_scores_cleanliness']]\n",
    "communication = [get_communication(s) for s in df['review_scores_communication']]\n",
    "location = [get_location(s) for s in df['review_scores_location']]"
   ]
  },
  {
   "cell_type": "code",
   "execution_count": 82,
   "metadata": {},
   "outputs": [
    {
     "data": {
      "text/plain": [
       "(17168, 6)"
      ]
     },
     "execution_count": 82,
     "metadata": {},
     "output_type": "execute_result"
    }
   ],
   "source": [
    "columns = ['listing_id','rating','accuracy','cleanliness','communication','location']\n",
    "df_review_dimension = pd.DataFrame(np.stack((listing_id,ratings, accuracy, cleanliness,communication,\n",
    "                                          location),axis=-1), columns = columns)\n",
    "df_review_dimension.shape"
   ]
  },
  {
   "cell_type": "code",
   "execution_count": 83,
   "metadata": {},
   "outputs": [],
   "source": [
    "def delete_null_rows(df,columns):\n",
    "    \"\"\"Removes all records with any empty cells from input DataFrame\"\"\"\n",
    "    processed_df = df[columns].copy()\n",
    "    total_rows = processed_df.shape[0]\n",
    "    delete_rows = []\n",
    "    \n",
    "    if processed_df.isnull().values.any(): # if there are any null values in DataFrame, process DataFrame\n",
    "        for index, row in enumerate(processed_df.itertuples(), start = 0):\n",
    "            if (pd.Series(row).isnull().values.any()): # if row has any null value\n",
    "                delete_rows.append(index) # add row index to delete list\n",
    "    \n",
    "    processed_df.drop(df.index[delete_rows], inplace = True) # delete rows fr\n",
    "    processed_df = processed_df.reset_index().drop('index', axis = 1)\n",
    "    print('DataFrame contains {} rows. Deleted {} rows ({}% of total rows)'.format(processed_df.shape[0], len(delete_rows), round(len(delete_rows)*100/total_rows, 2)))\n",
    "    return processed_df"
   ]
  },
  {
   "cell_type": "code",
   "execution_count": 84,
   "metadata": {},
   "outputs": [
    {
     "name": "stdout",
     "output_type": "stream",
     "text": [
      "DataFrame contains 12830 rows. Deleted 4338 rows (25.27% of total rows)\n"
     ]
    }
   ],
   "source": [
    "df_review_dimension = delete_null_rows(df_review_dimension, ['listing_id','rating','accuracy','cleanliness','communication','location'])"
   ]
  },
  {
   "cell_type": "markdown",
   "metadata": {},
   "source": [
    "Add primary key:"
   ]
  },
  {
   "cell_type": "code",
   "execution_count": 85,
   "metadata": {},
   "outputs": [],
   "source": [
    "pks = [i for i in range(1,df_review_dimension.shape[0]+1)]\n",
    "df_review_dimension.insert(0, \"review_id\", pks, True) "
   ]
  },
  {
   "cell_type": "markdown",
   "metadata": {},
   "source": [
    "Remove duplicates, mapping the each listing to these new FK."
   ]
  },
  {
   "cell_type": "code",
   "execution_count": 86,
   "metadata": {},
   "outputs": [
    {
     "data": {
      "text/html": [
       "<div>\n",
       "<style scoped>\n",
       "    .dataframe tbody tr th:only-of-type {\n",
       "        vertical-align: middle;\n",
       "    }\n",
       "\n",
       "    .dataframe tbody tr th {\n",
       "        vertical-align: top;\n",
       "    }\n",
       "\n",
       "    .dataframe thead th {\n",
       "        text-align: right;\n",
       "    }\n",
       "</style>\n",
       "<table border=\"1\" class=\"dataframe\">\n",
       "  <thead>\n",
       "    <tr style=\"text-align: right;\">\n",
       "      <th></th>\n",
       "      <th>review_id</th>\n",
       "      <th>rating</th>\n",
       "      <th>accuracy</th>\n",
       "      <th>cleanliness</th>\n",
       "      <th>communication</th>\n",
       "      <th>location</th>\n",
       "    </tr>\n",
       "  </thead>\n",
       "  <tbody>\n",
       "    <tr>\n",
       "      <th>1</th>\n",
       "      <td>1</td>\n",
       "      <td>Very good</td>\n",
       "      <td>Description is not accurate</td>\n",
       "      <td>Clean</td>\n",
       "      <td>Good communication</td>\n",
       "      <td>Good location</td>\n",
       "    </tr>\n",
       "    <tr>\n",
       "      <th>2</th>\n",
       "      <td>2</td>\n",
       "      <td>Average</td>\n",
       "      <td>Description is not accurate</td>\n",
       "      <td>Clean</td>\n",
       "      <td>Good communication</td>\n",
       "      <td>Good location</td>\n",
       "    </tr>\n",
       "    <tr>\n",
       "      <th>3</th>\n",
       "      <td>3</td>\n",
       "      <td>Very good</td>\n",
       "      <td>Description is not accurate</td>\n",
       "      <td>Clean</td>\n",
       "      <td>Good communication</td>\n",
       "      <td>Good location</td>\n",
       "    </tr>\n",
       "    <tr>\n",
       "      <th>4</th>\n",
       "      <td>4</td>\n",
       "      <td>Very good</td>\n",
       "      <td>Description is not accurate</td>\n",
       "      <td>Clean</td>\n",
       "      <td>Good communication</td>\n",
       "      <td>Good location</td>\n",
       "    </tr>\n",
       "    <tr>\n",
       "      <th>5</th>\n",
       "      <td>5</td>\n",
       "      <td>Good</td>\n",
       "      <td>Description is not accurate</td>\n",
       "      <td>Clean</td>\n",
       "      <td>Good communication</td>\n",
       "      <td>Good location</td>\n",
       "    </tr>\n",
       "    <tr>\n",
       "      <th>...</th>\n",
       "      <td>...</td>\n",
       "      <td>...</td>\n",
       "      <td>...</td>\n",
       "      <td>...</td>\n",
       "      <td>...</td>\n",
       "      <td>...</td>\n",
       "    </tr>\n",
       "    <tr>\n",
       "      <th>12826</th>\n",
       "      <td>12826</td>\n",
       "      <td>Bellow average</td>\n",
       "      <td>Accurate description</td>\n",
       "      <td>Clean</td>\n",
       "      <td>Good communication</td>\n",
       "      <td>Good location</td>\n",
       "    </tr>\n",
       "    <tr>\n",
       "      <th>12827</th>\n",
       "      <td>12827</td>\n",
       "      <td>Average</td>\n",
       "      <td>Description is not accurate</td>\n",
       "      <td>Clean</td>\n",
       "      <td>Good communication</td>\n",
       "      <td>Good location</td>\n",
       "    </tr>\n",
       "    <tr>\n",
       "      <th>12828</th>\n",
       "      <td>12828</td>\n",
       "      <td>Good</td>\n",
       "      <td>Description is not accurate</td>\n",
       "      <td>Clean</td>\n",
       "      <td>Good communication</td>\n",
       "      <td>Good location</td>\n",
       "    </tr>\n",
       "    <tr>\n",
       "      <th>12829</th>\n",
       "      <td>12829</td>\n",
       "      <td>Average</td>\n",
       "      <td>Description is not accurate</td>\n",
       "      <td>Clean</td>\n",
       "      <td>Good communication</td>\n",
       "      <td>Bad location</td>\n",
       "    </tr>\n",
       "    <tr>\n",
       "      <th>12830</th>\n",
       "      <td>12830</td>\n",
       "      <td>Bellow average</td>\n",
       "      <td>Accurate description</td>\n",
       "      <td>Clean</td>\n",
       "      <td>Good communication</td>\n",
       "      <td>Good location</td>\n",
       "    </tr>\n",
       "  </tbody>\n",
       "</table>\n",
       "<p>12830 rows × 6 columns</p>\n",
       "</div>"
      ],
      "text/plain": [
       "       review_id          rating                     accuracy cleanliness  \\\n",
       "1              1       Very good  Description is not accurate       Clean   \n",
       "2              2         Average  Description is not accurate       Clean   \n",
       "3              3       Very good  Description is not accurate       Clean   \n",
       "4              4       Very good  Description is not accurate       Clean   \n",
       "5              5            Good  Description is not accurate       Clean   \n",
       "...          ...             ...                          ...         ...   \n",
       "12826      12826  Bellow average         Accurate description       Clean   \n",
       "12827      12827         Average  Description is not accurate       Clean   \n",
       "12828      12828            Good  Description is not accurate       Clean   \n",
       "12829      12829         Average  Description is not accurate       Clean   \n",
       "12830      12830  Bellow average         Accurate description       Clean   \n",
       "\n",
       "            communication       location  \n",
       "1      Good communication  Good location  \n",
       "2      Good communication  Good location  \n",
       "3      Good communication  Good location  \n",
       "4      Good communication  Good location  \n",
       "5      Good communication  Good location  \n",
       "...                   ...            ...  \n",
       "12826  Good communication  Good location  \n",
       "12827  Good communication  Good location  \n",
       "12828  Good communication  Good location  \n",
       "12829  Good communication   Bad location  \n",
       "12830  Good communication  Good location  \n",
       "\n",
       "[12830 rows x 6 columns]"
      ]
     },
     "execution_count": 86,
     "metadata": {},
     "output_type": "execute_result"
    }
   ],
   "source": [
    "columns = ['review_id','rating','accuracy','cleanliness','communication','location']\n",
    "\n",
    "review_dimension_processed = df_review_dimension[columns].drop_duplicates().copy()\n",
    "review_dimension_processed = review_dimension_processed.reset_index().drop('index', axis = 1)\n",
    "review_dimension_processed.index += 1\n",
    "\n",
    "review_dimension_processed"
   ]
  },
  {
   "cell_type": "markdown",
   "metadata": {},
   "source": [
    "## Attributing dimension keys to facts"
   ]
  },
  {
   "cell_type": "code",
   "execution_count": null,
   "metadata": {},
   "outputs": [],
   "source": [
    "# match fact IDs with FKs in dimension\n",
    "FK = []\n",
    "for i, row in enumerate(df_review_dimension.itertuples(), start = 1):\n",
    "    row = list(row)\n",
    "    for j, dim_row in enumerate(review_dimension_processed.itertuples(), start = 1):\n",
    "        dim_row = list(dim_row)\n",
    "        if (row[2:] == dim_row[1:]): # if fact attributes are equal to dimension record attributes\n",
    "            FK.append(j)\n",
    "            break # leaves nested loop if match is found  \n",
    "len(FK)"
   ]
  },
  {
   "cell_type": "code",
   "execution_count": null,
   "metadata": {},
   "outputs": [],
   "source": [
    "df_mapping = pd.DataFrame({})\n",
    "df_mapping['ID'] = list(df_review_dimension['listing_id'].copy())\n",
    "df_mapping['review_id'] = FK\n",
    "df_mapping.index += 1"
   ]
  },
  {
   "cell_type": "code",
   "execution_count": null,
   "metadata": {},
   "outputs": [],
   "source": [
    "df_mapping"
   ]
  },
  {
   "cell_type": "markdown",
   "metadata": {},
   "source": [
    "### Load Host dimension"
   ]
  },
  {
   "cell_type": "code",
   "execution_count": 64,
   "metadata": {},
   "outputs": [],
   "source": [
    "delete_table = \"\"\"\n",
    "DROP TABLE IF EXISTS Review;\n",
    "\"\"\"\n",
    "\n",
    "create_table = \"\"\"\n",
    "CREATE TABLE Review (\n",
    "    REVIEW_ID SERIAL PRIMARY KEY NOT NULL,\n",
    "    RATING VARCHAR(30) CHECK (RATING in ('Bellow average','Average','Good','Very good','Excelent')) NOT NULL, \n",
    "    ACCURACY VARCHAR(30) CHECK (ACCURACY in ('Accurate description','Description is not accurate')) NOT NULL,\n",
    "    CLEANLINESS VARCHAR(30) CHECK (CLEANLINESS in ('Clean','Not clean')) NOT NULL,\n",
    "    COMMUNICATION VARCHAR(30) CHECK (COMMUNICATION in ('Good communication','Bad communication')) NOT NULL,\n",
    "    LOCATION VARCHAR(30) CHECK (LOCATION in ('Good location','Bad location')) NOT NULL\n",
    "    )\n",
    "\"\"\""
   ]
  },
  {
   "cell_type": "code",
   "execution_count": 65,
   "metadata": {},
   "outputs": [],
   "source": [
    "def excuteSingleSQLstatement(sql, host, database, user, password):\n",
    "    conn = pg.connect(host=host,database=database, user=user, password=password)\n",
    "    cur = conn.cursor()\n",
    "    cur.execute(sql)\n",
    "    cur.close()\n",
    "    conn.commit()\n",
    "    conn.close() "
   ]
  },
  {
   "cell_type": "code",
   "execution_count": 66,
   "metadata": {},
   "outputs": [],
   "source": [
    "excuteSingleSQLstatement(delete_table, host, database, user, password)\n",
    "excuteSingleSQLstatement(create_table, host, database, user, password)"
   ]
  },
  {
   "cell_type": "code",
   "execution_count": 67,
   "metadata": {},
   "outputs": [],
   "source": [
    "#method for bulk insert\n",
    "def insert_data(df, table_name, conn):\n",
    "    df_columns = list(df)\n",
    "    columns = \",\".join(df_columns)\n",
    "    values = \"VALUES({})\".format(\",\".join([\"%s\" for _ in df_columns])) \n",
    "    insert_stmt = \"INSERT INTO {} ({}) {}\".format(table_name,columns,values)\n",
    "    success = True\n",
    "    try:\n",
    "        cursor = conn.cursor()\n",
    "        pg.extras.execute_batch(cursor, insert_stmt, df.values)\n",
    "        conn.commit()\n",
    "        success = True\n",
    "    except pg.DatabaseError as error:\n",
    "        success = False\n",
    "        print(error)\n",
    "    finally:\n",
    "        if conn is not None:\n",
    "            conn.close()\n",
    "    return success"
   ]
  },
  {
   "cell_type": "code",
   "execution_count": 68,
   "metadata": {},
   "outputs": [
    {
     "name": "stdout",
     "output_type": "stream",
     "text": [
      "Data inserted succefully\n"
     ]
    }
   ],
   "source": [
    "if len(df_review_dimension) > 0:\n",
    "    table_name = 'Review'\n",
    "    conn = pg.connect(host=host, database=database, user=user, password=password)\n",
    "    success = insert_data(df_review_dimension,table_name, conn)\n",
    "    conn.close()\n",
    "    if success == True: print('Data inserted succefully')\n",
    "else: print('No data to insert')"
   ]
  }
 ],
 "metadata": {
  "kernelspec": {
   "display_name": "Python 3",
   "language": "python",
   "name": "python3"
  },
  "language_info": {
   "codemirror_mode": {
    "name": "ipython",
    "version": 3
   },
   "file_extension": ".py",
   "mimetype": "text/x-python",
   "name": "python",
   "nbconvert_exporter": "python",
   "pygments_lexer": "ipython3",
   "version": "3.7.4"
  }
 },
 "nbformat": 4,
 "nbformat_minor": 2
}
