{
 "cells": [
  {
   "cell_type": "markdown",
   "metadata": {},
   "source": [
    "# Tecnologias de Processamento de dados - 2019/2020\n",
    "\n",
    "## Phase II - Group 12\n",
    "\n",
    "\n",
    "|   Student      | Student ID |  Contribution in hours |\n",
    "|----------------|------------|----------------|\n",
    "| Beatriz Lima   |    49377   |   |\n",
    "| David Almeida  |    54120   |   |\n",
    "|João Castanheira|    55052   |   |\n",
    "| Pedro Cotovio  |    55053   |   |\n",
    "\n",
    "\n",
    "\n"
   ]
  },
  {
   "cell_type": "markdown",
   "metadata": {},
   "source": [
    "## 1. Dimensions and facts tables of the data warehouse\n",
    "\n",
    "+ Define and model them in SQL\n",
    "+ Identify hierarchies and fact granularity\n",
    "+ Create the dimensions and facts tables in the DBMS (postgreSQL)"
   ]
  },
  {
   "cell_type": "markdown",
   "metadata": {},
   "source": [
    "## 2. Define an ETL workflow\n",
    "\n",
    "+ Identify all data sources for all dimensions. Add URL links to all data that should be available. If not public data, point to dropbox files, Google drive, or whatever\n",
    "+ For each dimension show the code used for modeling, filtering and inserting data\n",
    "+ Describe the process for inserting facts data\n"
   ]
  },
  {
   "cell_type": "markdown",
   "metadata": {},
   "source": [
    "## 3. Critical assessment of the work\n",
    "+ Describe potential issues with the ETL procedure used\n",
    "+ Compare your schema to the one previously defined in phase I\n",
    "+ Discuss the issues for updating the data warehouse with novel data"
   ]
  },
  {
   "cell_type": "code",
   "execution_count": null,
   "metadata": {},
   "outputs": [],
   "source": []
  }
 ],
 "metadata": {
  "kernelspec": {
   "display_name": "Python 3",
   "language": "python",
   "name": "python3"
  },
  "language_info": {
   "codemirror_mode": {
    "name": "ipython",
    "version": 3
   },
   "file_extension": ".py",
   "mimetype": "text/x-python",
   "name": "python",
   "nbconvert_exporter": "python",
   "pygments_lexer": "ipython3",
   "version": "3.7.4"
  }
 },
 "nbformat": 4,
 "nbformat_minor": 2
}
