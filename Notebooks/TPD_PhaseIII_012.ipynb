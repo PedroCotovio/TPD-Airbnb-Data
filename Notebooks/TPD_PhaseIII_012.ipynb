{
 "cells": [
  {
   "cell_type": "markdown",
   "metadata": {},
   "source": [
    "# Tecnologias de Processamento de dados - 2019/2020\n",
    "\n",
    "## Phase III - Group 12\n",
    "\n",
    "\n",
    "Student|Student ID|Contribution in hours\n",
    "-|-|-\n",
    "Beatriz Lima|49377|                      \n",
    "David Almeida|54120|<center>8h</center>                  \n",
    "João Castanheira|55052|                      \n",
    "Pedro Cotovio|55053|"
   ]
  },
  {
   "cell_type": "markdown",
   "metadata": {},
   "source": [
    "# 1. OLAP Queries\n",
    "\n",
    "###  a. Previously defined queries\n",
    "\n",
    "Check and revise the queries defined in Phase I. Ensure that the queries are meaningful for the processes at hand."
   ]
  },
  {
   "cell_type": "markdown",
   "metadata": {},
   "source": [
    "![Bus matrix](images/bus_matrix.png)"
   ]
  },
  {
   "cell_type": "markdown",
   "metadata": {},
   "source": [
    "Demand queries (relative to the Bookings fact table):\n",
    " - The calendar period in which properties are available or not;\n",
    " - Locations where the properties are most available;\n",
    " - Correlation between host profile and demand for their listings;\n",
    " - The types of properties that are most sought after.\n",
    " \n",
    "These queries were defined in Phase I and are still relevant for understanding the demand and the clients behaviour or preferences. We think that it might be interesting to pursue the analysis of the most popular locations in each time of the year."
   ]
  },
  {
   "cell_type": "markdown",
   "metadata": {},
   "source": [
    "Supply queries (relative to the Listings fact table):\n",
    " - Number of listings by parish or county, and their evolution over time;\n",
    " - Use the Review dimension to check in which parishes the listings with high review scores are located;\n",
    " - Check price evolution across differents locations;\n",
    " - Locations where hosts have listings in comparison to their listed residence (“Are hosts residents in foreign countries?”, “Are they investors from richer countries?”);\n",
    " - Analyse the evolution over time and across locations, of types of properties using the Property dimension, providing an overview on what the platform can supply."
   ]
  },
  {
   "cell_type": "markdown",
   "metadata": {},
   "source": [
    "### b. For each query type identify dimensions, attributes and measures for each one"
   ]
  },
  {
   "cell_type": "markdown",
   "metadata": {},
   "source": [
    "- **Query 1**) hottest months/dates and most popular locations.\n",
    "This analysis involves the date and location dimensions, and the bookings fact table. We will try different grains of detail, going from weeks to months and seasons, etc. The same goes for the location, where the hierarchy of parish and county will be explored through roll up or down operations. We will also try to establish an association with the price per night (bookings fact table measure).\n",
    "\n",
    "\n",
    "- **Query 2**) locations where hosts have listings in comparison to their listed residence.\n",
    "This query looks at the ownership of Airbnb-listed properties by extracting information about listings' locations and their respective hosts' locations. It will make use of two dimensions, Location and Host, associated with the Listings fact table. In this way, we can understand how ownership is distributed, that is, if listings are hosted by locals, or by foreigners that have invested in properties abroad.\n",
    "\n",
    "- **Query 3**)\n",
    "- **Query 4**)"
   ]
  },
  {
   "cell_type": "markdown",
   "metadata": {},
   "source": [
    "### c. SQL queries \n",
    "Write the SQL queries and execute them. Make sure the results are understandable"
   ]
  },
  {
   "cell_type": "code",
   "execution_count": null,
   "metadata": {},
   "outputs": [],
   "source": [
    "#1. Libraries\n",
    "import psycopg2 as pg\n",
    "import pandas as pd\n",
    "import numpy as np\n",
    "import pandas.io.sql as sqlio\n",
    "import os\n",
    "\n",
    "#2. set environment variable for psycog2 (for some systems)\n",
    "os.environ[\"PGGSSENCMODE\"] = \"disable\"\n",
    "\n",
    "#3. get the stored Passwords\n",
    "f=open(\"credentials.txt\", \"rt\")\n",
    "pwd=f.readline().strip()  #di   pass \n",
    "hpwd=f.readline().strip() #home pass\n",
    "f.close()\n",
    "\n",
    "#4. test connections using the password\n",
    "conn = pg.connect(host=\"appserver-01.alunos.di.fc.ul.pt\",database=\"tpd012\", user=\"tpd012\", password=pwd)\n",
    "conn.close()\n",
    "\n",
    "# local test\n",
    "#conn = pg.connect(host=\"localhost\",database=\"teste\", user=\"postgres\", password=hpwd)\n",
    "#conn.close()"
   ]
  },
  {
   "cell_type": "markdown",
   "metadata": {},
   "source": [
    "#### Query 1 -  hottest months/dates and most popular locations "
   ]
  },
  {
   "cell_type": "raw",
   "metadata": {},
   "source": [
    "DROP FUNCTION query_bookings();\n",
    "CREATE OR REPLACE FUNCTION query_bookings()\n",
    "RETURNS TABLE(date_id integer, season varchar(10), count bigint, coastal varchar(20)) AS $$\n",
    "BEGIN\n",
    "\tRETURN QUERY SELECT b.date_id, d.season, count(*), l.coastal_area\n",
    "\tFROM date d, booking b, location l\n",
    "\tWHERE b.date_id = d.date_id\n",
    "\tAND b.location_id = l.location_id\n",
    "\tAND l.coastal_area = 'Not Coastal Area'\n",
    "\tGROUP BY b.date_id, d.season, l.coastal_area\n",
    "\tORDER BY count DESC\n",
    "\tLIMIT 50;\n",
    "END;\n",
    "$$ LANGUAGE plpgsql;\n",
    "\n",
    "SELECT * FROM query_bookings();"
   ]
  },
  {
   "cell_type": "markdown",
   "metadata": {},
   "source": [
    "#### Query 2 - property ownership characteristics"
   ]
  },
  {
   "cell_type": "code",
   "execution_count": null,
   "metadata": {},
   "outputs": [],
   "source": [
    "query2 = \"\"\"\n",
    "DROP VIEW IF EXISTS query2;\n",
    "\n",
    "CREATE VIEW query2 AS\n",
    "SELECT\n",
    "    location.street, location.parish, location.county,\n",
    "    host.host_country, host.host_continent, host.host_country_gdp, host.membership_duration,\n",
    "    count(*)\n",
    "FROM \n",
    "\tlistings,\n",
    "\tlocation,\n",
    "\thost\n",
    "WHERE\n",
    "\tlocation.street LIKE '%' AND\n",
    "\tlistings.location_id = location.location_id AND\n",
    "\tlistings.host_id = host.host_id\n",
    "GROUP BY\n",
    "\tlocation.street, location.parish, location.county,\n",
    "    host.host_country, host.host_continent, host.membership_duration, host.host_country_gdp\n",
    "ORDER BY street ASC, count DESC;\n",
    "\n",
    "SELECT * FROM query2\n",
    "\"\"\""
   ]
  },
  {
   "cell_type": "code",
   "execution_count": null,
   "metadata": {},
   "outputs": [],
   "source": [
    "conn = pg.connect(host=\"appserver-01.alunos.di.fc.ul.pt\",database=\"tpd012\", user=\"tpd012\", password=pwd)\n",
    "q2_df = sqlio.read_sql_query(query2, conn)\n",
    "conn = None"
   ]
  },
  {
   "cell_type": "code",
   "execution_count": null,
   "metadata": {},
   "outputs": [],
   "source": [
    "q2_df.to_csv('q2.csv')\n",
    "display(q2_df)"
   ]
  },
  {
   "cell_type": "code",
   "execution_count": null,
   "metadata": {},
   "outputs": [],
   "source": [
    "idx = input(\"Choose property location attribute to cross:\")\n",
    "col = input(\"Choose host residence attribute to cross:\")\n",
    "\n",
    "q2_pivot = pd.pivot_table(q2_df, values = 'count', index = idx, columns = col, aggfunc = sum, margins = True)\n",
    "display(q2_pivot)"
   ]
  },
  {
   "cell_type": "markdown",
   "metadata": {},
   "source": [
    "The motivation behind this query is the business interest in profiling and targetting. Naturally, for a business to expand and succeed, it must identify its target audience and its goal market, so as to intervene in this space and promote its role there. In the business intelligence side, how is it possible to accurately identify who is using a service? This is achieved by analysing customer/client data.\n",
    "\n",
    "For the Airbnb model, there are two types of targets: customers, a.k.a. tourists, which seek to use Airbnb's platform to book a stay or an experience somewhere, and hosts, which use Airbnb's platform to advertise their properties and services to a broader audience. Both are essential, of course, for this business model to work: they work as demand and supply, respectively, and must coexist in a balanced fashion. Airbnb profits from both: more clients lead to more bookings, which generate direct revenue from the fee Airbnb takes from every listing, and more hosts expands the options Airbnb offers, increasing the likelihood clients will have something to their taste, and increasing the number of revenue sources.\n",
    "\n",
    "This query seeks to profile hosts in a manner that understands their geo-economical context. This is an important insight to obtain. Customer data would be even more precious for this type of analysis, however, such data is not at our disposal, and as such, we opted for this approach to work as a sort of proof-of-concept.\n",
    "\n",
    "For this, we extract information about the host's location of residence and cross it with their owned properties' information, in order to understand if there are interesting patterns in property ownership according to host characteristics. The pivot table format makes the interpretation of this data much clearer by crossing fields of interest.\n",
    "\n",
    "If implemented in a more user-friendly manner, attribute selection for the pivot table would have a more intuitive interface. With the _.csv_ file produced, it's possible to create a data visualisation dashboard that eases interpretation and analysis. For this, we used the software Power BI.\n",
    "\n",
    "Via Wikidata's SPARQL Query Tool, it's possible to obtain many different kinds of data. Geographical coordinates for Portuguese parishes were extracted from the database using an appropriate query and downloaded as a _.csv_ file. Both _.csv_ were uploaded to Power BI, related by their attribute \"Parish\", and, in this way, the number of properties in each geographical location can be associated with their place on a map.\n",
    "\n",
    "Other options, such as importing additional geographical data (for counties, for example, and other countries, if the dataset encompassed more than one country), would also result in interesting visualisations to analyse with distinct levels of granularity.\n",
    "\n",
    "Below, we can see the resulting dashboard. Each circle is proportional to the number of properties in the corresponding location, and it's sliced in a pie chart to denote which countries the hosts are residents of. Other host characteristics could be selected to define the pie chart.\n",
    "\n",
    "<img src=\"DashboardQ2.png\" alt=\"Power BI Query 2 Dashboard\" width=\"1000\"/>"
   ]
  },
  {
   "cell_type": "markdown",
   "metadata": {},
   "source": [
    "# 2. Bottlenecks\n",
    "\n",
    "###  a. Most important bottlenecks and performance analysis\n",
    "Identify the most important bottlenecks and execute performance analysis\n",
    "\n",
    "#### Query 2"
   ]
  },
  {
   "cell_type": "code",
   "execution_count": 2,
   "metadata": {},
   "outputs": [
    {
     "data": {
      "image/svg+xml": [
       "<svg height=\"370.1333333333333\" version=\"1.1\" width=\"1388\" xmlns=\"http://www.w3.org/2000/svg\" xmlns:xlink=\"http://www.w3.org/1999/xlink\"><desc>Created with Snap</desc><defs><marker id=\"markerSkapwy8r038\" markerHeight=\"10\" markerWidth=\"10\" orient=\"auto\" refX=\"0\" refY=\"5\" viewBox=\"0 0 20 20\"><polygon points=\"0,10,5,10,2.5,0,0,10\" transform=\"matrix(0,1,-1,0,7.5,2.5)\"/></marker><marker id=\"markerSkapwy8r03i\" markerHeight=\"10\" markerWidth=\"10\" orient=\"auto\" refX=\"0\" refY=\"5\" viewBox=\"0 0 20 20\"><polygon points=\"0,10,5,10,2.5,0,0,10\" transform=\"matrix(0,1,-1,0,7.5,2.5)\"/></marker><marker id=\"markerSkapwy8r03s\" markerHeight=\"10\" markerWidth=\"10\" orient=\"auto\" refX=\"0\" refY=\"5\" viewBox=\"0 0 20 20\"><polygon points=\"0,10,5,10,2.5,0,0,10\" transform=\"matrix(0,1,-1,0,7.5,2.5)\"/></marker><marker id=\"markerSkapwy8r042\" markerHeight=\"10\" markerWidth=\"10\" orient=\"auto\" refX=\"0\" refY=\"5\" viewBox=\"0 0 20 20\"><polygon points=\"0,10,5,10,2.5,0,0,10\" transform=\"matrix(0,1,-1,0,7.5,2.5)\"/></marker><marker id=\"markerSkapwy8r04c\" markerHeight=\"10\" markerWidth=\"10\" orient=\"auto\" refX=\"0\" refY=\"5\" viewBox=\"0 0 20 20\"><polygon points=\"0,10,5,10,2.5,0,0,10\" transform=\"matrix(0,1,-1,0,7.5,2.5)\"/></marker><marker id=\"markerSkapwy8r04m\" markerHeight=\"10\" markerWidth=\"10\" orient=\"auto\" refX=\"0\" refY=\"5\" viewBox=\"0 0 20 20\"><polygon points=\"0,10,5,10,2.5,0,0,10\" transform=\"matrix(0,1,-1,0,7.5,2.5)\"/></marker><marker id=\"markerSkapwy8r04w\" markerHeight=\"10\" markerWidth=\"10\" orient=\"auto\" refX=\"0\" refY=\"5\" viewBox=\"0 0 20 20\"><polygon points=\"0,10,5,10,2.5,0,0,10\" transform=\"matrix(0,1,-1,0,7.5,2.5)\"/></marker><marker id=\"markerSkapwy8r056\" markerHeight=\"10\" markerWidth=\"10\" orient=\"auto\" refX=\"0\" refY=\"5\" viewBox=\"0 0 20 20\"><polygon points=\"0,10,5,10,2.5,0,0,10\" transform=\"matrix(0,1,-1,0,7.5,2.5)\"/></marker><marker id=\"markerSkapwy8r05g\" markerHeight=\"10\" markerWidth=\"10\" orient=\"auto\" refX=\"0\" refY=\"5\" viewBox=\"0 0 20 20\"><polygon points=\"0,10,5,10,2.5,0,0,10\" transform=\"matrix(0,1,-1,0,7.5,2.5)\"/></marker></defs><g transform=\"matrix(0.7118,0,0,0.7118,0,0)\"><rect fill=\"#ffffff\" height=\"510\" rx=\"5\" ry=\"5\" style=\"\" width=\"1940\" x=\"0\" y=\"0\"/><g><text style=\"font-size: 15px; text-anchor: middle;\" x=\"1880\" y=\"120\"><tspan>Sort</tspan></text><image height=\"50\" preserveAspectRatio=\"none\" width=\"50\" x=\"1850\" xlink:href=\"data:image/svg+xml;base64,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\" y=\"50\"><title>parse: true\n",
       "Node Type: Sort\n",
       "Startup Cost: 4252.5\n",
       "Total Cost: 4282.63\n",
       "Plan Rows: 12053\n",
       "Plan Width: 80\n",
       "Sort Key: location.street,(count(*))\n",
       "_serial: 1\n",
       "</title></image></g><g><text style=\"font-size: 15px; text-anchor: middle;\" x=\"1580\" y=\"120\"><tspan>Aggregate</tspan></text><line stroke=\"#000000\" style=\"stroke-width: 11;\" x1=\"1625\" x2=\"1688.3333333333333\" y1=\"75\" y2=\"75\"/><line stroke=\"#000000\" style=\"stroke-width: 11;\" x1=\"1687.3333333333333\" x2=\"1751.6666666666667\" y1=\"75\" y2=\"75\"/><line stroke=\"#000000\" style=\"stroke-width: 11; marker-end: url(&quot;#markerSkapwy8r038&quot;);\" x1=\"1751.6666666666667\" x2=\"1815\" y1=\"75\" y2=\"75\"/><image height=\"50\" preserveAspectRatio=\"none\" width=\"50\" x=\"1550\" xlink:href=\"data:image/svg+xml;base64,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\" y=\"50\"><title>parse: true\n",
       "Node Type: Aggregate\n",
       "Strategy: Sorted\n",
       "Parent Relationship: Outer\n",
       "Startup Cost: 2534.89\n",
       "Total Cost: 2896.48\n",
       "Plan Rows: 12053\n",
       "Plan Width: 80\n",
       "total_time: undefined\n",
       "parent_node: 1\n",
       "_serial: 2\n",
       "</title></image></g><g><text style=\"font-size: 15px; text-anchor: middle;\" x=\"1280\" y=\"120\"><tspan>Sort</tspan></text><line stroke=\"#000000\" style=\"stroke-width: 11;\" x1=\"1325\" x2=\"1388.3333333333333\" y1=\"75\" y2=\"75\"/><line stroke=\"#000000\" style=\"stroke-width: 11;\" x1=\"1387.3333333333333\" x2=\"1451.6666666666667\" y1=\"75\" y2=\"75\"/><line stroke=\"#000000\" style=\"stroke-width: 11; marker-end: url(&quot;#markerSkapwy8r03i&quot;);\" x1=\"1451.6666666666667\" x2=\"1515\" y1=\"75\" y2=\"75\"/><image height=\"50\" preserveAspectRatio=\"none\" width=\"50\" x=\"1250\" xlink:href=\"data:image/svg+xml;base64,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\" y=\"50\"><title>parse: true\n",
       "Node Type: Sort\n",
       "Parent Relationship: Outer\n",
       "Startup Cost: 2534.89\n",
       "Total Cost: 2565.02\n",
       "Plan Rows: 12053\n",
       "Plan Width: 80\n",
       "Sort Key: location.street,location.parish,location.county,host.host_country,host.host_continent,host.membership_duration\n",
       "total_time: undefined\n",
       "parent_node: 1_1\n",
       "_serial: 3\n",
       "</title></image></g><g><text style=\"font-size: 15px; text-anchor: middle;\" x=\"980\" y=\"120\"><tspan>Hash Inner Join</tspan></text><line stroke=\"#000000\" style=\"stroke-width: 9;\" x1=\"1025\" x2=\"1088.3333333333333\" y1=\"75\" y2=\"75\"/><line stroke=\"#000000\" style=\"stroke-width: 9;\" x1=\"1087.3333333333333\" x2=\"1151.6666666666667\" y1=\"75\" y2=\"75\"/><line stroke=\"#000000\" style=\"stroke-width: 9; marker-end: url(&quot;#markerSkapwy8r03s&quot;);\" x1=\"1151.6666666666667\" x2=\"1215\" y1=\"75\" y2=\"75\"/><image height=\"50\" preserveAspectRatio=\"none\" width=\"50\" x=\"950\" xlink:href=\"data:image/svg+xml;base64,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\" y=\"50\"><title>parse: true\n",
       "Node Type: Hash Join\n",
       "Parent Relationship: Outer\n",
       "Join Type: Inner\n",
       "Startup Cost: 502.29\n",
       "Total Cost: 1178.87\n",
       "Plan Rows: 12053\n",
       "Plan Width: 80\n",
       "Hash Cond: (listings.host_id = host.host_id)\n",
       "total_time: undefined\n",
       "parent_node: 1_1_1\n",
       "_serial: 4\n",
       "</title></image></g><g><text style=\"font-size: 15px; text-anchor: middle;\" x=\"680\" y=\"120\"><tspan>Hash Inner Join</tspan></text><line stroke=\"#000000\" style=\"stroke-width: 8;\" x1=\"725\" x2=\"788.3333333333334\" y1=\"75\" y2=\"75\"/><line stroke=\"#000000\" style=\"stroke-width: 8;\" x1=\"787.3333333333334\" x2=\"851.6666666666666\" y1=\"75\" y2=\"75\"/><line stroke=\"#000000\" style=\"stroke-width: 8; marker-end: url(&quot;#markerSkapwy8r042&quot;);\" x1=\"851.6666666666666\" x2=\"915\" y1=\"75\" y2=\"75\"/><image height=\"50\" preserveAspectRatio=\"none\" width=\"50\" x=\"650\" xlink:href=\"data:image/svg+xml;base64,PHN2ZyBoZWlnaHQ9IjEwMCUiIHZlcnNpb249IjEuMSIgd2lkdGg9IjEwMCUiIHhtbG5zPSJodHRwOi8vd3d3LnczLm9yZy8yMDAwL3N2ZyI+PGRlc2M+Q3JlYXRlZCB3aXRoIFNuYXA8L2Rlc2M+PGRlZnM+PC9kZWZzPjxzdmcgaWQ9Il8xIiBkYXRhLW5hbWU9IjEiIHhtbG5zPSJodHRwOi8vd3d3LnczLm9yZy8yMDAwL3N2ZyIgdmlld0JveD0iMCAwIDY0IDY0Ij48ZGVmcz48c3R5bGU+LmNscy0xLC5jbHMtMTAsLmNscy0xMXtmaWxsOiNkM2Q0ZjM7fS5jbHMtMntmaWxsOiM2NjZiZDE7fS5jbHMtM3tmaWxsOiNhZGRmZjM7fS5jbHMtNHtmaWxsOiMyOTgwYjk7fS5jbHMtNXtvcGFjaXR5OjAuNzt9LmNscy0xMiwuY2xzLTZ7ZmlsbDpub25lO30uY2xzLTEwLC5jbHMtMTEsLmNscy02e3N0cm9rZTojNjY2YmQxO30uY2xzLTEyLC5jbHMtMTQsLmNscy0xNSwuY2xzLTZ7c3Ryb2tlLWxpbmVqb2luOnJvdW5kO30uY2xzLTd7ZmlsbDojZjBlY2I2O30uY2xzLTh7ZmlsbDojYzE4ZjM1O30uY2xzLTl7ZmlsbDojNzJjZWVlO3N0cm9rZTojMjk4MGI5O30uY2xzLTE1LC5jbHMtOXtzdHJva2UtbGluZWNhcDpyb3VuZDt9LmNscy0xMCwuY2xzLTExLC5jbHMtOXtzdHJva2UtbWl0ZXJsaW1pdDoxMDt9LmNscy0xMSwuY2xzLTEye29wYWNpdHk6MC44O30uY2xzLTEye3N0cm9rZTojYzE4ZjM1O30uY2xzLTEze2ZpbGw6I2MwMDt9LmNscy0xNCwuY2xzLTE1e2ZpbGw6IzUyOGQxOTtzdHJva2U6IzUyOGQxOTt9LmNscy0xNXtzdHJva2Utd2lkdGg6MnB4O308L3N0eWxlPjwvZGVmcz48dGl0bGU+ZXhfaGFzaDwvdGl0bGU+PHBhdGggY2xhc3M9ImNscy0xIiBkPSJNMTAuMzgsNTYuNWMtMS4zNywwLTEuNS0uMTMtMS41LTEuNVYxNS41aDlWNTVjMCwxLjM3LS4xMywxLjUtMS41LDEuNVoiPjwvcGF0aD48cGF0aCBjbGFzcz0iY2xzLTIiIGQ9Ik0xNy4zNiwxNlY1NWEzLjI4LDMuMjgsMCwwLDEtLjA4LjksMi4xOCwyLjE4LDAsMCwxLS45Mi4xaC02YTMuMjUsMy4yNSwwLDAsMS0uOS0uMDhoMGEyLjE3LDIuMTcsMCwwLDEtLjEtLjkyVjE2aDhtMS0xaC0xMFY1NWMwLDEuNjUuMzUsMiwyLDJoNmMxLjY1LDAsMi0uMzUsMi0yVjE1WiI+PC9wYXRoPjxwYXRoIGNsYXNzPSJjbHMtMyIgZD0iTTguODgsMTUuNVY5YzAtMS4zNy4xMy0xLjUsMS41LTEuNWg2YzEuMzcsMCwxLjUuMTMsMS41LDEuNXY2LjVaIj48L3BhdGg+PHBhdGggY2xhc3M9ImNscy00IiBkPSJNMTYuMzYsOGEzLjI1LDMuMjUsMCwwLDEsLjkuMDhoMGEyLjE3LDIuMTcsMCwwLDEsLjEuOTJ2NmgtOFY5YTMuMjgsMy4yOCwwLDAsMSwuMDgtLjksMi4xOCwyLjE4LDAsMCwxLC45Mi0uMWg2bTAtMWgtNmMtMS42NSwwLTIsLjM1LTIsMnY3aDEwVjljMC0xLjY1LS4zNS0yLTItMloiPjwvcGF0aD48ZyBjbGFzcz0iY2xzLTUiPjxsaW5lIGNsYXNzPSJjbHMtNiIgeDE9IjkuMzkiIHkxPSIyMy43NCIgeDI9IjE3LjM1IiB5Mj0iMjMuNzQiPjwvbGluZT48bGluZSBjbGFzcz0iY2xzLTYiIHgxPSI5LjM5IiB5MT0iMzEuNDkiIHgyPSIxNy4zNSIgeTI9IjMxLjQ5Ij48L2xpbmU+PGxpbmUgY2xhc3M9ImNscy02IiB4MT0iOS4zOSIgeTE9IjM5LjIzIiB4Mj0iMTcuMzUiIHkyPSIzOS4yMyI+PC9saW5lPjxsaW5lIGNsYXNzPSJjbHMtNiIgeDE9IjkuMzkiIHkxPSI0Ni45NyIgeDI9IjE3LjM1IiB5Mj0iNDYuOTciPjwvbGluZT48L2c+PHBhdGggY2xhc3M9ImNscy0xIiBkPSJNNDcuNCw0Ni4yMnYtMjhoNi4yMmMxLjM3LDAsMS41LjEzLDEuNSwxLjV2MjVjMCwxLjM3LS4xMywxLjUtMS41LDEuNVoiPjwvcGF0aD48cGF0aCBjbGFzcz0iY2xzLTIiIGQ9Ik01My42MiwxOC43MmEzLjI1LDMuMjUsMCwwLDEsLjkuMDhoMGEyLjE4LDIuMTgsMCwwLDEsLjEuOTJ2MjVhMy4yOCwzLjI4LDAsMCwxLS4wOC45LDIuMTgsMi4xOCwwLDAsMS0uOTIuMUg0Ny45di0yN2g1LjcybTAtMUg0Ni45djI5aDYuNzJjMS42NSwwLDItLjM1LDItMnYtMjVjMC0xLjY1LS4zNS0yLTItMloiPjwvcGF0aD48cGF0aCBjbGFzcz0iY2xzLTciIGQ9Ik0yNi42NCw0Ni4yMmMtMS4zNywwLTEuNS0uMTMtMS41LTEuNVYyNC4yMkg0Ny40MnYyMloiPjwvcGF0aD48cGF0aCBjbGFzcz0iY2xzLTgiIGQ9Ik00Ni45MiwyNC43MnYyMUgyNi42NGEzLjI1LDMuMjUsMCwwLDEtLjktLjA4aDBhMi4xOCwyLjE4LDAsMCwxLS4xLS45MnYtMjBINDYuOTJtMS0xSDI0LjY0djIxYzAsMS42NS4zNSwyLDIsMkg0Ny45MnYtMjNaIj48L3BhdGg+PHBhdGggY2xhc3M9ImNscy0zIiBkPSJNMjUuMTQsMjQuMjJ2LTQuNWMwLTEuMzcuMTMtMS41LDEuNS0xLjVINDcuNDJ2NloiPjwvcGF0aD48cGF0aCBjbGFzcz0iY2xzLTQiIGQ9Ik00Ni45MiwxOC43MnY1SDI1LjY0di00YTMuMjgsMy4yOCwwLDAsMSwuMDgtLjksMi4xOCwyLjE4LDAsMCwxLC45Mi0uMUg0Ni45Mm0xLTFIMjYuNjRjLTEuNjUsMC0yLC4zNS0yLDJ2NUg0Ny45MnYtN1oiPjwvcGF0aD48bGluZSBjbGFzcz0iY2xzLTkiIHgxPSIzMi42IiB5MT0iMjQuMDUiIHgyPSIzMi42IiB5Mj0iMTguMjQiPjwvbGluZT48bGluZSBjbGFzcz0iY2xzLTEwIiB4MT0iNTUiIHkxPSIyNC4yMiIgeDI9IjQ3LjkyIiB5Mj0iMjQuMjIiPjwvbGluZT48bGluZSBjbGFzcz0iY2xzLTExIiB4MT0iNTUiIHkxPSIzMS40OSIgeDI9IjQ3LjkyIiB5Mj0iMzEuNDkiPjwvbGluZT48bGluZSBjbGFzcz0iY2xzLTExIiB4MT0iNTUiIHkxPSIzOC45NiIgeDI9IjQ3LjkyIiB5Mj0iMzguOTYiPjwvbGluZT48bGluZSBjbGFzcz0iY2xzLTkiIHgxPSI0MC4zNSIgeTE9IjI0LjA1IiB4Mj0iNDAuMzUiIHkyPSIxOC4yNCI+PC9saW5lPjxsaW5lIGNsYXNzPSJjbHMtMTIiIHgxPSIzMi42IiB5MT0iNDYuMDUiIHgyPSIzMi42IiB5Mj0iMjQuNzIiPjwvbGluZT48bGluZSBjbGFzcz0iY2xzLTEyIiB4MT0iNDAuMzUiIHkxPSI0Ni4wNSIgeDI9IjQwLjM1IiB5Mj0iMjQuNzIiPjwvbGluZT48bGluZSBjbGFzcz0iY2xzLTEyIiB4MT0iMjUuMTciIHkxPSIzMS41NyIgeDI9IjQ3LjQyIiB5Mj0iMzEuNTciPjwvbGluZT48bGluZSBjbGFzcz0iY2xzLTEyIiB4MT0iMjUuMTciIHkxPSIzOC45NiIgeDI9IjQ3LjQyIiB5Mj0iMzguOTYiPjwvbGluZT48cGF0aCBjbGFzcz0iY2xzLTEzIiBkPSJNMTAuMjcsMzIuODZoNi4zOFYzOEgxMC4yN1oiPjwvcGF0aD48cGF0aCBjbGFzcz0iY2xzLTEzIiBkPSJNMzMuODEsMzIuNzFoNS40djUuMjNoLTUuNFoiPjwvcGF0aD48cG9seWdvbiBjbGFzcz0iY2xzLTE0IiBwb2ludHM9IjMzLjQzIDM1LjUzIDMwLjA1IDMzIDMwLjA1IDM4LjA2IDMzLjQzIDM1LjUzIj48L3BvbHlnb24+PGxpbmUgY2xhc3M9ImNscy0xNSIgeDE9IjI5Ljc3IiB5MT0iMzUuNTMiIHgyPSIxOS4zMyIgeTI9IjM1LjUzIj48L2xpbmU+PHBvbHlnb24gY2xhc3M9ImNscy0xNCIgcG9pbnRzPSIzNi44NCA3LjY3IDM0LjMxIDExLjA1IDM5LjM3IDExLjA1IDM2Ljg0IDcuNjciPjwvcG9seWdvbj48bGluZSBjbGFzcz0iY2xzLTE1IiB4MT0iMzYuODQiIHkxPSIxMS4zMyIgeDI9IjM2Ljg0IiB5Mj0iMzAuNzciPjwvbGluZT48L3N2Zz48L3N2Zz4=\" y=\"50\"><title>parse: true\n",
       "Node Type: Hash Join\n",
       "Parent Relationship: Outer\n",
       "Join Type: Inner\n",
       "Startup Cost: 135.82\n",
       "Total Cost: 556.28\n",
       "Plan Rows: 12053\n",
       "Plan Width: 40\n",
       "Hash Cond: (listings.location_id = location.location_id)\n",
       "total_time: undefined\n",
       "parent_node: 1_1_1_1\n",
       "_serial: 5\n",
       "</title></image></g><g><text style=\"font-size: 15px; text-anchor: middle;\" x=\"380\" y=\"120\"><tspan>listings</tspan></text><line stroke=\"#000000\" style=\"stroke-width: 7;\" x1=\"425\" x2=\"488.3333333333333\" y1=\"75\" y2=\"75\"/><line stroke=\"#000000\" style=\"stroke-width: 7;\" x1=\"487.3333333333333\" x2=\"551.6666666666666\" y1=\"75\" y2=\"75\"/><line stroke=\"#000000\" style=\"stroke-width: 7; marker-end: url(&quot;#markerSkapwy8r04c&quot;);\" x1=\"551.6666666666666\" x2=\"615\" y1=\"75\" y2=\"75\"/><image height=\"50\" preserveAspectRatio=\"none\" width=\"50\" x=\"350\" xlink:href=\"data:image/svg+xml;base64,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\" y=\"50\"><title>parse: true\n",
       "Node Type: Seq Scan\n",
       "Parent Relationship: Outer\n",
       "Relation Name: listings\n",
       "Alias: listings\n",
       "Startup Cost: 0\n",
       "Total Cost: 209.53\n",
       "Plan Rows: 12053\n",
       "Plan Width: 8\n",
       "total_time: undefined\n",
       "parent_node: 1_1_1_1_1\n",
       "_serial: 6\n",
       "</title></image></g><g><text style=\"font-size: 15px; text-anchor: middle;\" x=\"380\" y=\"280\"><tspan>Hash</tspan></text><line stroke=\"#000000\" style=\"stroke-width: 7;\" x1=\"425\" x2=\"488.3333333333333\" y1=\"235\" y2=\"235\"/><line stroke=\"#000000\" style=\"stroke-width: 7;\" x1=\"487.3333333333333\" x2=\"551.6666666666666\" y1=\"235\" y2=\"75\"/><line stroke=\"#000000\" style=\"stroke-width: 7; marker-end: url(&quot;#markerSkapwy8r04m&quot;);\" x1=\"551.6666666666666\" x2=\"615\" y1=\"75\" y2=\"75\"/><image height=\"50\" preserveAspectRatio=\"none\" width=\"50\" x=\"350\" xlink:href=\"data:image/svg+xml;base64,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\" y=\"210\"><title>parse: true\n",
       "Node Type: Hash\n",
       "Parent Relationship: Inner\n",
       "Startup Cost: 90.41\n",
       "Total Cost: 90.41\n",
       "Plan Rows: 3633\n",
       "Plan Width: 40\n",
       "total_time: undefined\n",
       "parent_node: 1_1_1_1_1\n",
       "_serial: 7\n",
       "</title></image></g><g><text style=\"font-size: 15px; text-anchor: middle;\" x=\"80\" y=\"280\"><tspan>location</tspan></text><line stroke=\"#000000\" style=\"stroke-width: 6;\" x1=\"125\" x2=\"188.33333333333334\" y1=\"235\" y2=\"235\"/><line stroke=\"#000000\" style=\"stroke-width: 6;\" x1=\"187.33333333333334\" x2=\"251.66666666666669\" y1=\"235\" y2=\"235\"/><line stroke=\"#000000\" style=\"stroke-width: 6; marker-end: url(&quot;#markerSkapwy8r04w&quot;);\" x1=\"251.66666666666669\" x2=\"315\" y1=\"235\" y2=\"235\"/><image height=\"50\" preserveAspectRatio=\"none\" width=\"50\" x=\"50\" xlink:href=\"data:image/svg+xml;base64,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\" y=\"210\"><title>parse: true\n",
       "Node Type: Seq Scan\n",
       "Parent Relationship: Outer\n",
       "Relation Name: location\n",
       "Alias: location\n",
       "Startup Cost: 0\n",
       "Total Cost: 90.41\n",
       "Plan Rows: 3633\n",
       "Plan Width: 40\n",
       "Filter: ((street)::text ~~ '%'::text)\n",
       "total_time: undefined\n",
       "parent_node: 1_1_1_1_1_2\n",
       "_serial: 8\n",
       "</title></image></g><g><text style=\"font-size: 15px; text-anchor: middle;\" x=\"680\" y=\"440\"><tspan>Hash</tspan></text><line stroke=\"#000000\" style=\"stroke-width: 8;\" x1=\"725\" x2=\"788.3333333333334\" y1=\"395\" y2=\"395\"/><line stroke=\"#000000\" style=\"stroke-width: 8;\" x1=\"787.3333333333334\" x2=\"851.6666666666666\" y1=\"395\" y2=\"75\"/><line stroke=\"#000000\" style=\"stroke-width: 8; marker-end: url(&quot;#markerSkapwy8r056&quot;);\" x1=\"851.6666666666666\" x2=\"915\" y1=\"75\" y2=\"75\"/><image height=\"50\" preserveAspectRatio=\"none\" width=\"50\" x=\"650\" xlink:href=\"data:image/svg+xml;base64,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\" y=\"370\"><title>parse: true\n",
       "Node Type: Hash\n",
       "Parent Relationship: Inner\n",
       "Startup Cost: 280.65\n",
       "Total Cost: 280.65\n",
       "Plan Rows: 6865\n",
       "Plan Width: 48\n",
       "total_time: undefined\n",
       "parent_node: 1_1_1_1\n",
       "_serial: 9\n",
       "</title></image></g><g><text style=\"font-size: 15px; text-anchor: middle;\" x=\"380\" y=\"440\"><tspan>host</tspan></text><line stroke=\"#000000\" style=\"stroke-width: 7;\" x1=\"425\" x2=\"488.3333333333333\" y1=\"395\" y2=\"395\"/><line stroke=\"#000000\" style=\"stroke-width: 7;\" x1=\"487.3333333333333\" x2=\"551.6666666666666\" y1=\"395\" y2=\"395\"/><line stroke=\"#000000\" style=\"stroke-width: 7; marker-end: url(&quot;#markerSkapwy8r05g&quot;);\" x1=\"551.6666666666666\" x2=\"615\" y1=\"395\" y2=\"395\"/><image height=\"50\" preserveAspectRatio=\"none\" width=\"50\" x=\"350\" xlink:href=\"data:image/svg+xml;base64,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\" y=\"370\"><title>parse: true\n",
       "Node Type: Seq Scan\n",
       "Parent Relationship: Outer\n",
       "Relation Name: host\n",
       "Alias: host\n",
       "Startup Cost: 0\n",
       "Total Cost: 280.65\n",
       "Plan Rows: 6865\n",
       "Plan Width: 48\n",
       "total_time: undefined\n",
       "parent_node: 1_1_1_1_2\n",
       "_serial: 10\n",
       "</title></image></g></g></svg>"
      ],
      "text/plain": [
       "<IPython.core.display.SVG object>"
      ]
     },
     "execution_count": 2,
     "metadata": {},
     "output_type": "execute_result"
    }
   ],
   "source": [
    "from IPython.display import SVG\n",
    "SVG(filename='q2_plan1.svg')"
   ]
  },
  {
   "cell_type": "markdown",
   "metadata": {},
   "source": [
    "### b. Plan for improving performance\n",
    "\n",
    "#### Query 2\n",
    "This query already works with significant speed. However, a materialized view is a candidate to reduce computation time for this query. In this way, every time the query was run, only the view table would need to be consulted, and all aggregations and sortings would have been done already. But a materialized view benefits most the cases where queries are run often and updates aren't constant, because in this way, the view table available is already pre-computed with all the necessary data.\n",
    "\n",
    "Overall, this query wouldn't be one to run very frequently. After all, property ownership trends and patterns are expected to change over many years, and any effort by Airbnb to influence this would only be possible to analyse after a significant amount of time. As such, its computational efficiency isn't an urgent necessity for the business process.\n",
    "\n",
    "Implementing a materialized view (given that the appserver's PostgreSQL version does not support this, a new equivalent data table was created), the querying of data becomes a simple subsetting of the table columns and the query is reduced to a quick sequential scan."
   ]
  },
  {
   "cell_type": "markdown",
   "metadata": {},
   "source": [
    "### c. Verify that the proposed modifications have better performance"
   ]
  },
  {
   "cell_type": "markdown",
   "metadata": {},
   "source": [
    "#### Query 2"
   ]
  },
  {
   "cell_type": "code",
   "execution_count": 3,
   "metadata": {},
   "outputs": [
    {
     "data": {
      "image/svg+xml": [
       "<svg height=\"200\" version=\"1.1\" width=\"150\" xmlns=\"http://www.w3.org/2000/svg\" xmlns:xlink=\"http://www.w3.org/1999/xlink\"><desc>Created with Snap</desc><defs/><g><rect fill=\"#ffffff\" height=\"190\" rx=\"5\" ry=\"5\" style=\"\" width=\"140\" x=\"0\" y=\"0\"/><g><text style=\"font-size: 15px; text-anchor: middle;\" x=\"80\" y=\"120\"><tspan>query2m</tspan></text><image height=\"50\" preserveAspectRatio=\"none\" width=\"50\" x=\"50\" xlink:href=\"data:image/svg+xml;base64,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\" y=\"50\"><title>parse: true\n",
       "Node Type: Seq Scan\n",
       "Relation Name: query2m\n",
       "Alias: query2m\n",
       "Startup Cost: 0\n",
       "Total Cost: 122.53\n",
       "Plan Rows: 4653\n",
       "Plan Width: 99\n",
       "_serial: 1\n",
       "</title></image></g></g></svg>"
      ],
      "text/plain": [
       "<IPython.core.display.SVG object>"
      ]
     },
     "execution_count": 3,
     "metadata": {},
     "output_type": "execute_result"
    }
   ],
   "source": [
    "SVG(filename='q2_plan2.svg')"
   ]
  },
  {
   "cell_type": "markdown",
   "metadata": {},
   "source": [
    "### d. Discussion\n",
    "\n",
    "With the full use of the data warehouse what are the expectation for its growth in 1, 5 and 10 years. Identify what approaches would be used to address such an increase in data"
   ]
  },
  {
   "cell_type": "markdown",
   "metadata": {},
   "source": [
    "# 3. Critical assessment\n",
    "\n",
    "###  a. Phases comparison\n",
    "For each of the 3 phases of the project discuss what went right, wrong and what would you do to make it better?\n",
    "\n",
    "In Phase II, each ETL process could have been optimised to perform better, as well as have cleaner code. For example, some ETL pipelines for certain dimensions were designed in such a way as to allow for constant reuse of the code without redundant calculations (it works for either first insert of the data/dimension construction, or for any subsequent data insertions), whereas other pipelines were divided into dimension construction/first data insertion + subsequent data insertions.\n",
    "\n",
    "Overall, the chosen dataset has its limitations in the ways we can model the data. This is mainly due to the fact that it is a product of web scraping and, as such, important information for business intelligence is unattainable. Certain initial plans had to be changed. However, it also allowed us to explore particular cases of data warehouse design and dimension modelling, such as the factless fact table Bookings."
   ]
  },
  {
   "cell_type": "markdown",
   "metadata": {},
   "source": [
    "### b. Grade proposal\n",
    "For each phase propose a grade (1-20). Justify your grade.\n",
    "\n"
   ]
  }
 ],
 "metadata": {
  "kernelspec": {
   "display_name": "Python 3",
   "language": "python",
   "name": "python3"
  },
  "language_info": {
   "codemirror_mode": {
    "name": "ipython",
    "version": 3
   },
   "file_extension": ".py",
   "mimetype": "text/x-python",
   "name": "python",
   "nbconvert_exporter": "python",
   "pygments_lexer": "ipython3",
   "version": "3.7.7"
  },
  "varInspector": {
   "cols": {
    "lenName": 16,
    "lenType": 16,
    "lenVar": 40
   },
   "kernels_config": {
    "python": {
     "delete_cmd_postfix": "",
     "delete_cmd_prefix": "del ",
     "library": "var_list.py",
     "varRefreshCmd": "print(var_dic_list())"
    },
    "r": {
     "delete_cmd_postfix": ") ",
     "delete_cmd_prefix": "rm(",
     "library": "var_list.r",
     "varRefreshCmd": "cat(var_dic_list()) "
    }
   },
   "types_to_exclude": [
    "module",
    "function",
    "builtin_function_or_method",
    "instance",
    "_Feature"
   ],
   "window_display": false
  }
 },
 "nbformat": 4,
 "nbformat_minor": 4
}
