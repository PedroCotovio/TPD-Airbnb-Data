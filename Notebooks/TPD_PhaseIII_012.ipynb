{
 "cells": [
  {
   "cell_type": "markdown",
   "metadata": {},
   "source": [
    "# Tecnologias de Processamento de dados - 2019/2020\n",
    "\n",
    "## Phase III - Group 12\n",
    "\n",
    "\n",
    "|   Student      | Student ID |  Contribution in hours |\n",
    "|----------------|------------|------------------------|\n",
    "| Beatriz Lima   |    49377   |                      |\n",
    "| David Almeida  |    54120   |                      |\n",
    "|João Castanheira|    55052   |                      |\n",
    "| Pedro Cotovio  |    55053   |                      |\n"
   ]
  },
  {
   "cell_type": "markdown",
   "metadata": {},
   "source": [
    "# 1. OLAP Queries\n",
    "\n",
    "###  a. Previously defined queries\n",
    "\n",
    "Check and revise the queries defined in Phase I. Ensure that the queries are meaningful for the processes at hand."
   ]
  },
  {
   "cell_type": "markdown",
   "metadata": {},
   "source": [
    "![Bus matrix](images/bus_matrix.png)"
   ]
  },
  {
   "cell_type": "markdown",
   "metadata": {},
   "source": [
    "Demand queries (relative to the Bookings fact table):\n",
    " - The calendar period in which properties are available or not;\n",
    " - Locations where the properties are most available;\n",
    " - Correlation between host profile and demand for their listings;\n",
    " - The types of properties that are most sought after.\n",
    " \n",
    "These queries were defined in Phase I and are still relevant for understanding the demand and the clients behaviour or preferences. We think that it might be interesting to pursue the analysis of the most popular locations in each time of the year."
   ]
  },
  {
   "cell_type": "markdown",
   "metadata": {},
   "source": [
    "Supply queries (relative to the Listings fact table):\n",
    " - Number of listings by parish or county, and their evolution over time;\n",
    " - Use the Review dimension to check in which parishes the listings with high review scores are located;\n",
    " - Check price evolution across differents locations;\n",
    " - Locations where hosts have listings in comparison to their listed residence (“Are hosts residents in foreign countries?”, “Are they investors from richer countries?”);\n",
    " - Analyse the evolution over time and across locations, of types of properties using the Property dimension, providing an overview on what the platform can supply."
   ]
  },
  {
   "cell_type": "markdown",
   "metadata": {},
   "source": [
    "### b. For each query type identify dimensions, attributes and measures for each one"
   ]
  },
  {
   "cell_type": "markdown",
   "metadata": {},
   "source": [
    "- **Query 1**) hottest months/dates and most popular locations.\n",
    "This analysis involves the date and location dimensions, and the bookings fact table. We will try different grains of detail, going from weeks to months and seasons, etc. The same goes for the location, where the hierarchy of parish and county will be explored through roll up or down operations. We will also try to establish an association with the price per night (bookings fact table measure).\n",
    "\n",
    "\n",
    "- **Query 2**) locations where hosts have listings in comparison to their listed residence.\n",
    "This query looks at the ownership of Airbnb-listed properties by extracting information about listings' locations and their respective hosts' locations. It will make use of two dimensions, Location and Host, associated with the Listings fact table. In this way, we can understand how ownership is distributed, that is, if listings are hosted by locals, or by foreigners that have invested in properties abroad.\n",
    "\n",
    "- **Query 3**)\n",
    "- **Query 4**)"
   ]
  },
  {
   "cell_type": "markdown",
   "metadata": {},
   "source": [
    "### c. SQL queries \n",
    "Write the SQL queries and execute them. Make sure the results are understandable"
   ]
  },
  {
   "cell_type": "markdown",
   "metadata": {},
   "source": [
    "#### Query 1 -  hottest months/dates and most popular locations "
   ]
  },
  {
   "cell_type": "raw",
   "metadata": {},
   "source": [
    "DROP FUNCTION query_bookings();\n",
    "CREATE OR REPLACE FUNCTION query_bookings()\n",
    "RETURNS TABLE(date_id integer, season varchar(10), count bigint, coastal varchar(20)) AS $$\n",
    "BEGIN\n",
    "\tRETURN QUERY SELECT b.date_id, d.season, count(*), l.coastal_area\n",
    "\tFROM date d, booking b, location l\n",
    "\tWHERE b.date_id = d.date_id\n",
    "\tAND b.location_id = l.location_id\n",
    "\tAND l.coastal_area = 'Not Coastal Area'\n",
    "\tGROUP BY b.date_id, d.season, l.coastal_area\n",
    "\tORDER BY count DESC\n",
    "\tLIMIT 50;\n",
    "END;\n",
    "$$ LANGUAGE plpgsql;\n",
    "\n",
    "SELECT * FROM query_bookings();"
   ]
  },
  {
   "cell_type": "markdown",
   "metadata": {},
   "source": [
    "# 2. Bottlenecks\n",
    "\n",
    "###  a. Most important bottlenecks and performance analysis\n",
    "Identify the most important bottlenecks and execute performance analysis"
   ]
  },
  {
   "cell_type": "markdown",
   "metadata": {},
   "source": [
    "### b. Plan for improving performance\n",
    "\n",
    "Propose a plan for improving performance and implement it"
   ]
  },
  {
   "cell_type": "markdown",
   "metadata": {},
   "source": [
    "### c. Verify that the proposed modifications have better performance"
   ]
  },
  {
   "cell_type": "markdown",
   "metadata": {},
   "source": [
    "### d. Discussion\n",
    "\n",
    "With the full use of the data warehouse what are the expectation for its growth in 1, 5 and 10 years. Identify what approaches would be used to address such an increase in data"
   ]
  },
  {
   "cell_type": "markdown",
   "metadata": {},
   "source": [
    "# 3. Critical assessment\n",
    "\n",
    "###  a. Phases comparison\n",
    "For each of the 3 phases of the project discuss what went right, wrong and what would you do to make it better?\n",
    "\n",
    "In Phase II, each ETL process could have been optimised to perform better, as well as have cleaner code. For example, some ETL pipelines for certain dimensions were designed in such a way as to allow for constant reuse of the code without redundant calculations (it works for either first insert of the data/dimension construction, or for any subsequent data insertions), whereas other pipelines were divided into dimension construction/first data insertion + subsequent data insertions.\n",
    "\n",
    "Overall, the chosen dataset has its limitations in the ways we can model the data. This is mainly due to the fact that it is a product of web scraping and, as such, important information for business intelligence is unattainable. Certain initial plans had to be changed. However, it also allowed us to explore particular cases of data warehouse design and dimension modelling, such as the factless fact table Bookings."
   ]
  },
  {
   "cell_type": "markdown",
   "metadata": {},
   "source": [
    "### b. Grade proposal\n",
    "For each phase propose a grade (1-20). Justify your grade.\n",
    "\n"
   ]
  }
 ],
 "metadata": {
  "kernelspec": {
   "display_name": "Python 3",
   "language": "python",
   "name": "python3"
  },
  "language_info": {
   "codemirror_mode": {
    "name": "ipython",
    "version": 3
   },
   "file_extension": ".py",
   "mimetype": "text/x-python",
   "name": "python",
   "nbconvert_exporter": "python",
   "pygments_lexer": "ipython3",
   "version": "3.7.7"
  },
  "varInspector": {
   "cols": {
    "lenName": 16,
    "lenType": 16,
    "lenVar": 40
   },
   "kernels_config": {
    "python": {
     "delete_cmd_postfix": "",
     "delete_cmd_prefix": "del ",
     "library": "var_list.py",
     "varRefreshCmd": "print(var_dic_list())"
    },
    "r": {
     "delete_cmd_postfix": ") ",
     "delete_cmd_prefix": "rm(",
     "library": "var_list.r",
     "varRefreshCmd": "cat(var_dic_list()) "
    }
   },
   "types_to_exclude": [
    "module",
    "function",
    "builtin_function_or_method",
    "instance",
    "_Feature"
   ],
   "window_display": false
  }
 },
 "nbformat": 4,
 "nbformat_minor": 4
}
