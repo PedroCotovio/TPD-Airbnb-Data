{
 "cells": [
  {
   "cell_type": "code",
   "execution_count": 1,
   "metadata": {},
   "outputs": [],
   "source": [
    "# import libraries\n",
    "import numpy as np\n",
    "import matplotlib.pyplot as plt\n",
    "import pandas as pd\n",
    "from datetime import datetime\n",
    "from math import ceil"
   ]
  },
  {
   "cell_type": "markdown",
   "metadata": {},
   "source": [
    "# 1. Dimension _'Date'_\n",
    "## 1.1. Reading data into Python"
   ]
  },
  {
   "cell_type": "markdown",
   "metadata": {},
   "source": [
    "**Read listings_al.csv**, which has the dates needed for the listings fact table."
   ]
  },
  {
   "cell_type": "code",
   "execution_count": 2,
   "metadata": {},
   "outputs": [
    {
     "name": "stderr",
     "output_type": "stream",
     "text": [
      "C:\\Users\\david\\Anaconda3\\lib\\site-packages\\IPython\\core\\interactiveshell.py:3063: DtypeWarning: Columns (61,62) have mixed types.Specify dtype option on import or set low_memory=False.\n",
      "  interactivity=interactivity, compiler=compiler, result=result)\n"
     ]
    }
   ],
   "source": [
    "# read listings_al.csv data file\n",
    "listings_al_file_path = '../data/listings_al.csv'\n",
    "df_listings = pd.read_csv(listings_al_file_path,sep=',')"
   ]
  },
  {
   "cell_type": "markdown",
   "metadata": {},
   "source": [
    "**Read calendar.csv file**, which has the dates needed for the availability fact table."
   ]
  },
  {
   "cell_type": "code",
   "execution_count": 4,
   "metadata": {},
   "outputs": [],
   "source": [
    "# read calendar.csv data file\n",
    "calendar_file_path = '../data/airbnb/calendar.csv'\n",
    "df_calendar = pd.read_csv(calendar_file_path,sep=',')"
   ]
  },
  {
   "cell_type": "markdown",
   "metadata": {},
   "source": [
    "Convert string to date"
   ]
  },
  {
   "cell_type": "code",
   "execution_count": 7,
   "metadata": {},
   "outputs": [
    {
     "data": {
      "text/plain": [
       "(17168, 147)"
      ]
     },
     "execution_count": 7,
     "metadata": {},
     "output_type": "execute_result"
    }
   ],
   "source": [
    "# convert string to date\n",
    "df_listings['DataRegisto'] = [datetime.strptime(d.split('.')[0], \"%Y-%m-%dT%H:%M:%S\") for d in df_listings['DataRegisto']] # split into YYYY-MM-DD HH:MM:SS\n",
    "df_listings.shape"
   ]
  },
  {
   "cell_type": "code",
   "execution_count": 6,
   "metadata": {},
   "outputs": [
    {
     "data": {
      "text/plain": [
       "(7190661, 7)"
      ]
     },
     "execution_count": 6,
     "metadata": {},
     "output_type": "execute_result"
    }
   ],
   "source": [
    "df_calendar['date'] = [datetime.strptime(d, \"%Y-%m-%d\") for d in df_calendar['date']] # split into YYYY-MM-DD\n",
    "df_calendar.shape"
   ]
  },
  {
   "cell_type": "code",
   "execution_count": 6,
   "metadata": {},
   "outputs": [
    {
     "data": {
      "text/html": [
       "<div>\n",
       "<style scoped>\n",
       "    .dataframe tbody tr th:only-of-type {\n",
       "        vertical-align: middle;\n",
       "    }\n",
       "\n",
       "    .dataframe tbody tr th {\n",
       "        vertical-align: top;\n",
       "    }\n",
       "\n",
       "    .dataframe thead th {\n",
       "        text-align: right;\n",
       "    }\n",
       "</style>\n",
       "<table border=\"1\" class=\"dataframe\">\n",
       "  <thead>\n",
       "    <tr style=\"text-align: right;\">\n",
       "      <th></th>\n",
       "      <th>listing_id</th>\n",
       "      <th>date</th>\n",
       "      <th>available</th>\n",
       "      <th>price</th>\n",
       "      <th>adjusted_price</th>\n",
       "      <th>minimum_nights</th>\n",
       "      <th>maximum_nights</th>\n",
       "    </tr>\n",
       "  </thead>\n",
       "  <tbody>\n",
       "    <tr>\n",
       "      <th>0</th>\n",
       "      <td>286500</td>\n",
       "      <td>2020-02-14</td>\n",
       "      <td>f</td>\n",
       "      <td>$150.00</td>\n",
       "      <td>$150.00</td>\n",
       "      <td>3.0</td>\n",
       "      <td>365.0</td>\n",
       "    </tr>\n",
       "    <tr>\n",
       "      <th>1</th>\n",
       "      <td>69042</td>\n",
       "      <td>2020-02-14</td>\n",
       "      <td>f</td>\n",
       "      <td>$130.00</td>\n",
       "      <td>$130.00</td>\n",
       "      <td>3.0</td>\n",
       "      <td>365.0</td>\n",
       "    </tr>\n",
       "    <tr>\n",
       "      <th>2</th>\n",
       "      <td>69042</td>\n",
       "      <td>2020-02-15</td>\n",
       "      <td>f</td>\n",
       "      <td>$130.00</td>\n",
       "      <td>$130.00</td>\n",
       "      <td>3.0</td>\n",
       "      <td>365.0</td>\n",
       "    </tr>\n",
       "    <tr>\n",
       "      <th>3</th>\n",
       "      <td>69042</td>\n",
       "      <td>2020-02-16</td>\n",
       "      <td>t</td>\n",
       "      <td>$130.00</td>\n",
       "      <td>$130.00</td>\n",
       "      <td>2.0</td>\n",
       "      <td>365.0</td>\n",
       "    </tr>\n",
       "    <tr>\n",
       "      <th>4</th>\n",
       "      <td>69042</td>\n",
       "      <td>2020-02-17</td>\n",
       "      <td>f</td>\n",
       "      <td>$130.00</td>\n",
       "      <td>$130.00</td>\n",
       "      <td>2.0</td>\n",
       "      <td>365.0</td>\n",
       "    </tr>\n",
       "  </tbody>\n",
       "</table>\n",
       "</div>"
      ],
      "text/plain": [
       "   listing_id       date available    price adjusted_price  minimum_nights  \\\n",
       "0      286500 2020-02-14         f  $150.00        $150.00             3.0   \n",
       "1       69042 2020-02-14         f  $130.00        $130.00             3.0   \n",
       "2       69042 2020-02-15         f  $130.00        $130.00             3.0   \n",
       "3       69042 2020-02-16         t  $130.00        $130.00             2.0   \n",
       "4       69042 2020-02-17         f  $130.00        $130.00             2.0   \n",
       "\n",
       "   maximum_nights  \n",
       "0           365.0  \n",
       "1           365.0  \n",
       "2           365.0  \n",
       "3           365.0  \n",
       "4           365.0  "
      ]
     },
     "execution_count": 6,
     "metadata": {},
     "output_type": "execute_result"
    }
   ],
   "source": [
    "df_calendar.head()"
   ]
  },
  {
   "cell_type": "markdown",
   "metadata": {},
   "source": [
    "In _calendar.csv_, there are approximately 365 records for each listing. Each record indicates if the listing is available in that day."
   ]
  },
  {
   "cell_type": "markdown",
   "metadata": {},
   "source": [
    "Now lets drop the duplicates from df_calendar. "
   ]
  },
  {
   "cell_type": "code",
   "execution_count": 7,
   "metadata": {},
   "outputs": [
    {
     "data": {
      "text/plain": [
       "(366, 7)"
      ]
     },
     "execution_count": 7,
     "metadata": {},
     "output_type": "execute_result"
    }
   ],
   "source": [
    "# remove df_calendar duplicates\n",
    "df_calendar = df_calendar.drop_duplicates(subset=['date'])\n",
    "df_calendar.shape"
   ]
  },
  {
   "cell_type": "markdown",
   "metadata": {},
   "source": [
    "## 1.2. Exploratory data analysis"
   ]
  },
  {
   "cell_type": "markdown",
   "metadata": {},
   "source": [
    "We do a quick exploration of the data available in _listings_al.csv_."
   ]
  },
  {
   "cell_type": "code",
   "execution_count": 10,
   "metadata": {},
   "outputs": [],
   "source": [
    "# count by year\n",
    "years = [d.year for d in df_listings['DataRegisto']] # makes list of year in each listing's date\n",
    "df_years = pd.DataFrame(years,columns=['year']) # convert to dataframe\n",
    "df_years_graph = df_years.year.value_counts().to_frame('count').reset_index().rename(columns={'index': 'year'}).sort_values('year',ascending = True) # count each year, sort by asc.\n",
    "\n",
    "# remove count of 2020 because it is incomplete (data exported from inside airbnb in january)\n",
    "df_years_graph = df_years_graph[df_years_graph['year']!=2020]\n",
    "\n",
    "# create column with the cumulative sum\n",
    "df_years_graph['cum_count'] = df_years_graph['count'].cumsum()"
   ]
  },
  {
   "cell_type": "code",
   "execution_count": 17,
   "metadata": {},
   "outputs": [
    {
     "data": {
      "text/plain": [
       "<matplotlib.legend.Legend at 0x22768787c48>"
      ]
     },
     "execution_count": 17,
     "metadata": {},
     "output_type": "execute_result"
    },
    {
     "data": {
      "image/png": "[encoded data removed]",
      "text/plain": [
       "<Figure size 1080x504 with 1 Axes>"
      ]
     },
     "metadata": {
      "needs_background": "light"
     },
     "output_type": "display_data"
    }
   ],
   "source": [
    "plt.figure(figsize=(15,7))\n",
    "plt.plot(df_years_graph['year'],df_years_graph['count'], label = 'New listings')\n",
    "plt.plot(df_years_graph['year'],df_years_graph['cum_count'], label = 'Cumulative new listings')\n",
    "plt.axvline(x = 2008, color = 'red')\n",
    "plt.xlabel('Year')\n",
    "plt.ylabel('Number of new listings')\n",
    "plt.title('Number of Airbnb listings in Lisbon (all)')\n",
    "plt.legend()"
   ]
  },
  {
   "cell_type": "markdown",
   "metadata": {},
   "source": [
    "It seems a negligible part of the properties were registered before 2010 for lodging. This already gives us some insights: there was a clear boom in property registration with the intention to host tourists after Airbnb was created in 2008 (red line). Data from 2020 was neglected as it is incomplete (the dataset was scraped in January).\n",
    "\n",
    "Let's plot the data just from 2010 forward."
   ]
  },
  {
   "cell_type": "code",
   "execution_count": 10,
   "metadata": {},
   "outputs": [
    {
     "data": {
      "text/plain": [
       "<matplotlib.legend.Legend at 0x1dc900640c8>"
      ]
     },
     "execution_count": 10,
     "metadata": {},
     "output_type": "execute_result"
    },
    {
     "data": {
      "image/png": "[encoded data removed]",
      "text/plain": [
       "<Figure size 1080x504 with 1 Axes>"
      ]
     },
     "metadata": {
      "needs_background": "light"
     },
     "output_type": "display_data"
    }
   ],
   "source": [
    "df_years_graph2010 = df_years_graph[df_years_graph['year']>= 2010]\n",
    "plt.figure(figsize=(15,7))\n",
    "plt.plot(df_years_graph2010['year'],df_years_graph2010['count'], label = 'New listings')\n",
    "plt.plot(df_years_graph2010['year'],df_years_graph2010['cum_count'], label = 'Cumulative new listings')\n",
    "plt.axvline(x = 2008)\n",
    "plt.xlabel('Year')\n",
    "plt.ylabel('Number of new listings')\n",
    "plt.title('Number of Airbnb listings in Lisbon (2010 - 2019)')\n",
    "plt.legend()"
   ]
  },
  {
   "cell_type": "markdown",
   "metadata": {},
   "source": [
    "We can see that since 2013, the number of new listings in airbnb for Lisbon increased until 2018, from less than 500 new listings per year to more than 5000 new listings per year, which is a 10x increase. In 2019 the growth in new listings decreased compared to the previous year."
   ]
  },
  {
   "cell_type": "code",
   "execution_count": 11,
   "metadata": {},
   "outputs": [
    {
     "data": {
      "text/html": [
       "<div>\n",
       "<style scoped>\n",
       "    .dataframe tbody tr th:only-of-type {\n",
       "        vertical-align: middle;\n",
       "    }\n",
       "\n",
       "    .dataframe tbody tr th {\n",
       "        vertical-align: top;\n",
       "    }\n",
       "\n",
       "    .dataframe thead th {\n",
       "        text-align: right;\n",
       "    }\n",
       "</style>\n",
       "<table border=\"1\" class=\"dataframe\">\n",
       "  <thead>\n",
       "    <tr style=\"text-align: right;\">\n",
       "      <th></th>\n",
       "      <th>year</th>\n",
       "      <th>count</th>\n",
       "      <th>cum_count</th>\n",
       "    </tr>\n",
       "  </thead>\n",
       "  <tbody>\n",
       "    <tr>\n",
       "      <th>8</th>\n",
       "      <td>2010</td>\n",
       "      <td>60</td>\n",
       "      <td>151</td>\n",
       "    </tr>\n",
       "    <tr>\n",
       "      <th>9</th>\n",
       "      <td>2011</td>\n",
       "      <td>54</td>\n",
       "      <td>205</td>\n",
       "    </tr>\n",
       "    <tr>\n",
       "      <th>7</th>\n",
       "      <td>2012</td>\n",
       "      <td>95</td>\n",
       "      <td>300</td>\n",
       "    </tr>\n",
       "    <tr>\n",
       "      <th>6</th>\n",
       "      <td>2013</td>\n",
       "      <td>166</td>\n",
       "      <td>466</td>\n",
       "    </tr>\n",
       "    <tr>\n",
       "      <th>5</th>\n",
       "      <td>2014</td>\n",
       "      <td>501</td>\n",
       "      <td>967</td>\n",
       "    </tr>\n",
       "    <tr>\n",
       "      <th>4</th>\n",
       "      <td>2015</td>\n",
       "      <td>1759</td>\n",
       "      <td>2726</td>\n",
       "    </tr>\n",
       "    <tr>\n",
       "      <th>2</th>\n",
       "      <td>2016</td>\n",
       "      <td>2364</td>\n",
       "      <td>5090</td>\n",
       "    </tr>\n",
       "    <tr>\n",
       "      <th>1</th>\n",
       "      <td>2017</td>\n",
       "      <td>4309</td>\n",
       "      <td>9399</td>\n",
       "    </tr>\n",
       "    <tr>\n",
       "      <th>0</th>\n",
       "      <td>2018</td>\n",
       "      <td>5746</td>\n",
       "      <td>15145</td>\n",
       "    </tr>\n",
       "    <tr>\n",
       "      <th>3</th>\n",
       "      <td>2019</td>\n",
       "      <td>1999</td>\n",
       "      <td>17144</td>\n",
       "    </tr>\n",
       "  </tbody>\n",
       "</table>\n",
       "</div>"
      ],
      "text/plain": [
       "   year  count  cum_count\n",
       "8  2010     60        151\n",
       "9  2011     54        205\n",
       "7  2012     95        300\n",
       "6  2013    166        466\n",
       "5  2014    501        967\n",
       "4  2015   1759       2726\n",
       "2  2016   2364       5090\n",
       "1  2017   4309       9399\n",
       "0  2018   5746      15145\n",
       "3  2019   1999      17144"
      ]
     },
     "execution_count": 11,
     "metadata": {},
     "output_type": "execute_result"
    }
   ],
   "source": [
    "df_years_graph2010"
   ]
  },
  {
   "cell_type": "markdown",
   "metadata": {},
   "source": [
    "In 2010 there were 151 listings in Airbnb located in Lisbon, and in 2019 there was a total of 17155 listings, which is an increase of about 113 times."
   ]
  },
  {
   "cell_type": "markdown",
   "metadata": {},
   "source": [
    "## 1.3. Preprocessing"
   ]
  },
  {
   "cell_type": "markdown",
   "metadata": {},
   "source": [
    "Now, let's preprocess the data in order to create our dimension. The dimension _'Date'_ has the following schema:\n",
    "\n",
    "<img src=\"date_schema.png\" width=\"150\" align=\"center\"/>\n",
    "\n",
    "We start by defining functions that process each date and build its respective attributes in the dimension."
   ]
  },
  {
   "cell_type": "code",
   "execution_count": 25,
   "metadata": {},
   "outputs": [],
   "source": [
    "def date_season(month):\n",
    "    \"\"\"Detects the season of the year the date belongs to\"\"\"\n",
    "    if (month < 3) or (month == 12): return 'Winter'\n",
    "    elif (month >= 3) and (month < 6): return 'Spring'\n",
    "    elif (month >= 6) and (month < 9): return 'Summer'\n",
    "    elif (month >= 9) and (month < 12): return 'Autumn'\n",
    "\n",
    "def date_weekend(week_day):\n",
    "    \"\"\"Detects if date is work day or weekend\"\"\"\n",
    "    if (week_day == 5) or (week_day == 6): return 'Weekend'\n",
    "    else: return 'Work day'\n",
    "\n",
    "def week_day(d):\n",
    "    \"\"\"Detects weekday\"\"\"\n",
    "    days = {0: \"Monday\", 1: \"Tuesday\", 2: \"Wednesday\", 3: \"Thursday\", 4: \"Friday\", 5: \"Saturday\", 6: \"Sunday\"}\n",
    "    return days[d.weekday()]\n",
    "\n",
    "def date_pk(date):\n",
    "    \"\"\"Builds primary key\"\"\"\n",
    "    return int(date.strftime('%d%m%Y'))\n",
    "\n",
    "def week_of_month(dt):\n",
    "    \"\"\"Detects the week of the month for the specified date\"\"\"\n",
    "    first_day = dt.replace(day=1)\n",
    "    dom = dt.day\n",
    "    adjusted_dom = dom + first_day.weekday()\n",
    "    return int(ceil(adjusted_dom/7.0))\n",
    "\n",
    "def getQuarter(d):\n",
    "    \"\"\"Detects which quarter of the year date belongs to\"\"\"\n",
    "    if d.month<=3: return \"Q1\"\n",
    "    if d.month<=6: return \"Q2\"\n",
    "    if d.month<=9: return \"Q3\"\n",
    "    return \"Q4\"\n",
    "\n",
    "def getSemester(d):\n",
    "    \"\"\"Detects which semester of the year date belongs to\"\"\"\n",
    "    if d.month<=6: return \"S1\"\n",
    "    return \"S2\""
   ]
  },
  {
   "cell_type": "markdown",
   "metadata": {},
   "source": [
    "Example of date dimension primary key in format 'ddMMyyyy'"
   ]
  },
  {
   "cell_type": "code",
   "execution_count": 20,
   "metadata": {},
   "outputs": [
    {
     "data": {
      "text/plain": [
       "(Timestamp('2017-09-13 13:40:58'), 13092017)"
      ]
     },
     "execution_count": 20,
     "metadata": {},
     "output_type": "execute_result"
    }
   ],
   "source": [
    "df_listings['DataRegisto'][0], date_pk(df_listings['DataRegisto'][0])"
   ]
  },
  {
   "cell_type": "markdown",
   "metadata": {},
   "source": [
    "### 1.3.1. Processing the _df_listings_ data"
   ]
  },
  {
   "cell_type": "code",
   "execution_count": 21,
   "metadata": {},
   "outputs": [],
   "source": [
    "pks = [date_pk(d) for d in df_listings['DataRegisto']]\n",
    "days = [d.day for d in df_listings['DataRegisto']]\n",
    "weeks = [week_of_month(d) for d in df_listings['DataRegisto']]\n",
    "week_days = [week_day(d) for d in df_listings['DataRegisto']]\n",
    "week_ends = [date_weekend(d.weekday()) for d in df_listings['DataRegisto']]\n",
    "months = [d.month for d in df_listings['DataRegisto']]\n",
    "seasons = [date_season(d.month) for d in df_listings['DataRegisto']]\n",
    "quarters = [getQuarter(d) for d in df_listings['DataRegisto']]\n",
    "semesters = [getSemester(d) for d in df_listings['DataRegisto']]"
   ]
  },
  {
   "cell_type": "markdown",
   "metadata": {},
   "source": [
    "After processing each date in the dataframe and building a list of values for each attribute, we merge them together in a DataFrame."
   ]
  },
  {
   "cell_type": "code",
   "execution_count": 22,
   "metadata": {},
   "outputs": [
    {
     "data": {
      "text/plain": [
       "(17168, 10)"
      ]
     },
     "execution_count": 22,
     "metadata": {},
     "output_type": "execute_result"
    }
   ],
   "source": [
    "columns = ['PK','Day','WeekDay', 'Weekend','Week','Month','Season','Year','Quarter','Semester']\n",
    "df_date_dimension = pd.DataFrame(np.stack((pks,days,week_days,week_ends,weeks,months,seasons,years,quarters,semesters),axis=-1), columns = columns)\n",
    "df_date_dimension.shape"
   ]
  },
  {
   "cell_type": "code",
   "execution_count": 27,
   "metadata": {},
   "outputs": [
    {
     "data": {
      "text/html": [
       "<div>\n",
       "<style scoped>\n",
       "    .dataframe tbody tr th:only-of-type {\n",
       "        vertical-align: middle;\n",
       "    }\n",
       "\n",
       "    .dataframe tbody tr th {\n",
       "        vertical-align: top;\n",
       "    }\n",
       "\n",
       "    .dataframe thead th {\n",
       "        text-align: right;\n",
       "    }\n",
       "</style>\n",
       "<table border=\"1\" class=\"dataframe\">\n",
       "  <thead>\n",
       "    <tr style=\"text-align: right;\">\n",
       "      <th></th>\n",
       "      <th>PK</th>\n",
       "      <th>Day</th>\n",
       "      <th>WeekDay</th>\n",
       "      <th>Weekend</th>\n",
       "      <th>Week</th>\n",
       "      <th>Month</th>\n",
       "      <th>Season</th>\n",
       "      <th>Year</th>\n",
       "      <th>Quarter</th>\n",
       "      <th>Semester</th>\n",
       "    </tr>\n",
       "  </thead>\n",
       "  <tbody>\n",
       "    <tr>\n",
       "      <th>0</th>\n",
       "      <td>13092017</td>\n",
       "      <td>13</td>\n",
       "      <td>Wednesday</td>\n",
       "      <td>Work day</td>\n",
       "      <td>3</td>\n",
       "      <td>9</td>\n",
       "      <td>Autumn</td>\n",
       "      <td>2017</td>\n",
       "      <td>Q3</td>\n",
       "      <td>S2</td>\n",
       "    </tr>\n",
       "    <tr>\n",
       "      <th>1</th>\n",
       "      <td>15012016</td>\n",
       "      <td>15</td>\n",
       "      <td>Friday</td>\n",
       "      <td>Work day</td>\n",
       "      <td>3</td>\n",
       "      <td>1</td>\n",
       "      <td>Winter</td>\n",
       "      <td>2016</td>\n",
       "      <td>Q1</td>\n",
       "      <td>S1</td>\n",
       "    </tr>\n",
       "    <tr>\n",
       "      <th>2</th>\n",
       "      <td>12052016</td>\n",
       "      <td>12</td>\n",
       "      <td>Thursday</td>\n",
       "      <td>Work day</td>\n",
       "      <td>3</td>\n",
       "      <td>5</td>\n",
       "      <td>Spring</td>\n",
       "      <td>2016</td>\n",
       "      <td>Q2</td>\n",
       "      <td>S1</td>\n",
       "    </tr>\n",
       "    <tr>\n",
       "      <th>3</th>\n",
       "      <td>31082017</td>\n",
       "      <td>31</td>\n",
       "      <td>Thursday</td>\n",
       "      <td>Work day</td>\n",
       "      <td>5</td>\n",
       "      <td>8</td>\n",
       "      <td>Summer</td>\n",
       "      <td>2017</td>\n",
       "      <td>Q3</td>\n",
       "      <td>S2</td>\n",
       "    </tr>\n",
       "    <tr>\n",
       "      <th>5</th>\n",
       "      <td>16102018</td>\n",
       "      <td>16</td>\n",
       "      <td>Tuesday</td>\n",
       "      <td>Work day</td>\n",
       "      <td>3</td>\n",
       "      <td>10</td>\n",
       "      <td>Autumn</td>\n",
       "      <td>2018</td>\n",
       "      <td>Q4</td>\n",
       "      <td>S2</td>\n",
       "    </tr>\n",
       "  </tbody>\n",
       "</table>\n",
       "</div>"
      ],
      "text/plain": [
       "         PK Day    WeekDay   Weekend Week Month  Season  Year Quarter Semester\n",
       "0  13092017  13  Wednesday  Work day    3     9  Autumn  2017      Q3       S2\n",
       "1  15012016  15     Friday  Work day    3     1  Winter  2016      Q1       S1\n",
       "2  12052016  12   Thursday  Work day    3     5  Spring  2016      Q2       S1\n",
       "3  31082017  31   Thursday  Work day    5     8  Summer  2017      Q3       S2\n",
       "5  16102018  16    Tuesday  Work day    3    10  Autumn  2018      Q4       S2"
      ]
     },
     "execution_count": 27,
     "metadata": {},
     "output_type": "execute_result"
    }
   ],
   "source": [
    "df_date_dimension.head()"
   ]
  },
  {
   "cell_type": "markdown",
   "metadata": {},
   "source": [
    "Removal of duplicates"
   ]
  },
  {
   "cell_type": "code",
   "execution_count": 26,
   "metadata": {},
   "outputs": [
    {
     "data": {
      "text/plain": [
       "(1826, 10)"
      ]
     },
     "execution_count": 26,
     "metadata": {},
     "output_type": "execute_result"
    }
   ],
   "source": [
    "df_date_dimension = df_date_dimension.drop_duplicates(subset=['PK'])\n",
    "df_date_dimension.shape"
   ]
  },
  {
   "cell_type": "markdown",
   "metadata": {},
   "source": [
    "### 1.3.2. Processing the _df_calendar_ data"
   ]
  },
  {
   "cell_type": "code",
   "execution_count": 29,
   "metadata": {},
   "outputs": [
    {
     "data": {
      "text/html": [
       "<div>\n",
       "<style scoped>\n",
       "    .dataframe tbody tr th:only-of-type {\n",
       "        vertical-align: middle;\n",
       "    }\n",
       "\n",
       "    .dataframe tbody tr th {\n",
       "        vertical-align: top;\n",
       "    }\n",
       "\n",
       "    .dataframe thead th {\n",
       "        text-align: right;\n",
       "    }\n",
       "</style>\n",
       "<table border=\"1\" class=\"dataframe\">\n",
       "  <thead>\n",
       "    <tr style=\"text-align: right;\">\n",
       "      <th></th>\n",
       "      <th>listing_id</th>\n",
       "      <th>date</th>\n",
       "      <th>available</th>\n",
       "      <th>price</th>\n",
       "      <th>adjusted_price</th>\n",
       "      <th>minimum_nights</th>\n",
       "      <th>maximum_nights</th>\n",
       "    </tr>\n",
       "  </thead>\n",
       "  <tbody>\n",
       "    <tr>\n",
       "      <th>0</th>\n",
       "      <td>286500</td>\n",
       "      <td>2020-02-14</td>\n",
       "      <td>f</td>\n",
       "      <td>$150.00</td>\n",
       "      <td>$150.00</td>\n",
       "      <td>3.0</td>\n",
       "      <td>365.0</td>\n",
       "    </tr>\n",
       "    <tr>\n",
       "      <th>2</th>\n",
       "      <td>69042</td>\n",
       "      <td>2020-02-15</td>\n",
       "      <td>f</td>\n",
       "      <td>$130.00</td>\n",
       "      <td>$130.00</td>\n",
       "      <td>3.0</td>\n",
       "      <td>365.0</td>\n",
       "    </tr>\n",
       "    <tr>\n",
       "      <th>3</th>\n",
       "      <td>69042</td>\n",
       "      <td>2020-02-16</td>\n",
       "      <td>t</td>\n",
       "      <td>$130.00</td>\n",
       "      <td>$130.00</td>\n",
       "      <td>2.0</td>\n",
       "      <td>365.0</td>\n",
       "    </tr>\n",
       "    <tr>\n",
       "      <th>4</th>\n",
       "      <td>69042</td>\n",
       "      <td>2020-02-17</td>\n",
       "      <td>f</td>\n",
       "      <td>$130.00</td>\n",
       "      <td>$130.00</td>\n",
       "      <td>2.0</td>\n",
       "      <td>365.0</td>\n",
       "    </tr>\n",
       "    <tr>\n",
       "      <th>5</th>\n",
       "      <td>69042</td>\n",
       "      <td>2020-02-18</td>\n",
       "      <td>f</td>\n",
       "      <td>$130.00</td>\n",
       "      <td>$130.00</td>\n",
       "      <td>2.0</td>\n",
       "      <td>365.0</td>\n",
       "    </tr>\n",
       "  </tbody>\n",
       "</table>\n",
       "</div>"
      ],
      "text/plain": [
       "   listing_id       date available    price adjusted_price  minimum_nights  \\\n",
       "0      286500 2020-02-14         f  $150.00        $150.00             3.0   \n",
       "2       69042 2020-02-15         f  $130.00        $130.00             3.0   \n",
       "3       69042 2020-02-16         t  $130.00        $130.00             2.0   \n",
       "4       69042 2020-02-17         f  $130.00        $130.00             2.0   \n",
       "5       69042 2020-02-18         f  $130.00        $130.00             2.0   \n",
       "\n",
       "   maximum_nights  \n",
       "0           365.0  \n",
       "2           365.0  \n",
       "3           365.0  \n",
       "4           365.0  \n",
       "5           365.0  "
      ]
     },
     "execution_count": 29,
     "metadata": {},
     "output_type": "execute_result"
    }
   ],
   "source": [
    "df_calendar.head()"
   ]
  },
  {
   "cell_type": "code",
   "execution_count": 30,
   "metadata": {},
   "outputs": [],
   "source": [
    "pks2 = [date_pk(d) for d in df_calendar['date']]\n",
    "days2 = [d.day for d in df_calendar['date']]\n",
    "weeks2 = [week_of_month(d) for d in df_calendar['date']]\n",
    "week_days2 = [week_day(d) for d in df_calendar['date']]\n",
    "week_ends2 = [date_weekend(d.weekday()) for d in df_calendar['date']]\n",
    "months2 = [d.month for d in df_calendar['date']]\n",
    "seasons2 = [date_season(d.month) for d in df_calendar['date']]\n",
    "quarters2 = [getQuarter(d) for d in df_calendar['date']]\n",
    "semesters2 = [getSemester(d) for d in df_calendar['date']]\n",
    "years2 = [d.year for d in df_calendar['date']]"
   ]
  },
  {
   "cell_type": "markdown",
   "metadata": {},
   "source": [
    "Merge the two dataframes (dates needed both for availability and listing facts)"
   ]
  },
  {
   "cell_type": "code",
   "execution_count": 31,
   "metadata": {},
   "outputs": [
    {
     "data": {
      "text/html": [
       "<div>\n",
       "<style scoped>\n",
       "    .dataframe tbody tr th:only-of-type {\n",
       "        vertical-align: middle;\n",
       "    }\n",
       "\n",
       "    .dataframe tbody tr th {\n",
       "        vertical-align: top;\n",
       "    }\n",
       "\n",
       "    .dataframe thead th {\n",
       "        text-align: right;\n",
       "    }\n",
       "</style>\n",
       "<table border=\"1\" class=\"dataframe\">\n",
       "  <thead>\n",
       "    <tr style=\"text-align: right;\">\n",
       "      <th></th>\n",
       "      <th>PK</th>\n",
       "      <th>Day</th>\n",
       "      <th>WeekDay</th>\n",
       "      <th>Weekend</th>\n",
       "      <th>Week</th>\n",
       "      <th>Month</th>\n",
       "      <th>Season</th>\n",
       "      <th>Year</th>\n",
       "      <th>Quarter</th>\n",
       "      <th>Semester</th>\n",
       "    </tr>\n",
       "  </thead>\n",
       "  <tbody>\n",
       "    <tr>\n",
       "      <th>0</th>\n",
       "      <td>14022020</td>\n",
       "      <td>14</td>\n",
       "      <td>Friday</td>\n",
       "      <td>Work day</td>\n",
       "      <td>3</td>\n",
       "      <td>2</td>\n",
       "      <td>Winter</td>\n",
       "      <td>2020</td>\n",
       "      <td>Q1</td>\n",
       "      <td>S1</td>\n",
       "    </tr>\n",
       "    <tr>\n",
       "      <th>1</th>\n",
       "      <td>15022020</td>\n",
       "      <td>15</td>\n",
       "      <td>Saturday</td>\n",
       "      <td>Weekend</td>\n",
       "      <td>3</td>\n",
       "      <td>2</td>\n",
       "      <td>Winter</td>\n",
       "      <td>2020</td>\n",
       "      <td>Q1</td>\n",
       "      <td>S1</td>\n",
       "    </tr>\n",
       "    <tr>\n",
       "      <th>2</th>\n",
       "      <td>16022020</td>\n",
       "      <td>16</td>\n",
       "      <td>Sunday</td>\n",
       "      <td>Weekend</td>\n",
       "      <td>3</td>\n",
       "      <td>2</td>\n",
       "      <td>Winter</td>\n",
       "      <td>2020</td>\n",
       "      <td>Q1</td>\n",
       "      <td>S1</td>\n",
       "    </tr>\n",
       "    <tr>\n",
       "      <th>3</th>\n",
       "      <td>17022020</td>\n",
       "      <td>17</td>\n",
       "      <td>Monday</td>\n",
       "      <td>Work day</td>\n",
       "      <td>4</td>\n",
       "      <td>2</td>\n",
       "      <td>Winter</td>\n",
       "      <td>2020</td>\n",
       "      <td>Q1</td>\n",
       "      <td>S1</td>\n",
       "    </tr>\n",
       "    <tr>\n",
       "      <th>4</th>\n",
       "      <td>18022020</td>\n",
       "      <td>18</td>\n",
       "      <td>Tuesday</td>\n",
       "      <td>Work day</td>\n",
       "      <td>4</td>\n",
       "      <td>2</td>\n",
       "      <td>Winter</td>\n",
       "      <td>2020</td>\n",
       "      <td>Q1</td>\n",
       "      <td>S1</td>\n",
       "    </tr>\n",
       "    <tr>\n",
       "      <th>...</th>\n",
       "      <td>...</td>\n",
       "      <td>...</td>\n",
       "      <td>...</td>\n",
       "      <td>...</td>\n",
       "      <td>...</td>\n",
       "      <td>...</td>\n",
       "      <td>...</td>\n",
       "      <td>...</td>\n",
       "      <td>...</td>\n",
       "      <td>...</td>\n",
       "    </tr>\n",
       "    <tr>\n",
       "      <th>17150</th>\n",
       "      <td>14032013</td>\n",
       "      <td>14</td>\n",
       "      <td>Thursday</td>\n",
       "      <td>Work day</td>\n",
       "      <td>3</td>\n",
       "      <td>3</td>\n",
       "      <td>Spring</td>\n",
       "      <td>2013</td>\n",
       "      <td>Q1</td>\n",
       "      <td>S1</td>\n",
       "    </tr>\n",
       "    <tr>\n",
       "      <th>17153</th>\n",
       "      <td>18012020</td>\n",
       "      <td>18</td>\n",
       "      <td>Saturday</td>\n",
       "      <td>Weekend</td>\n",
       "      <td>3</td>\n",
       "      <td>1</td>\n",
       "      <td>Winter</td>\n",
       "      <td>2020</td>\n",
       "      <td>Q1</td>\n",
       "      <td>S1</td>\n",
       "    </tr>\n",
       "    <tr>\n",
       "      <th>17155</th>\n",
       "      <td>22012020</td>\n",
       "      <td>22</td>\n",
       "      <td>Wednesday</td>\n",
       "      <td>Work day</td>\n",
       "      <td>4</td>\n",
       "      <td>1</td>\n",
       "      <td>Winter</td>\n",
       "      <td>2020</td>\n",
       "      <td>Q1</td>\n",
       "      <td>S1</td>\n",
       "    </tr>\n",
       "    <tr>\n",
       "      <th>17157</th>\n",
       "      <td>21012020</td>\n",
       "      <td>21</td>\n",
       "      <td>Tuesday</td>\n",
       "      <td>Work day</td>\n",
       "      <td>4</td>\n",
       "      <td>1</td>\n",
       "      <td>Winter</td>\n",
       "      <td>2020</td>\n",
       "      <td>Q1</td>\n",
       "      <td>S1</td>\n",
       "    </tr>\n",
       "    <tr>\n",
       "      <th>17159</th>\n",
       "      <td>22042019</td>\n",
       "      <td>22</td>\n",
       "      <td>Monday</td>\n",
       "      <td>Work day</td>\n",
       "      <td>4</td>\n",
       "      <td>4</td>\n",
       "      <td>Spring</td>\n",
       "      <td>2019</td>\n",
       "      <td>Q2</td>\n",
       "      <td>S1</td>\n",
       "    </tr>\n",
       "  </tbody>\n",
       "</table>\n",
       "<p>2192 rows × 10 columns</p>\n",
       "</div>"
      ],
      "text/plain": [
       "             PK Day    WeekDay   Weekend Week Month  Season  Year Quarter  \\\n",
       "0      14022020  14     Friday  Work day    3     2  Winter  2020      Q1   \n",
       "1      15022020  15   Saturday   Weekend    3     2  Winter  2020      Q1   \n",
       "2      16022020  16     Sunday   Weekend    3     2  Winter  2020      Q1   \n",
       "3      17022020  17     Monday  Work day    4     2  Winter  2020      Q1   \n",
       "4      18022020  18    Tuesday  Work day    4     2  Winter  2020      Q1   \n",
       "...         ...  ..        ...       ...  ...   ...     ...   ...     ...   \n",
       "17150  14032013  14   Thursday  Work day    3     3  Spring  2013      Q1   \n",
       "17153  18012020  18   Saturday   Weekend    3     1  Winter  2020      Q1   \n",
       "17155  22012020  22  Wednesday  Work day    4     1  Winter  2020      Q1   \n",
       "17157  21012020  21    Tuesday  Work day    4     1  Winter  2020      Q1   \n",
       "17159  22042019  22     Monday  Work day    4     4  Spring  2019      Q2   \n",
       "\n",
       "      Semester  \n",
       "0           S1  \n",
       "1           S1  \n",
       "2           S1  \n",
       "3           S1  \n",
       "4           S1  \n",
       "...        ...  \n",
       "17150       S1  \n",
       "17153       S1  \n",
       "17155       S1  \n",
       "17157       S1  \n",
       "17159       S1  \n",
       "\n",
       "[2192 rows x 10 columns]"
      ]
     },
     "execution_count": 31,
     "metadata": {},
     "output_type": "execute_result"
    }
   ],
   "source": [
    "df_date_dimension = pd.concat([pd.DataFrame(np.stack((pks2,days2,week_days2,week_ends2,weeks2,months2,seasons2,years2,quarters2,semesters2),axis=-1), columns = columns),df_date_dimension])\n",
    "df_date_dimension"
   ]
  }
 ],
 "metadata": {
  "kernelspec": {
   "display_name": "Python 3",
   "language": "python",
   "name": "python3"
  },
  "language_info": {
   "codemirror_mode": {
    "name": "ipython",
    "version": 3
   },
   "file_extension": ".py",
   "mimetype": "text/x-python",
   "name": "python",
   "nbconvert_exporter": "python",
   "pygments_lexer": "ipython3",
   "version": "3.7.5"
  }
 },
 "nbformat": 4,
 "nbformat_minor": 4
}
