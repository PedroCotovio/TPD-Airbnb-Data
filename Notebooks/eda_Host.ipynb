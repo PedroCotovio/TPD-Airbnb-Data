{
 "cells": [
  {
   "cell_type": "code",
   "execution_count": 2,
   "metadata": {
    "ExecuteTime": {
     "end_time": "2020-03-27T18:13:42.286464Z",
     "start_time": "2020-03-27T18:13:41.024121Z"
    }
   },
   "outputs": [],
   "source": [
    "import numpy as np\n",
    "import pandas as pd\n",
    "import seaborn as sns\n",
    "import matplotlib.pyplot as plt\n",
    "\n",
    "from scipy import stats\n",
    "from scipy.stats import norm"
   ]
  },
  {
   "cell_type": "markdown",
   "metadata": {},
   "source": [
    "# Read data"
   ]
  },
  {
   "cell_type": "code",
   "execution_count": 5,
   "metadata": {
    "ExecuteTime": {
     "end_time": "2020-03-27T18:13:44.015795Z",
     "start_time": "2020-03-27T18:13:42.287466Z"
    }
   },
   "outputs": [
    {
     "name": "stderr",
     "output_type": "stream",
     "text": [
      "C:\\Users\\david\\Anaconda3\\lib\\site-packages\\IPython\\core\\interactiveshell.py:3063: DtypeWarning: Columns (61,62) have mixed types.Specify dtype option on import or set low_memory=False.\n",
      "  interactivity=interactivity, compiler=compiler, result=result)\n"
     ]
    }
   ],
   "source": [
    "listings_file_path = '../data/airbnb/listings.csv'\n",
    "al_file_path = '../data/Alojamento_Local.csv'\n",
    "df_al = pd.read_csv(al_file_path)\n",
    "df_listings = pd.read_csv(listings_file_path)"
   ]
  },
  {
   "cell_type": "markdown",
   "metadata": {},
   "source": [
    "# General schema\n",
    "\n",
    "![Star schema](schema.png)"
   ]
  },
  {
   "cell_type": "markdown",
   "metadata": {},
   "source": [
    "# Exploratory data analysis"
   ]
  },
  {
   "cell_type": "code",
   "execution_count": 6,
   "metadata": {
    "ExecuteTime": {
     "end_time": "2020-03-27T18:13:44.029818Z",
     "start_time": "2020-03-27T18:13:44.017794Z"
    }
   },
   "outputs": [],
   "source": [
    "def missing_data(df, columns):\n",
    "    \"\"\"Calculates the amount of missing data in given DataFrame's selected columns\"\"\"\n",
    "    df_graph = df[columns]\n",
    "    # missing data\n",
    "    total = df_graph.isnull().sum().sort_values(ascending=False)\n",
    "    percent = (df_graph.isnull().sum()/df_graph.isnull().count()).sort_values(ascending=False)\n",
    "    missing_data = pd.concat([total, percent], axis=1, keys=['Total', 'Percent'])\n",
    "    print(missing_data)\n",
    "    plt.figure(figsize=(10,5))\n",
    "    ax = sns.barplot(x='index',y = 'Percent', data= missing_data.reset_index())\n",
    "    ax.set_xticklabels(ax.get_xticklabels(), rotation=45)\n",
    "    return ax\n",
    "\n",
    "def feature_dist(df, column_name):\n",
    "    plt.figure(figsize=(15,4))\n",
    "    sns.distplot(df[column_name] , fit=norm)\n",
    "\n",
    "    # Get the fitted parameters used by the function\n",
    "    (mu, sigma) = norm.fit(df[column_name])\n",
    "    print( '\\n mu = {:.2f} and sigma = {:.2f}\\n'.format(mu, sigma))\n",
    "    plt.legend(['Normal dist. ($\\mu=$ {:.2f} and $\\sigma=$ {:.2f} )'.format(mu, sigma)],\n",
    "                loc='best')\n",
    "    plt.ylabel('Frequency')\n",
    "    plt.title('{} distribution'.format(column_name))\n",
    "    plt.show()\n",
    "\n",
    "#IN BAR CHARTS, SET PERCENTAGES ABOVE EACH BAR\n",
    "def set_bar_percentage(ax, df):\n",
    "    for p in ax.patches:\n",
    "        ax.annotate(f\"{p.get_height() * 100 / df.shape[0]:.2f}%\", (p.get_x() + p.get_width() / 2., p.get_height()),\n",
    "          ha='center', va='center', rotation=0, xytext=(0, 10),\n",
    "          textcoords='offset points')\n",
    "        \n",
    "#IN BAR CHARTS, SET THE VALUE ABOVE EACH BAR\n",
    "def set_bar_amount(ax):\n",
    "    for p in ax.patches:\n",
    "        height = p.get_height()\n",
    "        ax.annotate(\"{0:.2f}%\".format(p.get_height()*100), (p.get_x() + p.get_width() / 2., p.get_height()),\n",
    "            ha='center', va='center', rotation=0, xytext=(0, 10),\n",
    "            textcoords='offset points')\n",
    "        \n",
    "#Simple plot\n",
    "def simple_plot(df,column):\n",
    "    bx = sns.catplot(x=column,data=df, kind='count')\n",
    "    (bx.set_axis_labels(column, \"Count\")\n",
    "        .set_titles(\"{col_name} {col_var}\")\n",
    "        .despine(left=True))"
   ]
  },
  {
   "cell_type": "markdown",
   "metadata": {},
   "source": [
    "## Merge _df_listings_ with _alojamento_local.csv_"
   ]
  },
  {
   "cell_type": "code",
   "execution_count": 7,
   "metadata": {
    "ExecuteTime": {
     "end_time": "2020-03-27T18:13:47.595968Z",
     "start_time": "2020-03-27T18:13:47.591004Z"
    }
   },
   "outputs": [],
   "source": [
    "def intTryParse(value):\n",
    "    \"\"\"Tries to parse string to an integer\"\"\"\n",
    "    try:\n",
    "        a = int(value)\n",
    "        return True\n",
    "    except ValueError:\n",
    "        return False"
   ]
  },
  {
   "cell_type": "code",
   "execution_count": 20,
   "metadata": {
    "ExecuteTime": {
     "end_time": "2020-03-27T18:13:48.191103Z",
     "start_time": "2020-03-27T18:13:47.598969Z"
    }
   },
   "outputs": [
    {
     "name": "stderr",
     "output_type": "stream",
     "text": [
      "C:\\Users\\david\\Anaconda3\\lib\\site-packages\\ipykernel_launcher.py:7: SettingWithCopyWarning: \n",
      "A value is trying to be set on a copy of a slice from a DataFrame.\n",
      "Try using .loc[row_indexer,col_indexer] = value instead\n",
      "\n",
      "See the caveats in the documentation: https://pandas.pydata.org/pandas-docs/stable/user_guide/indexing.html#returning-a-view-versus-a-copy\n",
      "  import sys\n"
     ]
    }
   ],
   "source": [
    "# get only listings where \n",
    "df_listings_with_license = df_listings[(~df_listings['license'].isnull()) #'license' is not null\n",
    "                                        & (df_listings['license'] != 'Exempt')] # && != 'Exempt'\n",
    "\n",
    "# string replace\n",
    "df_listings_with_license['NrRNAL'] = [s.replace('/AL','').replace('.','') # remove '/AL' and '.' from code\n",
    "                                      for s in df_listings_with_license['license']]\n",
    "\n",
    "# get only records where license nr can be converted to int \n",
    "df_listings_with_license = df_listings_with_license[[intTryParse(s) # if code can be converted to int\n",
    "                                                     for s in df_listings_with_license['NrRNAL']]] # keep it\n",
    "\n",
    "# convert NrRNAL to int before merge the two dataframes\n",
    "df_listings_with_license['NrRNAL'] = df_listings_with_license['NrRNAL'].astype(np.int64) # convert code to int\n",
    "\n",
    "# inner join two dataframes\n",
    "df_result = pd.merge(df_listings_with_license, df_al, how='inner', on='NrRNAL')"
   ]
  },
  {
   "cell_type": "code",
   "execution_count": 21,
   "metadata": {
    "ExecuteTime": {
     "end_time": "2020-03-27T18:13:48.197140Z",
     "start_time": "2020-03-27T18:13:48.192101Z"
    }
   },
   "outputs": [
    {
     "name": "stdout",
     "output_type": "stream",
     "text": [
      "Dataset size: 17168\n"
     ]
    }
   ],
   "source": [
    "print('Dataset size: {}'.format(len(df_result)))"
   ]
  },
  {
   "cell_type": "markdown",
   "metadata": {},
   "source": [
    "## Missing data"
   ]
  },
  {
   "cell_type": "markdown",
   "metadata": {},
   "source": [
    "Singling out the columns of interest for this dimension, we analyse the distribution of missing values."
   ]
  },
  {
   "cell_type": "code",
   "execution_count": 24,
   "metadata": {
    "ExecuteTime": {
     "end_time": "2020-03-27T18:13:49.104102Z",
     "start_time": "2020-03-27T18:13:48.945143Z"
    }
   },
   "outputs": [
    {
     "name": "stdout",
     "output_type": "stream",
     "text": [
      "                    Total   Percent\n",
      "host_response_time   1691  0.098497\n",
      "host_location          21  0.001223\n",
      "host_verifications      0  0.000000\n",
      "host_is_superhost       0  0.000000\n",
      "host_since              0  0.000000\n",
      "host_name               0  0.000000\n"
     ]
    },
    {
     "data": {
      "text/plain": [
       "Text(0.5, 1.0, 'Host dimension missing data')"
      ]
     },
     "execution_count": 24,
     "metadata": {},
     "output_type": "execute_result"
    },
    {
     "data": {
      "image/png": "[encoded data removed]",
      "text/plain": [
       "<Figure size 720x360 with 1 Axes>"
      ]
     },
     "metadata": {
      "needs_background": "light"
     },
     "output_type": "display_data"
    }
   ],
   "source": [
    "columns = [\n",
    "'host_name',\n",
    "'host_since',\n",
    "'host_location',\n",
    "'host_response_time',\n",
    "'host_is_superhost',\n",
    "'host_verifications'\n",
    "]\n",
    "ax = missing_data(df_result,columns)\n",
    "set_bar_amount(ax)\n",
    "ax.set_xlabel('Columns')\n",
    "ax.set_ylabel('Missing data (%)')\n",
    "plt.ylim(0,1)\n",
    "ax.spines['right'].set_visible(False)\n",
    "ax.spines['top'].set_visible(False)\n",
    "ax.set_title('Host dimension missing data')"
   ]
  },
  {
   "cell_type": "markdown",
   "metadata": {},
   "source": [
    "## Host dimension"
   ]
  },
  {
   "cell_type": "markdown",
   "metadata": {},
   "source": [
    "**host_name**\n",
    "\n",
    "varchar(40), no missing data"
   ]
  },
  {
   "cell_type": "code",
   "execution_count": 28,
   "metadata": {},
   "outputs": [
    {
     "name": "stdout",
     "output_type": "stream",
     "text": [
      "0                  Ellie\n",
      "1                Bárbara\n",
      "2                 Mónica\n",
      "3              Francisco\n",
      "4              Francisco\n",
      "              ...       \n",
      "17163    Feels Like Home\n",
      "17164             Raquel\n",
      "17165             Raquel\n",
      "17166             Simone\n",
      "17167              Fábio\n",
      "Name: host_name, Length: 17168, dtype: object\n"
     ]
    }
   ],
   "source": [
    "print(df_result['host_name'])"
   ]
  },
  {
   "cell_type": "markdown",
   "metadata": {},
   "source": [
    "**host_since**\n",
    "\n",
    "date AAAA-MM-DD"
   ]
  },
  {
   "cell_type": "code",
   "execution_count": 27,
   "metadata": {},
   "outputs": [
    {
     "data": {
      "text/plain": [
       "0        2010-04-12\n",
       "1        2010-05-16\n",
       "2        2010-05-17\n",
       "3        2010-05-19\n",
       "4        2010-05-19\n",
       "            ...    \n",
       "17163    2012-10-23\n",
       "17164    2012-05-31\n",
       "17165    2012-05-31\n",
       "17166    2019-12-07\n",
       "17167    2016-01-17\n",
       "Name: host_since, Length: 17168, dtype: object"
      ]
     },
     "execution_count": 27,
     "metadata": {},
     "output_type": "execute_result"
    }
   ],
   "source": [
    "df_result['host_since']"
   ]
  },
  {
   "cell_type": "markdown",
   "metadata": {},
   "source": [
    "**host_country**\n",
    "\n",
    "-- Need to extract countries\n",
    "\n",
    "Attention -- 21 missing values - probably delete rows"
   ]
  },
  {
   "cell_type": "code",
   "execution_count": 24,
   "metadata": {},
   "outputs": [
    {
     "name": "stdout",
     "output_type": "stream",
     "text": [
      "Lisbon, Lisbon, Portugal         9020\n",
      "PT                               2845\n",
      "Portugal                          744\n",
      "Cascais, Lisbon, Portugal         584\n",
      "Sintra, Lisbon, Portugal          311\n",
      "                                 ... \n",
      "Rio Maior, Santarém, Portugal       1\n",
      "Copenhagen, Denmark                 1\n",
      "Dallas, Texas, United States        1\n",
      "Santa Cruz, Madeira, Portugal       1\n",
      "Portugal, Moçambique e India        1\n",
      "Name: host_location, Length: 618, dtype: int64\n"
     ]
    }
   ],
   "source": [
    "print(df_result['host_location'].value_counts())"
   ]
  },
  {
   "cell_type": "markdown",
   "metadata": {},
   "source": [
    "**host_country_gdp**\n",
    "\n",
    "Source: https://data.worldbank.org/indicator/ny.gdp.pcap.cd"
   ]
  },
  {
   "cell_type": "code",
   "execution_count": 34,
   "metadata": {},
   "outputs": [
    {
     "data": {
      "text/html": [
       "<div>\n",
       "<style scoped>\n",
       "    .dataframe tbody tr th:only-of-type {\n",
       "        vertical-align: middle;\n",
       "    }\n",
       "\n",
       "    .dataframe tbody tr th {\n",
       "        vertical-align: top;\n",
       "    }\n",
       "\n",
       "    .dataframe thead th {\n",
       "        text-align: right;\n",
       "    }\n",
       "</style>\n",
       "<table border=\"1\" class=\"dataframe\">\n",
       "  <thead>\n",
       "    <tr style=\"text-align: right;\">\n",
       "      <th></th>\n",
       "      <th>Country Name</th>\n",
       "      <th>Continent Name</th>\n",
       "      <th>Country Code</th>\n",
       "      <th>Indicator Name</th>\n",
       "      <th>Indicator Code</th>\n",
       "      <th>1960</th>\n",
       "      <th>1961</th>\n",
       "      <th>1962</th>\n",
       "      <th>1963</th>\n",
       "      <th>1964</th>\n",
       "      <th>...</th>\n",
       "      <th>2009</th>\n",
       "      <th>2010</th>\n",
       "      <th>2011</th>\n",
       "      <th>2012</th>\n",
       "      <th>2013</th>\n",
       "      <th>2014</th>\n",
       "      <th>2015</th>\n",
       "      <th>2016</th>\n",
       "      <th>2017</th>\n",
       "      <th>2018</th>\n",
       "    </tr>\n",
       "  </thead>\n",
       "  <tbody>\n",
       "    <tr>\n",
       "      <th>0</th>\n",
       "      <td>Afghanistan</td>\n",
       "      <td>Asia</td>\n",
       "      <td>AFG</td>\n",
       "      <td>GDP per capita (current US$)</td>\n",
       "      <td>NY.GDP.PCAP.CD</td>\n",
       "      <td>59.773194</td>\n",
       "      <td>59.860874</td>\n",
       "      <td>58.458015</td>\n",
       "      <td>78.706388</td>\n",
       "      <td>82.095231</td>\n",
       "      <td>...</td>\n",
       "      <td>438.076034</td>\n",
       "      <td>543.303042</td>\n",
       "      <td>591.162347</td>\n",
       "      <td>641.872034</td>\n",
       "      <td>637.165044</td>\n",
       "      <td>613.856333</td>\n",
       "      <td>578.466353</td>\n",
       "      <td>547.228110</td>\n",
       "      <td>556.302138</td>\n",
       "      <td>520.896603</td>\n",
       "    </tr>\n",
       "    <tr>\n",
       "      <th>1</th>\n",
       "      <td>Albania</td>\n",
       "      <td>Europe</td>\n",
       "      <td>ALB</td>\n",
       "      <td>GDP per capita (current US$)</td>\n",
       "      <td>NY.GDP.PCAP.CD</td>\n",
       "      <td>NaN</td>\n",
       "      <td>NaN</td>\n",
       "      <td>NaN</td>\n",
       "      <td>NaN</td>\n",
       "      <td>NaN</td>\n",
       "      <td>...</td>\n",
       "      <td>4114.140150</td>\n",
       "      <td>4094.362119</td>\n",
       "      <td>4437.178067</td>\n",
       "      <td>4247.614279</td>\n",
       "      <td>4413.081743</td>\n",
       "      <td>4578.666720</td>\n",
       "      <td>3952.829458</td>\n",
       "      <td>4124.108907</td>\n",
       "      <td>4532.890162</td>\n",
       "      <td>5268.848504</td>\n",
       "    </tr>\n",
       "    <tr>\n",
       "      <th>2</th>\n",
       "      <td>Algeria</td>\n",
       "      <td>Africa</td>\n",
       "      <td>DZA</td>\n",
       "      <td>GDP per capita (current US$)</td>\n",
       "      <td>NY.GDP.PCAP.CD</td>\n",
       "      <td>246.308763</td>\n",
       "      <td>214.776273</td>\n",
       "      <td>172.245998</td>\n",
       "      <td>226.899989</td>\n",
       "      <td>238.048532</td>\n",
       "      <td>...</td>\n",
       "      <td>3883.378143</td>\n",
       "      <td>4480.724539</td>\n",
       "      <td>5455.741338</td>\n",
       "      <td>5592.326098</td>\n",
       "      <td>5499.581487</td>\n",
       "      <td>5493.025590</td>\n",
       "      <td>4177.867517</td>\n",
       "      <td>3946.421445</td>\n",
       "      <td>4044.298372</td>\n",
       "      <td>4114.715061</td>\n",
       "    </tr>\n",
       "    <tr>\n",
       "      <th>3</th>\n",
       "      <td>American Samoa</td>\n",
       "      <td>Oceania</td>\n",
       "      <td>ASM</td>\n",
       "      <td>GDP per capita (current US$)</td>\n",
       "      <td>NY.GDP.PCAP.CD</td>\n",
       "      <td>NaN</td>\n",
       "      <td>NaN</td>\n",
       "      <td>NaN</td>\n",
       "      <td>NaN</td>\n",
       "      <td>NaN</td>\n",
       "      <td>...</td>\n",
       "      <td>11961.258230</td>\n",
       "      <td>10271.224520</td>\n",
       "      <td>10294.302270</td>\n",
       "      <td>11568.793000</td>\n",
       "      <td>11505.393710</td>\n",
       "      <td>11507.232350</td>\n",
       "      <td>11843.331180</td>\n",
       "      <td>11696.955560</td>\n",
       "      <td>10823.444800</td>\n",
       "      <td>11466.690710</td>\n",
       "    </tr>\n",
       "    <tr>\n",
       "      <th>4</th>\n",
       "      <td>Andorra</td>\n",
       "      <td>Europe</td>\n",
       "      <td>AND</td>\n",
       "      <td>GDP per capita (current US$)</td>\n",
       "      <td>NY.GDP.PCAP.CD</td>\n",
       "      <td>NaN</td>\n",
       "      <td>NaN</td>\n",
       "      <td>NaN</td>\n",
       "      <td>NaN</td>\n",
       "      <td>NaN</td>\n",
       "      <td>...</td>\n",
       "      <td>43338.866760</td>\n",
       "      <td>39736.354060</td>\n",
       "      <td>41100.729940</td>\n",
       "      <td>38392.943900</td>\n",
       "      <td>40626.751630</td>\n",
       "      <td>42300.334130</td>\n",
       "      <td>36039.653500</td>\n",
       "      <td>37224.108920</td>\n",
       "      <td>39134.393370</td>\n",
       "      <td>42029.762740</td>\n",
       "    </tr>\n",
       "    <tr>\n",
       "      <th>...</th>\n",
       "      <td>...</td>\n",
       "      <td>...</td>\n",
       "      <td>...</td>\n",
       "      <td>...</td>\n",
       "      <td>...</td>\n",
       "      <td>...</td>\n",
       "      <td>...</td>\n",
       "      <td>...</td>\n",
       "      <td>...</td>\n",
       "      <td>...</td>\n",
       "      <td>...</td>\n",
       "      <td>...</td>\n",
       "      <td>...</td>\n",
       "      <td>...</td>\n",
       "      <td>...</td>\n",
       "      <td>...</td>\n",
       "      <td>...</td>\n",
       "      <td>...</td>\n",
       "      <td>...</td>\n",
       "      <td>...</td>\n",
       "      <td>...</td>\n",
       "    </tr>\n",
       "    <tr>\n",
       "      <th>211</th>\n",
       "      <td>West Bank and Gaza</td>\n",
       "      <td>Asia</td>\n",
       "      <td>PSE</td>\n",
       "      <td>GDP per capita (current US$)</td>\n",
       "      <td>NY.GDP.PCAP.CD</td>\n",
       "      <td>NaN</td>\n",
       "      <td>NaN</td>\n",
       "      <td>NaN</td>\n",
       "      <td>NaN</td>\n",
       "      <td>NaN</td>\n",
       "      <td>...</td>\n",
       "      <td>1970.182963</td>\n",
       "      <td>2354.125987</td>\n",
       "      <td>2695.193853</td>\n",
       "      <td>2834.021525</td>\n",
       "      <td>3060.312389</td>\n",
       "      <td>3046.821798</td>\n",
       "      <td>2967.851747</td>\n",
       "      <td>3074.291152</td>\n",
       "      <td>3254.485887</td>\n",
       "      <td>3198.866644</td>\n",
       "    </tr>\n",
       "    <tr>\n",
       "      <th>212</th>\n",
       "      <td>Yemen, Rep.</td>\n",
       "      <td>Asia</td>\n",
       "      <td>YEM</td>\n",
       "      <td>GDP per capita (current US$)</td>\n",
       "      <td>NY.GDP.PCAP.CD</td>\n",
       "      <td>NaN</td>\n",
       "      <td>NaN</td>\n",
       "      <td>NaN</td>\n",
       "      <td>NaN</td>\n",
       "      <td>NaN</td>\n",
       "      <td>...</td>\n",
       "      <td>1116.084594</td>\n",
       "      <td>1334.784845</td>\n",
       "      <td>1374.621313</td>\n",
       "      <td>1446.536280</td>\n",
       "      <td>1607.152275</td>\n",
       "      <td>1674.002766</td>\n",
       "      <td>1608.744312</td>\n",
       "      <td>1139.870568</td>\n",
       "      <td>963.494721</td>\n",
       "      <td>944.408499</td>\n",
       "    </tr>\n",
       "    <tr>\n",
       "      <th>213</th>\n",
       "      <td>Zambia</td>\n",
       "      <td>Africa</td>\n",
       "      <td>ZMB</td>\n",
       "      <td>GDP per capita (current US$)</td>\n",
       "      <td>NY.GDP.PCAP.CD</td>\n",
       "      <td>232.188867</td>\n",
       "      <td>220.042137</td>\n",
       "      <td>212.578123</td>\n",
       "      <td>213.896441</td>\n",
       "      <td>242.384333</td>\n",
       "      <td>...</td>\n",
       "      <td>1159.907762</td>\n",
       "      <td>1489.459070</td>\n",
       "      <td>1672.949830</td>\n",
       "      <td>1763.094184</td>\n",
       "      <td>1878.903489</td>\n",
       "      <td>1763.056239</td>\n",
       "      <td>1337.796315</td>\n",
       "      <td>1280.578447</td>\n",
       "      <td>1534.865371</td>\n",
       "      <td>1539.900158</td>\n",
       "    </tr>\n",
       "    <tr>\n",
       "      <th>214</th>\n",
       "      <td>Zimbabwe</td>\n",
       "      <td>Africa</td>\n",
       "      <td>ZWE</td>\n",
       "      <td>GDP per capita (current US$)</td>\n",
       "      <td>NY.GDP.PCAP.CD</td>\n",
       "      <td>278.813699</td>\n",
       "      <td>280.828950</td>\n",
       "      <td>276.688781</td>\n",
       "      <td>277.479715</td>\n",
       "      <td>281.558440</td>\n",
       "      <td>...</td>\n",
       "      <td>771.598786</td>\n",
       "      <td>948.331854</td>\n",
       "      <td>1093.654002</td>\n",
       "      <td>1304.969802</td>\n",
       "      <td>1430.000818</td>\n",
       "      <td>1434.899340</td>\n",
       "      <td>1445.071062</td>\n",
       "      <td>1464.583529</td>\n",
       "      <td>1602.403507</td>\n",
       "      <td>2146.996385</td>\n",
       "    </tr>\n",
       "    <tr>\n",
       "      <th>215</th>\n",
       "      <td>NaN</td>\n",
       "      <td>NaN</td>\n",
       "      <td>NaN</td>\n",
       "      <td>NaN</td>\n",
       "      <td>NaN</td>\n",
       "      <td>NaN</td>\n",
       "      <td>NaN</td>\n",
       "      <td>NaN</td>\n",
       "      <td>NaN</td>\n",
       "      <td>NaN</td>\n",
       "      <td>...</td>\n",
       "      <td>NaN</td>\n",
       "      <td>NaN</td>\n",
       "      <td>NaN</td>\n",
       "      <td>NaN</td>\n",
       "      <td>NaN</td>\n",
       "      <td>NaN</td>\n",
       "      <td>NaN</td>\n",
       "      <td>NaN</td>\n",
       "      <td>NaN</td>\n",
       "      <td>NaN</td>\n",
       "    </tr>\n",
       "  </tbody>\n",
       "</table>\n",
       "<p>216 rows × 64 columns</p>\n",
       "</div>"
      ],
      "text/plain": [
       "           Country Name Continent Name Country Code  \\\n",
       "0           Afghanistan           Asia          AFG   \n",
       "1               Albania         Europe          ALB   \n",
       "2               Algeria         Africa          DZA   \n",
       "3        American Samoa        Oceania          ASM   \n",
       "4               Andorra         Europe          AND   \n",
       "..                  ...            ...          ...   \n",
       "211  West Bank and Gaza           Asia          PSE   \n",
       "212         Yemen, Rep.           Asia          YEM   \n",
       "213              Zambia         Africa          ZMB   \n",
       "214            Zimbabwe         Africa          ZWE   \n",
       "215                 NaN            NaN          NaN   \n",
       "\n",
       "                   Indicator Name  Indicator Code        1960        1961  \\\n",
       "0    GDP per capita (current US$)  NY.GDP.PCAP.CD   59.773194   59.860874   \n",
       "1    GDP per capita (current US$)  NY.GDP.PCAP.CD         NaN         NaN   \n",
       "2    GDP per capita (current US$)  NY.GDP.PCAP.CD  246.308763  214.776273   \n",
       "3    GDP per capita (current US$)  NY.GDP.PCAP.CD         NaN         NaN   \n",
       "4    GDP per capita (current US$)  NY.GDP.PCAP.CD         NaN         NaN   \n",
       "..                            ...             ...         ...         ...   \n",
       "211  GDP per capita (current US$)  NY.GDP.PCAP.CD         NaN         NaN   \n",
       "212  GDP per capita (current US$)  NY.GDP.PCAP.CD         NaN         NaN   \n",
       "213  GDP per capita (current US$)  NY.GDP.PCAP.CD  232.188867  220.042137   \n",
       "214  GDP per capita (current US$)  NY.GDP.PCAP.CD  278.813699  280.828950   \n",
       "215                           NaN             NaN         NaN         NaN   \n",
       "\n",
       "           1962        1963        1964  ...          2009          2010  \\\n",
       "0     58.458015   78.706388   82.095231  ...    438.076034    543.303042   \n",
       "1           NaN         NaN         NaN  ...   4114.140150   4094.362119   \n",
       "2    172.245998  226.899989  238.048532  ...   3883.378143   4480.724539   \n",
       "3           NaN         NaN         NaN  ...  11961.258230  10271.224520   \n",
       "4           NaN         NaN         NaN  ...  43338.866760  39736.354060   \n",
       "..          ...         ...         ...  ...           ...           ...   \n",
       "211         NaN         NaN         NaN  ...   1970.182963   2354.125987   \n",
       "212         NaN         NaN         NaN  ...   1116.084594   1334.784845   \n",
       "213  212.578123  213.896441  242.384333  ...   1159.907762   1489.459070   \n",
       "214  276.688781  277.479715  281.558440  ...    771.598786    948.331854   \n",
       "215         NaN         NaN         NaN  ...           NaN           NaN   \n",
       "\n",
       "             2011          2012          2013          2014          2015  \\\n",
       "0      591.162347    641.872034    637.165044    613.856333    578.466353   \n",
       "1     4437.178067   4247.614279   4413.081743   4578.666720   3952.829458   \n",
       "2     5455.741338   5592.326098   5499.581487   5493.025590   4177.867517   \n",
       "3    10294.302270  11568.793000  11505.393710  11507.232350  11843.331180   \n",
       "4    41100.729940  38392.943900  40626.751630  42300.334130  36039.653500   \n",
       "..            ...           ...           ...           ...           ...   \n",
       "211   2695.193853   2834.021525   3060.312389   3046.821798   2967.851747   \n",
       "212   1374.621313   1446.536280   1607.152275   1674.002766   1608.744312   \n",
       "213   1672.949830   1763.094184   1878.903489   1763.056239   1337.796315   \n",
       "214   1093.654002   1304.969802   1430.000818   1434.899340   1445.071062   \n",
       "215           NaN           NaN           NaN           NaN           NaN   \n",
       "\n",
       "             2016          2017          2018  \n",
       "0      547.228110    556.302138    520.896603  \n",
       "1     4124.108907   4532.890162   5268.848504  \n",
       "2     3946.421445   4044.298372   4114.715061  \n",
       "3    11696.955560  10823.444800  11466.690710  \n",
       "4    37224.108920  39134.393370  42029.762740  \n",
       "..            ...           ...           ...  \n",
       "211   3074.291152   3254.485887   3198.866644  \n",
       "212   1139.870568    963.494721    944.408499  \n",
       "213   1280.578447   1534.865371   1539.900158  \n",
       "214   1464.583529   1602.403507   2146.996385  \n",
       "215           NaN           NaN           NaN  \n",
       "\n",
       "[216 rows x 64 columns]"
      ]
     },
     "execution_count": 34,
     "metadata": {},
     "output_type": "execute_result"
    }
   ],
   "source": [
    "gdp_file_path = '../data/GDP per capita (worldbank).csv'\n",
    "df_gdp = pd.read_csv(gdp_file_path)\n",
    "\n",
    "df_gdp"
   ]
  },
  {
   "cell_type": "markdown",
   "metadata": {},
   "source": [
    "**host_continent**"
   ]
  },
  {
   "cell_type": "code",
   "execution_count": 33,
   "metadata": {},
   "outputs": [],
   "source": [
    "continents = df_gdp['Continent Name']"
   ]
  },
  {
   "cell_type": "markdown",
   "metadata": {},
   "source": [
    "**host_response_time**\n",
    "\n",
    "{'within an hour','within a few hours','within a day','a few days or more'}\n",
    "\n",
    "Attention -- 1691 missing values - delete rows or replace with 'unkwown'"
   ]
  },
  {
   "cell_type": "code",
   "execution_count": 18,
   "metadata": {},
   "outputs": [
    {
     "name": "stdout",
     "output_type": "stream",
     "text": [
      "within an hour        12943\n",
      "within a few hours     1506\n",
      "within a day            884\n",
      "a few days or more      144\n",
      "Name: host_response_time, dtype: int64\n"
     ]
    }
   ],
   "source": [
    "print(df_result['host_response_time'].value_counts())"
   ]
  },
  {
   "cell_type": "code",
   "execution_count": 19,
   "metadata": {
    "scrolled": true
   },
   "outputs": [
    {
     "data": {
      "image/png": "[encoded data removed]",
      "text/plain": [
       "<Figure size 360x360 with 1 Axes>"
      ]
     },
     "metadata": {
      "needs_background": "light"
     },
     "output_type": "display_data"
    }
   ],
   "source": [
    "simple_plot(df_result, 'host_response_time')"
   ]
  },
  {
   "cell_type": "markdown",
   "metadata": {},
   "source": [
    "**host_is_superhost**\n",
    "\n",
    "Change to \"Superhost\" and \"Not Superhost\""
   ]
  },
  {
   "cell_type": "code",
   "execution_count": 43,
   "metadata": {},
   "outputs": [
    {
     "name": "stdout",
     "output_type": "stream",
     "text": [
      "Not Superhost    11879\n",
      "Superhost         5289\n",
      "Name: host_is_superhost, dtype: int64\n",
      "Not Superhost    11879\n",
      "Superhost         5289\n",
      "Name: host_is_superhost, dtype: int64\n"
     ]
    }
   ],
   "source": [
    "print(df_result['host_is_superhost'].value_counts())\n",
    "\n",
    "for index, row in enumerate(df_result['host_is_superhost'], start = 0):\n",
    " if row == 't':\n",
    "  df_result.loc[index, 'host_is_superhost'] = \"Superhost\"\n",
    " elif row == 'f':\n",
    "  df_result.loc[index, 'host_is_superhost'] = \"Not Superhost\"\n",
    "\n",
    "print(df_result['host_is_superhost'].value_counts())"
   ]
  },
  {
   "cell_type": "markdown",
   "metadata": {},
   "source": [
    "**host_identity_verified**\n",
    "\n",
    "-- Change to \"Verified\" and \"Not Verified\""
   ]
  },
  {
   "cell_type": "code",
   "execution_count": 44,
   "metadata": {},
   "outputs": [
    {
     "name": "stdout",
     "output_type": "stream",
     "text": [
      "f    12200\n",
      "t     4968\n",
      "Name: host_identity_verified, dtype: int64\n",
      "Unverified    12200\n",
      "Verified       4968\n",
      "Name: host_identity_verified, dtype: int64\n"
     ]
    }
   ],
   "source": [
    "print(df_result['host_identity_verified'].value_counts())\n",
    "\n",
    "for index, row in enumerate(df_result['host_identity_verified'], start = 0):\n",
    " if row == 't':\n",
    "  df_result.loc[index, 'host_identity_verified'] = \"Verified\"\n",
    " elif row == 'f':\n",
    "  df_result.loc[index, 'host_identity_verified'] = \"Unverified\"\n",
    "\n",
    "print(df_result['host_identity_verified'].value_counts())"
   ]
  }
 ],
 "metadata": {
  "kernelspec": {
   "display_name": "Python 3",
   "language": "python",
   "name": "python3"
  },
  "language_info": {
   "codemirror_mode": {
    "name": "ipython",
    "version": 3
   },
   "file_extension": ".py",
   "mimetype": "text/x-python",
   "name": "python",
   "nbconvert_exporter": "python",
   "pygments_lexer": "ipython3",
   "version": "3.7.5"
  },
  "toc": {
   "base_numbering": 1,
   "nav_menu": {},
   "number_sections": true,
   "sideBar": true,
   "skip_h1_title": false,
   "title_cell": "Table of Contents",
   "title_sidebar": "Contents",
   "toc_cell": false,
   "toc_position": {
    "height": "calc(100% - 180px)",
    "left": "10px",
    "top": "150px",
    "width": "315.542px"
   },
   "toc_section_display": true,
   "toc_window_display": true
  }
 },
 "nbformat": 4,
 "nbformat_minor": 4
}
