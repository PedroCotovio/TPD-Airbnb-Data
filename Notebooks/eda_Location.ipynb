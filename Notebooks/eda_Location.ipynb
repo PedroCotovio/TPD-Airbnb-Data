{
 "cells": [
  {
   "cell_type": "code",
   "execution_count": 2,
   "metadata": {
    "ExecuteTime": {
     "end_time": "2020-03-27T18:13:42.286464Z",
     "start_time": "2020-03-27T18:13:41.024121Z"
    }
   },
   "outputs": [],
   "source": [
    "import numpy as np\n",
    "import pandas as pd\n",
    "import seaborn as sns\n",
    "import matplotlib.pyplot as plt\n",
    "\n",
    "from scipy import stats\n",
    "from scipy.stats import norm"
   ]
  },
  {
   "cell_type": "markdown",
   "metadata": {},
   "source": [
    "# Read data"
   ]
  },
  {
   "cell_type": "code",
   "execution_count": 3,
   "metadata": {
    "ExecuteTime": {
     "end_time": "2020-03-27T18:13:44.015795Z",
     "start_time": "2020-03-27T18:13:42.287466Z"
    }
   },
   "outputs": [
    {
     "name": "stderr",
     "output_type": "stream",
     "text": [
      "/Users/air/anaconda3/lib/python3.7/site-packages/IPython/core/interactiveshell.py:3051: DtypeWarning: Columns (61,62) have mixed types. Specify dtype option on import or set low_memory=False.\n",
      "  interactivity=interactivity, compiler=compiler, result=result)\n"
     ]
    }
   ],
   "source": [
    "listings_file_path = 'data/airbnb/listings.csv'\n",
    "al_file_path = 'data/Alojamento_Local.csv'\n",
    "df_al = pd.read_csv(al_file_path)\n",
    "df_listings = pd.read_csv(listings_file_path)"
   ]
  },
  {
   "cell_type": "markdown",
   "metadata": {},
   "source": [
    "# General schema\n",
    "\n",
    "![Star schema](schema.png)"
   ]
  },
  {
   "cell_type": "markdown",
   "metadata": {},
   "source": [
    "# Exploratory data analysis"
   ]
  },
  {
   "cell_type": "code",
   "execution_count": 4,
   "metadata": {
    "ExecuteTime": {
     "end_time": "2020-03-27T18:13:44.029818Z",
     "start_time": "2020-03-27T18:13:44.017794Z"
    }
   },
   "outputs": [],
   "source": [
    "def missing_data(df, columns):\n",
    "    df_graph = df[columns]\n",
    "    #missing data\n",
    "    total = df_graph.isnull().sum().sort_values(ascending=False)\n",
    "    percent = (df_graph.isnull().sum()/df_graph.isnull().count()).sort_values(ascending=False)\n",
    "    missing_data = pd.concat([total, percent], axis=1, keys=['Total', 'Percent'])\n",
    "    print(missing_data)\n",
    "    plt.figure(figsize=(10,5))\n",
    "    ax = sns.barplot(x='index',y = 'Percent', data= missing_data.reset_index())\n",
    "    ax.set_xticklabels(ax.get_xticklabels(), rotation=45)\n",
    "    return ax\n",
    "\n",
    "def feature_dist(df, column_name):\n",
    "    plt.figure(figsize=(15,4))\n",
    "    sns.distplot(df[column_name] , fit=norm)\n",
    "\n",
    "    # Get the fitted parameters used by the function\n",
    "    (mu, sigma) = norm.fit(df[column_name])\n",
    "    print( '\\n mu = {:.2f} and sigma = {:.2f}\\n'.format(mu, sigma))\n",
    "    plt.legend(['Normal dist. ($\\mu=$ {:.2f} and $\\sigma=$ {:.2f} )'.format(mu, sigma)],\n",
    "                loc='best')\n",
    "    plt.ylabel('Frequency')\n",
    "    plt.title('{} distribution'.format(column_name))\n",
    "    plt.show()\n",
    "\n",
    "#IN BAR CHARTS, SET PERCENTAGES ABOVE EACH BAR\n",
    "def set_bar_percentage(ax, df):\n",
    "    for p in ax.patches:\n",
    "        ax.annotate(f\"{p.get_height() * 100 / df.shape[0]:.2f}%\", (p.get_x() + p.get_width() / 2., p.get_height()),\n",
    "          ha='center', va='center', rotation=0, xytext=(0, 10),\n",
    "          textcoords='offset points')\n",
    "        \n",
    "#IN BAR CHARTS, SET THE VALUE ABOVE EACH BAR\n",
    "def set_bar_amount(ax):\n",
    "    for p in ax.patches:\n",
    "        height = p.get_height()\n",
    "        ax.annotate(\"{0:.2f}%\".format(p.get_height()*100), (p.get_x() + p.get_width() / 2., p.get_height()),\n",
    "            ha='center', va='center', rotation=0, xytext=(0, 10),\n",
    "            textcoords='offset points')\n",
    "        \n",
    "#Simple plot\n",
    "def simple_plot(df,column):\n",
    "    bx = sns.catplot(x=column,data=df, kind='count')\n",
    "    (bx.set_axis_labels(column, \"Count\")\n",
    "        .set_titles(\"{col_name} {col_var}\")\n",
    "        .despine(left=True))"
   ]
  },
  {
   "cell_type": "markdown",
   "metadata": {},
   "source": [
    "## Merge df_listings with alojamento_local.csv"
   ]
  },
  {
   "cell_type": "code",
   "execution_count": 5,
   "metadata": {
    "ExecuteTime": {
     "end_time": "2020-03-27T18:13:47.595968Z",
     "start_time": "2020-03-27T18:13:47.591004Z"
    }
   },
   "outputs": [],
   "source": [
    "def intTryParse(value):\n",
    "    try:\n",
    "        a = int(value)\n",
    "        return True\n",
    "    except ValueError:\n",
    "        return False"
   ]
  },
  {
   "cell_type": "code",
   "execution_count": 6,
   "metadata": {
    "ExecuteTime": {
     "end_time": "2020-03-27T18:13:48.191103Z",
     "start_time": "2020-03-27T18:13:47.598969Z"
    }
   },
   "outputs": [
    {
     "name": "stderr",
     "output_type": "stream",
     "text": [
      "/Users/air/anaconda3/lib/python3.7/site-packages/ipykernel_launcher.py:5: SettingWithCopyWarning: \n",
      "A value is trying to be set on a copy of a slice from a DataFrame.\n",
      "Try using .loc[row_indexer,col_indexer] = value instead\n",
      "\n",
      "See the caveats in the documentation: http://pandas.pydata.org/pandas-docs/stable/user_guide/indexing.html#returning-a-view-versus-a-copy\n",
      "  \"\"\"\n"
     ]
    }
   ],
   "source": [
    "#get only listings where 'license' is not null && != 'Exempt'\n",
    "df_listings_with_license = df_listings[(~df_listings['license'].isnull())&(df_listings['license'] != 'Exempt')]\n",
    "\n",
    "#string replace\n",
    "df_listings_with_license['NrRNAL'] = [s.replace('/AL','').replace('.','') for s in df_listings_with_license['license']]\n",
    "\n",
    "#get only records where license nr can be converted to int \n",
    "df_listings_with_license = df_listings_with_license[[intTryParse(s) for s in df_listings_with_license['NrRNAL']]]\n",
    "\n",
    "#convert NrRNAL to int before merge the two dataframes\n",
    "df_listings_with_license['NrRNAL'] = df_listings_with_license['NrRNAL'].astype(int)\n",
    "\n",
    "#inner join two dataframes\n",
    "df_result = pd.merge(df_listings_with_license, df_al, how='inner', on='NrRNAL')"
   ]
  },
  {
   "cell_type": "code",
   "execution_count": 7,
   "metadata": {
    "ExecuteTime": {
     "end_time": "2020-03-27T18:13:48.197140Z",
     "start_time": "2020-03-27T18:13:48.192101Z"
    }
   },
   "outputs": [
    {
     "name": "stdout",
     "output_type": "stream",
     "text": [
      "dataset size: 17168\n"
     ]
    }
   ],
   "source": [
    "print('dataset size: {}'.format(len(df_result)))"
   ]
  },
  {
   "cell_type": "markdown",
   "metadata": {},
   "source": [
    "## Missing data"
   ]
  },
  {
   "cell_type": "code",
   "execution_count": 8,
   "metadata": {
    "ExecuteTime": {
     "end_time": "2020-03-27T18:13:49.104102Z",
     "start_time": "2020-03-27T18:13:48.945143Z"
    }
   },
   "outputs": [
    {
     "name": "stdout",
     "output_type": "stream",
     "text": [
      "              Total   Percent\n",
      "CodigoPostal     21  0.001223\n",
      "Concelho          0  0.000000\n",
      "Freguesia         0  0.000000\n",
      "Endereco          0  0.000000\n"
     ]
    },
    {
     "data": {
      "text/plain": [
       "Text(0.5, 1.0, 'Location dimension missing values')"
      ]
     },
     "execution_count": 8,
     "metadata": {},
     "output_type": "execute_result"
    },
    {
     "data": {
      "image/png": "[encoded data removed]",
      "text/plain": [
       "<Figure size 720x360 with 1 Axes>"
      ]
     },
     "metadata": {
      "needs_background": "light"
     },
     "output_type": "display_data"
    }
   ],
   "source": [
    "columns = [\n",
    "    'Endereco',\n",
    "    'Freguesia',\n",
    "    'CodigoPostal',\n",
    "    'Concelho'\n",
    "    ]\n",
    "ax = missing_data(df_result,columns)\n",
    "set_bar_amount(ax)\n",
    "ax.set_xlabel('Columns')\n",
    "ax.set_ylabel('Percentage')\n",
    "plt.ylim(0,1)\n",
    "ax.spines['right'].set_visible(False)\n",
    "ax.spines['top'].set_visible(False)\n",
    "ax.set_title('Location dimension missing values')"
   ]
  },
  {
   "cell_type": "markdown",
   "metadata": {},
   "source": [
    "**Street**\n",
    "\n",
    "Some repeated addresses. Reapeated 'Rua'."
   ]
  },
  {
   "cell_type": "code",
   "execution_count": 15,
   "metadata": {
    "scrolled": true
   },
   "outputs": [
    {
     "name": "stdout",
     "output_type": "stream",
     "text": [
      "1ª Rua José Joaquim Fernandes 76               27\n",
      "Rua Rua Fradesso da Silveira 79 1º e sotão     25\n",
      "Rua Rua Fanqueiros 150 3.º                     23\n",
      "Urbanização Pérola do Oceano 10 Rc D           18\n",
      "Rua Rua Bicuda                                 16\n",
      "                                               ..\n",
      "Rua Rua S. Pedro Mártir 9                       1\n",
      "Avenida Avenida Duque Loulé 66 rch dto          1\n",
      "Largo São Martinho 5 2 Esquerdo                 1\n",
      "Travessa Travessa Convento de Jesus 55 4        1\n",
      "Largo Largo Olarias 16 6 Esq.                   1\n",
      "Name: Endereco, Length: 13112, dtype: int64\n"
     ]
    }
   ],
   "source": [
    "print(df_result['Endereco'].value_counts())"
   ]
  },
  {
   "cell_type": "markdown",
   "metadata": {},
   "source": [
    "**Parish**\n",
    "\n",
    "No missing values. Possibly some redundant data and parishes outside of Lisbon."
   ]
  },
  {
   "cell_type": "code",
   "execution_count": 17,
   "metadata": {},
   "outputs": [
    {
     "name": "stdout",
     "output_type": "stream",
     "text": [
      "Misericórdia                                                  2407\n",
      "Santa Maria Maior (Lisboa)                                    2137\n",
      "Santo António                                                 1101\n",
      "Arroios (Lisboa)                                              1029\n",
      "União das freguesias de Cascais e Estoril                     1003\n",
      "                                                              ... \n",
      "Correlhã                                                         1\n",
      "União das freguesias de Azeitão (São Lourenço e São Simão)       1\n",
      "Parada do Bouro                                                  1\n",
      "Paranhos                                                         1\n",
      "Paranhos (Porto)                                                 1\n",
      "Name: Freguesia, Length: 245, dtype: int64\n"
     ]
    }
   ],
   "source": [
    "print(df_result['Freguesia'].value_counts())"
   ]
  },
  {
   "cell_type": "markdown",
   "metadata": {},
   "source": [
    "**County**\n",
    "\n",
    "Some counties are not even in Lisbon. Get fixed list of counties and keep only those entries."
   ]
  },
  {
   "cell_type": "code",
   "execution_count": 16,
   "metadata": {},
   "outputs": [
    {
     "name": "stdout",
     "output_type": "stream",
     "text": [
      "Lisboa             12998\n",
      "Cascais             1337\n",
      "Mafra                842\n",
      "Sintra               837\n",
      "Lourinhã             191\n",
      "                   ...  \n",
      "Castelo de Vide        1\n",
      "Ourique                1\n",
      "Seia                   1\n",
      "Arraiolos              1\n",
      "Coimbra                1\n",
      "Name: Concelho, Length: 88, dtype: int64\n"
     ]
    }
   ],
   "source": [
    "print(df_result['Concelho'].value_counts())"
   ]
  },
  {
   "cell_type": "markdown",
   "metadata": {},
   "source": [
    "**Zip_code**\n",
    "\n",
    "- Some missing values - 21\n",
    "- Some repeated values"
   ]
  },
  {
   "cell_type": "code",
   "execution_count": 18,
   "metadata": {},
   "outputs": [
    {
     "name": "stdout",
     "output_type": "stream",
     "text": [
      "1200-148    60\n",
      "1100-232    56\n",
      "1100-376    54\n",
      "1200-425    40\n",
      "2655-333    36\n",
      "            ..\n",
      "1600-207     1\n",
      "7320-000     1\n",
      "2735-127     1\n",
      "1200-007     1\n",
      "1885-096     1\n",
      "Name: CodigoPostal, Length: 4631, dtype: int64\n"
     ]
    }
   ],
   "source": [
    "print(df_result['CodigoPostal'].value_counts())"
   ]
  }
 ],
 "metadata": {
  "kernelspec": {
   "display_name": "Python 3",
   "language": "python",
   "name": "python3"
  },
  "language_info": {
   "codemirror_mode": {
    "name": "ipython",
    "version": 3
   },
   "file_extension": ".py",
   "mimetype": "text/x-python",
   "name": "python",
   "nbconvert_exporter": "python",
   "pygments_lexer": "ipython3",
   "version": "3.7.4"
  },
  "toc": {
   "base_numbering": 1,
   "nav_menu": {},
   "number_sections": true,
   "sideBar": true,
   "skip_h1_title": false,
   "title_cell": "Table of Contents",
   "title_sidebar": "Contents",
   "toc_cell": false,
   "toc_position": {
    "height": "calc(100% - 180px)",
    "left": "10px",
    "top": "150px",
    "width": "315.542px"
   },
   "toc_section_display": true,
   "toc_window_display": true
  }
 },
 "nbformat": 4,
 "nbformat_minor": 4
}
