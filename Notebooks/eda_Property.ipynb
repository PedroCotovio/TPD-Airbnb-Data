{
 "cells": [
  {
   "cell_type": "code",
   "execution_count": 1,
   "metadata": {
    "ExecuteTime": {
     "end_time": "2020-03-27T18:13:42.286464Z",
     "start_time": "2020-03-27T18:13:41.024121Z"
    }
   },
   "outputs": [],
   "source": [
    "import numpy as np\n",
    "import pandas as pd\n",
    "import seaborn as sns\n",
    "import matplotlib.pyplot as plt\n",
    "\n",
    "from scipy import stats\n",
    "from scipy.stats import norm"
   ]
  },
  {
   "cell_type": "markdown",
   "metadata": {},
   "source": [
    "# Read data"
   ]
  },
  {
   "cell_type": "code",
   "execution_count": 2,
   "metadata": {
    "ExecuteTime": {
     "end_time": "2020-03-27T18:13:44.015795Z",
     "start_time": "2020-03-27T18:13:42.287466Z"
    }
   },
   "outputs": [
    {
     "name": "stderr",
     "output_type": "stream",
     "text": [
      "/Users/air/anaconda3/lib/python3.7/site-packages/IPython/core/interactiveshell.py:3051: DtypeWarning: Columns (61,62) have mixed types. Specify dtype option on import or set low_memory=False.\n",
      "  interactivity=interactivity, compiler=compiler, result=result)\n"
     ]
    },
    {
     "data": {
      "text/html": [
       "<div>\n",
       "<style scoped>\n",
       "    .dataframe tbody tr th:only-of-type {\n",
       "        vertical-align: middle;\n",
       "    }\n",
       "\n",
       "    .dataframe tbody tr th {\n",
       "        vertical-align: top;\n",
       "    }\n",
       "\n",
       "    .dataframe thead th {\n",
       "        text-align: right;\n",
       "    }\n",
       "</style>\n",
       "<table border=\"1\" class=\"dataframe\">\n",
       "  <thead>\n",
       "    <tr style=\"text-align: right;\">\n",
       "      <th></th>\n",
       "      <th>id</th>\n",
       "      <th>listing_url</th>\n",
       "      <th>scrape_id</th>\n",
       "      <th>last_scraped</th>\n",
       "      <th>name</th>\n",
       "      <th>summary</th>\n",
       "      <th>space</th>\n",
       "      <th>description</th>\n",
       "      <th>experiences_offered</th>\n",
       "      <th>neighborhood_overview</th>\n",
       "      <th>...</th>\n",
       "      <th>instant_bookable</th>\n",
       "      <th>is_business_travel_ready</th>\n",
       "      <th>cancellation_policy</th>\n",
       "      <th>require_guest_profile_picture</th>\n",
       "      <th>require_guest_phone_verification</th>\n",
       "      <th>calculated_host_listings_count</th>\n",
       "      <th>calculated_host_listings_count_entire_homes</th>\n",
       "      <th>calculated_host_listings_count_private_rooms</th>\n",
       "      <th>calculated_host_listings_count_shared_rooms</th>\n",
       "      <th>reviews_per_month</th>\n",
       "    </tr>\n",
       "  </thead>\n",
       "  <tbody>\n",
       "    <tr>\n",
       "      <th>0</th>\n",
       "      <td>6499</td>\n",
       "      <td>https://www.airbnb.com/rooms/6499</td>\n",
       "      <td>20200128033557</td>\n",
       "      <td>2020-01-28</td>\n",
       "      <td>Belém 1 Bedroom Historical Apartment</td>\n",
       "      <td>This apartment is all about Location, next to ...</td>\n",
       "      <td>Fully furnished apartment (35m2). Small inside...</td>\n",
       "      <td>This apartment is all about Location, next to ...</td>\n",
       "      <td>none</td>\n",
       "      <td>To get  to the city center, tram 15 stops in f...</td>\n",
       "      <td>...</td>\n",
       "      <td>t</td>\n",
       "      <td>f</td>\n",
       "      <td>moderate</td>\n",
       "      <td>f</td>\n",
       "      <td>f</td>\n",
       "      <td>1</td>\n",
       "      <td>1</td>\n",
       "      <td>0</td>\n",
       "      <td>0</td>\n",
       "      <td>0.39</td>\n",
       "    </tr>\n",
       "    <tr>\n",
       "      <th>1</th>\n",
       "      <td>25659</td>\n",
       "      <td>https://www.airbnb.com/rooms/25659</td>\n",
       "      <td>20200128033557</td>\n",
       "      <td>2020-01-28</td>\n",
       "      <td>Sunny,  Alfama  Sleeps 3 - Coeur d'Alfama</td>\n",
       "      <td>Sunny 1 Bedroom cozy apartment in historic Alf...</td>\n",
       "      <td>Charming, sunny, cozy apartment in the heart o...</td>\n",
       "      <td>Sunny 1 Bedroom cozy apartment in historic Alf...</td>\n",
       "      <td>none</td>\n",
       "      <td>Alfama is the oldest and most picturesque quar...</td>\n",
       "      <td>...</td>\n",
       "      <td>t</td>\n",
       "      <td>f</td>\n",
       "      <td>moderate</td>\n",
       "      <td>f</td>\n",
       "      <td>f</td>\n",
       "      <td>1</td>\n",
       "      <td>1</td>\n",
       "      <td>0</td>\n",
       "      <td>0</td>\n",
       "      <td>1.61</td>\n",
       "    </tr>\n",
       "    <tr>\n",
       "      <th>2</th>\n",
       "      <td>28066</td>\n",
       "      <td>https://www.airbnb.com/rooms/28066</td>\n",
       "      <td>20200128033557</td>\n",
       "      <td>2020-01-29</td>\n",
       "      <td>ear the birds</td>\n",
       "      <td>NaN</td>\n",
       "      <td>traditional farm house in a quiet place where ...</td>\n",
       "      <td>traditional farm house in a quiet place where ...</td>\n",
       "      <td>none</td>\n",
       "      <td>NaN</td>\n",
       "      <td>...</td>\n",
       "      <td>f</td>\n",
       "      <td>f</td>\n",
       "      <td>flexible</td>\n",
       "      <td>f</td>\n",
       "      <td>f</td>\n",
       "      <td>1</td>\n",
       "      <td>0</td>\n",
       "      <td>1</td>\n",
       "      <td>0</td>\n",
       "      <td>NaN</td>\n",
       "    </tr>\n",
       "    <tr>\n",
       "      <th>3</th>\n",
       "      <td>29138</td>\n",
       "      <td>https://www.airbnb.com/rooms/29138</td>\n",
       "      <td>20200128033557</td>\n",
       "      <td>2020-01-28</td>\n",
       "      <td>Room for rent in shared house</td>\n",
       "      <td>NaN</td>\n",
       "      <td>05 minutes from city center by subway, 10 minu...</td>\n",
       "      <td>05 minutes from city center by subway, 10 minu...</td>\n",
       "      <td>none</td>\n",
       "      <td>NaN</td>\n",
       "      <td>...</td>\n",
       "      <td>f</td>\n",
       "      <td>f</td>\n",
       "      <td>flexible</td>\n",
       "      <td>f</td>\n",
       "      <td>f</td>\n",
       "      <td>1</td>\n",
       "      <td>0</td>\n",
       "      <td>1</td>\n",
       "      <td>0</td>\n",
       "      <td>NaN</td>\n",
       "    </tr>\n",
       "    <tr>\n",
       "      <th>4</th>\n",
       "      <td>29248</td>\n",
       "      <td>https://www.airbnb.com/rooms/29248</td>\n",
       "      <td>20200128033557</td>\n",
       "      <td>2020-01-28</td>\n",
       "      <td>Apartamento Alfama com vista para o rio!</td>\n",
       "      <td>NaN</td>\n",
       "      <td>Located in the city center, and great location...</td>\n",
       "      <td>Located in the city center, and great location...</td>\n",
       "      <td>none</td>\n",
       "      <td>NaN</td>\n",
       "      <td>...</td>\n",
       "      <td>t</td>\n",
       "      <td>f</td>\n",
       "      <td>moderate</td>\n",
       "      <td>f</td>\n",
       "      <td>f</td>\n",
       "      <td>1</td>\n",
       "      <td>1</td>\n",
       "      <td>0</td>\n",
       "      <td>0</td>\n",
       "      <td>2.89</td>\n",
       "    </tr>\n",
       "  </tbody>\n",
       "</table>\n",
       "<p>5 rows × 106 columns</p>\n",
       "</div>"
      ],
      "text/plain": [
       "      id                         listing_url       scrape_id last_scraped  \\\n",
       "0   6499   https://www.airbnb.com/rooms/6499  20200128033557   2020-01-28   \n",
       "1  25659  https://www.airbnb.com/rooms/25659  20200128033557   2020-01-28   \n",
       "2  28066  https://www.airbnb.com/rooms/28066  20200128033557   2020-01-29   \n",
       "3  29138  https://www.airbnb.com/rooms/29138  20200128033557   2020-01-28   \n",
       "4  29248  https://www.airbnb.com/rooms/29248  20200128033557   2020-01-28   \n",
       "\n",
       "                                        name  \\\n",
       "0       Belém 1 Bedroom Historical Apartment   \n",
       "1  Sunny,  Alfama  Sleeps 3 - Coeur d'Alfama   \n",
       "2                              ear the birds   \n",
       "3              Room for rent in shared house   \n",
       "4   Apartamento Alfama com vista para o rio!   \n",
       "\n",
       "                                             summary  \\\n",
       "0  This apartment is all about Location, next to ...   \n",
       "1  Sunny 1 Bedroom cozy apartment in historic Alf...   \n",
       "2                                                NaN   \n",
       "3                                                NaN   \n",
       "4                                                NaN   \n",
       "\n",
       "                                               space  \\\n",
       "0  Fully furnished apartment (35m2). Small inside...   \n",
       "1  Charming, sunny, cozy apartment in the heart o...   \n",
       "2  traditional farm house in a quiet place where ...   \n",
       "3  05 minutes from city center by subway, 10 minu...   \n",
       "4  Located in the city center, and great location...   \n",
       "\n",
       "                                         description experiences_offered  \\\n",
       "0  This apartment is all about Location, next to ...                none   \n",
       "1  Sunny 1 Bedroom cozy apartment in historic Alf...                none   \n",
       "2  traditional farm house in a quiet place where ...                none   \n",
       "3  05 minutes from city center by subway, 10 minu...                none   \n",
       "4  Located in the city center, and great location...                none   \n",
       "\n",
       "                               neighborhood_overview  ... instant_bookable  \\\n",
       "0  To get  to the city center, tram 15 stops in f...  ...                t   \n",
       "1  Alfama is the oldest and most picturesque quar...  ...                t   \n",
       "2                                                NaN  ...                f   \n",
       "3                                                NaN  ...                f   \n",
       "4                                                NaN  ...                t   \n",
       "\n",
       "  is_business_travel_ready cancellation_policy require_guest_profile_picture  \\\n",
       "0                        f            moderate                             f   \n",
       "1                        f            moderate                             f   \n",
       "2                        f            flexible                             f   \n",
       "3                        f            flexible                             f   \n",
       "4                        f            moderate                             f   \n",
       "\n",
       "  require_guest_phone_verification  calculated_host_listings_count  \\\n",
       "0                                f                               1   \n",
       "1                                f                               1   \n",
       "2                                f                               1   \n",
       "3                                f                               1   \n",
       "4                                f                               1   \n",
       "\n",
       "   calculated_host_listings_count_entire_homes  \\\n",
       "0                                            1   \n",
       "1                                            1   \n",
       "2                                            0   \n",
       "3                                            0   \n",
       "4                                            1   \n",
       "\n",
       "  calculated_host_listings_count_private_rooms  \\\n",
       "0                                            0   \n",
       "1                                            0   \n",
       "2                                            1   \n",
       "3                                            1   \n",
       "4                                            0   \n",
       "\n",
       "   calculated_host_listings_count_shared_rooms  reviews_per_month  \n",
       "0                                            0               0.39  \n",
       "1                                            0               1.61  \n",
       "2                                            0                NaN  \n",
       "3                                            0                NaN  \n",
       "4                                            0               2.89  \n",
       "\n",
       "[5 rows x 106 columns]"
      ]
     },
     "execution_count": 2,
     "metadata": {},
     "output_type": "execute_result"
    }
   ],
   "source": [
    "listings_file_path = 'data/airbnb/listings.csv'\n",
    "al_file_path = 'data/Alojamento_Local.csv'\n",
    "df_al = pd.read_csv(al_file_path)\n",
    "df_listings = pd.read_csv(listings_file_path)\n",
    "df_listings.head()"
   ]
  },
  {
   "cell_type": "markdown",
   "metadata": {},
   "source": [
    "# General schema\n",
    "\n",
    "![Star schema](schema.png)"
   ]
  },
  {
   "cell_type": "markdown",
   "metadata": {},
   "source": [
    "## Merge df_listings with alojamento_local.csv"
   ]
  },
  {
   "cell_type": "code",
   "execution_count": 3,
   "metadata": {
    "ExecuteTime": {
     "end_time": "2020-03-27T18:13:47.595968Z",
     "start_time": "2020-03-27T18:13:47.591004Z"
    }
   },
   "outputs": [],
   "source": [
    "def intTryParse(value):\n",
    "    try:\n",
    "        a = int(value)\n",
    "        return True\n",
    "    except ValueError:\n",
    "        return False"
   ]
  },
  {
   "cell_type": "code",
   "execution_count": 4,
   "metadata": {
    "ExecuteTime": {
     "end_time": "2020-03-27T18:13:48.191103Z",
     "start_time": "2020-03-27T18:13:47.598969Z"
    }
   },
   "outputs": [
    {
     "name": "stderr",
     "output_type": "stream",
     "text": [
      "/Users/air/anaconda3/lib/python3.7/site-packages/ipykernel_launcher.py:5: SettingWithCopyWarning: \n",
      "A value is trying to be set on a copy of a slice from a DataFrame.\n",
      "Try using .loc[row_indexer,col_indexer] = value instead\n",
      "\n",
      "See the caveats in the documentation: http://pandas.pydata.org/pandas-docs/stable/user_guide/indexing.html#returning-a-view-versus-a-copy\n",
      "  \"\"\"\n"
     ]
    }
   ],
   "source": [
    "#get only listings where 'license' is not null && != 'Exempt'\n",
    "df_listings_with_license = df_listings[(~df_listings['license'].isnull())&(df_listings['license'] != 'Exempt')]\n",
    "\n",
    "#string replace\n",
    "df_listings_with_license['NrRNAL'] = [s.replace('/AL','').replace('.','') for s in df_listings_with_license['license']]\n",
    "\n",
    "#get only records where license nr can be converted to int \n",
    "df_listings_with_license = df_listings_with_license[[intTryParse(s) for s in df_listings_with_license['NrRNAL']]]\n",
    "\n",
    "#convert NrRNAL to int before merge the two dataframes\n",
    "df_listings_with_license['NrRNAL'] = df_listings_with_license['NrRNAL'].astype(int)\n",
    "\n",
    "#inner join two dataframes\n",
    "df_result = pd.merge(df_listings_with_license, df_al, how='inner', on='NrRNAL')"
   ]
  },
  {
   "cell_type": "code",
   "execution_count": 5,
   "metadata": {
    "ExecuteTime": {
     "end_time": "2020-03-27T18:13:48.197140Z",
     "start_time": "2020-03-27T18:13:48.192101Z"
    }
   },
   "outputs": [
    {
     "name": "stdout",
     "output_type": "stream",
     "text": [
      "dataset size: 17168\n"
     ]
    }
   ],
   "source": [
    "print('dataset size: {}'.format(len(df_result)))"
   ]
  },
  {
   "cell_type": "code",
   "execution_count": 6,
   "metadata": {
    "ExecuteTime": {
     "end_time": "2020-03-27T18:13:48.207104Z",
     "start_time": "2020-03-27T18:13:48.199112Z"
    }
   },
   "outputs": [
    {
     "data": {
      "text/plain": [
       "['id',\n",
       " 'listing_url',\n",
       " 'scrape_id',\n",
       " 'last_scraped',\n",
       " 'name',\n",
       " 'summary',\n",
       " 'space',\n",
       " 'description',\n",
       " 'experiences_offered',\n",
       " 'neighborhood_overview',\n",
       " 'notes',\n",
       " 'transit',\n",
       " 'access',\n",
       " 'interaction',\n",
       " 'house_rules',\n",
       " 'thumbnail_url',\n",
       " 'medium_url',\n",
       " 'picture_url',\n",
       " 'xl_picture_url',\n",
       " 'host_id',\n",
       " 'host_url',\n",
       " 'host_name',\n",
       " 'host_since',\n",
       " 'host_location',\n",
       " 'host_about',\n",
       " 'host_response_time',\n",
       " 'host_response_rate',\n",
       " 'host_acceptance_rate',\n",
       " 'host_is_superhost',\n",
       " 'host_thumbnail_url',\n",
       " 'host_picture_url',\n",
       " 'host_neighbourhood',\n",
       " 'host_listings_count',\n",
       " 'host_total_listings_count',\n",
       " 'host_verifications',\n",
       " 'host_has_profile_pic',\n",
       " 'host_identity_verified',\n",
       " 'street',\n",
       " 'neighbourhood',\n",
       " 'neighbourhood_cleansed',\n",
       " 'neighbourhood_group_cleansed',\n",
       " 'city',\n",
       " 'state',\n",
       " 'zipcode',\n",
       " 'market',\n",
       " 'smart_location',\n",
       " 'country_code',\n",
       " 'country',\n",
       " 'latitude',\n",
       " 'longitude',\n",
       " 'is_location_exact',\n",
       " 'property_type',\n",
       " 'room_type',\n",
       " 'accommodates',\n",
       " 'bathrooms',\n",
       " 'bedrooms',\n",
       " 'beds',\n",
       " 'bed_type',\n",
       " 'amenities',\n",
       " 'square_feet',\n",
       " 'price',\n",
       " 'weekly_price',\n",
       " 'monthly_price',\n",
       " 'security_deposit',\n",
       " 'cleaning_fee',\n",
       " 'guests_included',\n",
       " 'extra_people',\n",
       " 'minimum_nights',\n",
       " 'maximum_nights',\n",
       " 'minimum_minimum_nights',\n",
       " 'maximum_minimum_nights',\n",
       " 'minimum_maximum_nights',\n",
       " 'maximum_maximum_nights',\n",
       " 'minimum_nights_avg_ntm',\n",
       " 'maximum_nights_avg_ntm',\n",
       " 'calendar_updated',\n",
       " 'has_availability',\n",
       " 'availability_30',\n",
       " 'availability_60',\n",
       " 'availability_90',\n",
       " 'availability_365',\n",
       " 'calendar_last_scraped',\n",
       " 'number_of_reviews',\n",
       " 'number_of_reviews_ltm',\n",
       " 'first_review',\n",
       " 'last_review',\n",
       " 'review_scores_rating',\n",
       " 'review_scores_accuracy',\n",
       " 'review_scores_cleanliness',\n",
       " 'review_scores_checkin',\n",
       " 'review_scores_communication',\n",
       " 'review_scores_location',\n",
       " 'review_scores_value',\n",
       " 'requires_license',\n",
       " 'license',\n",
       " 'jurisdiction_names',\n",
       " 'instant_bookable',\n",
       " 'is_business_travel_ready',\n",
       " 'cancellation_policy',\n",
       " 'require_guest_profile_picture',\n",
       " 'require_guest_phone_verification',\n",
       " 'calculated_host_listings_count',\n",
       " 'calculated_host_listings_count_entire_homes',\n",
       " 'calculated_host_listings_count_private_rooms',\n",
       " 'calculated_host_listings_count_shared_rooms',\n",
       " 'reviews_per_month',\n",
       " 'NrRNAL',\n",
       " 'X',\n",
       " 'Y',\n",
       " 'OBJECTID',\n",
       " 'DataRegisto',\n",
       " 'DataAberturaPublico',\n",
       " 'Denominacao',\n",
       " 'Modalidade',\n",
       " 'NrUtentes',\n",
       " 'Endereco',\n",
       " 'CodigoPostal',\n",
       " 'LOCALIDADE',\n",
       " 'FiabilidadeGeo',\n",
       " 'Freguesia',\n",
       " 'Concelho',\n",
       " 'Distrito',\n",
       " 'NUTSIII',\n",
       " 'NUTSII',\n",
       " 'NUTSIICCDR',\n",
       " 'ERT',\n",
       " 'NUTSI',\n",
       " 'RNAP',\n",
       " 'RedeNatura2000Global',\n",
       " 'RedeNatura2000Sitios',\n",
       " 'RedeNatura2000ZPE',\n",
       " 'FaixaCosteira',\n",
       " 'ZonaCosteira',\n",
       " 'ZonaTerrestreProtecao',\n",
       " 'LimitePROT',\n",
       " 'LimitePOC',\n",
       " 'LimiteAlbufeiras',\n",
       " 'UNESCO',\n",
       " 'Geoparques',\n",
       " 'Biosfera',\n",
       " 'ConcessaoTuristica',\n",
       " 'PNCT',\n",
       " 'concelhoRNAL',\n",
       " 'EstacaoNautica',\n",
       " 'RedeAldeias',\n",
       " 'FreguesiasCosteiras',\n",
       " 'NUTSIIICosteiras']"
      ]
     },
     "execution_count": 6,
     "metadata": {},
     "output_type": "execute_result"
    }
   ],
   "source": [
    "list(df_result.columns)"
   ]
  },
  {
   "cell_type": "markdown",
   "metadata": {},
   "source": [
    "# Exploratory data analysis"
   ]
  },
  {
   "cell_type": "code",
   "execution_count": 7,
   "metadata": {
    "ExecuteTime": {
     "end_time": "2020-03-27T18:13:44.029818Z",
     "start_time": "2020-03-27T18:13:44.017794Z"
    }
   },
   "outputs": [],
   "source": [
    "def missing_data(df, columns):\n",
    "    df_graph = df[columns]\n",
    "    #missing data\n",
    "    total = df_graph.isnull().sum().sort_values(ascending=False)\n",
    "    percent = (df_graph.isnull().sum()/df_graph.isnull().count()).sort_values(ascending=False)\n",
    "    missing_data = pd.concat([total, percent], axis=1, keys=['Total', 'Percent'])\n",
    "    print(missing_data)\n",
    "    plt.figure(figsize=(10,5))\n",
    "    ax = sns.barplot(x='index',y = 'Percent', data= missing_data.reset_index())\n",
    "    ax.set_xticklabels(ax.get_xticklabels(), rotation=45)\n",
    "    return ax\n",
    "\n",
    "def feature_dist(df, column_name):\n",
    "    plt.figure(figsize=(15,4))\n",
    "    sns.distplot(df[column_name] , fit=norm)\n",
    "\n",
    "    # Get the fitted parameters used by the function\n",
    "    (mu, sigma) = norm.fit(df[column_name])\n",
    "    print( '\\n mu = {:.2f} and sigma = {:.2f}\\n'.format(mu, sigma))\n",
    "    plt.legend(['Normal dist. ($\\mu=$ {:.2f} and $\\sigma=$ {:.2f} )'.format(mu, sigma)],\n",
    "                loc='best')\n",
    "    plt.ylabel('Frequency')\n",
    "    plt.title('{} distribution'.format(column_name))\n",
    "    plt.show()\n",
    "\n",
    "#IN BAR CHARTS, SET PERCENTAGES ABOVE EACH BAR\n",
    "def set_bar_percentage(ax, df):\n",
    "    for p in ax.patches:\n",
    "        ax.annotate(f\"{p.get_height() * 100 / df.shape[0]:.2f}%\", (p.get_x() + p.get_width() / 2., p.get_height()),\n",
    "          ha='center', va='center', rotation=0, xytext=(0, 10),\n",
    "          textcoords='offset points')\n",
    "        \n",
    "#IN BAR CHARTS, SET THE VALUE ABOVE EACH BAR\n",
    "def set_bar_amount(ax):\n",
    "    for p in ax.patches:\n",
    "        height = p.get_height()\n",
    "        ax.annotate(\"{0:.2f}%\".format(p.get_height()*100), (p.get_x() + p.get_width() / 2., p.get_height()),\n",
    "            ha='center', va='center', rotation=0, xytext=(0, 10),\n",
    "            textcoords='offset points')\n",
    "        \n",
    "#Simple plot\n",
    "def simple_plot(df,column):\n",
    "    bx = sns.catplot(x=column,data=df, kind='count')\n",
    "    (bx.set_axis_labels(column, \"Count\")\n",
    "        .set_titles(\"{col_name} {col_var}\")\n",
    "        .despine(left=True))"
   ]
  },
  {
   "cell_type": "markdown",
   "metadata": {},
   "source": [
    "## Missing data"
   ]
  },
  {
   "cell_type": "code",
   "execution_count": 8,
   "metadata": {},
   "outputs": [
    {
     "name": "stdout",
     "output_type": "stream",
     "text": [
      "              Total   Percent\n",
      "beds             58  0.003378\n",
      "bedrooms          8  0.000466\n",
      "bathrooms         5  0.000291\n",
      "bed_type          0  0.000000\n",
      "accommodates      0  0.000000\n",
      "room_type         0  0.000000\n",
      "Modalidade        0  0.000000\n"
     ]
    },
    {
     "data": {
      "text/plain": [
       "Text(0.5, 1.0, 'Property dimension missing values')"
      ]
     },
     "execution_count": 8,
     "metadata": {},
     "output_type": "execute_result"
    },
    {
     "data": {
      "image/png": "[encoded data removed]",
      "text/plain": [
       "<Figure size 720x360 with 1 Axes>"
      ]
     },
     "metadata": {
      "needs_background": "light"
     },
     "output_type": "display_data"
    }
   ],
   "source": [
    "columns = [\n",
    "'Modalidade',\n",
    "'room_type',\n",
    "'accommodates',\n",
    "'bathrooms',\n",
    "'bedrooms',\n",
    "'beds',\n",
    "'bed_type',\n",
    "]\n",
    "\n",
    "ax = missing_data(df_result,columns)\n",
    "set_bar_amount(ax)\n",
    "ax.set_xlabel('Columns')\n",
    "ax.set_ylabel('Percentage')\n",
    "plt.ylim(0,1)\n",
    "ax.spines['right'].set_visible(False)\n",
    "ax.spines['top'].set_visible(False)\n",
    "ax.set_title('Property dimension missing values')"
   ]
  },
  {
   "cell_type": "markdown",
   "metadata": {},
   "source": [
    "## Property dimension"
   ]
  },
  {
   "cell_type": "markdown",
   "metadata": {},
   "source": [
    "**Property_type**\n",
    "\n",
    "{'Apartment', 'GuestHouse', 'House', 'Hotel/Hostel'}\n",
    "\n",
    "NOTA: Antes tínhamos {'Apartment', 'GuestHouse', 'House', 'Hostel', 'Room'}"
   ]
  },
  {
   "cell_type": "code",
   "execution_count": 9,
   "metadata": {},
   "outputs": [
    {
     "name": "stdout",
     "output_type": "stream",
     "text": [
      "Apartment                 13296\n",
      "House                      1175\n",
      "Condominium                 381\n",
      "Serviced apartment          347\n",
      "Villa                       295\n",
      "Guesthouse                  253\n",
      "Hostel                      238\n",
      "Loft                        211\n",
      "Boutique hotel              190\n",
      "Bed and breakfast           165\n",
      "Townhouse                   138\n",
      "Guest suite                 120\n",
      "Cottage                     115\n",
      "Aparthotel                   56\n",
      "Tiny house                   34\n",
      "Hotel                        26\n",
      "Chalet                       24\n",
      "Castle                       23\n",
      "Farm stay                    19\n",
      "Earth house                  11\n",
      "Windmill                     11\n",
      "Bungalow                     11\n",
      "Nature lodge                  8\n",
      "Cabin                         6\n",
      "Camper/RV                     4\n",
      "Dome house                    3\n",
      "Casa particular (Cuba)        3\n",
      "Other                         2\n",
      "Lighthouse                    1\n",
      "Vacation home                 1\n",
      "Boat                          1\n",
      "Name: property_type, dtype: int64\n"
     ]
    }
   ],
   "source": [
    "print(df_result['property_type'].value_counts())"
   ]
  },
  {
   "cell_type": "code",
   "execution_count": 10,
   "metadata": {},
   "outputs": [],
   "source": [
    "df_result_processed = df_result.copy()\n",
    "property_type=[]\n",
    "delete=[]\n",
    "index=-1\n",
    "\n",
    "for i in df_result_processed['property_type']:\n",
    "    index+=1\n",
    "    if i in [\"Apartment\", \"Serviced apartment\", \"Aparthotel\",\"Loft\"]:\n",
    "        property_type.append(\"Apartment\")\n",
    "        continue\n",
    "    if i in [\"House\",\"Townhouse\",\"Villa\",\"Dome house\",\"Vacation home\",\"Lighthouse\",\"Casa particular (Cuba)\",\"Tiny house\",\"Farm stay\",\"Cottage\"]:\n",
    "        property_type.append(\"House\")\n",
    "        continue\n",
    "    if i in [\"Guesthouse\",\"Guest suite\"]:\n",
    "        property_type.append(\"Guesthouse\")\n",
    "        continue\n",
    "    if i in [\"Hostel\",\"Bed and breakfast\",\"Boutique hotel\",\"Hotel\"]:\n",
    "        property_type.append(\"Hotel/Hostel\")\n",
    "        continue\n",
    "    else:\n",
    "        delete.append(index)"
   ]
  },
  {
   "cell_type": "code",
   "execution_count": 11,
   "metadata": {},
   "outputs": [
    {
     "name": "stdout",
     "output_type": "stream",
     "text": [
      "Deleted rows: 482\n",
      "Remaining instances: (16686, 149)\n"
     ]
    }
   ],
   "source": [
    "# Drop irrelevant instances\n",
    "df_result_processed.drop(index=delete, axis=0, inplace=True)\n",
    "\n",
    "#Reset index\n",
    "df_result_processed.reset_index(inplace=True)\n",
    "\n",
    "# Add new processed column 'property_type'\n",
    "df_result_processed.insert(1,\"property_type_processed\", property_type)\n",
    "\n",
    "print(\"Deleted rows:\",len(delete))\n",
    "print(\"Remaining instances:\", df_result_processed.shape)"
   ]
  },
  {
   "cell_type": "code",
   "execution_count": 12,
   "metadata": {},
   "outputs": [
    {
     "data": {
      "image/png": "[encoded data removed]",
      "text/plain": [
       "<Figure size 360x360 with 1 Axes>"
      ]
     },
     "metadata": {
      "needs_background": "light"
     },
     "output_type": "display_data"
    }
   ],
   "source": [
    "simple_plot(df_result_processed, \"property_type_processed\")"
   ]
  },
  {
   "cell_type": "markdown",
   "metadata": {},
   "source": [
    "**room_type**\n",
    "\n",
    "Room Type - {'Entire Property', 'Private Room', 'Hotel Room', 'Shared Room'}"
   ]
  },
  {
   "cell_type": "code",
   "execution_count": 13,
   "metadata": {
    "ExecuteTime": {
     "end_time": "2020-03-27T18:13:44.049628Z",
     "start_time": "2020-03-27T18:13:44.032143Z"
    }
   },
   "outputs": [
    {
     "name": "stdout",
     "output_type": "stream",
     "text": [
      "Entire home/apt    13252\n",
      "Private room        2727\n",
      "Hotel room           459\n",
      "Shared room          248\n",
      "Name: room_type, dtype: int64\n"
     ]
    },
    {
     "data": {
      "image/png": "[encoded data removed]",
      "text/plain": [
       "<Figure size 360x360 with 1 Axes>"
      ]
     },
     "metadata": {
      "needs_background": "light"
     },
     "output_type": "display_data"
    }
   ],
   "source": [
    "print(df_result_processed['room_type'].value_counts())\n",
    "\n",
    "simple_plot(df_result_processed, \"room_type\")"
   ]
  },
  {
   "cell_type": "markdown",
   "metadata": {},
   "source": [
    "##### **accommodates**\n",
    "\n",
    "{'0-2','2-4','4-5','>5'}"
   ]
  },
  {
   "cell_type": "code",
   "execution_count": 14,
   "metadata": {
    "ExecuteTime": {
     "end_time": "2020-03-27T18:13:44.524591Z",
     "start_time": "2020-03-27T18:13:44.050628Z"
    }
   },
   "outputs": [
    {
     "name": "stdout",
     "output_type": "stream",
     "text": [
      "4     5342\n",
      "2     4452\n",
      "6     2472\n",
      "3     1575\n",
      "5     1079\n",
      "8      681\n",
      "1      451\n",
      "7      361\n",
      "10     265\n",
      "9      167\n",
      "12     101\n",
      "16      95\n",
      "14      57\n",
      "11      26\n",
      "13      21\n",
      "15      20\n",
      "26       1\n",
      "18       1\n",
      "32       1\n",
      "Name: accommodates, dtype: int64\n",
      "\n",
      " mu = 4.21 and sigma = 2.34\n",
      "\n"
     ]
    },
    {
     "data": {
      "image/png": "[encoded data removed]",
      "text/plain": [
       "<Figure size 1080x288 with 1 Axes>"
      ]
     },
     "metadata": {
      "needs_background": "light"
     },
     "output_type": "display_data"
    }
   ],
   "source": [
    "print(df_result['accommodates'].value_counts())\n",
    "feature_dist(df_result[~df_result['accommodates'].isnull()],'accommodates')"
   ]
  },
  {
   "cell_type": "code",
   "execution_count": 15,
   "metadata": {
    "ExecuteTime": {
     "end_time": "2020-03-27T18:13:44.540623Z",
     "start_time": "2020-03-27T18:13:44.525589Z"
    }
   },
   "outputs": [
    {
     "data": {
      "text/plain": [
       "(2.0, 4.0]      6715\n",
       "(0.999, 2.0]    4792\n",
       "(5.0, 32.0]     4130\n",
       "(4.0, 5.0]      1049\n",
       "Name: accommodates_processed, dtype: int64"
      ]
     },
     "execution_count": 15,
     "metadata": {},
     "output_type": "execute_result"
    }
   ],
   "source": [
    "df_result_processed['accommodates_processed'] = pd.qcut(df_result['accommodates'],4, duplicates='drop')\n",
    "df_result_processed.accommodates_processed.value_counts()"
   ]
  },
  {
   "cell_type": "code",
   "execution_count": 16,
   "metadata": {},
   "outputs": [
    {
     "data": {
      "image/png": "[encoded data removed]",
      "text/plain": [
       "<Figure size 360x360 with 1 Axes>"
      ]
     },
     "metadata": {
      "needs_background": "light"
     },
     "output_type": "display_data"
    }
   ],
   "source": [
    "simple_plot(df_result_processed,'accommodates_processed')"
   ]
  },
  {
   "cell_type": "markdown",
   "metadata": {
    "ExecuteTime": {
     "end_time": "2020-03-25T21:33:51.967425Z",
     "start_time": "2020-03-25T21:33:51.947084Z"
    }
   },
   "source": [
    "**Bathrooms**\n",
    "\n",
    "{'0','1','2','3','>=4'}\n",
    "\n",
    "Bathrooms = 0 are probably shared bathrooms"
   ]
  },
  {
   "cell_type": "code",
   "execution_count": 17,
   "metadata": {
    "ExecuteTime": {
     "end_time": "2020-03-25T21:33:51.967425Z",
     "start_time": "2020-03-25T21:33:51.947084Z"
    }
   },
   "outputs": [
    {
     "name": "stdout",
     "output_type": "stream",
     "text": [
      "1.0     11424\n",
      "2.0      3138\n",
      "1.5       836\n",
      "3.0       706\n",
      "2.5       431\n",
      "4.0       138\n",
      "3.5       125\n",
      "0.0        75\n",
      "5.0        72\n",
      "4.5        48\n",
      "6.0        47\n",
      "5.5        34\n",
      "8.0        19\n",
      "0.5        16\n",
      "7.0        13\n",
      "9.0        13\n",
      "10.0       11\n",
      "6.5         4\n",
      "7.5         3\n",
      "12.0        2\n",
      "8.5         2\n",
      "24.0        1\n",
      "18.0        1\n",
      "9.5         1\n",
      "16.5        1\n",
      "13.0        1\n",
      "11.5        1\n",
      "Name: bathrooms, dtype: int64\n",
      "\n",
      " mu = 1.45 and sigma = 0.92\n",
      "\n"
     ]
    },
    {
     "data": {
      "image/png": "[encoded data removed]",
      "text/plain": [
       "<Figure size 1080x288 with 1 Axes>"
      ]
     },
     "metadata": {
      "needs_background": "light"
     },
     "output_type": "display_data"
    }
   ],
   "source": [
    "print(df_result['bathrooms'].value_counts())\n",
    "feature_dist(df_result[~df_result['bathrooms'].isnull()],'bathrooms')"
   ]
  },
  {
   "cell_type": "code",
   "execution_count": 18,
   "metadata": {},
   "outputs": [],
   "source": [
    "delete=[]\n",
    "bathrooms=[]\n",
    "count=-1\n",
    "\n",
    "for i in df_result_processed['bathrooms']:\n",
    "    count+=1\n",
    "    if i<1.0:\n",
    "        bathrooms.append('0')\n",
    "        continue\n",
    "    if i<2.0:\n",
    "        bathrooms.append('1')\n",
    "        continue\n",
    "    if i<3.0:\n",
    "        bathrooms.append('2')\n",
    "        continue\n",
    "    if i<4.0:\n",
    "        bathrooms.append('3')\n",
    "        continue\n",
    "    if i>=4.0:\n",
    "        bathrooms.append('>=4')\n",
    "        continue\n",
    "    else:\n",
    "        delete.append(count)"
   ]
  },
  {
   "cell_type": "code",
   "execution_count": 19,
   "metadata": {},
   "outputs": [
    {
     "name": "stdout",
     "output_type": "stream",
     "text": [
      "Deleted rows: 5\n",
      "Remaining instances: (16681, 151)\n"
     ]
    }
   ],
   "source": [
    "# Drop irrelevant instances\n",
    "df_result_processed.drop(index=delete, axis=0, inplace=True)\n",
    " \n",
    "# Add new processed column 'bathrooms'\n",
    "df_result_processed.insert(2,\"bathrooms_processed\", bathrooms)\n",
    "\n",
    "print(\"Deleted rows:\",len(delete))\n",
    "print(\"Remaining instances:\", df_result_processed.shape)"
   ]
  },
  {
   "cell_type": "code",
   "execution_count": 20,
   "metadata": {},
   "outputs": [
    {
     "data": {
      "image/png": "[encoded data removed]",
      "text/plain": [
       "<Figure size 360x360 with 1 Axes>"
      ]
     },
     "metadata": {
      "needs_background": "light"
     },
     "output_type": "display_data"
    }
   ],
   "source": [
    "simple_plot(df_result_processed,'bathrooms_processed')"
   ]
  },
  {
   "cell_type": "markdown",
   "metadata": {
    "ExecuteTime": {
     "end_time": "2020-03-25T21:33:51.967425Z",
     "start_time": "2020-03-25T21:33:51.947084Z"
    }
   },
   "source": [
    "**Bedrooms**\n",
    "\n",
    "{'T0','T1','T2','T3','T>=4'}"
   ]
  },
  {
   "cell_type": "code",
   "execution_count": 21,
   "metadata": {
    "ExecuteTime": {
     "end_time": "2020-03-27T18:13:44.847587Z",
     "start_time": "2020-03-27T18:13:44.553588Z"
    }
   },
   "outputs": [
    {
     "name": "stdout",
     "output_type": "stream",
     "text": [
      "1.0      8654\n",
      "2.0      4668\n",
      "3.0      1910\n",
      "0.0       876\n",
      "4.0       585\n",
      "5.0       261\n",
      "6.0       104\n",
      "7.0        39\n",
      "8.0        25\n",
      "9.0        22\n",
      "10.0        6\n",
      "12.0        3\n",
      "15.0        1\n",
      "24.0        1\n",
      "100.0       1\n",
      "25.0        1\n",
      "11.0        1\n",
      "18.0        1\n",
      "16.0        1\n",
      "Name: bedrooms, dtype: int64\n",
      "\n",
      " mu = 1.69 and sigma = 1.40\n",
      "\n"
     ]
    },
    {
     "data": {
      "image/png": "[encoded data removed]",
      "text/plain": [
       "<Figure size 1080x288 with 1 Axes>"
      ]
     },
     "metadata": {
      "needs_background": "light"
     },
     "output_type": "display_data"
    }
   ],
   "source": [
    "print(df_result['bedrooms'].value_counts())\n",
    "feature_dist(df_result[~df_result['bedrooms'].isnull()],'bedrooms')"
   ]
  },
  {
   "cell_type": "code",
   "execution_count": 22,
   "metadata": {},
   "outputs": [],
   "source": [
    "delete=[]\n",
    "bedrooms=[]\n",
    "count=-1\n",
    "\n",
    "for i in df_result_processed['bedrooms']:\n",
    "    count+=1\n",
    "    if i==0.0:\n",
    "        bedrooms.append('T0')\n",
    "        continue\n",
    "    if i==1.0:\n",
    "        bedrooms.append('T1')\n",
    "        continue\n",
    "    if i==2.0:\n",
    "        bedrooms.append('T2')\n",
    "        continue\n",
    "    if i==3.0:\n",
    "        bedrooms.append('T3')\n",
    "        continue\n",
    "    if i>3.0:\n",
    "        bedrooms.append('T>=4')\n",
    "        continue\n",
    "    else:\n",
    "        delete.append(count)"
   ]
  },
  {
   "cell_type": "code",
   "execution_count": 23,
   "metadata": {},
   "outputs": [
    {
     "name": "stdout",
     "output_type": "stream",
     "text": [
      "Deleted rows: 7\n",
      "Remaining instances: (16674, 152)\n"
     ]
    }
   ],
   "source": [
    "# Drop irrelevant instances\n",
    "df_result_processed.drop(index=delete, axis=0, inplace=True)\n",
    " \n",
    "# Add new processed column 'bedrooms'\n",
    "df_result_processed.insert(3,\"bedrooms_processed\", bedrooms)\n",
    "\n",
    "print(\"Deleted rows:\",len(delete))\n",
    "print(\"Remaining instances:\", df_result_processed.shape)"
   ]
  },
  {
   "cell_type": "code",
   "execution_count": 24,
   "metadata": {},
   "outputs": [
    {
     "data": {
      "image/png": "[encoded data removed]",
      "text/plain": [
       "<Figure size 360x360 with 1 Axes>"
      ]
     },
     "metadata": {
      "needs_background": "light"
     },
     "output_type": "display_data"
    }
   ],
   "source": [
    "simple_plot(df_result_processed,'bedrooms_processed')"
   ]
  },
  {
   "cell_type": "markdown",
   "metadata": {},
   "source": [
    "**beds**\n",
    "\n",
    "{'0','1','2','3','>=4'}"
   ]
  },
  {
   "cell_type": "code",
   "execution_count": 25,
   "metadata": {
    "ExecuteTime": {
     "end_time": "2020-03-27T18:13:45.135588Z",
     "start_time": "2020-03-27T18:13:44.862587Z"
    }
   },
   "outputs": [
    {
     "name": "stdout",
     "output_type": "stream",
     "text": [
      "1.0      5327\n",
      "2.0      4652\n",
      "3.0      3156\n",
      "4.0      1806\n",
      "5.0       795\n",
      "6.0       502\n",
      "7.0       208\n",
      "0.0       192\n",
      "8.0       181\n",
      "9.0        78\n",
      "10.0       71\n",
      "12.0       33\n",
      "11.0       28\n",
      "16.0       18\n",
      "14.0       16\n",
      "13.0       12\n",
      "15.0        8\n",
      "18.0        5\n",
      "17.0        3\n",
      "22.0        2\n",
      "26.0        2\n",
      "25.0        2\n",
      "30.0        2\n",
      "27.0        2\n",
      "23.0        2\n",
      "19.0        1\n",
      "50.0        1\n",
      "20.0        1\n",
      "38.0        1\n",
      "100.0       1\n",
      "28.0        1\n",
      "21.0        1\n",
      "Name: beds, dtype: int64\n",
      "\n",
      " mu = 2.62 and sigma = 2.20\n",
      "\n"
     ]
    },
    {
     "data": {
      "image/png": "[encoded data removed]",
      "text/plain": [
       "<Figure size 1080x288 with 1 Axes>"
      ]
     },
     "metadata": {
      "needs_background": "light"
     },
     "output_type": "display_data"
    }
   ],
   "source": [
    "print(df_result['beds'].value_counts())\n",
    "feature_dist(df_result[~df_result['beds'].isnull()],'beds')"
   ]
  },
  {
   "cell_type": "code",
   "execution_count": 26,
   "metadata": {},
   "outputs": [],
   "source": [
    "delete=[]\n",
    "beds=[]\n",
    "count=-1\n",
    "\n",
    "for i in df_result_processed['beds']:\n",
    "    count+=1\n",
    "    if i==0.0:\n",
    "        beds.append('0')\n",
    "        continue\n",
    "    if i==1.0:\n",
    "        beds.append('1')\n",
    "        continue\n",
    "    if i==2.0:\n",
    "        beds.append('2')\n",
    "        continue\n",
    "    if i==3.0:\n",
    "        beds.append('3')\n",
    "        continue\n",
    "    if i>3.0:\n",
    "        beds.append('>=4')\n",
    "        continue\n",
    "    else:\n",
    "        delete.append(count)"
   ]
  },
  {
   "cell_type": "code",
   "execution_count": 27,
   "metadata": {},
   "outputs": [
    {
     "name": "stdout",
     "output_type": "stream",
     "text": [
      "Deleted rows: 47\n",
      "Remaining instances: (16627, 153)\n"
     ]
    }
   ],
   "source": [
    "# Drop irrelevant instances\n",
    "df_result_processed.drop(index=delete, axis=0, inplace=True)\n",
    " \n",
    "# Add new processed column 'beds'\n",
    "df_result_processed.insert(4,\"beds_processed\", beds)\n",
    "\n",
    "print(\"Deleted rows:\",len(delete))\n",
    "print(\"Remaining instances:\", df_result_processed.shape)"
   ]
  },
  {
   "cell_type": "markdown",
   "metadata": {},
   "source": [
    "**bed type**\n",
    "\n",
    "{'Real Bed', 'Pull-out Sofa', 'Futon', 'Couch', 'Airbed'}"
   ]
  },
  {
   "cell_type": "code",
   "execution_count": 28,
   "metadata": {
    "ExecuteTime": {
     "end_time": "2020-03-27T18:13:45.524643Z",
     "start_time": "2020-03-27T18:13:45.517675Z"
    }
   },
   "outputs": [
    {
     "name": "stdout",
     "output_type": "stream",
     "text": [
      "Real Bed         17092\n",
      "Pull-out Sofa       62\n",
      "Futon                6\n",
      "Couch                5\n",
      "Airbed               3\n",
      "Name: bed_type, dtype: int64\n"
     ]
    }
   ],
   "source": [
    "print(df_result['bed_type'].value_counts())"
   ]
  },
  {
   "cell_type": "markdown",
   "metadata": {},
   "source": [
    "**price/square feet**\n",
    "\n",
    "!!! We still don't have this data"
   ]
  }
 ],
 "metadata": {
  "kernelspec": {
   "display_name": "Python 3",
   "language": "python",
   "name": "python3"
  },
  "language_info": {
   "codemirror_mode": {
    "name": "ipython",
    "version": 3
   },
   "file_extension": ".py",
   "mimetype": "text/x-python",
   "name": "python",
   "nbconvert_exporter": "python",
   "pygments_lexer": "ipython3",
   "version": "3.7.4"
  },
  "toc": {
   "base_numbering": 1,
   "nav_menu": {},
   "number_sections": true,
   "sideBar": true,
   "skip_h1_title": false,
   "title_cell": "Table of Contents",
   "title_sidebar": "Contents",
   "toc_cell": false,
   "toc_position": {
    "height": "calc(100% - 180px)",
    "left": "10px",
    "top": "150px",
    "width": "315.542px"
   },
   "toc_section_display": true,
   "toc_window_display": true
  }
 },
 "nbformat": 4,
 "nbformat_minor": 4
}
