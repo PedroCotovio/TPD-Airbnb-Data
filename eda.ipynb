{
 "cells": [
  {
   "cell_type": "code",
   "execution_count": 1,
   "metadata": {
    "ExecuteTime": {
     "end_time": "2020-03-25T22:58:31.431742Z",
     "start_time": "2020-03-25T22:58:29.168336Z"
    }
   },
   "outputs": [],
   "source": [
    "import numpy as np\n",
    "import pandas as pd\n",
    "import seaborn as sns\n",
    "import matplotlib.pyplot as plt\n",
    "\n",
    "from scipy import stats\n",
    "from scipy.stats import norm"
   ]
  },
  {
   "cell_type": "markdown",
   "metadata": {},
   "source": [
    "**Read data**"
   ]
  },
  {
   "cell_type": "code",
   "execution_count": 2,
   "metadata": {
    "ExecuteTime": {
     "end_time": "2020-03-25T22:58:33.598062Z",
     "start_time": "2020-03-25T22:58:31.432700Z"
    }
   },
   "outputs": [
    {
     "name": "stderr",
     "output_type": "stream",
     "text": [
      "C:\\Users\\joao_\\Anaconda3\\lib\\site-packages\\IPython\\core\\interactiveshell.py:3063: DtypeWarning: Columns (61,62) have mixed types. Specify dtype option on import or set low_memory=False.\n",
      "  interactivity=interactivity, compiler=compiler, result=result)\n"
     ]
    },
    {
     "data": {
      "text/html": [
       "<div>\n",
       "<style scoped>\n",
       "    .dataframe tbody tr th:only-of-type {\n",
       "        vertical-align: middle;\n",
       "    }\n",
       "\n",
       "    .dataframe tbody tr th {\n",
       "        vertical-align: top;\n",
       "    }\n",
       "\n",
       "    .dataframe thead th {\n",
       "        text-align: right;\n",
       "    }\n",
       "</style>\n",
       "<table border=\"1\" class=\"dataframe\">\n",
       "  <thead>\n",
       "    <tr style=\"text-align: right;\">\n",
       "      <th></th>\n",
       "      <th>id</th>\n",
       "      <th>listing_url</th>\n",
       "      <th>scrape_id</th>\n",
       "      <th>last_scraped</th>\n",
       "      <th>name</th>\n",
       "      <th>summary</th>\n",
       "      <th>space</th>\n",
       "      <th>description</th>\n",
       "      <th>experiences_offered</th>\n",
       "      <th>neighborhood_overview</th>\n",
       "      <th>...</th>\n",
       "      <th>instant_bookable</th>\n",
       "      <th>is_business_travel_ready</th>\n",
       "      <th>cancellation_policy</th>\n",
       "      <th>require_guest_profile_picture</th>\n",
       "      <th>require_guest_phone_verification</th>\n",
       "      <th>calculated_host_listings_count</th>\n",
       "      <th>calculated_host_listings_count_entire_homes</th>\n",
       "      <th>calculated_host_listings_count_private_rooms</th>\n",
       "      <th>calculated_host_listings_count_shared_rooms</th>\n",
       "      <th>reviews_per_month</th>\n",
       "    </tr>\n",
       "  </thead>\n",
       "  <tbody>\n",
       "    <tr>\n",
       "      <th>0</th>\n",
       "      <td>6499</td>\n",
       "      <td>https://www.airbnb.com/rooms/6499</td>\n",
       "      <td>2.020010e+13</td>\n",
       "      <td>1/28/2020</td>\n",
       "      <td>Belém 1 Bedroom Historical Apartment</td>\n",
       "      <td>This apartment is all about Location, next to ...</td>\n",
       "      <td>Fully furnished apartment (35m2). Small inside...</td>\n",
       "      <td>This apartment is all about Location, next to ...</td>\n",
       "      <td>none</td>\n",
       "      <td>To get  to the city center, tram 15 stops in f...</td>\n",
       "      <td>...</td>\n",
       "      <td>t</td>\n",
       "      <td>f</td>\n",
       "      <td>moderate</td>\n",
       "      <td>f</td>\n",
       "      <td>f</td>\n",
       "      <td>1</td>\n",
       "      <td>1</td>\n",
       "      <td>0</td>\n",
       "      <td>0</td>\n",
       "      <td>0.39</td>\n",
       "    </tr>\n",
       "    <tr>\n",
       "      <th>1</th>\n",
       "      <td>25659</td>\n",
       "      <td>https://www.airbnb.com/rooms/25659</td>\n",
       "      <td>2.020010e+13</td>\n",
       "      <td>1/28/2020</td>\n",
       "      <td>Sunny,  Alfama  Sleeps 3 - Coeur d'Alfama</td>\n",
       "      <td>Sunny 1 Bedroom cozy apartment in historic Alf...</td>\n",
       "      <td>Charming, sunny, cozy apartment in the heart o...</td>\n",
       "      <td>Sunny 1 Bedroom cozy apartment in historic Alf...</td>\n",
       "      <td>none</td>\n",
       "      <td>Alfama is the oldest and most picturesque quar...</td>\n",
       "      <td>...</td>\n",
       "      <td>t</td>\n",
       "      <td>f</td>\n",
       "      <td>moderate</td>\n",
       "      <td>f</td>\n",
       "      <td>f</td>\n",
       "      <td>1</td>\n",
       "      <td>1</td>\n",
       "      <td>0</td>\n",
       "      <td>0</td>\n",
       "      <td>1.61</td>\n",
       "    </tr>\n",
       "    <tr>\n",
       "      <th>2</th>\n",
       "      <td>28066</td>\n",
       "      <td>https://www.airbnb.com/rooms/28066</td>\n",
       "      <td>2.020010e+13</td>\n",
       "      <td>1/29/2020</td>\n",
       "      <td>ear the birds</td>\n",
       "      <td>NaN</td>\n",
       "      <td>traditional farm house in a quiet place where ...</td>\n",
       "      <td>traditional farm house in a quiet place where ...</td>\n",
       "      <td>none</td>\n",
       "      <td>NaN</td>\n",
       "      <td>...</td>\n",
       "      <td>f</td>\n",
       "      <td>f</td>\n",
       "      <td>flexible</td>\n",
       "      <td>f</td>\n",
       "      <td>f</td>\n",
       "      <td>1</td>\n",
       "      <td>0</td>\n",
       "      <td>1</td>\n",
       "      <td>0</td>\n",
       "      <td>NaN</td>\n",
       "    </tr>\n",
       "    <tr>\n",
       "      <th>3</th>\n",
       "      <td>29138</td>\n",
       "      <td>https://www.airbnb.com/rooms/29138</td>\n",
       "      <td>2.020010e+13</td>\n",
       "      <td>1/28/2020</td>\n",
       "      <td>Room for rent in shared house</td>\n",
       "      <td>NaN</td>\n",
       "      <td>05 minutes from city center by subway, 10 minu...</td>\n",
       "      <td>05 minutes from city center by subway, 10 minu...</td>\n",
       "      <td>none</td>\n",
       "      <td>NaN</td>\n",
       "      <td>...</td>\n",
       "      <td>f</td>\n",
       "      <td>f</td>\n",
       "      <td>flexible</td>\n",
       "      <td>f</td>\n",
       "      <td>f</td>\n",
       "      <td>1</td>\n",
       "      <td>0</td>\n",
       "      <td>1</td>\n",
       "      <td>0</td>\n",
       "      <td>NaN</td>\n",
       "    </tr>\n",
       "    <tr>\n",
       "      <th>4</th>\n",
       "      <td>29248</td>\n",
       "      <td>https://www.airbnb.com/rooms/29248</td>\n",
       "      <td>2.020010e+13</td>\n",
       "      <td>1/28/2020</td>\n",
       "      <td>Apartamento Alfama com vista para o rio!</td>\n",
       "      <td>NaN</td>\n",
       "      <td>Located in the city center, and great location...</td>\n",
       "      <td>Located in the city center, and great location...</td>\n",
       "      <td>none</td>\n",
       "      <td>NaN</td>\n",
       "      <td>...</td>\n",
       "      <td>t</td>\n",
       "      <td>f</td>\n",
       "      <td>moderate</td>\n",
       "      <td>f</td>\n",
       "      <td>f</td>\n",
       "      <td>1</td>\n",
       "      <td>1</td>\n",
       "      <td>0</td>\n",
       "      <td>0</td>\n",
       "      <td>2.89</td>\n",
       "    </tr>\n",
       "  </tbody>\n",
       "</table>\n",
       "<p>5 rows × 106 columns</p>\n",
       "</div>"
      ],
      "text/plain": [
       "      id                         listing_url     scrape_id last_scraped  \\\n",
       "0   6499   https://www.airbnb.com/rooms/6499  2.020010e+13    1/28/2020   \n",
       "1  25659  https://www.airbnb.com/rooms/25659  2.020010e+13    1/28/2020   \n",
       "2  28066  https://www.airbnb.com/rooms/28066  2.020010e+13    1/29/2020   \n",
       "3  29138  https://www.airbnb.com/rooms/29138  2.020010e+13    1/28/2020   \n",
       "4  29248  https://www.airbnb.com/rooms/29248  2.020010e+13    1/28/2020   \n",
       "\n",
       "                                        name  \\\n",
       "0       Belém 1 Bedroom Historical Apartment   \n",
       "1  Sunny,  Alfama  Sleeps 3 - Coeur d'Alfama   \n",
       "2                              ear the birds   \n",
       "3              Room for rent in shared house   \n",
       "4   Apartamento Alfama com vista para o rio!   \n",
       "\n",
       "                                             summary  \\\n",
       "0  This apartment is all about Location, next to ...   \n",
       "1  Sunny 1 Bedroom cozy apartment in historic Alf...   \n",
       "2                                                NaN   \n",
       "3                                                NaN   \n",
       "4                                                NaN   \n",
       "\n",
       "                                               space  \\\n",
       "0  Fully furnished apartment (35m2). Small inside...   \n",
       "1  Charming, sunny, cozy apartment in the heart o...   \n",
       "2  traditional farm house in a quiet place where ...   \n",
       "3  05 minutes from city center by subway, 10 minu...   \n",
       "4  Located in the city center, and great location...   \n",
       "\n",
       "                                         description experiences_offered  \\\n",
       "0  This apartment is all about Location, next to ...                none   \n",
       "1  Sunny 1 Bedroom cozy apartment in historic Alf...                none   \n",
       "2  traditional farm house in a quiet place where ...                none   \n",
       "3  05 minutes from city center by subway, 10 minu...                none   \n",
       "4  Located in the city center, and great location...                none   \n",
       "\n",
       "                               neighborhood_overview  ... instant_bookable  \\\n",
       "0  To get  to the city center, tram 15 stops in f...  ...                t   \n",
       "1  Alfama is the oldest and most picturesque quar...  ...                t   \n",
       "2                                                NaN  ...                f   \n",
       "3                                                NaN  ...                f   \n",
       "4                                                NaN  ...                t   \n",
       "\n",
       "  is_business_travel_ready cancellation_policy require_guest_profile_picture  \\\n",
       "0                        f            moderate                             f   \n",
       "1                        f            moderate                             f   \n",
       "2                        f            flexible                             f   \n",
       "3                        f            flexible                             f   \n",
       "4                        f            moderate                             f   \n",
       "\n",
       "  require_guest_phone_verification  calculated_host_listings_count  \\\n",
       "0                                f                               1   \n",
       "1                                f                               1   \n",
       "2                                f                               1   \n",
       "3                                f                               1   \n",
       "4                                f                               1   \n",
       "\n",
       "   calculated_host_listings_count_entire_homes  \\\n",
       "0                                            1   \n",
       "1                                            1   \n",
       "2                                            0   \n",
       "3                                            0   \n",
       "4                                            1   \n",
       "\n",
       "  calculated_host_listings_count_private_rooms  \\\n",
       "0                                            0   \n",
       "1                                            0   \n",
       "2                                            1   \n",
       "3                                            1   \n",
       "4                                            0   \n",
       "\n",
       "   calculated_host_listings_count_shared_rooms  reviews_per_month  \n",
       "0                                            0               0.39  \n",
       "1                                            0               1.61  \n",
       "2                                            0                NaN  \n",
       "3                                            0                NaN  \n",
       "4                                            0               2.89  \n",
       "\n",
       "[5 rows x 106 columns]"
      ]
     },
     "execution_count": 2,
     "metadata": {},
     "output_type": "execute_result"
    }
   ],
   "source": [
    "listings_file_path = 'data/airbnb/listings.csv'\n",
    "al_file_path = 'data/Alojamento_Local.csv'\n",
    "df_al = pd.read_csv(al_file_path)\n",
    "df_listings = pd.read_csv(listings_file_path)\n",
    "df_listings.head()"
   ]
  },
  {
   "cell_type": "code",
   "execution_count": 3,
   "metadata": {
    "ExecuteTime": {
     "end_time": "2020-03-25T22:58:33.619092Z",
     "start_time": "2020-03-25T22:58:33.601089Z"
    }
   },
   "outputs": [],
   "source": [
    "def missing_data(df, columns):\n",
    "    df_graph = df[columns]\n",
    "    #missing data\n",
    "    total = df_graph.isnull().sum().sort_values(ascending=False)\n",
    "    percent = (df_graph.isnull().sum()/df_graph.isnull().count()).sort_values(ascending=False)\n",
    "    missing_data = pd.concat([total, percent], axis=1, keys=['Total', 'Percent'])\n",
    "    print(missing_data)\n",
    "    plt.figure(figsize=(10,5))\n",
    "    ax = sns.barplot(x='index',y = 'Percent', data= missing_data.reset_index())\n",
    "    ax.set_xticklabels(ax.get_xticklabels(), rotation=45)\n",
    "\n",
    "def feature_dist(df, column_name):\n",
    "    plt.figure(figsize=(15,4))\n",
    "    sns.distplot(df[column_name] , fit=norm)\n",
    "\n",
    "    # Get the fitted parameters used by the function\n",
    "    (mu, sigma) = norm.fit(df[column_name])\n",
    "    print( '\\n mu = {:.2f} and sigma = {:.2f}\\n'.format(mu, sigma))\n",
    "    plt.legend(['Normal dist. ($\\mu=$ {:.2f} and $\\sigma=$ {:.2f} )'.format(mu, sigma)],\n",
    "                loc='best')\n",
    "    plt.ylabel('Frequency')\n",
    "    plt.title('{} distribution'.format(column_name))\n",
    "    plt.show()"
   ]
  },
  {
   "cell_type": "markdown",
   "metadata": {},
   "source": [
    "**missing values**"
   ]
  },
  {
   "cell_type": "code",
   "execution_count": 4,
   "metadata": {
    "ExecuteTime": {
     "end_time": "2020-03-25T22:58:33.966475Z",
     "start_time": "2020-03-25T22:58:33.621061Z"
    }
   },
   "outputs": [
    {
     "name": "stdout",
     "output_type": "stream",
     "text": [
      "                             Total   Percent\n",
      "square_feet                  24601  0.983961\n",
      "review_scores_value           4084  0.163347\n",
      "review_scores_checkin         4084  0.163347\n",
      "review_scores_location        4082  0.163267\n",
      "review_scores_communication   4079  0.163147\n",
      "review_scores_accuracy        4078  0.163107\n",
      "review_scores_cleanliness     4073  0.162907\n",
      "review_scores_rating          4067  0.162667\n",
      "license                       3480  0.139189\n",
      "beds                           111  0.004440\n",
      "bathrooms                       29  0.001160\n",
      "bedrooms                        10  0.000400\n",
      "amenities                        0  0.000000\n",
      "room_type                        0  0.000000\n",
      "accommodates                     0  0.000000\n",
      "bed_type                         0  0.000000\n",
      "property_type                    0  0.000000\n"
     ]
    },
    {
     "data": {
      "image/png": "[encoded data removed]",
      "text/plain": [
       "<Figure size 720x360 with 1 Axes>"
      ]
     },
     "metadata": {
      "needs_background": "light"
     },
     "output_type": "display_data"
    }
   ],
   "source": [
    "#columns = ['bedrooms','bathrooms']\n",
    "#df_listings[columns]\n",
    "columns = [\n",
    "    'review_scores_rating',\n",
    "    'review_scores_accuracy',\n",
    "    'review_scores_cleanliness',\n",
    "    'review_scores_checkin',\n",
    "    'review_scores_communication',\n",
    "    'review_scores_location',\n",
    "    'review_scores_value',\n",
    "    'license',\n",
    "    'property_type',\n",
    "    'room_type',\n",
    "    'accommodates',\n",
    "    'bathrooms',\n",
    "    'bedrooms',\n",
    "    'beds',\n",
    "    'bed_type',\n",
    "    'amenities',\n",
    "    'square_feet'\n",
    "]\n",
    "missing_data(df_listings,columns)"
   ]
  },
  {
   "cell_type": "markdown",
   "metadata": {},
   "source": [
    "**room type**"
   ]
  },
  {
   "cell_type": "code",
   "execution_count": 5,
   "metadata": {
    "ExecuteTime": {
     "end_time": "2020-03-25T22:58:33.975441Z",
     "start_time": "2020-03-25T22:58:33.967474Z"
    }
   },
   "outputs": [
    {
     "name": "stdout",
     "output_type": "stream",
     "text": [
      "Entire home/apt    18219\n",
      "Private room        5734\n",
      "Hotel room           634\n",
      "Shared room          415\n",
      "Name: room_type, dtype: int64\n"
     ]
    }
   ],
   "source": [
    "print(df_listings['room_type'].value_counts())"
   ]
  },
  {
   "cell_type": "markdown",
   "metadata": {},
   "source": [
    "**accommodates**"
   ]
  },
  {
   "cell_type": "code",
   "execution_count": 6,
   "metadata": {
    "ExecuteTime": {
     "end_time": "2020-03-25T22:58:34.479479Z",
     "start_time": "2020-03-25T22:58:33.976440Z"
    }
   },
   "outputs": [
    {
     "name": "stdout",
     "output_type": "stream",
     "text": [
      "2     7312\n",
      "4     7098\n",
      "6     3282\n",
      "3     2251\n",
      "5     1531\n",
      "1     1069\n",
      "8      895\n",
      "7      498\n",
      "10     367\n",
      "9      218\n",
      "16     151\n",
      "12     151\n",
      "14      79\n",
      "11      42\n",
      "15      28\n",
      "13      27\n",
      "26       1\n",
      "18       1\n",
      "32       1\n",
      "Name: accommodates, dtype: int64\n",
      "\n",
      " mu = 4.04 and sigma = 2.38\n",
      "\n"
     ]
    },
    {
     "data": {
      "image/png": "[encoded data removed]",
      "text/plain": [
       "<Figure size 1080x288 with 1 Axes>"
      ]
     },
     "metadata": {
      "needs_background": "light"
     },
     "output_type": "display_data"
    }
   ],
   "source": [
    "print(df_listings['accommodates'].value_counts())\n",
    "feature_dist(df_listings[~df_listings['accommodates'].isnull()],'accommodates')"
   ]
  },
  {
   "cell_type": "code",
   "execution_count": 7,
   "metadata": {
    "ExecuteTime": {
     "end_time": "2020-03-25T22:58:34.498472Z",
     "start_time": "2020-03-25T22:58:34.480439Z"
    }
   },
   "outputs": [
    {
     "data": {
      "text/plain": [
       "(0.999, 2.0]    8381\n",
       "(3.0, 4.0]      7098\n",
       "(4.0, 6.0]      4813\n",
       "(6.0, 32.0]     2459\n",
       "(2.0, 3.0]      2251\n",
       "Name: accommodates2, dtype: int64"
      ]
     },
     "execution_count": 7,
     "metadata": {},
     "output_type": "execute_result"
    }
   ],
   "source": [
    "df_listings['accommodates2'] = pd.qcut(df_listings['accommodates'],10, duplicates='drop')\n",
    "df_listings.accommodates2.value_counts()"
   ]
  },
  {
   "cell_type": "markdown",
   "metadata": {},
   "source": [
    "**property type**"
   ]
  },
  {
   "cell_type": "code",
   "execution_count": 8,
   "metadata": {
    "ExecuteTime": {
     "end_time": "2020-03-25T22:58:34.508470Z",
     "start_time": "2020-03-25T22:58:34.500440Z"
    }
   },
   "outputs": [
    {
     "name": "stdout",
     "output_type": "stream",
     "text": [
      "Apartment                 18655\n",
      "House                      1941\n",
      "Condominium                 612\n",
      "Villa                       455\n",
      "Serviced apartment          417\n",
      "Guesthouse                  405\n",
      "Hostel                      363\n",
      "Bed and breakfast           323\n",
      "Loft                        290\n",
      "Boutique hotel              269\n",
      "Townhouse                   224\n",
      "Guest suite                 180\n",
      "Cottage                     177\n",
      "Camper/RV                   151\n",
      "Boat                         85\n",
      "Aparthotel                   83\n",
      "Tiny house                   63\n",
      "Hotel                        45\n",
      "Chalet                       35\n",
      "Castle                       30\n",
      "Nature lodge                 30\n",
      "Other                        29\n",
      "Farm stay                    26\n",
      "Bungalow                     23\n",
      "Windmill                     19\n",
      "Cabin                        12\n",
      "Earth house                  12\n",
      "Campsite                     11\n",
      "Casa particular (Cuba)        8\n",
      "Houseboat                     8\n",
      "Hut                           6\n",
      "Dome house                    5\n",
      "Vacation home                 3\n",
      "Resort                        2\n",
      "Tipi                          1\n",
      "Tent                          1\n",
      "Yurt                          1\n",
      "Lighthouse                    1\n",
      "Bus                           1\n",
      "Name: property_type, dtype: int64\n"
     ]
    }
   ],
   "source": [
    "print(df_listings['property_type'].value_counts())"
   ]
  },
  {
   "cell_type": "markdown",
   "metadata": {
    "ExecuteTime": {
     "end_time": "2020-03-25T21:33:51.967425Z",
     "start_time": "2020-03-25T21:33:51.947084Z"
    }
   },
   "source": [
    "**Bedrooms**"
   ]
  },
  {
   "cell_type": "code",
   "execution_count": 9,
   "metadata": {
    "ExecuteTime": {
     "end_time": "2020-03-25T22:58:34.858439Z",
     "start_time": "2020-03-25T22:58:34.510443Z"
    }
   },
   "outputs": [
    {
     "name": "stdout",
     "output_type": "stream",
     "text": [
      "1.0      13343\n",
      "2.0       6302\n",
      "3.0       2677\n",
      "0.0       1180\n",
      "4.0        808\n",
      "5.0        368\n",
      "6.0        156\n",
      "7.0         66\n",
      "8.0         35\n",
      "9.0         33\n",
      "10.0        12\n",
      "12.0         4\n",
      "11.0         2\n",
      "24.0         1\n",
      "100.0        1\n",
      "25.0         1\n",
      "15.0         1\n",
      "18.0         1\n",
      "16.0         1\n",
      "Name: bedrooms, dtype: int64\n",
      "\n",
      " mu = 1.66 and sigma = 1.33\n",
      "\n"
     ]
    },
    {
     "data": {
      "image/png": "[encoded data removed]",
      "text/plain": [
       "<Figure size 1080x288 with 1 Axes>"
      ]
     },
     "metadata": {
      "needs_background": "light"
     },
     "output_type": "display_data"
    }
   ],
   "source": [
    "print(df_listings['bedrooms'].value_counts())\n",
    "feature_dist(df_listings[~df_listings['bedrooms'].isnull()],'bedrooms')"
   ]
  },
  {
   "cell_type": "code",
   "execution_count": 10,
   "metadata": {
    "ExecuteTime": {
     "end_time": "2020-03-25T22:58:34.904044Z",
     "start_time": "2020-03-25T22:58:34.859439Z"
    }
   },
   "outputs": [
    {
     "data": {
      "text/html": [
       "<div>\n",
       "<style scoped>\n",
       "    .dataframe tbody tr th:only-of-type {\n",
       "        vertical-align: middle;\n",
       "    }\n",
       "\n",
       "    .dataframe tbody tr th {\n",
       "        vertical-align: top;\n",
       "    }\n",
       "\n",
       "    .dataframe thead th {\n",
       "        text-align: right;\n",
       "    }\n",
       "</style>\n",
       "<table border=\"1\" class=\"dataframe\">\n",
       "  <thead>\n",
       "    <tr style=\"text-align: right;\">\n",
       "      <th></th>\n",
       "      <th>id</th>\n",
       "      <th>listing_url</th>\n",
       "      <th>scrape_id</th>\n",
       "      <th>last_scraped</th>\n",
       "      <th>name</th>\n",
       "      <th>summary</th>\n",
       "      <th>space</th>\n",
       "      <th>description</th>\n",
       "      <th>experiences_offered</th>\n",
       "      <th>neighborhood_overview</th>\n",
       "      <th>...</th>\n",
       "      <th>is_business_travel_ready</th>\n",
       "      <th>cancellation_policy</th>\n",
       "      <th>require_guest_profile_picture</th>\n",
       "      <th>require_guest_phone_verification</th>\n",
       "      <th>calculated_host_listings_count</th>\n",
       "      <th>calculated_host_listings_count_entire_homes</th>\n",
       "      <th>calculated_host_listings_count_private_rooms</th>\n",
       "      <th>calculated_host_listings_count_shared_rooms</th>\n",
       "      <th>reviews_per_month</th>\n",
       "      <th>accommodates2</th>\n",
       "    </tr>\n",
       "  </thead>\n",
       "  <tbody>\n",
       "    <tr>\n",
       "      <th>19</th>\n",
       "      <td>56906</td>\n",
       "      <td>https://www.airbnb.com/rooms/56906</td>\n",
       "      <td>2.020010e+13</td>\n",
       "      <td>1/28/2020</td>\n",
       "      <td>Lisbon Balcony Penthouse 15th Floor</td>\n",
       "      <td>Hi, First of all thanks for looking my apartme...</td>\n",
       "      <td>THE APARTMENT -1 double bed to relax after a p...</td>\n",
       "      <td>Hi, First of all thanks for looking my apartme...</td>\n",
       "      <td>none</td>\n",
       "      <td>NaN</td>\n",
       "      <td>...</td>\n",
       "      <td>f</td>\n",
       "      <td>moderate</td>\n",
       "      <td>f</td>\n",
       "      <td>f</td>\n",
       "      <td>8</td>\n",
       "      <td>8</td>\n",
       "      <td>0</td>\n",
       "      <td>0</td>\n",
       "      <td>1.27</td>\n",
       "      <td>(0.999, 2.0]</td>\n",
       "    </tr>\n",
       "    <tr>\n",
       "      <th>24</th>\n",
       "      <td>83700</td>\n",
       "      <td>https://www.airbnb.com/rooms/83700</td>\n",
       "      <td>2.020010e+13</td>\n",
       "      <td>1/29/2020</td>\n",
       "      <td>Studio Cascais- Panoramic sea view</td>\n",
       "      <td>Nice cosy studio with panoramic sea view and a...</td>\n",
       "      <td>With a panoramic view of the sea, the Studio (...</td>\n",
       "      <td>Nice cosy studio with panoramic sea view and a...</td>\n",
       "      <td>none</td>\n",
       "      <td>Residential, quiet and full of houses and gard...</td>\n",
       "      <td>...</td>\n",
       "      <td>f</td>\n",
       "      <td>strict_14_with_grace_period</td>\n",
       "      <td>f</td>\n",
       "      <td>f</td>\n",
       "      <td>1</td>\n",
       "      <td>1</td>\n",
       "      <td>0</td>\n",
       "      <td>0</td>\n",
       "      <td>1.36</td>\n",
       "      <td>(3.0, 4.0]</td>\n",
       "    </tr>\n",
       "    <tr>\n",
       "      <th>63</th>\n",
       "      <td>141883</td>\n",
       "      <td>https://www.airbnb.com/rooms/141883</td>\n",
       "      <td>2.020010e+13</td>\n",
       "      <td>1/28/2020</td>\n",
       "      <td>Gomes Freire Studio with Balcony</td>\n",
       "      <td>Studio with excellent localization in the hist...</td>\n",
       "      <td>Studio with excellent localization in the hist...</td>\n",
       "      <td>Studio with excellent localization in the hist...</td>\n",
       "      <td>none</td>\n",
       "      <td>NaN</td>\n",
       "      <td>...</td>\n",
       "      <td>f</td>\n",
       "      <td>strict_14_with_grace_period</td>\n",
       "      <td>f</td>\n",
       "      <td>f</td>\n",
       "      <td>64</td>\n",
       "      <td>64</td>\n",
       "      <td>0</td>\n",
       "      <td>0</td>\n",
       "      <td>0.25</td>\n",
       "      <td>(0.999, 2.0]</td>\n",
       "    </tr>\n",
       "    <tr>\n",
       "      <th>98</th>\n",
       "      <td>181219</td>\n",
       "      <td>https://www.airbnb.com/rooms/181219</td>\n",
       "      <td>2.020010e+13</td>\n",
       "      <td>1/28/2020</td>\n",
       "      <td>Golden Blue Studio</td>\n",
       "      <td>Cosy studio placed where Bairro Alto/São Bento...</td>\n",
       "      <td>The studio is placed in a ground floor of a re...</td>\n",
       "      <td>Cosy studio placed where Bairro Alto/São Bento...</td>\n",
       "      <td>none</td>\n",
       "      <td>This attractive neighborhood (named \"Royal Pri...</td>\n",
       "      <td>...</td>\n",
       "      <td>f</td>\n",
       "      <td>strict_14_with_grace_period</td>\n",
       "      <td>f</td>\n",
       "      <td>f</td>\n",
       "      <td>1</td>\n",
       "      <td>1</td>\n",
       "      <td>0</td>\n",
       "      <td>0</td>\n",
       "      <td>2.04</td>\n",
       "      <td>(0.999, 2.0]</td>\n",
       "    </tr>\n",
       "    <tr>\n",
       "      <th>101</th>\n",
       "      <td>189676</td>\n",
       "      <td>https://www.airbnb.com/rooms/189676</td>\n",
       "      <td>2.020010e+13</td>\n",
       "      <td>1/28/2020</td>\n",
       "      <td>Santa Catarina - City / river views</td>\n",
       "      <td>NaN</td>\n",
       "      <td>The flat is located in the Bairro of Santa Cat...</td>\n",
       "      <td>The flat is located in the Bairro of Santa Cat...</td>\n",
       "      <td>none</td>\n",
       "      <td>NaN</td>\n",
       "      <td>...</td>\n",
       "      <td>f</td>\n",
       "      <td>strict_14_with_grace_period</td>\n",
       "      <td>f</td>\n",
       "      <td>f</td>\n",
       "      <td>3</td>\n",
       "      <td>3</td>\n",
       "      <td>0</td>\n",
       "      <td>0</td>\n",
       "      <td>2.26</td>\n",
       "      <td>(0.999, 2.0]</td>\n",
       "    </tr>\n",
       "    <tr>\n",
       "      <th>...</th>\n",
       "      <td>...</td>\n",
       "      <td>...</td>\n",
       "      <td>...</td>\n",
       "      <td>...</td>\n",
       "      <td>...</td>\n",
       "      <td>...</td>\n",
       "      <td>...</td>\n",
       "      <td>...</td>\n",
       "      <td>...</td>\n",
       "      <td>...</td>\n",
       "      <td>...</td>\n",
       "      <td>...</td>\n",
       "      <td>...</td>\n",
       "      <td>...</td>\n",
       "      <td>...</td>\n",
       "      <td>...</td>\n",
       "      <td>...</td>\n",
       "      <td>...</td>\n",
       "      <td>...</td>\n",
       "      <td>...</td>\n",
       "      <td>...</td>\n",
       "    </tr>\n",
       "    <tr>\n",
       "      <th>24895</th>\n",
       "      <td>41709101</td>\n",
       "      <td>https://www.airbnb.com/rooms/41709101</td>\n",
       "      <td>2.020010e+13</td>\n",
       "      <td>1/28/2020</td>\n",
       "      <td>HOUZE_Central Studio in Alcântara</td>\n",
       "      <td>Spacious studio in a charming neighbourhood cl...</td>\n",
       "      <td>Very spacious, newly renovated and fully furni...</td>\n",
       "      <td>Spacious studio in a charming neighbourhood cl...</td>\n",
       "      <td>none</td>\n",
       "      <td>Alcântara is a neighborhood has several old wa...</td>\n",
       "      <td>...</td>\n",
       "      <td>f</td>\n",
       "      <td>strict_14_with_grace_period</td>\n",
       "      <td>f</td>\n",
       "      <td>f</td>\n",
       "      <td>17</td>\n",
       "      <td>17</td>\n",
       "      <td>0</td>\n",
       "      <td>0</td>\n",
       "      <td>NaN</td>\n",
       "      <td>(0.999, 2.0]</td>\n",
       "    </tr>\n",
       "    <tr>\n",
       "      <th>24949</th>\n",
       "      <td>41783305</td>\n",
       "      <td>https://www.airbnb.com/rooms/41783305</td>\n",
       "      <td>2.020010e+13</td>\n",
       "      <td>1/28/2020</td>\n",
       "      <td>Mini Estudio c/ piscina no centro da Parede</td>\n",
       "      <td>O meu mini estudio tem todo o conforto e todos...</td>\n",
       "      <td>NaN</td>\n",
       "      <td>O meu mini estudio tem todo o conforto e todos...</td>\n",
       "      <td>none</td>\n",
       "      <td>Eu estou sempre por perto e posso ajudar sempr...</td>\n",
       "      <td>...</td>\n",
       "      <td>f</td>\n",
       "      <td>moderate</td>\n",
       "      <td>f</td>\n",
       "      <td>f</td>\n",
       "      <td>9</td>\n",
       "      <td>6</td>\n",
       "      <td>3</td>\n",
       "      <td>0</td>\n",
       "      <td>NaN</td>\n",
       "      <td>(0.999, 2.0]</td>\n",
       "    </tr>\n",
       "    <tr>\n",
       "      <th>24950</th>\n",
       "      <td>41783631</td>\n",
       "      <td>https://www.airbnb.com/rooms/41783631</td>\n",
       "      <td>2.020010e+13</td>\n",
       "      <td>1/28/2020</td>\n",
       "      <td>Estudio c/ Piscina centro da Parede S9</td>\n",
       "      <td>O meu T0 tem 12 m2 cama de casal e é totalment...</td>\n",
       "      <td>É um estudio que pode ser para 1 ou 2 pessoas,...</td>\n",
       "      <td>O meu T0 tem 12 m2 cama de casal e é totalment...</td>\n",
       "      <td>none</td>\n",
       "      <td>O bairro é bonito, tem lojas de tudo e superme...</td>\n",
       "      <td>...</td>\n",
       "      <td>f</td>\n",
       "      <td>moderate</td>\n",
       "      <td>f</td>\n",
       "      <td>f</td>\n",
       "      <td>9</td>\n",
       "      <td>6</td>\n",
       "      <td>3</td>\n",
       "      <td>0</td>\n",
       "      <td>NaN</td>\n",
       "      <td>(0.999, 2.0]</td>\n",
       "    </tr>\n",
       "    <tr>\n",
       "      <th>24954</th>\n",
       "      <td>41784976</td>\n",
       "      <td>https://www.airbnb.com/rooms/41784976</td>\n",
       "      <td>2.020010e+13</td>\n",
       "      <td>1/28/2020</td>\n",
       "      <td>Attic with Panoramic River Views</td>\n",
       "      <td>Nautical themed home with panoramic views of t...</td>\n",
       "      <td>Modern apartment with all amenities needed to ...</td>\n",
       "      <td>Nautical themed home with panoramic views of t...</td>\n",
       "      <td>none</td>\n",
       "      <td>Take a stroll through Alfama, one of Lisbon’s ...</td>\n",
       "      <td>...</td>\n",
       "      <td>f</td>\n",
       "      <td>strict_14_with_grace_period</td>\n",
       "      <td>f</td>\n",
       "      <td>f</td>\n",
       "      <td>1</td>\n",
       "      <td>1</td>\n",
       "      <td>0</td>\n",
       "      <td>0</td>\n",
       "      <td>NaN</td>\n",
       "      <td>(3.0, 4.0]</td>\n",
       "    </tr>\n",
       "    <tr>\n",
       "      <th>24991</th>\n",
       "      <td>41866244</td>\n",
       "      <td>https://www.airbnb.com/rooms/41866244</td>\n",
       "      <td>2.020010e+13</td>\n",
       "      <td>1/28/2020</td>\n",
       "      <td>Vintage Studio for 2 in Alfama</td>\n",
       "      <td>Just steps away from the sweeping vistas of Mi...</td>\n",
       "      <td>Located in Porto's oldest neighbourhood. This ...</td>\n",
       "      <td>Just steps away from the sweeping vistas of Mi...</td>\n",
       "      <td>none</td>\n",
       "      <td>Take a stroll through Alfama, one of Lisbon’s ...</td>\n",
       "      <td>...</td>\n",
       "      <td>f</td>\n",
       "      <td>strict_14_with_grace_period</td>\n",
       "      <td>f</td>\n",
       "      <td>f</td>\n",
       "      <td>1</td>\n",
       "      <td>1</td>\n",
       "      <td>0</td>\n",
       "      <td>0</td>\n",
       "      <td>NaN</td>\n",
       "      <td>(0.999, 2.0]</td>\n",
       "    </tr>\n",
       "  </tbody>\n",
       "</table>\n",
       "<p>1180 rows × 107 columns</p>\n",
       "</div>"
      ],
      "text/plain": [
       "             id                            listing_url     scrape_id  \\\n",
       "19        56906     https://www.airbnb.com/rooms/56906  2.020010e+13   \n",
       "24        83700     https://www.airbnb.com/rooms/83700  2.020010e+13   \n",
       "63       141883    https://www.airbnb.com/rooms/141883  2.020010e+13   \n",
       "98       181219    https://www.airbnb.com/rooms/181219  2.020010e+13   \n",
       "101      189676    https://www.airbnb.com/rooms/189676  2.020010e+13   \n",
       "...         ...                                    ...           ...   \n",
       "24895  41709101  https://www.airbnb.com/rooms/41709101  2.020010e+13   \n",
       "24949  41783305  https://www.airbnb.com/rooms/41783305  2.020010e+13   \n",
       "24950  41783631  https://www.airbnb.com/rooms/41783631  2.020010e+13   \n",
       "24954  41784976  https://www.airbnb.com/rooms/41784976  2.020010e+13   \n",
       "24991  41866244  https://www.airbnb.com/rooms/41866244  2.020010e+13   \n",
       "\n",
       "      last_scraped                                         name  \\\n",
       "19       1/28/2020          Lisbon Balcony Penthouse 15th Floor   \n",
       "24       1/29/2020           Studio Cascais- Panoramic sea view   \n",
       "63       1/28/2020             Gomes Freire Studio with Balcony   \n",
       "98       1/28/2020                           Golden Blue Studio   \n",
       "101      1/28/2020          Santa Catarina - City / river views   \n",
       "...            ...                                          ...   \n",
       "24895    1/28/2020            HOUZE_Central Studio in Alcântara   \n",
       "24949    1/28/2020  Mini Estudio c/ piscina no centro da Parede   \n",
       "24950    1/28/2020       Estudio c/ Piscina centro da Parede S9   \n",
       "24954    1/28/2020             Attic with Panoramic River Views   \n",
       "24991    1/28/2020               Vintage Studio for 2 in Alfama   \n",
       "\n",
       "                                                 summary  \\\n",
       "19     Hi, First of all thanks for looking my apartme...   \n",
       "24     Nice cosy studio with panoramic sea view and a...   \n",
       "63     Studio with excellent localization in the hist...   \n",
       "98     Cosy studio placed where Bairro Alto/São Bento...   \n",
       "101                                                  NaN   \n",
       "...                                                  ...   \n",
       "24895  Spacious studio in a charming neighbourhood cl...   \n",
       "24949  O meu mini estudio tem todo o conforto e todos...   \n",
       "24950  O meu T0 tem 12 m2 cama de casal e é totalment...   \n",
       "24954  Nautical themed home with panoramic views of t...   \n",
       "24991  Just steps away from the sweeping vistas of Mi...   \n",
       "\n",
       "                                                   space  \\\n",
       "19     THE APARTMENT -1 double bed to relax after a p...   \n",
       "24     With a panoramic view of the sea, the Studio (...   \n",
       "63     Studio with excellent localization in the hist...   \n",
       "98     The studio is placed in a ground floor of a re...   \n",
       "101    The flat is located in the Bairro of Santa Cat...   \n",
       "...                                                  ...   \n",
       "24895  Very spacious, newly renovated and fully furni...   \n",
       "24949                                                NaN   \n",
       "24950  É um estudio que pode ser para 1 ou 2 pessoas,...   \n",
       "24954  Modern apartment with all amenities needed to ...   \n",
       "24991  Located in Porto's oldest neighbourhood. This ...   \n",
       "\n",
       "                                             description experiences_offered  \\\n",
       "19     Hi, First of all thanks for looking my apartme...                none   \n",
       "24     Nice cosy studio with panoramic sea view and a...                none   \n",
       "63     Studio with excellent localization in the hist...                none   \n",
       "98     Cosy studio placed where Bairro Alto/São Bento...                none   \n",
       "101    The flat is located in the Bairro of Santa Cat...                none   \n",
       "...                                                  ...                 ...   \n",
       "24895  Spacious studio in a charming neighbourhood cl...                none   \n",
       "24949  O meu mini estudio tem todo o conforto e todos...                none   \n",
       "24950  O meu T0 tem 12 m2 cama de casal e é totalment...                none   \n",
       "24954  Nautical themed home with panoramic views of t...                none   \n",
       "24991  Just steps away from the sweeping vistas of Mi...                none   \n",
       "\n",
       "                                   neighborhood_overview  ...  \\\n",
       "19                                                   NaN  ...   \n",
       "24     Residential, quiet and full of houses and gard...  ...   \n",
       "63                                                   NaN  ...   \n",
       "98     This attractive neighborhood (named \"Royal Pri...  ...   \n",
       "101                                                  NaN  ...   \n",
       "...                                                  ...  ...   \n",
       "24895  Alcântara is a neighborhood has several old wa...  ...   \n",
       "24949  Eu estou sempre por perto e posso ajudar sempr...  ...   \n",
       "24950  O bairro é bonito, tem lojas de tudo e superme...  ...   \n",
       "24954  Take a stroll through Alfama, one of Lisbon’s ...  ...   \n",
       "24991  Take a stroll through Alfama, one of Lisbon’s ...  ...   \n",
       "\n",
       "      is_business_travel_ready          cancellation_policy  \\\n",
       "19                           f                     moderate   \n",
       "24                           f  strict_14_with_grace_period   \n",
       "63                           f  strict_14_with_grace_period   \n",
       "98                           f  strict_14_with_grace_period   \n",
       "101                          f  strict_14_with_grace_period   \n",
       "...                        ...                          ...   \n",
       "24895                        f  strict_14_with_grace_period   \n",
       "24949                        f                     moderate   \n",
       "24950                        f                     moderate   \n",
       "24954                        f  strict_14_with_grace_period   \n",
       "24991                        f  strict_14_with_grace_period   \n",
       "\n",
       "      require_guest_profile_picture require_guest_phone_verification  \\\n",
       "19                                f                                f   \n",
       "24                                f                                f   \n",
       "63                                f                                f   \n",
       "98                                f                                f   \n",
       "101                               f                                f   \n",
       "...                             ...                              ...   \n",
       "24895                             f                                f   \n",
       "24949                             f                                f   \n",
       "24950                             f                                f   \n",
       "24954                             f                                f   \n",
       "24991                             f                                f   \n",
       "\n",
       "      calculated_host_listings_count  \\\n",
       "19                                 8   \n",
       "24                                 1   \n",
       "63                                64   \n",
       "98                                 1   \n",
       "101                                3   \n",
       "...                              ...   \n",
       "24895                             17   \n",
       "24949                              9   \n",
       "24950                              9   \n",
       "24954                              1   \n",
       "24991                              1   \n",
       "\n",
       "       calculated_host_listings_count_entire_homes  \\\n",
       "19                                               8   \n",
       "24                                               1   \n",
       "63                                              64   \n",
       "98                                               1   \n",
       "101                                              3   \n",
       "...                                            ...   \n",
       "24895                                           17   \n",
       "24949                                            6   \n",
       "24950                                            6   \n",
       "24954                                            1   \n",
       "24991                                            1   \n",
       "\n",
       "       calculated_host_listings_count_private_rooms  \\\n",
       "19                                                0   \n",
       "24                                                0   \n",
       "63                                                0   \n",
       "98                                                0   \n",
       "101                                               0   \n",
       "...                                             ...   \n",
       "24895                                             0   \n",
       "24949                                             3   \n",
       "24950                                             3   \n",
       "24954                                             0   \n",
       "24991                                             0   \n",
       "\n",
       "      calculated_host_listings_count_shared_rooms  reviews_per_month  \\\n",
       "19                                              0               1.27   \n",
       "24                                              0               1.36   \n",
       "63                                              0               0.25   \n",
       "98                                              0               2.04   \n",
       "101                                             0               2.26   \n",
       "...                                           ...                ...   \n",
       "24895                                           0                NaN   \n",
       "24949                                           0                NaN   \n",
       "24950                                           0                NaN   \n",
       "24954                                           0                NaN   \n",
       "24991                                           0                NaN   \n",
       "\n",
       "       accommodates2  \n",
       "19      (0.999, 2.0]  \n",
       "24        (3.0, 4.0]  \n",
       "63      (0.999, 2.0]  \n",
       "98      (0.999, 2.0]  \n",
       "101     (0.999, 2.0]  \n",
       "...              ...  \n",
       "24895   (0.999, 2.0]  \n",
       "24949   (0.999, 2.0]  \n",
       "24950   (0.999, 2.0]  \n",
       "24954     (3.0, 4.0]  \n",
       "24991   (0.999, 2.0]  \n",
       "\n",
       "[1180 rows x 107 columns]"
      ]
     },
     "execution_count": 10,
     "metadata": {},
     "output_type": "execute_result"
    }
   ],
   "source": [
    "df_listings[df_listings['bedrooms'] == 0]"
   ]
  },
  {
   "cell_type": "code",
   "execution_count": 11,
   "metadata": {
    "ExecuteTime": {
     "end_time": "2020-03-25T22:58:34.922042Z",
     "start_time": "2020-03-25T22:58:34.905010Z"
    }
   },
   "outputs": [
    {
     "data": {
      "text/plain": [
       "(-0.001, 1.0]    14523\n",
       "(1.0, 2.0]        6302\n",
       "(2.0, 3.0]        2677\n",
       "(3.0, 100.0]      1490\n",
       "Name: bedrooms2, dtype: int64"
      ]
     },
     "execution_count": 11,
     "metadata": {},
     "output_type": "execute_result"
    }
   ],
   "source": [
    "df_listings['bedrooms2'] = pd.qcut(df_listings['bedrooms'],9, duplicates='drop')\n",
    "df_listings.bedrooms2.value_counts()"
   ]
  },
  {
   "cell_type": "markdown",
   "metadata": {},
   "source": [
    "**beds**"
   ]
  },
  {
   "cell_type": "code",
   "execution_count": 12,
   "metadata": {
    "ExecuteTime": {
     "end_time": "2020-03-25T22:58:35.314027Z",
     "start_time": "2020-03-25T22:58:34.923010Z"
    }
   },
   "outputs": [
    {
     "name": "stdout",
     "output_type": "stream",
     "text": [
      "1.0      8556\n",
      "2.0      6586\n",
      "3.0      4295\n",
      "4.0      2432\n",
      "5.0      1077\n",
      "6.0       675\n",
      "0.0       317\n",
      "7.0       280\n",
      "8.0       248\n",
      "9.0       107\n",
      "10.0       99\n",
      "12.0       49\n",
      "11.0       46\n",
      "16.0       28\n",
      "14.0       24\n",
      "13.0       21\n",
      "15.0       12\n",
      "18.0        7\n",
      "17.0        4\n",
      "30.0        3\n",
      "22.0        3\n",
      "20.0        3\n",
      "19.0        2\n",
      "27.0        2\n",
      "24.0        2\n",
      "25.0        2\n",
      "26.0        2\n",
      "21.0        2\n",
      "23.0        2\n",
      "100.0       1\n",
      "28.0        1\n",
      "35.0        1\n",
      "50.0        1\n",
      "38.0        1\n",
      "Name: beds, dtype: int64\n",
      "\n",
      " mu = 2.53 and sigma = 2.16\n",
      "\n"
     ]
    },
    {
     "data": {
      "image/png": "[encoded data removed]",
      "text/plain": [
       "<Figure size 1080x288 with 1 Axes>"
      ]
     },
     "metadata": {
      "needs_background": "light"
     },
     "output_type": "display_data"
    }
   ],
   "source": [
    "print(df_listings['beds'].value_counts())\n",
    "feature_dist(df_listings[~df_listings['beds'].isnull()],'beds')"
   ]
  },
  {
   "cell_type": "code",
   "execution_count": 13,
   "metadata": {
    "ExecuteTime": {
     "end_time": "2020-03-25T22:58:35.333364Z",
     "start_time": "2020-03-25T22:58:35.316043Z"
    }
   },
   "outputs": [
    {
     "data": {
      "text/plain": [
       "(-0.001, 1.0]    8873\n",
       "(1.0, 2.0]       6586\n",
       "(2.0, 3.0]       4295\n",
       "(4.0, 100.0]     2705\n",
       "(3.0, 4.0]       2432\n",
       "Name: beds2, dtype: int64"
      ]
     },
     "execution_count": 13,
     "metadata": {},
     "output_type": "execute_result"
    }
   ],
   "source": [
    "df_listings['beds2'] = pd.qcut(df_listings['beds'],9, duplicates='drop')\n",
    "df_listings.beds2.value_counts()"
   ]
  },
  {
   "cell_type": "code",
   "execution_count": null,
   "metadata": {},
   "outputs": [],
   "source": []
  },
  {
   "cell_type": "markdown",
   "metadata": {},
   "source": [
    "**bathrooms**"
   ]
  },
  {
   "cell_type": "code",
   "execution_count": 14,
   "metadata": {
    "ExecuteTime": {
     "end_time": "2020-03-25T22:58:35.691378Z",
     "start_time": "2020-03-25T22:58:35.334366Z"
    }
   },
   "outputs": [
    {
     "name": "stdout",
     "output_type": "stream",
     "text": [
      "1.0     16751\n",
      "2.0      4408\n",
      "1.5      1179\n",
      "3.0      1011\n",
      "2.5       585\n",
      "4.0       228\n",
      "3.5       206\n",
      "0.0       148\n",
      "5.0       108\n",
      "4.5        74\n",
      "6.0        66\n",
      "0.5        56\n",
      "5.5        49\n",
      "8.0        29\n",
      "7.0        22\n",
      "9.0        14\n",
      "10.0       13\n",
      "6.5        10\n",
      "7.5         4\n",
      "8.5         2\n",
      "12.0        2\n",
      "11.5        1\n",
      "24.0        1\n",
      "11.0        1\n",
      "13.5        1\n",
      "16.5        1\n",
      "13.0        1\n",
      "9.5         1\n",
      "18.0        1\n",
      "Name: bathrooms, dtype: int64\n",
      "\n",
      " mu = 1.44 and sigma = 0.91\n",
      "\n"
     ]
    },
    {
     "data": {
      "image/png": "[encoded data removed]",
      "text/plain": [
       "<Figure size 1080x288 with 1 Axes>"
      ]
     },
     "metadata": {
      "needs_background": "light"
     },
     "output_type": "display_data"
    }
   ],
   "source": [
    "print(df_listings['bathrooms'].value_counts())\n",
    "feature_dist(df_listings[~df_listings['bathrooms'].isnull()],'bathrooms')"
   ]
  },
  {
   "cell_type": "code",
   "execution_count": 15,
   "metadata": {
    "ExecuteTime": {
     "end_time": "2020-03-25T22:58:35.699420Z",
     "start_time": "2020-03-25T22:58:35.692421Z"
    }
   },
   "outputs": [
    {
     "data": {
      "text/plain": [
       "148"
      ]
     },
     "execution_count": 15,
     "metadata": {},
     "output_type": "execute_result"
    }
   ],
   "source": [
    "len(df_listings[df_listings['bathrooms'] == 0])"
   ]
  },
  {
   "cell_type": "code",
   "execution_count": 16,
   "metadata": {
    "ExecuteTime": {
     "end_time": "2020-03-25T22:58:35.718385Z",
     "start_time": "2020-03-25T22:58:35.700382Z"
    }
   },
   "outputs": [
    {
     "data": {
      "text/plain": [
       "(-0.001, 1.0]    16955\n",
       "(1.0, 2.0]        5587\n",
       "(2.0, 24.0]       2431\n",
       "Name: bathrooms2, dtype: int64"
      ]
     },
     "execution_count": 16,
     "metadata": {},
     "output_type": "execute_result"
    }
   ],
   "source": [
    "df_listings['bathrooms2'] = pd.qcut(df_listings['bathrooms'],4, duplicates='drop')\n",
    "df_listings.bathrooms2.value_counts()"
   ]
  },
  {
   "cell_type": "markdown",
   "metadata": {},
   "source": [
    "**bed type**"
   ]
  },
  {
   "cell_type": "code",
   "execution_count": 17,
   "metadata": {
    "ExecuteTime": {
     "end_time": "2020-03-25T22:58:35.727442Z",
     "start_time": "2020-03-25T22:58:35.720383Z"
    }
   },
   "outputs": [
    {
     "name": "stdout",
     "output_type": "stream",
     "text": [
      "Real Bed         24866\n",
      "Pull-out Sofa      111\n",
      "Futon               15\n",
      "Couch                6\n",
      "Airbed               4\n",
      "Name: bed_type, dtype: int64\n"
     ]
    }
   ],
   "source": [
    "print(df_listings['bed_type'].value_counts())"
   ]
  },
  {
   "cell_type": "markdown",
   "metadata": {},
   "source": [
    "**square feet**"
   ]
  },
  {
   "cell_type": "code",
   "execution_count": 18,
   "metadata": {
    "ExecuteTime": {
     "end_time": "2020-03-25T22:58:36.024566Z",
     "start_time": "2020-03-25T22:58:35.728476Z"
    }
   },
   "outputs": [
    {
     "name": "stdout",
     "output_type": "stream",
     "text": [
      "0.0       135\n",
      "538.0      25\n",
      "431.0      16\n",
      "861.0      15\n",
      "1292.0     15\n",
      "         ... \n",
      "829.0       1\n",
      "678.0       1\n",
      "90.0        1\n",
      "970.0       1\n",
      "23.0        1\n",
      "Name: square_feet, Length: 73, dtype: int64\n",
      "\n",
      " mu = 627.15 and sigma = 1733.18\n",
      "\n"
     ]
    },
    {
     "data": {
      "image/png": "[encoded data removed]",
      "text/plain": [
       "<Figure size 1080x288 with 1 Axes>"
      ]
     },
     "metadata": {
      "needs_background": "light"
     },
     "output_type": "display_data"
    }
   ],
   "source": [
    "print(df_listings['square_feet'].value_counts())\n",
    "feature_dist(df_listings[~df_listings['square_feet'].isnull()],'square_feet')"
   ]
  },
  {
   "cell_type": "code",
   "execution_count": 19,
   "metadata": {
    "ExecuteTime": {
     "end_time": "2020-03-25T22:58:36.040565Z",
     "start_time": "2020-03-25T22:58:36.026596Z"
    }
   },
   "outputs": [
    {
     "data": {
      "text/plain": [
       "(-0.001, 431.0]     213\n",
       "(431.0, 861.0]      101\n",
       "(861.0, 32292.0]     87\n",
       "Name: square_feet2, dtype: int64"
      ]
     },
     "execution_count": 19,
     "metadata": {},
     "output_type": "execute_result"
    }
   ],
   "source": [
    "df_listings['square_feet2'] = pd.qcut(df_listings['square_feet'],4, duplicates='drop')\n",
    "df_listings.square_feet2.value_counts()"
   ]
  },
  {
   "cell_type": "markdown",
   "metadata": {},
   "source": [
    "**license**"
   ]
  },
  {
   "cell_type": "code",
   "execution_count": 20,
   "metadata": {
    "ExecuteTime": {
     "end_time": "2020-03-25T22:58:36.058619Z",
     "start_time": "2020-03-25T22:58:36.041593Z"
    }
   },
   "outputs": [
    {
     "data": {
      "text/plain": [
       "3480"
      ]
     },
     "execution_count": 20,
     "metadata": {},
     "output_type": "execute_result"
    }
   ],
   "source": [
    "len(df_listings[df_listings['license'].isnull()])"
   ]
  },
  {
   "cell_type": "code",
   "execution_count": 21,
   "metadata": {
    "ExecuteTime": {
     "end_time": "2020-03-25T22:58:36.075619Z",
     "start_time": "2020-03-25T22:58:36.060594Z"
    }
   },
   "outputs": [
    {
     "data": {
      "text/plain": [
       "1746"
      ]
     },
     "execution_count": 21,
     "metadata": {},
     "output_type": "execute_result"
    }
   ],
   "source": [
    "len(df_listings[df_listings['license'] == 'Exempt'])"
   ]
  },
  {
   "cell_type": "code",
   "execution_count": 22,
   "metadata": {
    "ExecuteTime": {
     "end_time": "2020-03-25T22:58:36.080588Z",
     "start_time": "2020-03-25T22:58:36.076620Z"
    }
   },
   "outputs": [],
   "source": [
    "def intTryParse(value):\n",
    "    try:\n",
    "        a = int(value)\n",
    "        return True\n",
    "    except ValueError:\n",
    "        return False"
   ]
  },
  {
   "cell_type": "markdown",
   "metadata": {},
   "source": [
    "**Merge df_listings with alojamento_local.csv**"
   ]
  },
  {
   "cell_type": "code",
   "execution_count": 23,
   "metadata": {
    "ExecuteTime": {
     "end_time": "2020-03-25T22:58:36.808675Z",
     "start_time": "2020-03-25T22:58:36.084605Z"
    }
   },
   "outputs": [
    {
     "name": "stderr",
     "output_type": "stream",
     "text": [
      "C:\\Users\\joao_\\Anaconda3\\lib\\site-packages\\ipykernel_launcher.py:5: SettingWithCopyWarning: \n",
      "A value is trying to be set on a copy of a slice from a DataFrame.\n",
      "Try using .loc[row_indexer,col_indexer] = value instead\n",
      "\n",
      "See the caveats in the documentation: http://pandas.pydata.org/pandas-docs/stable/user_guide/indexing.html#returning-a-view-versus-a-copy\n",
      "  \"\"\"\n"
     ]
    },
    {
     "name": "stdout",
     "output_type": "stream",
     "text": [
      "17168\n"
     ]
    }
   ],
   "source": [
    "#get only listings where 'license' is not null && != 'Exempt'\n",
    "df_listings_with_license = df_listings[(~df_listings['license'].isnull())&(df_listings['license'] != 'Exempt')]\n",
    "\n",
    "#string replace\n",
    "df_listings_with_license['NrRNAL'] = [s.replace('/AL','').replace('.','') for s in df_listings_with_license['license']]\n",
    "\n",
    "#get only records where license nr can be converted to int \n",
    "df_listings_with_license = df_listings_with_license[[intTryParse(s) for s in df_listings_with_license['NrRNAL']]]\n",
    "\n",
    "#convert NrRNAL to int before merge the two dataframes\n",
    "df_listings_with_license['NrRNAL'] = df_listings_with_license['NrRNAL'].astype(int)\n",
    "\n",
    "#inner join two dataframes\n",
    "result = pd.merge(df_listings_with_license, df_al, how='inner', on='NrRNAL')\n",
    "print(len(result))"
   ]
  },
  {
   "cell_type": "code",
   "execution_count": null,
   "metadata": {},
   "outputs": [],
   "source": []
  }
 ],
 "metadata": {
  "kernelspec": {
   "display_name": "Python 3",
   "language": "python",
   "name": "python3"
  },
  "language_info": {
   "codemirror_mode": {
    "name": "ipython",
    "version": 3
   },
   "file_extension": ".py",
   "mimetype": "text/x-python",
   "name": "python",
   "nbconvert_exporter": "python",
   "pygments_lexer": "ipython3",
   "version": "3.7.6"
  },
  "toc": {
   "base_numbering": 1,
   "nav_menu": {},
   "number_sections": true,
   "sideBar": true,
   "skip_h1_title": false,
   "title_cell": "Table of Contents",
   "title_sidebar": "Contents",
   "toc_cell": false,
   "toc_position": {},
   "toc_section_display": true,
   "toc_window_display": false
  }
 },
 "nbformat": 4,
 "nbformat_minor": 4
}
